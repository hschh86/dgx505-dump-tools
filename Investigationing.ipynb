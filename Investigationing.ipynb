{
 "cells": [
  {
   "cell_type": "markdown",
   "metadata": {
    "collapsed": true
   },
   "source": [
    "# Initial Investigations"
   ]
  },
  {
   "cell_type": "markdown",
   "metadata": {},
   "source": [
    "looking thru: https://www.midi.org/forum/279-yamaha-bull-dump-data-format,\n",
    "http://rnhart.net/articles/bulk-dump.htm"
   ]
  },
  {
   "cell_type": "code",
   "execution_count": 1,
   "metadata": {
    "collapsed": true
   },
   "outputs": [],
   "source": [
    "from __future__ import print_function, division\n",
    "import itertools\n",
    "import re"
   ]
  },
  {
   "cell_type": "code",
   "execution_count": 2,
   "metadata": {
    "collapsed": true
   },
   "outputs": [],
   "source": [
    "# numpy imports\n",
    "import numpy as np\n",
    "import matplotlib.pyplot as plt\n",
    "%matplotlib inline"
   ]
  },
  {
   "cell_type": "code",
   "execution_count": 3,
   "metadata": {
    "collapsed": false,
    "scrolled": true
   },
   "outputs": [],
   "source": [
    "def hexbyte(x):\n",
    "    return \"{:02X}\".format(x)\n",
    "\n",
    "def binbyte(x):\n",
    "    return \"{:08b}\".format(x)\n",
    "\n",
    "def tohex(by, sep=\" \"):\n",
    "    return sep.join(hexbyte(x) for x in by)\n",
    "def tobin(by, sep=\" \"):\n",
    "    return sep.join(binbyte(x) for x in by)\n",
    "\n",
    "def hexline(by):\n",
    "    if len(by) <= 24:\n",
    "        return tohex(by)\n",
    "    else:\n",
    "        return tohex(by[:20]) + \"...\" + tohex(by[-4:])\n",
    "\n",
    "def takebyn(by, n=8):\n",
    "    for i in range(0, len(by), n):\n",
    "        yield by[i:i+n]\n",
    "        \n",
    "def itertaken(seq, n):\n",
    "    itr = iter(seq)\n",
    "    try:\n",
    "        while True:\n",
    "            group = []\n",
    "            for _ in range(n):\n",
    "                group.append(next(itr))\n",
    "            yield group\n",
    "    except StopIteration:\n",
    "        if group:\n",
    "            yield group\n",
    "\n",
    "def printhex(by, n=8, group=1):\n",
    "    grouped = (\"\".join(hexbyte(x) for x in g) for g in takebyn(by, group))\n",
    "    for x in itertaken(grouped, n):\n",
    "        print(\" \".join(x))\n"
   ]
  },
  {
   "cell_type": "code",
   "execution_count": 4,
   "metadata": {
    "collapsed": false,
    "scrolled": true
   },
   "outputs": [],
   "source": [
    "with open('data/syxout.txt') as hexdata:\n",
    "    lines = [bytearray.fromhex(line.strip()) for line in hexdata]"
   ]
  },
  {
   "cell_type": "markdown",
   "metadata": {},
   "source": [
    "## Picking at the message structure"
   ]
  },
  {
   "cell_type": "code",
   "execution_count": 5,
   "metadata": {
    "collapsed": false,
    "scrolled": true
   },
   "outputs": [
    {
     "name": "stdout",
     "output_type": "stream",
     "text": [
      "F0 43 73 7F 44 06 0A 10 00 10 00 00 00 00 1F 00 0A 03 68 03...37 00 3B F7\n",
      "F0 43 73 7F 44 06 0A 10 00 10 00 00 10 00 00 37 00 03 45 7F...3B 10 0A F7\n",
      "F0 43 73 7F 44 06 0A 10 00 10 00 00 20 00 55 27 37 42 00 33...41 00 28 F7\n",
      "F0 43 73 7F 44 06 0A 10 00 10 00 00 30 00 20 00 32 00 00 00...4B 00 56 F7\n",
      "F0 43 73 7F 44 06 0A 10 00 10 00 00 40 00 00 05 48 4F 01 24...41 00 67 F7\n",
      "F0 43 73 7F 44 06 0A 10 00 10 00 00 50 00 20 00 33 00 00 00...0B 00 6C F7\n",
      "F0 43 73 7F 44 06 0A 10 00 10 00 00 60 00 3B 21 01 43 00 01...24 00 4D F7\n",
      "F0 43 73 7F 44 06 0A 10 00 10 00 00 70 00 29 2F 2F 51 44 01...00 00 1C F7\n",
      "F0 43 73 7F 44 06 0A 10 00 10 00 01 00 00 00 46 43 02 4A 42...40 22 21 F7\n",
      "F0 43 73 7F 44 06 0A 10 00 10 00 01 10 00 00 02 12 1D 42 29...43 00 54 F7\n",
      "F0 43 73 7F 44 06 0A 10 00 10 00 01 20 00 45 02 3E 00 00 37...4F 00 6D F7\n",
      "F0 43 73 7F 44 06 0A 10 00 10 00 01 30 00 00 06 48 56 00 4C...03 08 27 F7\n",
      "F0 43 73 7F 44 06 0A 10 00 10 00 01 40 00 10 58 00 02 60 02...01 08 37 F7\n",
      "F0 43 73 7F 44 06 0A 10 00 10 00 01 50 00 60 00 36 00 6A 00...00 22 1E F7\n",
      "F0 43 73 7F 44 06 0A 10 00 10 00 01 60 00 0F 00 60 00 0B 00...00 08 09 F7\n",
      "F0 43 73 7F 44 06 0A 10 00 10 00 01 70 00 6A 00 26 00 60 00...60 11 14 F7\n",
      "F0 43 73 7F 44 06 0A 10 00 10 00 02 00 00 42 61 00 6A 42 61...02 08 10 F7\n",
      "F0 43 73 7F 44 06 0A 10 00 10 00 02 10 00 60 00 3C 00 6A 00...33 00 01 F7\n",
      "F0 43 73 7F 44 06 0A 10 00 10 00 02 20 00 00 33 00 3A 7F 7F...41 00 5A F7\n",
      "F0 43 73 7F 44 06 0A 10 00 10 00 02 30 00 20 00 33 00 00 00...46 00 7D F7\n",
      "F0 43 73 7F 44 06 0A 10 00 10 00 02 40 00 00 05 38 00 0E 2C...1B 11 2C F7\n",
      "F0 43 73 7F 44 06 0A 10 00 10 00 02 50 00 50 00 21 11 38 40...33 11 74 F7\n",
      "F0 43 73 7F 44 06 0A 10 00 10 00 02 60 00 40 7F 00 3D 40 7F...33 11 64 F7\n",
      "F0 43 73 7F 44 06 0A 10 00 10 00 02 70 00 40 00 00 3D 40 00...08 08 6A F7\n",
      "F0 43 73 7F 44 06 0A 10 00 10 00 03 00 00 46 00 19 52 4C 08...05 00 72 F7\n",
      "F0 43 73 7F 44 06 0A 10 00 10 00 03 10 00 48 00 20 46 22 05...33 11 44 F7\n",
      "F0 43 73 7F 44 06 0A 10 00 10 00 03 20 00 40 7F 00 3D 40 7F...41 00 17 F7\n",
      "F0 43 73 7F 44 06 0A 10 00 10 00 03 30 00 20 00 30 00 00 00...1B 11 1C F7\n",
      "F0 43 73 7F 44 06 0A 10 00 10 00 03 40 00 46 00 21 11 2A 00...04 00 19 F7\n",
      "F0 43 73 7F 44 06 0A 10 00 10 00 03 50 00 2B 4D 00 45 00 16...00 08 2E F7\n",
      "F0 43 73 7F 44 06 0A 10 00 10 00 03 60 00 1A 35 00 01 10 30...01 00 23 F7\n",
      "F0 43 73 7F 44 06 0A 10 00 10 00 03 70 00 5D 00 2E 58 3A 01...48 00 65 F7\n",
      "F0 43 73 7F 44 06 0A 10 00 10 00 04 00 00 45 00 32 42 01 39...45 00 52 F7\n",
      "F0 43 73 7F 44 06 0A 10 00 10 00 04 10 00 00 04 24 00 02 40...00 44 44 F7\n",
      "F0 43 73 7F 44 06 0A 10 00 10 00 04 20 00 00 1A 1C 00 25 10...1B 11 32 F7\n",
      "F0 43 73 7F 44 06 0A 10 00 10 00 04 30 00 2C 3C 00 11 4D 48...23 08 69 F7\n",
      "F0 43 73 7F 44 06 0A 10 00 10 00 04 40 00 12 2E 41 00 1C 22...04 08 2B F7\n",
      "F0 43 73 7F 44 06 0A 08 68 08 68 04 50 00 12 36 00 00 1C 2A...31 00 66 F7\n",
      "F0 43 73 7F 44 06 0A 00 01 00 01 7F 7F 7F F7\n",
      "F0 43 73 7F 44 06 09 06 30 06 2E 00 00 00 50 53 52 03 01 00...00 00 30 F7\n",
      "F0 43 73 7F 44 06 09 00 01 00 01 7F 7F 7F F7\n"
     ]
    }
   ],
   "source": [
    "for line in lines:\n",
    "    print(hexline(line))"
   ]
  },
  {
   "cell_type": "code",
   "execution_count": 6,
   "metadata": {
    "collapsed": false,
    "scrolled": true
   },
   "outputs": [],
   "source": [
    "lb = lines[0]\n",
    "ls = lines[-4]"
   ]
  },
  {
   "cell_type": "markdown",
   "metadata": {},
   "source": [
    "### Header\n",
    "sysex-flag/manufacturer/device/data type header: `F0 43 73 7F 44 06`. \n",
    "\n",
    "If this is using the same conventions as the PSR-225, then `0A` is for song data and `09` is for the one-touch panel bank"
   ]
  },
  {
   "cell_type": "code",
   "execution_count": 7,
   "metadata": {
    "collapsed": false
   },
   "outputs": [
    {
     "data": {
      "text/plain": [
       "'F0 43 73 7F 44 06 0A'"
      ]
     },
     "execution_count": 7,
     "metadata": {},
     "output_type": "execute_result"
    }
   ],
   "source": [
    "tohex(lb[:7])"
   ]
  },
  {
   "cell_type": "markdown",
   "metadata": {},
   "source": [
    "### 'SS' Size bytes. \n",
    "\n",
    "There appear to be four of them. At the EOS this is '00 01 00 01'\n",
    "the longest messages have this as '10 00 10 00', the last message before EOS has this as '08 68 08 68'.\n",
    "\n",
    "\n",
    "It appears to be two repeated\n",
    " (at least, in the case of the 0A. The 09 data, with only one message, appears to be different again.)"
   ]
  },
  {
   "cell_type": "code",
   "execution_count": 8,
   "metadata": {
    "collapsed": false
   },
   "outputs": [
    {
     "data": {
      "text/plain": [
       "'10 00 10 00'"
      ]
     },
     "execution_count": 8,
     "metadata": {},
     "output_type": "execute_result"
    }
   ],
   "source": [
    "tohex(lb[7:11])"
   ]
  },
  {
   "cell_type": "markdown",
   "metadata": {},
   "source": [
    "### three 'ZZ' running total bytes. \n",
    "\n",
    "At the EOS this is '7F 7F 7F', then immediately followed by the end F7.\n"
   ]
  },
  {
   "cell_type": "code",
   "execution_count": 9,
   "metadata": {
    "collapsed": false
   },
   "outputs": [
    {
     "data": {
      "text/plain": [
       "'00 00 00'"
      ]
     },
     "execution_count": 9,
     "metadata": {},
     "output_type": "execute_result"
    }
   ],
   "source": [
    "tohex(lb[11:14])"
   ]
  },
  {
   "cell_type": "markdown",
   "metadata": {},
   "source": [
    "### the 'KK' checksum and end-of-message flag F7."
   ]
  },
  {
   "cell_type": "code",
   "execution_count": 10,
   "metadata": {
    "collapsed": false
   },
   "outputs": [
    {
     "data": {
      "text/plain": [
       "'3B F7'"
      ]
     },
     "execution_count": 10,
     "metadata": {},
     "output_type": "execute_result"
    }
   ],
   "source": [
    "tohex(lb[-2:])\n"
   ]
  },
  {
   "cell_type": "markdown",
   "metadata": {},
   "source": [
    "This should, and I say *should*, be of a similar format, so...\n",
    "If this works, sum of SS SS SS to KK inclusive should be 0 (mod 128)."
   ]
  },
  {
   "cell_type": "code",
   "execution_count": 11,
   "metadata": {
    "collapsed": false,
    "scrolled": true
   },
   "outputs": [
    {
     "name": "stdout",
     "output_type": "stream",
     "text": [
      "[0, 0, 0, 0, 0, 0, 0, 0, 0, 0, 0, 0, 0, 0, 0, 0, 0, 0, 0, 0, 0, 0, 0, 0, 0, 0, 0, 0, 0, 0, 0, 0, 0, 0, 0, 0, 0, 0, 127, 0, 127]\n"
     ]
    }
   ],
   "source": [
    "print([sum(line[7:-1]) % 128 for line in lines])"
   ]
  },
  {
   "cell_type": "markdown",
   "metadata": {},
   "source": [
    "It worked, except for the two end-of-section messages, which don't have the checksum byte."
   ]
  },
  {
   "cell_type": "markdown",
   "metadata": {},
   "source": [
    "### Checking the Numbers"
   ]
  },
  {
   "cell_type": "code",
   "execution_count": 12,
   "metadata": {
    "collapsed": false
   },
   "outputs": [],
   "source": [
    "def unpackseven(by):\n",
    "    # Ignore the first bit, which is always zero.\n",
    "    # The most signifcant bit comes first\n",
    "    value = 0\n",
    "    for i, b in enumerate(reversed(by)):\n",
    "        value |= b << (i*7)\n",
    "    return value\n",
    "\n",
    "def unpacksevenhex(hexstring):\n",
    "    return \"{:#x}\".format(unpackseven(bytearray.fromhex(hexstring)))"
   ]
  },
  {
   "cell_type": "code",
   "execution_count": 13,
   "metadata": {
    "collapsed": false
   },
   "outputs": [
    {
     "data": {
      "text/plain": [
       "'0x800'"
      ]
     },
     "execution_count": 13,
     "metadata": {},
     "output_type": "execute_result"
    }
   ],
   "source": [
    "unpacksevenhex('10 00')"
   ]
  },
  {
   "cell_type": "code",
   "execution_count": 14,
   "metadata": {
    "collapsed": false
   },
   "outputs": [
    {
     "data": {
      "text/plain": [
       "2048"
      ]
     },
     "execution_count": 14,
     "metadata": {},
     "output_type": "execute_result"
    }
   ],
   "source": [
    "len(lb[14:-2])"
   ]
  },
  {
   "cell_type": "markdown",
   "metadata": {
    "collapsed": false
   },
   "source": [
    "0x800, or 2048 bytes of encoded data seems to be the maximum.\n",
    "the ZZ bytes appear to increment by this amount.\n",
    "\n",
    "that penultimate message should be 0x468, or 1128, bytes..."
   ]
  },
  {
   "cell_type": "code",
   "execution_count": 15,
   "metadata": {
    "collapsed": false
   },
   "outputs": [
    {
     "data": {
      "text/plain": [
       "'0x468'"
      ]
     },
     "execution_count": 15,
     "metadata": {},
     "output_type": "execute_result"
    }
   ],
   "source": [
    "unpacksevenhex('08 68')"
   ]
  },
  {
   "cell_type": "code",
   "execution_count": 16,
   "metadata": {
    "collapsed": false
   },
   "outputs": [
    {
     "data": {
      "text/plain": [
       "True"
      ]
     },
     "execution_count": 16,
     "metadata": {},
     "output_type": "execute_result"
    }
   ],
   "source": [
    "unpackseven(ls[7:9]) == len(ls[14:-2])"
   ]
  },
  {
   "cell_type": "code",
   "execution_count": 17,
   "metadata": {
    "collapsed": false
   },
   "outputs": [
    {
     "data": {
      "text/plain": [
       "1128"
      ]
     },
     "execution_count": 17,
     "metadata": {},
     "output_type": "execute_result"
    }
   ],
   "source": [
    "len(ls[14:-2])"
   ]
  },
  {
   "cell_type": "markdown",
   "metadata": {},
   "source": [
    "Yep."
   ]
  },
  {
   "cell_type": "markdown",
   "metadata": {},
   "source": [
    "## What's all that data?\n",
    "Instead encoding one byte to two by nybble, with 0F 07 == 7F like in the [PSR-225](http://rnhart.net/articles/bulk-dump.htm), it seems that the 'payload' data uses all seven available bits, which could mean several things."
   ]
  },
  {
   "cell_type": "code",
   "execution_count": 18,
   "metadata": {
    "collapsed": true
   },
   "outputs": [],
   "source": [
    "payloads = [line[14:-2] for line in lines[:-3]]"
   ]
  },
  {
   "cell_type": "code",
   "execution_count": 19,
   "metadata": {
    "collapsed": false
   },
   "outputs": [],
   "source": [
    "payload = bytearray().join(payloads)"
   ]
  },
  {
   "cell_type": "markdown",
   "metadata": {},
   "source": [
    "From staring at the 'payload' in a hex editor, I have recognised some patterns. I think that every 8th byte is some sort of 'parity' byte or something. Ignoring these bytes you can see the ascii for 'YAMAHA' and 'MTrk' and 'PresetStyle\\x00'. So that's a start."
   ]
  },
  {
   "cell_type": "code",
   "execution_count": 20,
   "metadata": {
    "collapsed": false
   },
   "outputs": [
    {
     "data": {
      "text/plain": [
       "9613.0"
      ]
     },
     "execution_count": 20,
     "metadata": {},
     "output_type": "execute_result"
    }
   ],
   "source": [
    "len(payload)/8"
   ]
  },
  {
   "cell_type": "markdown",
   "metadata": {},
   "source": [
    "### What Is That Eighth Byte?"
   ]
  },
  {
   "cell_type": "code",
   "execution_count": 21,
   "metadata": {
    "collapsed": false
   },
   "outputs": [],
   "source": [
    "pays = np.array(payload).reshape((9613,8))"
   ]
  },
  {
   "cell_type": "code",
   "execution_count": 22,
   "metadata": {
    "collapsed": false
   },
   "outputs": [
    {
     "data": {
      "text/plain": [
       "[<matplotlib.lines.Line2D at 0x7f89d9cc7290>]"
      ]
     },
     "execution_count": 22,
     "metadata": {},
     "output_type": "execute_result"
    },
    {
     "data": {
      "image/png": "[encoded data removed]",
      "text/plain": [
       "<matplotlib.figure.Figure at 0x7f89e006e950>"
      ]
     },
     "metadata": {},
     "output_type": "display_data"
    }
   ],
   "source": [
    "plt.plot(pays[:,7], 'r.')"
   ]
  },
  {
   "cell_type": "code",
   "execution_count": 23,
   "metadata": {
    "collapsed": false,
    "scrolled": true
   },
   "outputs": [
    {
     "data": {
      "text/plain": [
       "array([[   0, 3084],\n",
       "       [   1,  120],\n",
       "       [   2,  122],\n",
       "       [   4,   96],\n",
       "       [   5,   28],\n",
       "       [   8, 1468],\n",
       "       [   9,   18],\n",
       "       [  10,   25],\n",
       "       [  11,    1],\n",
       "       [  16,   93],\n",
       "       [  17, 1348],\n",
       "       [  18,   19],\n",
       "       [  20,   40],\n",
       "       [  21,    4],\n",
       "       [  32,  126],\n",
       "       [  33,    1],\n",
       "       [  34, 1354],\n",
       "       [  36,   17],\n",
       "       [  37,   12],\n",
       "       [  40,   34],\n",
       "       [  42,    1],\n",
       "       [  48,    1],\n",
       "       [  52,    1],\n",
       "       [  56,    1],\n",
       "       [  62,    1],\n",
       "       [  64,  126],\n",
       "       [  65,    4],\n",
       "       [  66,    1],\n",
       "       [  68, 1398],\n",
       "       [  69,    1],\n",
       "       [  72,   16],\n",
       "       [  74,    5],\n",
       "       [  80,   25],\n",
       "       [  81,   18],\n",
       "       [  84,    1],\n",
       "       [  90,    1],\n",
       "       [ 104,    1],\n",
       "       [ 120,    1]])"
      ]
     },
     "execution_count": 23,
     "metadata": {},
     "output_type": "execute_result"
    }
   ],
   "source": [
    "np.asarray(np.unique(pays[:,7], return_counts=True)).T"
   ]
  },
  {
   "cell_type": "code",
   "execution_count": 24,
   "metadata": {
    "collapsed": false
   },
   "outputs": [
    {
     "data": {
      "text/plain": [
       "'01110000 00000101 01111110 01111111 00001001 00000001 01110111 01000001'"
      ]
     },
     "execution_count": 24,
     "metadata": {},
     "output_type": "execute_result"
    }
   ],
   "source": [
    "tobin(pays[pays[:,7]==65,:][2])"
   ]
  },
  {
   "cell_type": "code",
   "execution_count": 25,
   "metadata": {
    "collapsed": false,
    "scrolled": true
   },
   "outputs": [
    {
     "data": {
      "text/plain": [
       "'00000000 00000001 00000010 00000100 00000101 00001000 00001001 00001010 00001011 00010000 00010001 00010010 00010100 00010101 00100000 00100001 00100010 00100100 00100101 00101000 00101010 00110000 00110100 00111000 00111110 01000000 01000001 01000010 01000100 01000101 01001000 01001010 01010000 01010001 01010100 01011010 01101000 01111000'"
      ]
     },
     "execution_count": 25,
     "metadata": {},
     "output_type": "execute_result"
    }
   ],
   "source": [
    "tobin(np.unique(pays[:,7]))"
   ]
  },
  {
   "cell_type": "markdown",
   "metadata": {},
   "source": [
    "### The Solution"
   ]
  },
  {
   "cell_type": "markdown",
   "metadata": {},
   "source": [
    "If I had to squeeze 8 bits down into seven, how would I do it?\n",
    "Maybe, we take each of the seven bits of the eighth byte and stick them in front of the previous seven?"
   ]
  },
  {
   "cell_type": "code",
   "execution_count": 26,
   "metadata": {
    "collapsed": true
   },
   "outputs": [],
   "source": [
    "def reconstitute(by):\n",
    "    blob = by[:7]\n",
    "    for i in range(7):\n",
    "        bitmask = 0b01000000 >> i\n",
    "        blob[i] = blob[i] | ((by[7] & bitmask) << i+1)\n",
    "    return blob\n",
    "\n",
    "def reconstitute_all(by):\n",
    "    return bytearray().join(reconstitute(g) for g in takebyn(by, 8))"
   ]
  },
  {
   "cell_type": "code",
   "execution_count": 27,
   "metadata": {
    "collapsed": false
   },
   "outputs": [],
   "source": [
    "payload8 = reconstitute_all(payload)"
   ]
  },
  {
   "cell_type": "markdown",
   "metadata": {},
   "source": [
    "Note that whenever an F0 occurs it is always followed by F7:"
   ]
  },
  {
   "cell_type": "code",
   "execution_count": 28,
   "metadata": {
    "collapsed": false,
    "scrolled": true
   },
   "outputs": [
    {
     "data": {
      "text/plain": [
       "['F0 09 43 10 4C 02 01 00 01 11 F7',\n",
       " 'F0 09 43 10 4C 02 01 20 42 11 F7',\n",
       " 'F0 05 7E 7F 09 01 F7',\n",
       " 'F0 09 43 15 4C 02 01 00 01 11 F7',\n",
       " 'F0 09 43 15 4C 02 01 20 42 11 F7',\n",
       " 'F0 09 43 12 4C 02 01 00 01 10 F7',\n",
       " 'F0 09 43 12 4C 02 01 20 42 11 F7',\n",
       " 'F0 05 7E 7F 09 01 F7',\n",
       " 'F0 09 43 15 4C 02 01 00 01 10 F7',\n",
       " 'F0 09 43 15 4C 02 01 20 42 11 F7',\n",
       " 'F0 09 43 12 4C 02 01 00 01 10 F7',\n",
       " 'F0 09 43 12 4C 02 01 20 42 11 F7',\n",
       " 'F0 09 43 10 4C 02 01 00 01 10 F7',\n",
       " 'F0 09 43 10 4C 02 01 20 42 11 F7',\n",
       " 'F0 05 7E 7F 09 01 F7',\n",
       " 'F0 09 43 15 4C 02 01 00 01 10 F7',\n",
       " 'F0 09 43 15 4C 02 01 20 42 11 F7',\n",
       " 'F0 09 43 10 4C 02 01 00 01 10 F7',\n",
       " 'F0 09 43 10 4C 02 01 20 42 11 F7',\n",
       " 'F0 09 43 11 4C 02 01 00 01 10 F7',\n",
       " 'F0 09 43 11 4C 02 01 20 42 11 F7',\n",
       " 'F0 09 43 13 4C 02 01 00 01 10 F7',\n",
       " 'F0 09 43 13 4C 02 01 20 42 11 F7',\n",
       " 'F0 09 43 11 4C 02 01 00 01 11 F7',\n",
       " 'F0 09 43 11 4C 02 01 20 42 11 F7',\n",
       " 'F0 05 7E 7F 09 01 F7',\n",
       " 'F0 09 43 15 4C 02 01 00 01 11 F7',\n",
       " 'F0 09 43 15 4C 02 01 20 42 11 F7',\n",
       " 'F0 09 43 12 4C 02 01 00 01 11 F7',\n",
       " 'F0 09 43 12 4C 02 01 20 42 11 F7',\n",
       " 'F0 09 43 10 4C 02 01 00 01 11 F7',\n",
       " 'F0 09 43 10 4C 02 01 20 42 11 F7',\n",
       " 'F0 09 43 14 4C 02 01 00 01 10 F7',\n",
       " 'F0 09 43 14 4C 02 01 20 42 11 F7',\n",
       " 'F0 09 43 11 4C 02 01 00 01 10 F7',\n",
       " 'F0 09 43 11 4C 02 01 20 42 11 F7',\n",
       " 'F0 09 43 14 4C 02 01 00 01 10 F7',\n",
       " 'F0 09 43 14 4C 02 01 20 42 11 F7',\n",
       " 'F0 05 7E 7F 09 01 F7',\n",
       " 'F0 09 43 15 4C 02 01 00 01 00 F7',\n",
       " 'F0 09 43 15 4C 02 01 20 41 00 F7',\n",
       " 'F0 09 43 10 4C 02 01 00 01 10 F7',\n",
       " 'F0 09 43 10 4C 02 01 20 42 11 F7',\n",
       " 'F0 09 43 12 4C 02 01 00 01 10 F7',\n",
       " 'F0 09 43 12 4C 02 01 20 42 11 F7',\n",
       " 'F0 09 43 11 4C 02 01 00 01 10 F7',\n",
       " 'F0 09 43 11 4C 02 01 20 42 11 F7',\n",
       " 'F0 09 43 13 4C 02 01 00 01 10 F7',\n",
       " 'F0 09 43 13 4C 02 01 20 42 11 F7',\n",
       " 'F0 09 43 10 4C 02 01 00 01 11 F7',\n",
       " 'F0 09 43 10 4C 02 01 20 42 11 F7',\n",
       " 'F0 05 7E 7F 09 01 F7',\n",
       " 'F0 09 43 15 4C 02 01 00 01 11 F7',\n",
       " 'F0 09 43 15 4C 02 01 20 42 11 F7',\n",
       " 'F0 09 43 11 4C 02 01 00 01 11 F7',\n",
       " 'F0 09 43 11 4C 02 01 20 42 11 F7',\n",
       " 'F0 09 43 14 4C 02 01 00 01 11 F7',\n",
       " 'F0 09 43 14 4C 02 01 20 42 11 F7',\n",
       " 'F0 09 43 10 4C 02 01 00 01 11 F7',\n",
       " 'F0 09 43 10 4C 02 01 20 42 11 F7',\n",
       " 'F0 05 7E 7F 09 01 F7',\n",
       " 'F0 09 43 15 4C 02 01 00 01 11 F7',\n",
       " 'F0 09 43 15 4C 02 01 20 42 11 F7',\n",
       " 'F0 09 43 10 4C 02 01 00 01 11 F7',\n",
       " 'F0 09 43 10 4C 02 01 20 42 11 F7',\n",
       " 'F0 05 7E 7F 09 01 F7',\n",
       " 'F0 09 43 15 4C 02 01 00 01 11 F7',\n",
       " 'F0 09 43 15 4C 02 01 20 42 11 F7',\n",
       " 'F0 09 43 11 4C 02 01 00 01 11 F7',\n",
       " 'F0 09 43 11 4C 02 01 20 42 11 F7',\n",
       " 'F0 09 43 12 4C 02 01 00 01 11 F7',\n",
       " 'F0 09 43 12 4C 02 01 20 42 11 F7',\n",
       " 'F0 09 43 12 4C 02 01 00 01 11 F7',\n",
       " 'F0 09 43 12 4C 02 01 20 42 11 F7',\n",
       " 'F0 09 43 13 4C 02 01 00 01 11 F7',\n",
       " 'F0 09 43 13 4C 02 01 20 42 11 F7']"
      ]
     },
     "execution_count": 28,
     "metadata": {},
     "output_type": "execute_result"
    }
   ],
   "source": [
    "map(tohex, re.findall(r'\\xF0[\\x00-\\x7F]*[\\x80-\\xFF]', payload8))"
   ]
  },
  {
   "cell_type": "markdown",
   "metadata": {},
   "source": [
    "It sure looks like there are some system exclusive messages in here! (Stored in MIDI file format, of course.)\n",
    "\n",
    "Leafing through the manual (pg 110-111), it seems these are the GM System / volume / tuning / reverb / chorus events\n",
    "\n",
    "And here are some style meta-events:"
   ]
  },
  {
   "cell_type": "code",
   "execution_count": 29,
   "metadata": {
    "collapsed": false
   },
   "outputs": [
    {
     "data": {
      "text/plain": [
       "['43 76 1A 04 00 5B',\n",
       " '43 76 1A 04 00 00',\n",
       " '43 76 1A 04 00 00',\n",
       " '43 76 1A 04 00 00',\n",
       " '43 76 1A 04 00 87',\n",
       " '43 76 1A 04 00 00',\n",
       " '43 76 1A 04 00 00',\n",
       " '43 76 1A 04 00 00']"
      ]
     },
     "execution_count": 29,
     "metadata": {},
     "output_type": "execute_result"
    }
   ],
   "source": [
    "map(tohex, re.findall(r'\\x43\\x76\\x1A\\x04.{2}', payload8))"
   ]
  },
  {
   "cell_type": "markdown",
   "metadata": {},
   "source": [
    "## Figuring Out The File Structure"
   ]
  },
  {
   "cell_type": "markdown",
   "metadata": {},
   "source": [
    "Assuming the file structure is similar to the [PSR-225's block system](http://rnhart.net/articles/bulk-dump.htm)..."
   ]
  },
  {
   "cell_type": "code",
   "execution_count": 30,
   "metadata": {
    "collapsed": false
   },
   "outputs": [
    {
     "data": {
      "text/plain": [
       "67291"
      ]
     },
     "execution_count": 30,
     "metadata": {},
     "output_type": "execute_result"
    }
   ],
   "source": [
    "len(payload8)"
   ]
  },
  {
   "cell_type": "markdown",
   "metadata": {},
   "source": [
    "It looks like there are 67291 bytes of decoded data instead of the 66766 bytes in the PSR-225."
   ]
  },
  {
   "cell_type": "code",
   "execution_count": 31,
   "metadata": {
    "collapsed": false
   },
   "outputs": [
    {
     "name": "stdout",
     "output_type": "stream",
     "text": [
      "1F 00 0A 03 E8 03 E8 01 F4 22 28 1E 1E 05 7F 1E\n",
      "00 00 19 00 01 00 00 01 7F 00 0A 00 0F 00 13 00\n",
      "16 00 18 00 1A 00 1B 00 1C 00 1D 00 1E 00 1E 00\n",
      "1E 00 1E 00 1E 00 1E 00 1E 00 1E 00 1E 00 1E 00\n",
      "1E 00 1E 00 1E 00 1E 00 1E 00 1E 00 1E 00 1E 00\n",
      "1E 00 1E 00 1E 00 1E 00 1E 00 1E 00 1E 00 1E 00\n",
      "1E 00 1E 00 1E 00 1E 00 1E 00 1E 00 1E 00 1E 00\n",
      "1E 00 1E 00 1E 00 1E 00 1E 00 1E 00 1E 00 05 00\n",
      "08 00 0B 00 0D 00 0F 00 11 00 13 00 15 00 16 00\n",
      "17 00 17 00 18 00 18 00 19 00 1A 00 1A 00 1B 00\n",
      "1B 00 1B 00 1C 00 1C 00 1C 00 1D 00 1D 00 1E 00\n",
      "1E 00 1E 00 1E 00 1E 00 1E 00 1E 00 1E 00 1E 00\n",
      "1E 00 1E 00 1E 00 1E 00 1E 00 1E 00 1E 00 1E 00\n",
      "1E 00 1E 00 1E 00 1E 00 1E 00 1E 00 1E 00 1E 00\n",
      "1E 00 19 00 19 00 19 00 19 00 19 00 18 00 18 00\n",
      "18 00 17 00 17 00 16 00 16 00 15 00 15 00 14 00\n",
      "14 00 13 00 13 00 12 00 12 00 11 00 11 00 10 00\n",
      "10 00 0F 00 0E 00 0D 00 0C 00 0B 00 0A 00 19 00\n",
      "19 00 14 00 14 00 0F 00 0F 00 0F 00 0F 00 0F 00\n",
      "0F 00 0F 00 0F 00 0F 00 0F 00 0F 00 0F 00 0F 00\n",
      "0F 00 0F 00 0F 00 0F 00 0F 00 0F 00 0F 00 0F 00\n",
      "0F 00 0F 00 0F 00 0F 00 0F 00\n"
     ]
    }
   ],
   "source": [
    "printhex(payload8[:0x15a], 16)"
   ]
  },
  {
   "cell_type": "markdown",
   "metadata": {},
   "source": [
    "I have no idea what the first 0x15A bytes are. Maybe it's a bunch of 16-bit numbers?"
   ]
  },
  {
   "cell_type": "code",
   "execution_count": 32,
   "metadata": {
    "collapsed": false
   },
   "outputs": [
    {
     "name": "stdout",
     "output_type": "stream",
     "text": [
      "64 02 BC 21 07 1F 05 0F\n"
     ]
    }
   ],
   "source": [
    "printhex(payload8[0x15a:0x162])"
   ]
  },
  {
   "cell_type": "markdown",
   "metadata": {},
   "source": [
    "The DGX-505 has 5 UserSongs compared to the PSR-225's three. Each user song has five normal tracks and one chord/accompaniment track (track A).\n",
    "\n",
    "At the time this dump was gathered, all five songs had data, and used the following tracks as displayed on the panel:\n",
    "1. `1 _ _ _ _ A`\n",
    "2. `1 2 3 _ _ _`\n",
    "3. `1 2 3 4 5 _`\n",
    "4. `1 _ 3 _ _ _`\n",
    "5. `1 2 3 4 _ _`"
   ]
  },
  {
   "cell_type": "code",
   "execution_count": 33,
   "metadata": {
    "collapsed": false
   },
   "outputs": [
    {
     "name": "stdout",
     "output_type": "stream",
     "text": [
      "00100001\n",
      "00000111\n",
      "00011111\n",
      "00000101\n",
      "00001111\n"
     ]
    }
   ],
   "source": [
    "track_bitfields = slice(0x15d, 0x162)\n",
    "\n",
    "print(tobin(payload8[track_bitfields], '\\n'))"
   ]
  },
  {
   "cell_type": "markdown",
   "metadata": {},
   "source": [
    "The five bytes from 0x15d to 0x161 appear to correspond to the five usersongs, with the low 5 bits of each representing the active tracks on each (from least to most significant bit, track 1 - 2 - 3 - 4 - 5 - A).\n",
    "\n",
    "This corresponds to offsets 0x00001-0x00003 on the PSR-225.\n",
    "\n",
    "Still don't know what `64 02 BC` is, though."
   ]
  },
  {
   "cell_type": "code",
   "execution_count": 34,
   "metadata": {
    "collapsed": false
   },
   "outputs": [
    {
     "name": "stdout",
     "output_type": "stream",
     "text": [
      "00 00 00 00 00 00 00 00 27 00 00 00 0B 00 00 00\n",
      "25 00 00 00 08 00 00 00 11 00 00 00 27 00 00 00\n",
      "00 00 00 00 00 00 00 00 00 00 00 00 00 00 00 00\n",
      "25 00 00 00 0B 00 00 00 0B 00 00 00 0B 00 00 00\n",
      "00 00 00 00 00 00 00 00 00 00 00 00 12 00 00 00\n",
      "1F 00 00 00 21 00 00 00 25 00 00 00 25 00 00 00\n",
      "00 00 00 00 08 00 00 00 00 00 00 00 08 00 00 00\n",
      "00 00 00 00 00 00 00 00 00 00 00 00 11 00 00 00\n",
      "10 00 00 00 10 00 00 00 11 00 00 00 00 00 00 00\n",
      "00\n"
     ]
    }
   ],
   "source": [
    "printhex(payload8[0x162:0x1f3], 16)"
   ]
  },
  {
   "cell_type": "markdown",
   "metadata": {},
   "source": [
    "Following are some bytes of more unknown stuff which could be 32 bit integers?"
   ]
  },
  {
   "cell_type": "code",
   "execution_count": 35,
   "metadata": {
    "collapsed": false
   },
   "outputs": [
    {
     "name": "stdout",
     "output_type": "stream",
     "text": [
      "50 72 65 73 65 74 53 74 79 6C 65 00\n",
      "50 72 65 73 65 74 53 74 79 6C 65 00\n",
      "50 72 65 73 65 74 53 74 79 6C 65 00\n",
      "50 72 65 73 65 74 53 74 79 6C 65 00\n",
      "50 72 65 73 65 74 53 74 79 6C 65 00\n"
     ]
    },
    {
     "data": {
      "text/plain": [
       "u'PresetStyle\\x00PresetStyle\\x00PresetStyle\\x00PresetStyle\\x00PresetStyle\\x00'"
      ]
     },
     "execution_count": 35,
     "metadata": {},
     "output_type": "execute_result"
    }
   ],
   "source": [
    "printhex(payload8[0x1f3:0x22f], 12)\n",
    "payload8[0x1f3:0x22f].decode('ascii')"
   ]
  },
  {
   "cell_type": "markdown",
   "metadata": {},
   "source": [
    "... followed by five repeats of ascii 'PresetStyle' and `00`. The PSR-225 only has three of these (starting from 0x00007), so this has probably got something to do with each song."
   ]
  },
  {
   "cell_type": "code",
   "execution_count": 36,
   "metadata": {
    "collapsed": false,
    "scrolled": true
   },
   "outputs": [
    {
     "name": "stdout",
     "output_type": "stream",
     "text": [
      "01 FF FF FF FF 02\n",
      "19 12 14 FF FF 13\n",
      "43 47 7B 82 51 44\n",
      "0B FF 07 FF FF 08\n",
      "0D 0F 0A 11 FF 0C\n"
     ]
    }
   ],
   "source": [
    "beginning_blocks = slice(0x22f,0x24d)\n",
    "\n",
    "printhex(payload8[beginning_blocks], 6)"
   ]
  },
  {
   "cell_type": "markdown",
   "metadata": {},
   "source": [
    "Immediately following that, we have what appears to be the 30 bytes from 0x22f through 0x24c indicating the beginning blocks, corresponding to 0x0002B-0x0003F on the PSR-225.\n",
    "\n",
    "Each group of six bytes corresponds to a usersong in order, and each byte corresponds to a track, from 1-5, followed by the *time track* with the tempo, SysEx, etc. (Compare with the PSR-225, which has 6+1 tracks for each of its 3 songs and therefore needs 21 (=0x15) bytes total.)\n",
    "\n",
    "Blocks are numbered 0x01 to 0x82 and `FF` indicates that the track is not in use."
   ]
  },
  {
   "cell_type": "code",
   "execution_count": 37,
   "metadata": {
    "collapsed": false
   },
   "outputs": [
    {
     "name": "stdout",
     "output_type": "stream",
     "text": [
      "04 03 FF 05 06 FF 09 FF FF FF FF FF 0E FF 10 FF\n",
      "FF 17 FF 15 16 1B 18 FF 1A FF FF 00 00 00 00 00\n",
      "00 00 00 00 00 00 00 00 00 00 00 00 00 00 00 00\n",
      "00 00 00 00 00 00 00 00 00 00 00 00 00 00 00 00\n",
      "00 00 45 FF 46 FF 48 49 4A 4B 60 4D 4E 4F 50 58\n",
      "52 53 54 55 56 57 FF 59 5A 5B 5C 5D FF 00 00 61\n",
      "62 63 7A 00 00 00 00 00 00 00 00 00 00 00 00 00\n",
      "00 00 00 00 00 00 00 00 00 FF 7C 7D 7E 7F 80 81\n",
      "FF 4C\n"
     ]
    }
   ],
   "source": [
    "next_blocks = slice(0x24d,0x2cf)\n",
    "\n",
    "printhex(payload8[next_blocks], 16)"
   ]
  },
  {
   "cell_type": "markdown",
   "metadata": {},
   "source": [
    "Running from 0x24d to 0x2ce is the table of 0x82 (=130) next blocks, corresponding to 0x00040-0x000C1 on the PSR-225.\n",
    "\n",
    "`00` indicates unused blocks, `FF` indicates final blocks."
   ]
  },
  {
   "cell_type": "code",
   "execution_count": 38,
   "metadata": {
    "collapsed": false
   },
   "outputs": [
    {
     "name": "stdout",
     "output_type": "stream",
     "text": [
      "50 4B 30 30 30 31\n"
     ]
    },
    {
     "data": {
      "text/plain": [
       "u'PK0001'"
      ]
     },
     "execution_count": 38,
     "metadata": {},
     "output_type": "execute_result"
    }
   ],
   "source": [
    "printhex(payload8[0x2cf:0x2d5])\n",
    "payload8[0x2cf:0x2d5].decode('ascii')"
   ]
  },
  {
   "cell_type": "markdown",
   "metadata": {},
   "source": [
    "At 0x2cf, we find 'PK0001', which corresponds to the PSR-225's 'PK9801' at 0x000C2, and marks the beginning of the block data at 0x2d5."
   ]
  },
  {
   "cell_type": "code",
   "execution_count": 39,
   "metadata": {
    "collapsed": false
   },
   "outputs": [
    {
     "name": "stdout",
     "output_type": "stream",
     "text": [
      "50 4B 30 30 30 31\n"
     ]
    },
    {
     "data": {
      "text/plain": [
       "u'PK0001'"
      ]
     },
     "execution_count": 39,
     "metadata": {},
     "output_type": "execute_result"
    }
   ],
   "source": [
    "printhex(payload8[0x106d5:])\n",
    "payload8[0x106d5:].decode('ascii')"
   ]
  },
  {
   "cell_type": "markdown",
   "metadata": {},
   "source": [
    "The final six bytes, spelling 'PK0001' again from 0x106d5 to 0x106da, mark the end of the block data and correspond to 0x104C8-0x104CD on the PSR-225."
   ]
  },
  {
   "cell_type": "code",
   "execution_count": 40,
   "metadata": {
    "collapsed": false
   },
   "outputs": [
    {
     "data": {
      "text/plain": [
       "512.0"
      ]
     },
     "execution_count": 40,
     "metadata": {},
     "output_type": "execute_result"
    }
   ],
   "source": [
    "(0x106d5-0x2d5)/0x82"
   ]
  },
  {
   "cell_type": "markdown",
   "metadata": {},
   "source": [
    "Like the PSR-225, the blocks are 0x200 = 512 bytes in size.\n",
    "\n",
    "Block 0x01 begins at offset 0x2d5:"
   ]
  },
  {
   "cell_type": "code",
   "execution_count": 41,
   "metadata": {
    "collapsed": false
   },
   "outputs": [
    {
     "name": "stdout",
     "output_type": "stream",
     "text": [
      "4D 54 72 6B 00 00 07 C2\n"
     ]
    },
    {
     "data": {
      "text/plain": [
       "bytearray(b'MTrk\\x00\\x00\\x07\\xc2')"
      ]
     },
     "execution_count": 41,
     "metadata": {},
     "output_type": "execute_result"
    }
   ],
   "source": [
    "printhex(payload8[0x2d5:0x2d5+8])\n",
    "payload8[0x2d5:0x2d5+8]"
   ]
  },
  {
   "cell_type": "markdown",
   "metadata": {},
   "source": [
    "And we can see the start of an MTrk chunk.\n",
    "\n",
    "To calculate the start each block we can use a simple formula\n",
    "```\n",
    "offset(n) = 0x2d5 + (0x200 * (n-1))\n",
    "```\n",
    "or, to simplify, \n",
    "```\n",
    "offset(n) = 0xd5 + (0x200 * n)\n",
    "```\n"
   ]
  },
  {
   "cell_type": "code",
   "execution_count": 42,
   "metadata": {
    "collapsed": false
   },
   "outputs": [],
   "source": [
    "def chunk_offset(n):\n",
    "    if 0x01 <= n <= 0x82:\n",
    "        return 0xd5 + (0x200*n)\n",
    "    else:\n",
    "        raise ValueError(\"Invalid chunk\", n)"
   ]
  },
  {
   "cell_type": "code",
   "execution_count": 43,
   "metadata": {
    "collapsed": false
   },
   "outputs": [
    {
     "name": "stdout",
     "output_type": "stream",
     "text": [
      "Block 0x01 at 0x002d5: 4D 54 72 6B - MTrk\n",
      "Block 0x02 at 0x004d5: 4D 54 72 6B - MTrk\n",
      "Block 0x19 at 0x032d5: 4D 54 72 6B - MTrk\n",
      "Block 0x12 at 0x024d5: 4D 54 72 6B - MTrk\n",
      "Block 0x14 at 0x028d5: 4D 54 72 6B - MTrk\n",
      "Block 0x13 at 0x026d5: 4D 54 72 6B - MTrk\n",
      "Block 0x43 at 0x086d5: 4D 54 72 6B - MTrk\n",
      "Block 0x47 at 0x08ed5: 4D 54 72 6B - MTrk\n",
      "Block 0x7b at 0x0f6d5: 4D 54 72 6B - MTrk\n",
      "Block 0x82 at 0x104d5: 4D 54 72 6B - MTrk\n",
      "Block 0x51 at 0x0a2d5: 4D 54 72 6B - MTrk\n",
      "Block 0x44 at 0x088d5: 4D 54 72 6B - MTrk\n",
      "Block 0x0b at 0x016d5: 4D 54 72 6B - MTrk\n",
      "Block 0x07 at 0x00ed5: 4D 54 72 6B - MTrk\n",
      "Block 0x08 at 0x010d5: 4D 54 72 6B - MTrk\n",
      "Block 0x0d at 0x01ad5: 4D 54 72 6B - MTrk\n",
      "Block 0x0f at 0x01ed5: 4D 54 72 6B - MTrk\n",
      "Block 0x0a at 0x014d5: 4D 54 72 6B - MTrk\n",
      "Block 0x11 at 0x022d5: 4D 54 72 6B - MTrk\n",
      "Block 0x0c at 0x018d5: 4D 54 72 6B - MTrk\n"
     ]
    }
   ],
   "source": [
    "def block_peek(n, length=4):\n",
    "    offset = chunk_offset(n)\n",
    "    return payload8[offset:offset+length]\n",
    "\n",
    "def print_block_peek(n):\n",
    "    bits = block_peek(n)\n",
    "    print(u\"Block 0x{:02x} at 0x{:05x}: {} - {}\".format(n, chunk_offset(n), tohex(bits), \n",
    "                                                        bits.decode('ascii', 'replace')))\n",
    "\n",
    "track_blocks = [x for x in payload8[beginning_blocks] if x != 0xFF]\n",
    "\n",
    "for n in track_blocks:\n",
    "    print_block_peek(n)    "
   ]
  },
  {
   "cell_type": "markdown",
   "metadata": {},
   "source": [
    "We can see that the blocks marked as the beginning blocks for each track do, indeed, contain the start of the tracks."
   ]
  },
  {
   "cell_type": "code",
   "execution_count": 44,
   "metadata": {
    "collapsed": false
   },
   "outputs": [
    {
     "name": "stdout",
     "output_type": "stream",
     "text": [
      "Block 0x5e at 0x0bcd5: 4D 54 72 6B - MTrk\n"
     ]
    }
   ],
   "source": [
    "print_block_peek(0x5e)"
   ]
  },
  {
   "cell_type": "markdown",
   "metadata": {},
   "source": [
    "We can also see that some blocks have data left over from previous recordings."
   ]
  },
  {
   "cell_type": "markdown",
   "metadata": {},
   "source": [
    "### The Remainder\n",
    "There are two regions left unexplained:"
   ]
  },
  {
   "cell_type": "code",
   "execution_count": 45,
   "metadata": {
    "collapsed": false,
    "scrolled": true
   },
   "outputs": [
    {
     "name": "stdout",
     "output_type": "stream",
     "text": [
      "1F 00 0A 03 E8 03 E8 01 F4 22 28 1E 1E 05 7F 1E\n",
      "00 00 19 00 01 00 00 01 7F 00 0A 00 0F 00 13 00\n",
      "16 00 18 00 1A 00 1B 00 1C 00 1D 00 1E 00 1E 00\n",
      "1E 00 1E 00 1E 00 1E 00 1E 00 1E 00 1E 00 1E 00\n",
      "1E 00 1E 00 1E 00 1E 00 1E 00 1E 00 1E 00 1E 00\n",
      "1E 00 1E 00 1E 00 1E 00 1E 00 1E 00 1E 00 1E 00\n",
      "1E 00 1E 00 1E 00 1E 00 1E 00 1E 00 1E 00 1E 00\n",
      "1E 00 1E 00 1E 00 1E 00 1E 00 1E 00 1E 00 05 00\n",
      "08 00 0B 00 0D 00 0F 00 11 00 13 00 15 00 16 00\n",
      "17 00 17 00 18 00 18 00 19 00 1A 00 1A 00 1B 00\n",
      "1B 00 1B 00 1C 00 1C 00 1C 00 1D 00 1D 00 1E 00\n",
      "1E 00 1E 00 1E 00 1E 00 1E 00 1E 00 1E 00 1E 00\n",
      "1E 00 1E 00 1E 00 1E 00 1E 00 1E 00 1E 00 1E 00\n",
      "1E 00 1E 00 1E 00 1E 00 1E 00 1E 00 1E 00 1E 00\n",
      "1E 00 19 00 19 00 19 00 19 00 19 00 18 00 18 00\n",
      "18 00 17 00 17 00 16 00 16 00 15 00 15 00 14 00\n",
      "14 00 13 00 13 00 12 00 12 00 11 00 11 00 10 00\n",
      "10 00 0F 00 0E 00 0D 00 0C 00 0B 00 0A 00 19 00\n",
      "19 00 14 00 14 00 0F 00 0F 00 0F 00 0F 00 0F 00\n",
      "0F 00 0F 00 0F 00 0F 00 0F 00 0F 00 0F 00 0F 00\n",
      "0F 00 0F 00 0F 00 0F 00 0F 00 0F 00 0F 00 0F 00\n",
      "0F 00 0F 00 0F 00 0F 00 0F 00 64 02 BC\n"
     ]
    }
   ],
   "source": [
    "printhex(payload8[:0x15d], 16)"
   ]
  },
  {
   "cell_type": "code",
   "execution_count": 46,
   "metadata": {
    "collapsed": false
   },
   "outputs": [
    {
     "name": "stdout",
     "output_type": "stream",
     "text": [
      "00 00 00 00 00 00 00 00 27 00 00 00 0B 00 00 00\n",
      "25 00 00 00 08 00 00 00 11 00 00 00 27 00 00 00\n",
      "00 00 00 00 00 00 00 00 00 00 00 00 00 00 00 00\n",
      "25 00 00 00 0B 00 00 00 0B 00 00 00 0B 00 00 00\n",
      "00 00 00 00 00 00 00 00 00 00 00 00 12 00 00 00\n",
      "1F 00 00 00 21 00 00 00 25 00 00 00 25 00 00 00\n",
      "00 00 00 00 08 00 00 00 00 00 00 00 08 00 00 00\n",
      "00 00 00 00 00 00 00 00 00 00 00 00 11 00 00 00\n",
      "10 00 00 00 10 00 00 00 11 00 00 00 00 00 00 00\n",
      "00\n"
     ]
    }
   ],
   "source": [
    "printhex(payload8[0x162:0x1f3], 16)"
   ]
  },
  {
   "cell_type": "markdown",
   "metadata": {},
   "source": [
    "We've accounted for pretty much everything found in the PSR-225's song dump format, except for the very first byte, offset 0x00000, which is supposed to be a bitfield for the songs in use. If the same pattern is used for the DGX-505, then we should expect to see a `00011111` or `1F` byte somewhere, as all five songs were in use.\n",
    "The very first byte, offset 0x0, is, in fact, `1F`, so that might just be it (I'll have to delete one of the songs to check).\n",
    "\n",
    "There's also one feature 'Step Recording' (offset 0x0004-0x0006 on PSR-225) the DGX-505 doesn't have. If the (abscence of) step-recorded tracks was noted directly after the normal tracks, this would account for five `00` bytes directly after the normal tracks at 0x162, and the rest lines up rather nicely as a bunch of 32 bit numbers...\n"
   ]
  },
  {
   "cell_type": "code",
   "execution_count": 47,
   "metadata": {
    "collapsed": true
   },
   "outputs": [],
   "source": [
    "def unpackeight(by):\n",
    "    # big-endian.\n",
    "    total = 0\n",
    "    for i, b in enumerate(reversed(by)):\n",
    "        total |= b << (i*8)\n",
    "    return total\n",
    "\n",
    "def unpackwords(by, n=2):\n",
    "    # probably not the way to do it, but eh.\n",
    "    return [unpackeight(x) for x in takebyn(by, n)]"
   ]
  },
  {
   "cell_type": "code",
   "execution_count": 48,
   "metadata": {
    "collapsed": false,
    "scrolled": true
   },
   "outputs": [
    {
     "data": {
      "text/plain": [
       "<Container object of 36 artists>"
      ]
     },
     "execution_count": 48,
     "metadata": {},
     "output_type": "execute_result"
    },
    {
     "data": {
      "image/png": "[encoded data removed]",
      "text/plain": [
       "<matplotlib.figure.Figure at 0x7f89e0034610>"
      ]
     },
     "metadata": {},
     "output_type": "display_data"
    }
   ],
   "source": [
    "mystery2 = unpackwords(payload8[0x163:0x1f3], 4)\n",
    "plt.bar(np.arange(len(mystery2)), mystery2)"
   ]
  },
  {
   "cell_type": "markdown",
   "metadata": {},
   "source": [
    "There's definitely a pattern:"
   ]
  },
  {
   "cell_type": "code",
   "execution_count": 49,
   "metadata": {
    "collapsed": false,
    "scrolled": true
   },
   "outputs": [
    {
     "name": "stdout",
     "output_type": "stream",
     "text": [
      "00100001\n",
      "00000111\n",
      "00011111\n",
      "00000101\n",
      "00001111\n",
      "---\n",
      "00 00 00 00 00\n",
      "---\n",
      "00000027\n",
      "0000000B\n",
      "00000025\n",
      "00000008\n",
      "00000011\n",
      "---\n",
      "00000027 00000000 00000000 00000000 00000000 00000025\n",
      "0000000B 0000000B 0000000B 00000000 00000000 00000000\n",
      "00000012 0000001F 00000021 00000025 00000025 00000000\n",
      "00000008 00000000 00000008 00000000 00000000 00000000\n",
      "00000011 00000010 00000010 00000011 00000000 00000000\n"
     ]
    }
   ],
   "source": [
    "print(tobin(payload8[0x15d:0x162], '\\n')) #track_bitfields\n",
    "print('---')\n",
    "printhex(payload8[0x162:0x167])\n",
    "print('---')\n",
    "printhex(payload8[0x167:0x17b],1,4)\n",
    "print('---')\n",
    "printhex(payload8[0x17b:0x1f3],6,4)"
   ]
  },
  {
   "cell_type": "markdown",
   "metadata": {},
   "source": [
    "It looks like after the track-active bitfields comes five zero bytes, then five 32-bit numbers that seem to correspond to the five songs, then 30 32-bit numbers that correspond to the tracks on the songs, with values of `00000000` for inactive tracks and other numbers (lengths?) for the active tracks. The five numbers seem to be the largest (longest?) value of the tracks for the corresponding song. Looking through the values, they seem to be roughly the duration of the tracks, in measures."
   ]
  },
  {
   "cell_type": "code",
   "execution_count": 50,
   "metadata": {
    "collapsed": false,
    "scrolled": true
   },
   "outputs": [
    {
     "name": "stdout",
     "output_type": "stream",
     "text": [
      "01 FF FF FF FF 02\n",
      "19 12 14 FF FF 13\n",
      "43 47 7B 82 51 44\n",
      "0B FF 07 FF FF 08\n",
      "0D 0F 0A 11 FF 0C\n"
     ]
    }
   ],
   "source": [
    "printhex(payload8[beginning_blocks], 6)"
   ]
  },
  {
   "cell_type": "markdown",
   "metadata": {},
   "source": [
    "### The Final Mystery Region"
   ]
  },
  {
   "cell_type": "code",
   "execution_count": 51,
   "metadata": {
    "collapsed": false,
    "scrolled": true
   },
   "outputs": [
    {
     "name": "stdout",
     "output_type": "stream",
     "text": [
      "1F 00 0A 03 E8 03 E8 01 F4 22 28 1E 1E 05 7F 1E\n",
      "00 00 19 00 01 00 00 01 7F 00 0A 00 0F 00 13 00\n",
      "16 00 18 00 1A 00 1B 00 1C 00 1D 00 1E 00 1E 00\n",
      "1E 00 1E 00 1E 00 1E 00 1E 00 1E 00 1E 00 1E 00\n",
      "1E 00 1E 00 1E 00 1E 00 1E 00 1E 00 1E 00 1E 00\n",
      "1E 00 1E 00 1E 00 1E 00 1E 00 1E 00 1E 00 1E 00\n",
      "1E 00 1E 00 1E 00 1E 00 1E 00 1E 00 1E 00 1E 00\n",
      "1E 00 1E 00 1E 00 1E 00 1E 00 1E 00 1E 00 05 00\n",
      "08 00 0B 00 0D 00 0F 00 11 00 13 00 15 00 16 00\n",
      "17 00 17 00 18 00 18 00 19 00 1A 00 1A 00 1B 00\n",
      "1B 00 1B 00 1C 00 1C 00 1C 00 1D 00 1D 00 1E 00\n",
      "1E 00 1E 00 1E 00 1E 00 1E 00 1E 00 1E 00 1E 00\n",
      "1E 00 1E 00 1E 00 1E 00 1E 00 1E 00 1E 00 1E 00\n",
      "1E 00 1E 00 1E 00 1E 00 1E 00 1E 00 1E 00 1E 00\n",
      "1E 00 19 00 19 00 19 00 19 00 19 00 18 00 18 00\n",
      "18 00 17 00 17 00 16 00 16 00 15 00 15 00 14 00\n",
      "14 00 13 00 13 00 12 00 12 00 11 00 11 00 10 00\n",
      "10 00 0F 00 0E 00 0D 00 0C 00 0B 00 0A 00 19 00\n",
      "19 00 14 00 14 00 0F 00 0F 00 0F 00 0F 00 0F 00\n",
      "0F 00 0F 00 0F 00 0F 00 0F 00 0F 00 0F 00 0F 00\n",
      "0F 00 0F 00 0F 00 0F 00 0F 00 0F 00 0F 00 0F 00\n",
      "0F 00 0F 00 0F 00 0F 00 0F 00 64 02 BC\n"
     ]
    }
   ],
   "source": [
    "printhex(payload8[:0x15d], 16)"
   ]
  },
  {
   "cell_type": "markdown",
   "metadata": {},
   "source": [
    "Let's describe some patterns.\n",
    "\n",
    "From offset 0x0 to 0x18, there's a bunch of bytes. 0x0 may be the song-usage-bitfield thing."
   ]
  },
  {
   "cell_type": "code",
   "execution_count": 52,
   "metadata": {
    "collapsed": false,
    "scrolled": true
   },
   "outputs": [
    {
     "name": "stdout",
     "output_type": "stream",
     "text": [
      "1F 00 0A 03 E8 03 E8 01 F4 22 28 1E 1E 05 7F 1E\n",
      "00 00 19 00 01 00 00 01 7F\n"
     ]
    }
   ],
   "source": [
    "printhex(payload8[:0x19], 16)"
   ]
  },
  {
   "cell_type": "markdown",
   "metadata": {},
   "source": [
    "From 0x19 to 0x11c, we get 320 bytes of some increasing and decreasing patterns"
   ]
  },
  {
   "cell_type": "code",
   "execution_count": 53,
   "metadata": {
    "collapsed": false
   },
   "outputs": [
    {
     "name": "stdout",
     "output_type": "stream",
     "text": [
      "00 0A 00 0F 00 13 00 16 00 18 00 1A 00 1B 00 1C\n",
      "00 1D 00 1E 00 1E 00 1E 00 1E 00 1E 00 1E 00 1E\n",
      "00 1E 00 1E 00 1E 00 1E 00 1E 00 1E 00 1E 00 1E\n",
      "00 1E 00 1E 00 1E 00 1E 00 1E 00 1E 00 1E 00 1E\n",
      "00 1E 00 1E 00 1E 00 1E 00 1E 00 1E 00 1E 00 1E\n",
      "00 1E 00 1E 00 1E 00 1E 00 1E 00 1E 00 1E 00 1E\n",
      "00 1E 00 1E 00 05 00 08 00 0B 00 0D 00 0F 00 11\n",
      "00 13 00 15 00 16 00 17 00 17 00 18 00 18 00 19\n",
      "00 1A 00 1A 00 1B 00 1B 00 1B 00 1C 00 1C 00 1C\n",
      "00 1D 00 1D 00 1E 00 1E 00 1E 00 1E 00 1E 00 1E\n",
      "00 1E 00 1E 00 1E 00 1E 00 1E 00 1E 00 1E 00 1E\n",
      "00 1E 00 1E 00 1E 00 1E 00 1E 00 1E 00 1E 00 1E\n",
      "00 1E 00 1E 00 1E 00 1E 00 19 00 19 00 19 00 19\n",
      "00 19 00 18 00 18 00 18 00 17 00 17 00 16 00 16\n",
      "00 15 00 15 00 14 00 14 00 13 00 13 00 12 00 12\n",
      "00 11 00 11 00 10 00 10 00 0F 00 0E 00 0D 00 0C\n",
      "00 0B 00 0A 00 19 00 19 00 14 00 14 00 0F 00 0F\n",
      "00 0F 00 0F 00 0F 00 0F 00 0F 00 0F 00 0F 00 0F\n",
      "00 0F 00 0F 00 0F 00 0F 00 0F 00 0F 00 0F 00 0F\n",
      "00 0F 00 0F 00 0F 00 0F 00 0F 00 0F 00 0F 00 0F\n"
     ]
    }
   ],
   "source": [
    "printhex(payload8[0x19:0x159], 16)"
   ]
  },
  {
   "cell_type": "markdown",
   "metadata": {},
   "source": [
    "And then four more bytes of whatever. I'm baffled, really."
   ]
  },
  {
   "cell_type": "code",
   "execution_count": 54,
   "metadata": {
    "collapsed": false,
    "scrolled": true
   },
   "outputs": [
    {
     "name": "stdout",
     "output_type": "stream",
     "text": [
      "00 64 02 BC\n"
     ]
    }
   ],
   "source": [
    "printhex(payload8[0x159:0x15d], 16)"
   ]
  },
  {
   "cell_type": "code",
   "execution_count": 55,
   "metadata": {
    "collapsed": false
   },
   "outputs": [],
   "source": [
    "mystery_region = payload8[0x019:0x159]"
   ]
  },
  {
   "cell_type": "code",
   "execution_count": 56,
   "metadata": {
    "collapsed": false
   },
   "outputs": [
    {
     "data": {
      "text/plain": [
       "<Container object of 160 artists>"
      ]
     },
     "execution_count": 56,
     "metadata": {},
     "output_type": "execute_result"
    },
    {
     "data": {
      "image/png": "[encoded data removed]",
      "text/plain": [
       "<matplotlib.figure.Figure at 0x7f89d9a90290>"
      ]
     },
     "metadata": {},
     "output_type": "display_data"
    }
   ],
   "source": [
    "mystery_numbers = unpackwords(mystery_region)\n",
    "plt.bar(np.arange(160), mystery_numbers, width=1, linewidth=0)"
   ]
  },
  {
   "cell_type": "markdown",
   "metadata": {},
   "source": [
    "Staring at this, we can see four regions that run from indexes 0-49, 50-99, 100-129 and 130-159. Note that there are 160 numbers here, and 130 blocks in the file system, and 30 tracks. I'm guessing that this has something to do with the blocks just by the numbers here, but I don't know what. Probably some internal file system thing"
   ]
  },
  {
   "cell_type": "code",
   "execution_count": 57,
   "metadata": {
    "collapsed": false
   },
   "outputs": [
    {
     "name": "stdout",
     "output_type": "stream",
     "text": [
      "0A 0F 13 16 18 1A 1B 1C 1D 1E\n",
      "1E 1E 1E 1E 1E 1E 1E 1E 1E 1E\n",
      "1E 1E 1E 1E 1E 1E 1E 1E 1E 1E\n",
      "1E 1E 1E 1E 1E 1E 1E 1E 1E 1E\n",
      "1E 1E 1E 1E 1E 1E 1E 1E 1E 1E\n",
      "05 08 0B 0D 0F 11 13 15 16 17\n",
      "17 18 18 19 1A 1A 1B 1B 1B 1C\n",
      "1C 1C 1D 1D 1E 1E 1E 1E 1E 1E\n",
      "1E 1E 1E 1E 1E 1E 1E 1E 1E 1E\n",
      "1E 1E 1E 1E 1E 1E 1E 1E 1E 1E\n",
      "19 19 19 19 19 18 18 18 17 17\n",
      "16 16 15 15 14 14 13 13 12 12\n",
      "11 11 10 10 0F 0E 0D 0C 0B 0A\n",
      "\n",
      "04 03 FF 05 06 FF 09 FF FF FF\n",
      "FF FF 0E FF 10 FF FF 17 FF 15\n",
      "16 1B 18 FF 1A FF FF 00 00 00\n",
      "00 00 00 00 00 00 00 00 00 00\n",
      "00 00 00 00 00 00 00 00 00 00\n",
      "00 00 00 00 00 00 00 00 00 00\n",
      "00 00 00 00 00 00 45 FF 46 FF\n",
      "48 49 4A 4B 60 4D 4E 4F 50 58\n",
      "52 53 54 55 56 57 FF 59 5A 5B\n",
      "5C 5D FF 00 00 61 62 63 7A 00\n",
      "00 00 00 00 00 00 00 00 00 00\n",
      "00 00 00 00 00 00 00 00 00 00\n",
      "00 FF 7C 7D 7E 7F 80 81 FF 4C\n"
     ]
    }
   ],
   "source": [
    "printhex(mystery_numbers[:-30], 10)\n",
    "print()\n",
    "printhex(payload8[next_blocks], 10)"
   ]
  },
  {
   "cell_type": "markdown",
   "metadata": {},
   "source": [
    "And that still doesn't explain 0x0-0x18, 0x159-0x15c. More experimentation required."
   ]
  },
  {
   "cell_type": "code",
   "execution_count": 58,
   "metadata": {
    "collapsed": false,
    "scrolled": false
   },
   "outputs": [
    {
     "name": "stdout",
     "output_type": "stream",
     "text": [
      "1F 00 0A 03 E8 03 E8 01 F4 22 28 1E 1E 05 7F 1E 00 00 19 00 01 00 00 01 7F\n",
      "00 64 02 BC\n"
     ]
    }
   ],
   "source": [
    "printhex(payload8[0x0:0x19], 32)\n",
    "printhex(payload8[0x159:0x15d])"
   ]
  },
  {
   "cell_type": "markdown",
   "metadata": {},
   "source": [
    "### More Experimentation"
   ]
  },
  {
   "cell_type": "markdown",
   "metadata": {},
   "source": [
    "I deleted User Song 4 and saved a new dump. The only difference is the first message."
   ]
  },
  {
   "cell_type": "code",
   "execution_count": 59,
   "metadata": {
    "collapsed": false
   },
   "outputs": [
    {
     "name": "stdout",
     "output_type": "stream",
     "text": [
      "F0 43 73 7F 44 06 0A 10 00 10 00 00 00 00 1F  |\tF0 43 73 7F 44 06 0A 10 00 10 00 00 00 00 17 \r\n"
     ]
    }
   ],
   "source": [
    "!diff -y --width=100  --suppress-common-lines data/syxout.txt data/syxout1.txt"
   ]
  },
  {
   "cell_type": "code",
   "execution_count": 60,
   "metadata": {
    "collapsed": false
   },
   "outputs": [],
   "source": [
    "with open('data/syxout1.txt') as newdump:\n",
    "    newdumpline = bytearray.fromhex(newdump.readline().strip())\n",
    "newpayload8 = reconstitute_all(newdumpline[14:-2])"
   ]
  },
  {
   "cell_type": "code",
   "execution_count": 61,
   "metadata": {
    "collapsed": false,
    "scrolled": true
   },
   "outputs": [
    {
     "name": "stdout",
     "output_type": "stream",
     "text": [
      "1F 00 0A 03 E8 03 E8 01 F4 22 28 1E 1E 05 7F 1E 00 00 19 00 01 00 00 01 7F\n",
      "17 00 0A 03 E8 03 E8 01 F4 22 28 1E 1E 05 7F 1E 00 00 19 00 01 00 00 01 7F\n",
      "00011111\n",
      "00010111\n"
     ]
    }
   ],
   "source": [
    "printhex(payload8[:0x19], 32)\n",
    "printhex(newpayload8[:0x19], 32)\n",
    "print(binbyte(payload8[0]))\n",
    "print(binbyte(newpayload8[0]))"
   ]
  },
  {
   "cell_type": "markdown",
   "metadata": {},
   "source": [
    "The beginning mystery bytes are the same, except for the first byte, which does indeed seem to be the song usage bitfield, with the least significant bit = user song 1 etc."
   ]
  },
  {
   "cell_type": "code",
   "execution_count": 62,
   "metadata": {
    "collapsed": false,
    "scrolled": true
   },
   "outputs": [
    {
     "data": {
      "text/plain": [
       "True"
      ]
     },
     "execution_count": 62,
     "metadata": {},
     "output_type": "execute_result"
    }
   ],
   "source": [
    "payload8[0x19:0x15d] == newpayload8[0x19:0x15d]"
   ]
  },
  {
   "cell_type": "markdown",
   "metadata": {},
   "source": [
    "The mystery region is the same for both files."
   ]
  },
  {
   "cell_type": "code",
   "execution_count": 63,
   "metadata": {
    "collapsed": false,
    "scrolled": true
   },
   "outputs": [
    {
     "name": "stdout",
     "output_type": "stream",
     "text": [
      "00100001\n",
      "00000111\n",
      "00011111\n",
      "00000000\n",
      "00001111\n",
      "---\n",
      "00 00 00 00 00\n",
      "---\n",
      "00000027\n",
      "0000000B\n",
      "00000025\n",
      "00000000\n",
      "00000011\n",
      "---\n",
      "00000027 00000000 00000000 00000000 00000000 00000025\n",
      "0000000B 0000000B 0000000B 00000000 00000000 00000000\n",
      "00000012 0000001F 00000021 00000025 00000025 00000000\n",
      "00000000 00000000 00000000 00000000 00000000 00000000\n",
      "00000011 00000010 00000010 00000011 00000000 00000000\n"
     ]
    }
   ],
   "source": [
    "print(tobin(newpayload8[0x15d:0x162], '\\n')) #track_bitfields\n",
    "print('---')\n",
    "printhex(newpayload8[0x162:0x167])\n",
    "print('---')\n",
    "printhex(newpayload8[0x167:0x17b],1,4)\n",
    "print('---')\n",
    "printhex(newpayload8[0x17b:0x1f3],6,4)"
   ]
  },
  {
   "cell_type": "markdown",
   "metadata": {},
   "source": [
    "Song 4 is not in use anymore, neither should its tracks be. Their durations are all zero as well."
   ]
  },
  {
   "cell_type": "code",
   "execution_count": 64,
   "metadata": {
    "collapsed": false,
    "scrolled": true
   },
   "outputs": [
    {
     "name": "stdout",
     "output_type": "stream",
     "text": [
      "01 FF FF FF FF 02\n",
      "19 12 14 FF FF 13\n",
      "43 47 7B 82 51 44\n",
      "FF FF FF FF FF FF\n",
      "0D 0F 0A 11 FF 0C\n",
      "---\n",
      "04 03 FF 05 06 FF 00 00 00 FF 00 FF 0E FF 10 FF\n",
      "FF 17 FF 15 16 1B 18 FF 1A FF FF 00 00 00 00 00\n",
      "00 00 00 00 00 00 00 00 00 00 00 00 00 00 00 00\n",
      "00 00 00 00 00 00 00 00 00 00 00 00 00 00 00 00\n",
      "00 00 45 FF 46 FF 48 49 4A 4B 60 4D 4E 4F 50 58\n",
      "52 53 54 55 56 57 FF 59 5A 5B 5C 5D FF 00 00 61\n",
      "62 63 7A 00 00 00 00 00 00 00 00 00 00 00 00 00\n",
      "00 00 00 00 00 00 00 00 00 FF 7C 7D 7E 7F 80 81\n",
      "FF 4C\n"
     ]
    }
   ],
   "source": [
    "printhex(newpayload8[beginning_blocks], 6)\n",
    "print('---')\n",
    "printhex(newpayload8[next_blocks], 16)"
   ]
  },
  {
   "cell_type": "markdown",
   "metadata": {},
   "source": [
    "Blocks 07, 08, 09 and 0B have been marked empty for reuse."
   ]
  },
  {
   "cell_type": "code",
   "execution_count": 65,
   "metadata": {
    "collapsed": false
   },
   "outputs": [
    {
     "data": {
      "text/plain": [
       "True"
      ]
     },
     "execution_count": 65,
     "metadata": {},
     "output_type": "execute_result"
    }
   ],
   "source": [
    "payload8[0x2cf:0x700] == newpayload8[0x2cf:]"
   ]
  },
  {
   "cell_type": "markdown",
   "metadata": {},
   "source": [
    "The rest of the data is the same."
   ]
  },
  {
   "cell_type": "markdown",
   "metadata": {},
   "source": [
    "## Registration Memory, a.k.a. One Touch Settings"
   ]
  },
  {
   "cell_type": "markdown",
   "metadata": {
    "collapsed": true
   },
   "source": [
    "Let's look at the final two messages. In the PSR-225, the one-touch settings are sent first, but the DGX-505 sends 'em last."
   ]
  },
  {
   "cell_type": "code",
   "execution_count": 66,
   "metadata": {
    "collapsed": false
   },
   "outputs": [
    {
     "name": "stdout",
     "output_type": "stream",
     "text": [
      "F0 43 73 7F 44 06 09 06 30 06 2E 00 00 00 50 53 52 03 01 00...00 00 30 F7\n",
      "F0 43 73 7F 44 06 09 00 01 00 01 7F 7F 7F F7\n"
     ]
    }
   ],
   "source": [
    "for line in lines[-2:]:\n",
    "    print(hexline(line))"
   ]
  },
  {
   "cell_type": "markdown",
   "metadata": {},
   "source": [
    "Assuming the messages are of roughly the same format, we have:\n",
    "\n",
    "| field | bytes | content |\n",
    "|-------|-------|---------|\n",
    "|Header | `F0 43 73 7F 44 06` | Manufacturer/Device/etc|\n",
    "|Section type  | `09` | (one-touch settings)|\n",
    "|Size??   | `06 30 06 2E`   | Different format? |\n",
    "|Running total | `00 00 00` | First (and only) message, so zero |\n",
    "|Data     | `50 53 52 03 01 00...00 00` | payload data|\n",
    "|Checksum | `30` | We checked this earlier|\n",
    "|End tag  | `F7` |  |\n",
    "\n",
    "So what's with `06 30 06 2E`?\n"
   ]
  },
  {
   "cell_type": "code",
   "execution_count": 67,
   "metadata": {
    "collapsed": true
   },
   "outputs": [],
   "source": [
    "otsline = lines[-2]\n",
    "otspayload = otsline[14:-2]"
   ]
  },
  {
   "cell_type": "code",
   "execution_count": 68,
   "metadata": {
    "collapsed": false
   },
   "outputs": [
    {
     "data": {
      "text/plain": [
       "816"
      ]
     },
     "execution_count": 68,
     "metadata": {},
     "output_type": "execute_result"
    }
   ],
   "source": [
    "unpackseven(otsline[7:9])"
   ]
  },
  {
   "cell_type": "code",
   "execution_count": 69,
   "metadata": {
    "collapsed": false
   },
   "outputs": [
    {
     "data": {
      "text/plain": [
       "814"
      ]
     },
     "execution_count": 69,
     "metadata": {},
     "output_type": "execute_result"
    }
   ],
   "source": [
    "unpackseven(otsline[9:11])"
   ]
  },
  {
   "cell_type": "code",
   "execution_count": 70,
   "metadata": {
    "collapsed": false,
    "scrolled": true
   },
   "outputs": [
    {
     "data": {
      "text/plain": [
       "816"
      ]
     },
     "execution_count": 70,
     "metadata": {},
     "output_type": "execute_result"
    }
   ],
   "source": [
    "len(otspayload)"
   ]
  },
  {
   "cell_type": "code",
   "execution_count": 71,
   "metadata": {
    "collapsed": false
   },
   "outputs": [],
   "source": [
    "otspayload8 = reconstitute_all(otspayload)"
   ]
  },
  {
   "cell_type": "code",
   "execution_count": 72,
   "metadata": {
    "collapsed": false
   },
   "outputs": [
    {
     "data": {
      "text/plain": [
       "714"
      ]
     },
     "execution_count": 72,
     "metadata": {},
     "output_type": "execute_result"
    }
   ],
   "source": [
    "len(otspayload8)"
   ]
  },
  {
   "cell_type": "code",
   "execution_count": 73,
   "metadata": {
    "collapsed": false
   },
   "outputs": [
    {
     "data": {
      "text/plain": [
       "'50 53 52 03 01 00 00 39 39 05 64 00 3B 00 60 40 28 00 00 00...52 03 00 00'"
      ]
     },
     "execution_count": 73,
     "metadata": {},
     "output_type": "execute_result"
    }
   ],
   "source": [
    "hexline(otspayload8)"
   ]
  },
  {
   "cell_type": "markdown",
   "metadata": {},
   "source": [
    "The PSR-225 had 1576 encoded bytes (788 bytes decoded) of OTS data. The DGX-505 has 816 encoded bytes (714 bytes decoded), but the two length values differ by two, `06 30` (=816) and `06 2E` (=814)."
   ]
  },
  {
   "cell_type": "markdown",
   "metadata": {},
   "source": [
    "The PSR-225 has 4 buttons × 4 banks = 16 settings, each using 0x31 = 49 bytes. The remaining 4 bytes are bitfields for the active banks on each button.\n",
    "\n",
    "The DGX-505 has 2 buttons × 8 banks = 16 settings, and has 714 bytes to store it in, which is not a nice number to work with. Maybe the two different length values mean something. Perhaps there are empty bytes at the end that were included so the 7-bit encoding would work. When the dump was taken, all 16 settings were in use, so maybe we should see two `FF` bytes?"
   ]
  },
  {
   "cell_type": "code",
   "execution_count": 74,
   "metadata": {
    "collapsed": false
   },
   "outputs": [
    {
     "name": "stdout",
     "output_type": "stream",
     "text": [
      "50 53 52 03\n",
      "50 53 52 03 00 00\n"
     ]
    }
   ],
   "source": [
    "print(tohex(otspayload8[:4]))\n",
    "print(tohex(otspayload8[-6:]))"
   ]
  },
  {
   "cell_type": "markdown",
   "metadata": {},
   "source": [
    "The data begins with `50 53 52 03` and ends with `50 53 52 03 00 00`. Perhaps those two extra bytes are the reason for the differing sizes. (As an aside, `50 53 52` is ASCII for 'PSR', but the PSR-225 doesn't have them.)\n",
    "\n",
    "Disregarding these ten bytes for now leaves us with 704 bytes which divide cleanly into 16 groups of 44. "
   ]
  },
  {
   "cell_type": "code",
   "execution_count": 75,
   "metadata": {
    "collapsed": false
   },
   "outputs": [
    {
     "name": "stdout",
     "output_type": "stream",
     "text": [
      "01 00 00 39 39 05 64 00 3B 00 60 40 28 00 00 00 2D 00 64 40...00 40 00 00\n",
      "01 87 00 36 36 05 64 01 67 00 68 40 1C 00 00 00 35 01 72 40...00 40 00 00\n",
      "01 3D 00 36 36 05 64 00 54 FF 6E 40 22 00 7F 00 36 00 7F 40...00 40 00 00\n",
      "01 00 00 36 36 05 64 00 59 00 50 40 28 00 00 00 2D 00 64 40...00 40 00 00\n",
      "01 FF FF 39 39 FF FF 00 34 00 7F 40 28 00 00 00 2D 00 64 40...00 40 00 00\n",
      "01 00 00 39 39 05 64 00 D3 00 68 40 1C 00 00 00 2D 00 64 40...00 40 00 00\n",
      "01 87 00 36 36 05 64 00 41 FF 5E 40 2E 00 7F 00 35 01 72 40...00 40 00 00\n",
      "01 87 01 39 39 05 64 00 34 00 7F 40 28 00 7F 00 34 00 64 40...00 40 00 00\n",
      "01 FF FF 36 36 FF FF 00 00 00 6E 40 14 00 00 00 2D 00 64 40...00 40 00 00\n",
      "01 00 00 36 36 05 64 01 4F 00 68 40 1C 00 00 00 2D 00 64 40...00 40 00 00\n",
      "01 0F 00 37 37 05 64 00 6D 00 70 40 28 22 00 00 06 00 64 40...00 40 00 00\n",
      "01 00 00 36 36 05 64 00 35 00 56 40 28 00 00 00 2D 00 64 40...00 40 00 00\n",
      "01 00 00 39 39 05 64 01 6F FF 7F 40 1C 00 7F 00 35 00 64 40...00 40 00 00\n",
      "01 00 00 39 39 05 64 00 A1 00 68 40 1C 00 00 00 2D 00 64 40...00 40 00 00\n",
      "01 00 00 39 39 05 64 00 41 00 5E 40 2E 00 7F 00 1B 00 2F 40...00 40 00 00\n",
      "01 00 00 36 36 05 64 00 35 00 56 40 28 00 00 00 2D 00 64 40...00 40 00 00\n"
     ]
    }
   ],
   "source": [
    "otsgroups = list(takebyn(otspayload8[4:-6], 44))\n",
    "for group in otsgroups:\n",
    "    print(hexline(group))"
   ]
  },
  {
   "cell_type": "markdown",
   "metadata": {},
   "source": [
    "Like the PSR-225, the settings are stored by button and then by bank."
   ]
  },
  {
   "cell_type": "markdown",
   "metadata": {
    "collapsed": false
   },
   "source": [
    "### Decoding the Format\n",
    "\n",
    "According to the manual (page 68), the following settings can be saved:\n",
    "- Style (when using style features):\n",
    "    - Style number\n",
    "    - Auto accompaniment (ON/OFF)\n",
    "    - Split Point\n",
    "    - Style Volume\n",
    "    - Tempo\n",
    "- Voice:\n",
    "    - Main Voice:\n",
    "        - Voice Number\n",
    "        - Volume\n",
    "        - Octave\n",
    "        - Pan\n",
    "        - Reverb send level\n",
    "        - Chorus send level\n",
    "    - Dual Voice:\n",
    "        - ON/OFF\n",
    "        - ... and the same settings as for Main Voice\n",
    "    - Split Voice:\n",
    "        - ON/OFF\n",
    "        - ... and the same settings as for Main Voice\n",
    "- Effect:\n",
    "    - Reverb type\n",
    "    - Chorus type\n",
    "    - Panel Sustain (ON/OFF)\n",
    "- Harmony:\n",
    "    - ON/OFF\n",
    "    - Harmony type\n",
    "    - Harmony volume\n",
    "- Other:\n",
    "    - Transpose\n",
    "    - Pitch Bend Range\n",
    "    \n",
    "After changing every setting from its previous value in Bank 4, button 2, I saved a new dump... and then I did it again, several times.\n",
    "(Bank 4, button 2 wasn't a particularly good setting anyway.)"
   ]
  },
  {
   "cell_type": "code",
   "execution_count": 76,
   "metadata": {
    "collapsed": false
   },
   "outputs": [],
   "source": [
    "def grab_4_2(filename):\n",
    "    with open(filename) as hexdata:\n",
    "        message = bytearray.fromhex(hexdata.readlines()[-2].strip())\n",
    "    return reconstitute_all(message[14:-2])[4+11*44:4+12*44]\n",
    "    # if it's stupid and it works, then... it's still stupid, but hey, at least it works.\n",
    "\n",
    "\n",
    "old_42 = otsgroups[11]\n",
    "new_42 = grab_4_2('data/syxout2.txt')\n",
    "newer_42 = grab_4_2('data/syxout3.txt')"
   ]
  },
  {
   "cell_type": "code",
   "execution_count": 77,
   "metadata": {
    "collapsed": false,
    "scrolled": true
   },
   "outputs": [
    {
     "name": "stdout",
     "output_type": "stream",
     "text": [
      "|ofst| old     | new     | newer  |  |ofst| old     | new     | newer  |  |ofst| old     | new     | newer  |  \n",
      "| 00 | 01    1 | 01    1 | 01   1 |  | 10 | 2D   45 | 09    9 | 00   0 |  | 20 | 01    1 | 05    5 | 09   9 |  \n",
      "| 01 | 00    0 | 36   54 | FF 255 |  | 11 | 00    0 | FF  255 | 01   1 |  | 21 | 00    0 | 7F  127 | 7F 127 |  \n",
      "| 02 | 00    0 | 01    1 | FF 255 |  | 12 | 64  100 | 70  112 | 00   0 |  | 22 | 01    1 | 1A   26 | 05   5 |  \n",
      "| 03 | 36   54 | 2F   47 | 00   0 |  | 13 | 40   64 | 37   55 | 00   0 |  | 23 | 5A   90 | 64  100 | 7F 127 |  \n",
      "| 04 | 36   54 | 2F   47 | 00   0 |  | 14 | 08    8 | 29   41 | 16  22 |  | 24 | FF  255 | FF  255 | FF 255 |  \n",
      "| 05 | 05    5 | 00    0 | FF 255 |  | 15 | 00    0 | 03    3 | 4B  75 |  | 25 | 0C   12 | 09    9 | 01   1 |  \n",
      "| 06 | 64  100 | 2A   42 | FF 255 |  | 16 | 7F  127 | 00    0 | 7F 127 |  | 26 | 3C   60 | 5A   90 | FF 255 |  \n",
      "| 07 | 00    0 | 00    0 | 00   0 |  | 17 | 00    0 | 00    0 | 01   1 |  | 27 | 00    0 | 00    0 | 00   0 |  \n",
      "| 08 | 35   53 | C2  194 | 85 133 |  | 18 | 34   52 | 2D   45 | ED 237 |  | 28 | 00    0 | 00    0 | 00   0 |  \n",
      "| 09 | 00    0 | 02    2 | FE 254 |  | 19 | FF  255 | 01    1 | 01   1 |  | 29 | 40   64 | 6E  110 | 40  64 |  \n",
      "| 0A | 56   86 | 6F  111 | 7F 127 |  | 1A | 59   89 | 71  113 | 0A  10 |  | 2A | 00    0 | 00    0 | 00   0 |  \n",
      "| 0B | 40   64 | 23   35 | 7F 127 |  | 1B | 40   64 | 2D   45 | 5B  91 |  | 2B | 00    0 | 00    0 | 00   0 |  \n",
      "| 0C | 28   40 | 25   37 | 4E  78 |  | 1C | 28   40 | 26   38 | 20  32 |  \n",
      "| 0D | 00    0 | 01    1 | 25  37 |  | 1D | 1E   30 | 02    2 | 7F 127 |  \n",
      "| 0E | 00    0 | 7F  127 | 00   0 |  | 1E | 02    2 | 07    7 | 0C  12 |  \n",
      "| 0F | 00    0 | 00    0 | 01   1 |  | 1F | 02    2 | 09    9 | 0D  13 |  \n"
     ]
    }
   ],
   "source": [
    "def columnise(some_lines, height):\n",
    "    for i in range(height):\n",
    "        print(\"\".join(some_lines[j] for j in range(i, len(some_lines), height)))\n",
    "print(\"|ofst| old     | new     | newer  |  \"*3)\n",
    "columnise([\"| {0:02X} | {1:02X}  {1:3d} | {2:02X}  {2:3d} | {3:02X} {3:3d} |  \".format(i, oldv, newv, newerv) for i, (oldv, newv, newerv) in enumerate(zip(old_42, new_42, newer_42))], 16)\n"
   ]
  },
  {
   "cell_type": "markdown",
   "metadata": {},
   "source": [
    "It seems like this is how it works:\n",
    "\n",
    "| offset | content | values |\n",
    "|----|--------|--------|\n",
    "|`00`|?|`01`|\n",
    "|`01`|Style no.|`FF` = no style; `00`-`87` = 1 – 136, that is, $value=(Style\\ number -1)$\n",
    "|`02`|Accompaniment|`FF` = no style; `00` = off, `01` = on|\n",
    "|`03`|Split point|`00`-`7F` = 0 (C-2) – 127 (G8), see manual p.71|\n",
    "|`04`|Split point, again|see above|\n",
    "|`05`|Main A/B|`FF` = no style; `00` = Main A, `05` = Main B|\n",
    "|`06`|Style vol|`FF`= no style; `00`-`7F` = volume\n",
    "|`07`-`08`|Main voice number|`0000`-`01ED` = 1 – 494, that is, $value=(Voice\\ number - 1)$ (big-endian)|\n",
    "|`09`|Main voice octave|`FE`-`02` = -2 – +2 (twos complement for negatives)|\n",
    "|`0A`|Main voice volume|`00`-`7F` = 0 – 127|\n",
    "|`0B`|Main voice pan|`00`-`7F` = 0 – 127|\n",
    "|`0C`|Main voice reverb send level|`00`-`7F` = 0 – 127|\n",
    "|`0D`|Main voice chorus send level|`00`-`7F` = 0 – 127|\n",
    "|`0E`|Split on/off|`00` = off; `7F` = on|\n",
    "|`0F`-`10`|Split voice number|see main voice|\n",
    "|`11`|Split voice octave|″|\n",
    "|`12`|Split voice volume|″|\n",
    "|`13`|Split voice pan|″|\n",
    "|`14`|Split voice reverb s.l.|″|\n",
    "|`15`|Split voice chorus s.l.|″|\n",
    "|`16`|Dual on/off|`00` = off; `7F` = on|\n",
    "|`17`-`18`|Dual voice number|see main voice|\n",
    "|`19`|Dual voice octave|″|\n",
    "|`1A`|Dual voice volume|″|\n",
    "|`1B`|Dual voice pan|″|\n",
    "|`1C`|Dual voice reverb s.l.|″|\n",
    "|`1D`|Dual voice chorus s.l.|″|\n",
    "|`1E`|Pitch bend range|`01`-`0C` = 1 – 12|\n",
    "|`1F`|Reverb type|`01`-`0A` = 1 – 10, see manual p.71, 109; `0B`-`0D` see footnote\\* |\n",
    "|`20`|Chorus type|`01`-`05` = 1 – 5, see manual p.71, 109; `06`-`09` see footnote\\*|\n",
    "|`21`|Harmony on/off|`00` = off; `7F` = on|\n",
    "|`22`|Harmony type|`01`-`1A` = 1 – 26, see manual p.71, 108|\n",
    "|`23`|Harmony volume|`00`-`7F` = 0 – 127|\n",
    "|`24`|?|`FF`|\n",
    "|`25`|Transpose|`00`-`18` = -12 – +12, that is, $value = (transpose + 12)$|\n",
    "|`26`|Tempo|`FF` = no style; `00`-`F8` = 32 – 280, that is, $value = (bpm - 32)$|\n",
    "|`27`|?|`00`|\n",
    "|`28`|?|`00`|\n",
    "|`29`|Panel sustain|`40` = off; `6E` = on, for some reason|\n",
    "|`2A`|?|`00`|\n",
    "|`2B`|?|`00`|\n",
    "\n",
    "\\* *Footnote:* Reverb type and Chorus type have settings that cannot be selected from the panel and can only be chosen by sending MIDI messages (the effect type names without numbers on manual p.113). If these values are saved into one-touch-settings registry, then the values are as follows:\n",
    " - *Reverb*:  `0B` = Room, `0C` = Stage, `0D` = Plate\n",
    " - *Chorus*:  `06` = Thru, `07` = Chorus, `08` = Celeste, `09` = Flanger. \n",
    " \n",
    "There are some weird things in here, like the repetition of Split Point (maybe one's the split voice split point and one's the accompaniment split point, but the DGX-505's 'Split Point' panel setting always changes both), why the tempo setting is all the way at the end instead of with the rest of the style settings (it is a style setting, as it is not saved in song mode), and why the Panel Sustain has such weird values. There's also the mysterious `01`, `FF`, and `00` values which don't seem to correspond to any changeable setting.\n",
    "\n",
    "##### Differences when compared to PSR-225\n",
    "- Settings are in the order *Style - Main voice - Split voice - Dual voice - Pitch bend - Effects - Other* (whereas the PSR-225's order is *Main voice - Dual voice - Split voice - Effects - Style - Other*)\n",
    "- Instead of storing voices as MIDI Bank and Program, the panel numbers are used.\n",
    "- Voice octave stored as twos complement instead of being offset by `40`\n",
    "- Voice pan stored as 0-127, corresponding how the DGX-505 displays it on the panel\n",
    "- The on/off settings for Split, Dual and Harmony are at the start of their corresponding sections\n",
    "- The Off settings for Reverb and Chorus are stored as the type, instead of separately, and have numbers `0A` and `05` instead of `00`\n",
    "- Harmony type uses 1-based indexing instead of 0-based\n",
    "- Transpose is offset by 12 instead of twos complement\n",
    "- Settings the DGX-505's format has that the PSR-225 doesn't: Pitch bend range, Panel sustain, Hall2 reverb (The PSR-225's Hall2 appears to correspond to the DGX-505's Hall3 according to the effect map table), Thru chorus\n",
    "- Settings the PSR-225's format has that the DGX-505 doesn't: Anything to do with DSP, separate voice and accompaniment split points, Footswitch, Touch sensitivity, Tuning, Accompaniment volume\n"
   ]
  }
 ],
 "metadata": {
  "kernelspec": {
   "display_name": "Python 2",
   "language": "python",
   "name": "python2"
  },
  "language_info": {
   "codemirror_mode": {
    "name": "ipython",
    "version": 2
   },
   "file_extension": ".py",
   "mimetype": "text/x-python",
   "name": "python",
   "nbconvert_exporter": "python",
   "pygments_lexer": "ipython2",
   "version": "2.7.12+"
  }
 },
 "nbformat": 4,
 "nbformat_minor": 0
}
