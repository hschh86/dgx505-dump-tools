{
 "cells": [
  {
   "cell_type": "markdown",
   "metadata": {},
   "source": [
    "# Initial Investigations"
   ]
  },
  {
   "cell_type": "markdown",
   "metadata": {},
   "source": [
    "looking thru: https://www.midi.org/forum/279-yamaha-bull-dump-data-format,\n",
    "http://rnhart.net/articles/bulk-dump.htm"
   ]
  },
  {
   "cell_type": "code",
   "execution_count": 1,
   "metadata": {
    "collapsed": true
   },
   "outputs": [],
   "source": [
    "from __future__ import print_function\n",
    "import itertools"
   ]
  },
  {
   "cell_type": "code",
   "execution_count": 2,
   "metadata": {
    "collapsed": false,
    "scrolled": true
   },
   "outputs": [],
   "source": [
    "def hexbyte(x):\n",
    "    return \"{:02X}\".format(x)\n",
    "\n",
    "def binbyte(x):\n",
    "    return \"{:08b}\".format(x)\n",
    "\n",
    "def tohex(by):\n",
    "    return \" \".join(hexbyte(x) for x in by)\n",
    "def tobin(by):\n",
    "    return \" \".join(binbyte(x) for x in by)\n",
    "\n",
    "def hexline(by):\n",
    "    if len(by) <= 24:\n",
    "        return tohex(by)\n",
    "    else:\n",
    "        return tohex(by[:20]) + \"...\" + tohex(by[-4:])\n",
    "\n",
    "def takebyn(by, n=8):\n",
    "    for i in range(0, len(by), n):\n",
    "        yield by[i:i+n]\n",
    "\n",
    "def printhex(by, n=8, startpad=0):\n",
    "    for x in takebyn(by, n):\n",
    "        print(tohex(x))\n",
    "\n"
   ]
  },
  {
   "cell_type": "code",
   "execution_count": 3,
   "metadata": {
    "collapsed": false,
    "scrolled": true
   },
   "outputs": [],
   "source": [
    "with open('data/syxout.txt') as hexdata:\n",
    "    lines = [bytearray.fromhex(line.strip()) for line in hexdata]"
   ]
  },
  {
   "cell_type": "markdown",
   "metadata": {},
   "source": [
    "## Picking at the message structure"
   ]
  },
  {
   "cell_type": "code",
   "execution_count": 4,
   "metadata": {
    "collapsed": false,
    "scrolled": true
   },
   "outputs": [
    {
     "name": "stdout",
     "output_type": "stream",
     "text": [
      "F0 43 73 7F 44 06 0A 10 00 10 00 00 00 00 1F 00 0A 03 68 03...37 00 3B F7\n",
      "F0 43 73 7F 44 06 0A 10 00 10 00 00 10 00 00 37 00 03 45 7F...3B 10 0A F7\n",
      "F0 43 73 7F 44 06 0A 10 00 10 00 00 20 00 55 27 37 42 00 33...41 00 28 F7\n",
      "F0 43 73 7F 44 06 0A 10 00 10 00 00 30 00 20 00 32 00 00 00...4B 00 56 F7\n",
      "F0 43 73 7F 44 06 0A 10 00 10 00 00 40 00 00 05 48 4F 01 24...41 00 67 F7\n",
      "F0 43 73 7F 44 06 0A 10 00 10 00 00 50 00 20 00 33 00 00 00...0B 00 6C F7\n",
      "F0 43 73 7F 44 06 0A 10 00 10 00 00 60 00 3B 21 01 43 00 01...24 00 4D F7\n",
      "F0 43 73 7F 44 06 0A 10 00 10 00 00 70 00 29 2F 2F 51 44 01...00 00 1C F7\n",
      "F0 43 73 7F 44 06 0A 10 00 10 00 01 00 00 00 46 43 02 4A 42...40 22 21 F7\n",
      "F0 43 73 7F 44 06 0A 10 00 10 00 01 10 00 00 02 12 1D 42 29...43 00 54 F7\n",
      "F0 43 73 7F 44 06 0A 10 00 10 00 01 20 00 45 02 3E 00 00 37...4F 00 6D F7\n",
      "F0 43 73 7F 44 06 0A 10 00 10 00 01 30 00 00 06 48 56 00 4C...03 08 27 F7\n",
      "F0 43 73 7F 44 06 0A 10 00 10 00 01 40 00 10 58 00 02 60 02...01 08 37 F7\n",
      "F0 43 73 7F 44 06 0A 10 00 10 00 01 50 00 60 00 36 00 6A 00...00 22 1E F7\n",
      "F0 43 73 7F 44 06 0A 10 00 10 00 01 60 00 0F 00 60 00 0B 00...00 08 09 F7\n",
      "F0 43 73 7F 44 06 0A 10 00 10 00 01 70 00 6A 00 26 00 60 00...60 11 14 F7\n",
      "F0 43 73 7F 44 06 0A 10 00 10 00 02 00 00 42 61 00 6A 42 61...02 08 10 F7\n",
      "F0 43 73 7F 44 06 0A 10 00 10 00 02 10 00 60 00 3C 00 6A 00...33 00 01 F7\n",
      "F0 43 73 7F 44 06 0A 10 00 10 00 02 20 00 00 33 00 3A 7F 7F...41 00 5A F7\n",
      "F0 43 73 7F 44 06 0A 10 00 10 00 02 30 00 20 00 33 00 00 00...46 00 7D F7\n",
      "F0 43 73 7F 44 06 0A 10 00 10 00 02 40 00 00 05 38 00 0E 2C...1B 11 2C F7\n",
      "F0 43 73 7F 44 06 0A 10 00 10 00 02 50 00 50 00 21 11 38 40...33 11 74 F7\n",
      "F0 43 73 7F 44 06 0A 10 00 10 00 02 60 00 40 7F 00 3D 40 7F...33 11 64 F7\n",
      "F0 43 73 7F 44 06 0A 10 00 10 00 02 70 00 40 00 00 3D 40 00...08 08 6A F7\n",
      "F0 43 73 7F 44 06 0A 10 00 10 00 03 00 00 46 00 19 52 4C 08...05 00 72 F7\n",
      "F0 43 73 7F 44 06 0A 10 00 10 00 03 10 00 48 00 20 46 22 05...33 11 44 F7\n",
      "F0 43 73 7F 44 06 0A 10 00 10 00 03 20 00 40 7F 00 3D 40 7F...41 00 17 F7\n",
      "F0 43 73 7F 44 06 0A 10 00 10 00 03 30 00 20 00 30 00 00 00...1B 11 1C F7\n",
      "F0 43 73 7F 44 06 0A 10 00 10 00 03 40 00 46 00 21 11 2A 00...04 00 19 F7\n",
      "F0 43 73 7F 44 06 0A 10 00 10 00 03 50 00 2B 4D 00 45 00 16...00 08 2E F7\n",
      "F0 43 73 7F 44 06 0A 10 00 10 00 03 60 00 1A 35 00 01 10 30...01 00 23 F7\n",
      "F0 43 73 7F 44 06 0A 10 00 10 00 03 70 00 5D 00 2E 58 3A 01...48 00 65 F7\n",
      "F0 43 73 7F 44 06 0A 10 00 10 00 04 00 00 45 00 32 42 01 39...45 00 52 F7\n",
      "F0 43 73 7F 44 06 0A 10 00 10 00 04 10 00 00 04 24 00 02 40...00 44 44 F7\n",
      "F0 43 73 7F 44 06 0A 10 00 10 00 04 20 00 00 1A 1C 00 25 10...1B 11 32 F7\n",
      "F0 43 73 7F 44 06 0A 10 00 10 00 04 30 00 2C 3C 00 11 4D 48...23 08 69 F7\n",
      "F0 43 73 7F 44 06 0A 10 00 10 00 04 40 00 12 2E 41 00 1C 22...04 08 2B F7\n",
      "F0 43 73 7F 44 06 0A 08 68 08 68 04 50 00 12 36 00 00 1C 2A...31 00 66 F7\n",
      "F0 43 73 7F 44 06 0A 00 01 00 01 7F 7F 7F F7\n",
      "F0 43 73 7F 44 06 09 06 30 06 2E 00 00 00 50 53 52 03 01 00...00 00 30 F7\n",
      "F0 43 73 7F 44 06 09 00 01 00 01 7F 7F 7F F7\n"
     ]
    }
   ],
   "source": [
    "for line in lines:\n",
    "    print(hexline(line))"
   ]
  },
  {
   "cell_type": "code",
   "execution_count": 5,
   "metadata": {
    "collapsed": false,
    "scrolled": true
   },
   "outputs": [],
   "source": [
    "lb = lines[0]\n",
    "ls = lines[-4]"
   ]
  },
  {
   "cell_type": "markdown",
   "metadata": {},
   "source": [
    "### Header\n",
    "sysex-flag/manufacturer/device/data type header: `F0 43 73 7F 44 06`. \n",
    "\n",
    "If this is using the same conventions as the PSR-225, then `0A` is for song data and `09` is for the one-touch panel bank"
   ]
  },
  {
   "cell_type": "code",
   "execution_count": 6,
   "metadata": {
    "collapsed": false
   },
   "outputs": [
    {
     "data": {
      "text/plain": [
       "'F0 43 73 7F 44 06 0A'"
      ]
     },
     "execution_count": 6,
     "metadata": {},
     "output_type": "execute_result"
    }
   ],
   "source": [
    "tohex(lb[:7])"
   ]
  },
  {
   "cell_type": "markdown",
   "metadata": {},
   "source": [
    "### 'SS' Size bytes. \n",
    "\n",
    "There appear to be four of them. At the EOS this is '00 01 00 01'\n",
    "the longest messages have this as '10 00 10 00', the last message before EOS has this as '08 68 08 68'.\n",
    "\n",
    "\n",
    "It appears to be two repeated\n",
    " (at least, in the case of the 0A. The 09 data, with only one message, appears to be different again.)"
   ]
  },
  {
   "cell_type": "code",
   "execution_count": 7,
   "metadata": {
    "collapsed": false
   },
   "outputs": [
    {
     "data": {
      "text/plain": [
       "'10 00 10 00'"
      ]
     },
     "execution_count": 7,
     "metadata": {},
     "output_type": "execute_result"
    }
   ],
   "source": [
    "tohex(lb[7:11])"
   ]
  },
  {
   "cell_type": "markdown",
   "metadata": {},
   "source": [
    "### three 'ZZ' running total bytes. \n",
    "\n",
    "At the EOS this is '7F 7F 7F', then immediately followed by the end F7.\n"
   ]
  },
  {
   "cell_type": "code",
   "execution_count": 8,
   "metadata": {
    "collapsed": false
   },
   "outputs": [
    {
     "data": {
      "text/plain": [
       "'00 00 00'"
      ]
     },
     "execution_count": 8,
     "metadata": {},
     "output_type": "execute_result"
    }
   ],
   "source": [
    "tohex(lb[11:14])"
   ]
  },
  {
   "cell_type": "markdown",
   "metadata": {},
   "source": [
    "### the 'KK' checksum and end-of-message flag F7."
   ]
  },
  {
   "cell_type": "code",
   "execution_count": 9,
   "metadata": {
    "collapsed": false
   },
   "outputs": [
    {
     "data": {
      "text/plain": [
       "'3B F7'"
      ]
     },
     "execution_count": 9,
     "metadata": {},
     "output_type": "execute_result"
    }
   ],
   "source": [
    "tohex(lb[-2:])\n"
   ]
  },
  {
   "cell_type": "markdown",
   "metadata": {},
   "source": [
    "This should, and I say *should*, be of a similar format, so...\n",
    "If this works, sum of SS SS SS to KK inclusive should be 0 (mod 128)."
   ]
  },
  {
   "cell_type": "code",
   "execution_count": 10,
   "metadata": {
    "collapsed": false,
    "scrolled": true
   },
   "outputs": [
    {
     "name": "stdout",
     "output_type": "stream",
     "text": [
      "[0, 0, 0, 0, 0, 0, 0, 0, 0, 0, 0, 0, 0, 0, 0, 0, 0, 0, 0, 0, 0, 0, 0, 0, 0, 0, 0, 0, 0, 0, 0, 0, 0, 0, 0, 0, 0, 0, 127, 0, 127]\n"
     ]
    }
   ],
   "source": [
    "print([sum(line[7:-1]) % 128 for line in lines])"
   ]
  },
  {
   "cell_type": "markdown",
   "metadata": {},
   "source": [
    "It worked, except for the two end-of-section messages, which don't have the checksum byte."
   ]
  },
  {
   "cell_type": "markdown",
   "metadata": {},
   "source": [
    "### Checking the Numbers"
   ]
  },
  {
   "cell_type": "code",
   "execution_count": 11,
   "metadata": {
    "collapsed": false
   },
   "outputs": [],
   "source": [
    "def unpackseven(by):\n",
    "    # Ignore the first bit, which is always zero.\n",
    "    # The most signifcant bit comes first\n",
    "    sum = 0\n",
    "    for v, b in zip(by, range(len(by)-1, -1, -1)):\n",
    "        sum += v << (b*7)\n",
    "    return sum"
   ]
  },
  {
   "cell_type": "code",
   "execution_count": 12,
   "metadata": {
    "collapsed": false
   },
   "outputs": [
    {
     "data": {
      "text/plain": [
       "'0x800'"
      ]
     },
     "execution_count": 12,
     "metadata": {},
     "output_type": "execute_result"
    }
   ],
   "source": [
    "\"%#x\"%(unpackseven(bytearray.fromhex('10 00')))"
   ]
  },
  {
   "cell_type": "code",
   "execution_count": 13,
   "metadata": {
    "collapsed": false
   },
   "outputs": [
    {
     "data": {
      "text/plain": [
       "2048"
      ]
     },
     "execution_count": 13,
     "metadata": {},
     "output_type": "execute_result"
    }
   ],
   "source": [
    "len(lb[14:-2])"
   ]
  },
  {
   "cell_type": "markdown",
   "metadata": {
    "collapsed": false
   },
   "source": [
    "0x800, or 2048 bytes of encoded data seems to be the maximum.\n",
    "the ZZ bytes appear to increment by this amount.\n",
    "\n",
    "that penultimate message should be 0x468, or 1128, bytes..."
   ]
  },
  {
   "cell_type": "code",
   "execution_count": 14,
   "metadata": {
    "collapsed": false
   },
   "outputs": [
    {
     "data": {
      "text/plain": [
       "'468'"
      ]
     },
     "execution_count": 14,
     "metadata": {},
     "output_type": "execute_result"
    }
   ],
   "source": [
    "\"%X\"%(unpackseven(bytearray.fromhex('08 68')))"
   ]
  },
  {
   "cell_type": "code",
   "execution_count": 15,
   "metadata": {
    "collapsed": false
   },
   "outputs": [
    {
     "data": {
      "text/plain": [
       "True"
      ]
     },
     "execution_count": 15,
     "metadata": {},
     "output_type": "execute_result"
    }
   ],
   "source": [
    "unpackseven(ls[9:11]) == len(ls[14:-2])"
   ]
  },
  {
   "cell_type": "code",
   "execution_count": 16,
   "metadata": {
    "collapsed": false
   },
   "outputs": [
    {
     "data": {
      "text/plain": [
       "1128"
      ]
     },
     "execution_count": 16,
     "metadata": {},
     "output_type": "execute_result"
    }
   ],
   "source": [
    "len(ls[14:-2])"
   ]
  },
  {
   "cell_type": "markdown",
   "metadata": {},
   "source": [
    "Yep."
   ]
  },
  {
   "cell_type": "markdown",
   "metadata": {},
   "source": [
    "## What's all that data?\n",
    "Instead encoding one byte to two by nybble, with 0F 07 == 7F like in the [PSR-225](http://rnhart.net/articles/bulk-dump.htm), it seems that the 'payload' data uses all seven available bits, which could mean several things."
   ]
  },
  {
   "cell_type": "code",
   "execution_count": 17,
   "metadata": {
    "collapsed": true
   },
   "outputs": [],
   "source": [
    "payloads = [line[14:-2] for line in lines[:-3]]"
   ]
  },
  {
   "cell_type": "code",
   "execution_count": 18,
   "metadata": {
    "collapsed": false
   },
   "outputs": [],
   "source": [
    "payload = bytearray().join(payloads)"
   ]
  },
  {
   "cell_type": "markdown",
   "metadata": {},
   "source": [
    "From staring at the 'payload' in a hex editor, I have recognised some patterns. I think that every 8th byte is some sort of 'parity' byte or something. Ignoring these bytes you can see the ascii for 'YAMAHA' and 'MTrk' and 'PresetStyle\\x00'. So that's a start."
   ]
  },
  {
   "cell_type": "code",
   "execution_count": 19,
   "metadata": {
    "collapsed": false
   },
   "outputs": [
    {
     "data": {
      "text/plain": [
       "9613"
      ]
     },
     "execution_count": 19,
     "metadata": {},
     "output_type": "execute_result"
    }
   ],
   "source": [
    "len(payload)/8"
   ]
  },
  {
   "cell_type": "markdown",
   "metadata": {},
   "source": [
    "### What Is That Eighth Byte?"
   ]
  },
  {
   "cell_type": "code",
   "execution_count": 20,
   "metadata": {
    "collapsed": true
   },
   "outputs": [],
   "source": [
    "import numpy as np\n",
    "import matplotlib.pyplot as plt\n",
    "%matplotlib inline"
   ]
  },
  {
   "cell_type": "code",
   "execution_count": 21,
   "metadata": {
    "collapsed": false
   },
   "outputs": [],
   "source": [
    "pays = np.array(payload).reshape((9613,8))"
   ]
  },
  {
   "cell_type": "code",
   "execution_count": 22,
   "metadata": {
    "collapsed": false
   },
   "outputs": [
    {
     "data": {
      "text/plain": [
       "[<matplotlib.lines.Line2D at 0x7ff9dce00550>]"
      ]
     },
     "execution_count": 22,
     "metadata": {},
     "output_type": "execute_result"
    },
    {
     "data": {
      "image/png": "[encoded data removed]",
      "text/plain": [
       "<matplotlib.figure.Figure at 0x7ff9dce66350>"
      ]
     },
     "metadata": {},
     "output_type": "display_data"
    }
   ],
   "source": [
    "plt.plot(pays[:,7], 'r.')"
   ]
  },
  {
   "cell_type": "code",
   "execution_count": 23,
   "metadata": {
    "collapsed": false
   },
   "outputs": [
    {
     "data": {
      "text/plain": [
       "array([[   0, 3084],\n",
       "       [   1,  120],\n",
       "       [   2,  122],\n",
       "       [   4,   96],\n",
       "       [   5,   28],\n",
       "       [   8, 1468],\n",
       "       [   9,   18],\n",
       "       [  10,   25],\n",
       "       [  11,    1],\n",
       "       [  16,   93],\n",
       "       [  17, 1348],\n",
       "       [  18,   19],\n",
       "       [  20,   40],\n",
       "       [  21,    4],\n",
       "       [  32,  126],\n",
       "       [  33,    1],\n",
       "       [  34, 1354],\n",
       "       [  36,   17],\n",
       "       [  37,   12],\n",
       "       [  40,   34],\n",
       "       [  42,    1],\n",
       "       [  48,    1],\n",
       "       [  52,    1],\n",
       "       [  56,    1],\n",
       "       [  62,    1],\n",
       "       [  64,  126],\n",
       "       [  65,    4],\n",
       "       [  66,    1],\n",
       "       [  68, 1398],\n",
       "       [  69,    1],\n",
       "       [  72,   16],\n",
       "       [  74,    5],\n",
       "       [  80,   25],\n",
       "       [  81,   18],\n",
       "       [  84,    1],\n",
       "       [  90,    1],\n",
       "       [ 104,    1],\n",
       "       [ 120,    1]])"
      ]
     },
     "execution_count": 23,
     "metadata": {},
     "output_type": "execute_result"
    }
   ],
   "source": [
    "np.asarray(np.unique(pays[:,7], return_counts=True)).T"
   ]
  },
  {
   "cell_type": "code",
   "execution_count": 24,
   "metadata": {
    "collapsed": false
   },
   "outputs": [
    {
     "data": {
      "text/plain": [
       "'01110000 00000101 01111110 01111111 00001001 00000001 01110111 01000001'"
      ]
     },
     "execution_count": 24,
     "metadata": {},
     "output_type": "execute_result"
    }
   ],
   "source": [
    "tobin(pays[pays[:,7]==65,:][2])"
   ]
  },
  {
   "cell_type": "code",
   "execution_count": 25,
   "metadata": {
    "collapsed": false,
    "scrolled": true
   },
   "outputs": [
    {
     "data": {
      "text/plain": [
       "'00000000 00000001 00000010 00000100 00000101 00001000 00001001 00001010 00001011 00010000 00010001 00010010 00010100 00010101 00100000 00100001 00100010 00100100 00100101 00101000 00101010 00110000 00110100 00111000 00111110 01000000 01000001 01000010 01000100 01000101 01001000 01001010 01010000 01010001 01010100 01011010 01101000 01111000'"
      ]
     },
     "execution_count": 25,
     "metadata": {},
     "output_type": "execute_result"
    }
   ],
   "source": [
    "tobin(np.unique(pays[:,7]))"
   ]
  },
  {
   "cell_type": "markdown",
   "metadata": {},
   "source": [
    "... I dunno. Maybe we should just ignore all the 8th bytes."
   ]
  },
  {
   "cell_type": "code",
   "execution_count": 26,
   "metadata": {
    "collapsed": true
   },
   "outputs": [],
   "source": [
    "payload7 = bytearray()\n",
    "for i in range(0, len(payload), 8):\n",
    "    payload7.extend(payload[i:i+7])"
   ]
  },
  {
   "cell_type": "markdown",
   "metadata": {},
   "source": [
    "### The Solution"
   ]
  },
  {
   "cell_type": "markdown",
   "metadata": {},
   "source": [
    "If I had to squeeze 8 bits down into seven, how would I do it?\n",
    "Maybe, we take each of the seven bits of the eighth byte and stick them in front of the previous seven?"
   ]
  },
  {
   "cell_type": "code",
   "execution_count": 27,
   "metadata": {
    "collapsed": true
   },
   "outputs": [],
   "source": [
    "def reconstitute(by):\n",
    "    blob = by[:7]\n",
    "    for i in range(7):\n",
    "        bitmask = 0b01000000 >> i\n",
    "        blob[i] = blob[i] | ((by[7] & bitmask) << i+1)\n",
    "    return blob"
   ]
  },
  {
   "cell_type": "code",
   "execution_count": 28,
   "metadata": {
    "collapsed": false
   },
   "outputs": [],
   "source": [
    "payload8 = bytearray().join(reconstitute(g) for g in takebyn(payload, 8))"
   ]
  },
  {
   "cell_type": "code",
   "execution_count": 29,
   "metadata": {
    "collapsed": false
   },
   "outputs": [],
   "source": [
    "import re"
   ]
  },
  {
   "cell_type": "markdown",
   "metadata": {},
   "source": [
    "Note that whenever an F0 occurs it is always followed by F7:"
   ]
  },
  {
   "cell_type": "code",
   "execution_count": 30,
   "metadata": {
    "collapsed": false
   },
   "outputs": [
    {
     "data": {
      "text/plain": [
       "['F0 09 43 10 4C 02 01 00 01 11 F7',\n",
       " 'F0 09 43 10 4C 02 01 20 42 11 F7',\n",
       " 'F0 05 7E 7F 09 01 F7',\n",
       " 'F0 09 43 15 4C 02 01 00 01 11 F7',\n",
       " 'F0 09 43 15 4C 02 01 20 42 11 F7',\n",
       " 'F0 09 43 12 4C 02 01 00 01 10 F7',\n",
       " 'F0 09 43 12 4C 02 01 20 42 11 F7',\n",
       " 'F0 05 7E 7F 09 01 F7',\n",
       " 'F0 09 43 15 4C 02 01 00 01 10 F7',\n",
       " 'F0 09 43 15 4C 02 01 20 42 11 F7',\n",
       " 'F0 09 43 12 4C 02 01 00 01 10 F7',\n",
       " 'F0 09 43 12 4C 02 01 20 42 11 F7',\n",
       " 'F0 09 43 10 4C 02 01 00 01 10 F7',\n",
       " 'F0 09 43 10 4C 02 01 20 42 11 F7',\n",
       " 'F0 05 7E 7F 09 01 F7',\n",
       " 'F0 09 43 15 4C 02 01 00 01 10 F7',\n",
       " 'F0 09 43 15 4C 02 01 20 42 11 F7',\n",
       " 'F0 09 43 10 4C 02 01 00 01 10 F7',\n",
       " 'F0 09 43 10 4C 02 01 20 42 11 F7',\n",
       " 'F0 09 43 11 4C 02 01 00 01 10 F7',\n",
       " 'F0 09 43 11 4C 02 01 20 42 11 F7',\n",
       " 'F0 09 43 13 4C 02 01 00 01 10 F7',\n",
       " 'F0 09 43 13 4C 02 01 20 42 11 F7',\n",
       " 'F0 09 43 11 4C 02 01 00 01 11 F7',\n",
       " 'F0 09 43 11 4C 02 01 20 42 11 F7',\n",
       " 'F0 05 7E 7F 09 01 F7',\n",
       " 'F0 09 43 15 4C 02 01 00 01 11 F7',\n",
       " 'F0 09 43 15 4C 02 01 20 42 11 F7',\n",
       " 'F0 09 43 12 4C 02 01 00 01 11 F7',\n",
       " 'F0 09 43 12 4C 02 01 20 42 11 F7',\n",
       " 'F0 09 43 10 4C 02 01 00 01 11 F7',\n",
       " 'F0 09 43 10 4C 02 01 20 42 11 F7',\n",
       " 'F0 09 43 14 4C 02 01 00 01 10 F7',\n",
       " 'F0 09 43 14 4C 02 01 20 42 11 F7',\n",
       " 'F0 09 43 11 4C 02 01 00 01 10 F7',\n",
       " 'F0 09 43 11 4C 02 01 20 42 11 F7',\n",
       " 'F0 09 43 14 4C 02 01 00 01 10 F7',\n",
       " 'F0 09 43 14 4C 02 01 20 42 11 F7',\n",
       " 'F0 05 7E 7F 09 01 F7',\n",
       " 'F0 09 43 15 4C 02 01 00 01 00 F7',\n",
       " 'F0 09 43 15 4C 02 01 20 41 00 F7',\n",
       " 'F0 09 43 10 4C 02 01 00 01 10 F7',\n",
       " 'F0 09 43 10 4C 02 01 20 42 11 F7',\n",
       " 'F0 09 43 12 4C 02 01 00 01 10 F7',\n",
       " 'F0 09 43 12 4C 02 01 20 42 11 F7',\n",
       " 'F0 09 43 11 4C 02 01 00 01 10 F7',\n",
       " 'F0 09 43 11 4C 02 01 20 42 11 F7',\n",
       " 'F0 09 43 13 4C 02 01 00 01 10 F7',\n",
       " 'F0 09 43 13 4C 02 01 20 42 11 F7',\n",
       " 'F0 09 43 10 4C 02 01 00 01 11 F7',\n",
       " 'F0 09 43 10 4C 02 01 20 42 11 F7',\n",
       " 'F0 05 7E 7F 09 01 F7',\n",
       " 'F0 09 43 15 4C 02 01 00 01 11 F7',\n",
       " 'F0 09 43 15 4C 02 01 20 42 11 F7',\n",
       " 'F0 09 43 11 4C 02 01 00 01 11 F7',\n",
       " 'F0 09 43 11 4C 02 01 20 42 11 F7',\n",
       " 'F0 09 43 14 4C 02 01 00 01 11 F7',\n",
       " 'F0 09 43 14 4C 02 01 20 42 11 F7',\n",
       " 'F0 09 43 10 4C 02 01 00 01 11 F7',\n",
       " 'F0 09 43 10 4C 02 01 20 42 11 F7',\n",
       " 'F0 05 7E 7F 09 01 F7',\n",
       " 'F0 09 43 15 4C 02 01 00 01 11 F7',\n",
       " 'F0 09 43 15 4C 02 01 20 42 11 F7',\n",
       " 'F0 09 43 10 4C 02 01 00 01 11 F7',\n",
       " 'F0 09 43 10 4C 02 01 20 42 11 F7',\n",
       " 'F0 05 7E 7F 09 01 F7',\n",
       " 'F0 09 43 15 4C 02 01 00 01 11 F7',\n",
       " 'F0 09 43 15 4C 02 01 20 42 11 F7',\n",
       " 'F0 09 43 11 4C 02 01 00 01 11 F7',\n",
       " 'F0 09 43 11 4C 02 01 20 42 11 F7',\n",
       " 'F0 09 43 12 4C 02 01 00 01 11 F7',\n",
       " 'F0 09 43 12 4C 02 01 20 42 11 F7',\n",
       " 'F0 09 43 12 4C 02 01 00 01 11 F7',\n",
       " 'F0 09 43 12 4C 02 01 20 42 11 F7',\n",
       " 'F0 09 43 13 4C 02 01 00 01 11 F7',\n",
       " 'F0 09 43 13 4C 02 01 20 42 11 F7']"
      ]
     },
     "execution_count": 30,
     "metadata": {},
     "output_type": "execute_result"
    }
   ],
   "source": [
    "map(tohex, re.findall('\\xF0[\\x00-\\x7F]*[\\x80-\\xFF]', payload8))"
   ]
  },
  {
   "cell_type": "markdown",
   "metadata": {},
   "source": [
    "It sure looks like there are some system exclusive messages in here! (Stored in MIDI file format, of course.)\n",
    "\n",
    "Leafing through the manual (pg 110-111), it seems these are the GM System / volume / tuning / reverb / chorus events\n",
    "\n",
    "And here are some style meta-events:"
   ]
  },
  {
   "cell_type": "code",
   "execution_count": 31,
   "metadata": {
    "collapsed": false
   },
   "outputs": [
    {
     "data": {
      "text/plain": [
       "['43 76 1A 04 00 5B',\n",
       " '43 76 1A 04 00 00',\n",
       " '43 76 1A 04 00 00',\n",
       " '43 76 1A 04 00 00',\n",
       " '43 76 1A 04 00 87',\n",
       " '43 76 1A 04 00 00',\n",
       " '43 76 1A 04 00 00',\n",
       " '43 76 1A 04 00 00']"
      ]
     },
     "execution_count": 31,
     "metadata": {},
     "output_type": "execute_result"
    }
   ],
   "source": [
    "map(tohex, re.findall('\\x43\\x76\\x1A\\x04.{2}', payload8))"
   ]
  },
  {
   "cell_type": "markdown",
   "metadata": {},
   "source": [
    "# Figuring Out The File Structure"
   ]
  },
  {
   "cell_type": "markdown",
   "metadata": {},
   "source": [
    "Assuming the file structure is similar to the [PSR-225's block system](http://rnhart.net/articles/bulk-dump.htm)..."
   ]
  },
  {
   "cell_type": "code",
   "execution_count": 32,
   "metadata": {
    "collapsed": false
   },
   "outputs": [
    {
     "data": {
      "text/plain": [
       "67291"
      ]
     },
     "execution_count": 32,
     "metadata": {},
     "output_type": "execute_result"
    }
   ],
   "source": [
    "len(payload8)"
   ]
  },
  {
   "cell_type": "markdown",
   "metadata": {},
   "source": [
    "It looks like there are 67291 bytes of decoded data instead of the 66766 bytes in the PSR-225."
   ]
  },
  {
   "cell_type": "code",
   "execution_count": 33,
   "metadata": {
    "collapsed": false
   },
   "outputs": [
    {
     "name": "stdout",
     "output_type": "stream",
     "text": [
      "1F 00 0A 03 E8 03 E8 01 F4 22 28 1E 1E 05 7F 1E 00 00 19 00 01 00 00 01 7F 00 0A 00 0F 00 13 00\n",
      "16 00 18 00 1A 00 1B 00 1C 00 1D 00 1E 00 1E 00 1E 00 1E 00 1E 00 1E 00 1E 00 1E 00 1E 00 1E 00\n",
      "1E 00 1E 00 1E 00 1E 00 1E 00 1E 00 1E 00 1E 00 1E 00 1E 00 1E 00 1E 00 1E 00 1E 00 1E 00 1E 00\n",
      "1E 00 1E 00 1E 00 1E 00 1E 00 1E 00 1E 00 1E 00 1E 00 1E 00 1E 00 1E 00 1E 00 1E 00 1E 00 05 00\n",
      "08 00 0B 00 0D 00 0F 00 11 00 13 00 15 00 16 00 17 00 17 00 18 00 18 00 19 00 1A 00 1A 00 1B 00\n",
      "1B 00 1B 00 1C 00 1C 00 1C 00 1D 00 1D 00 1E 00 1E 00 1E 00 1E 00 1E 00 1E 00 1E 00 1E 00 1E 00\n",
      "1E 00 1E 00 1E 00 1E 00 1E 00 1E 00 1E 00 1E 00 1E 00 1E 00 1E 00 1E 00 1E 00 1E 00 1E 00 1E 00\n",
      "1E 00 19 00 19 00 19 00 19 00 19 00 18 00 18 00 18 00 17 00 17 00 16 00 16 00 15 00 15 00 14 00\n",
      "14 00 13 00 13 00 12 00 12 00 11 00 11 00 10 00 10 00 0F 00 0E 00 0D 00 0C 00 0B 00 0A 00 19 00\n",
      "19 00 14 00 14 00 0F 00 0F 00 0F 00 0F 00 0F 00 0F 00 0F 00 0F 00 0F 00 0F 00 0F 00 0F 00 0F 00\n",
      "0F 00 0F 00 0F 00 0F 00 0F 00 0F 00 0F 00 0F 00 0F 00 0F 00 0F 00 0F 00 0F 00\n"
     ]
    }
   ],
   "source": [
    "printhex(payload8[:0x15a], 32)"
   ]
  },
  {
   "cell_type": "markdown",
   "metadata": {},
   "source": [
    "I have no idea what the first 0x15A bytes are. Maybe it's a bunch of 16-bit numbers?"
   ]
  },
  {
   "cell_type": "code",
   "execution_count": 34,
   "metadata": {
    "collapsed": false
   },
   "outputs": [
    {
     "name": "stdout",
     "output_type": "stream",
     "text": [
      "64 02 BC 21 07 1F 05 0F\n"
     ]
    }
   ],
   "source": [
    "printhex(payload8[0x15a:0x162])"
   ]
  },
  {
   "cell_type": "markdown",
   "metadata": {},
   "source": [
    "The DGX-505 has 5 UserSongs compared to the PSR-225's three. Each user song has five normal tracks and one chord/accompaniment track (track A).\n",
    "\n",
    "At the time this dump was gathered, all five songs had data, and used the following tracks as displayed on the panel:\n",
    "1. `1 _ _ _ _ A`\n",
    "2. `1 2 3 _ _ _`\n",
    "3. `1 2 3 4 5 _`\n",
    "4. `1 _ 3 _ _ _`\n",
    "5. `1 2 3 4 _ _`"
   ]
  },
  {
   "cell_type": "code",
   "execution_count": 35,
   "metadata": {
    "collapsed": false
   },
   "outputs": [
    {
     "name": "stdout",
     "output_type": "stream",
     "text": [
      "00100001\n",
      "00000111\n",
      "00011111\n",
      "00000101\n",
      "00001111\n"
     ]
    }
   ],
   "source": [
    "track_bitfields = payload8[0x15d:0x162]\n",
    "\n",
    "for b in track_bitfields:\n",
    "    print(binbyte(b))"
   ]
  },
  {
   "cell_type": "markdown",
   "metadata": {},
   "source": [
    "The five bytes from 0x15d to 0x161 appear to correspond to the five usersongs, with the low 5 bits of each representing the active tracks on each (from least to most significant bit, track 1 - 2 - 3 - 4 - 5 - A).\n",
    "\n",
    "This corresponds to offsets 0x00001-0x00003 on the PSR-225.\n",
    "\n",
    "Still don't know what `64 02 BC` is, though."
   ]
  },
  {
   "cell_type": "code",
   "execution_count": 36,
   "metadata": {
    "collapsed": false
   },
   "outputs": [
    {
     "name": "stdout",
     "output_type": "stream",
     "text": [
      "00 00 00 00 00 00 00 00 27 00 00 00 0B 00 00 00 25 00 00 00 08 00 00 00 11 00 00 00 27 00 00 00\n",
      "00 00 00 00 00 00 00 00 00 00 00 00 00 00 00 00 25 00 00 00 0B 00 00 00 0B 00 00 00 0B 00 00 00\n",
      "00 00 00 00 00 00 00 00 00 00 00 00 12 00 00 00 1F 00 00 00 21 00 00 00 25 00 00 00 25 00 00 00\n",
      "00 00 00 00 08 00 00 00 00 00 00 00 08 00 00 00 00 00 00 00 00 00 00 00 00 00 00 00 11 00 00 00\n",
      "10 00 00 00 10 00 00 00 11 00 00 00 00 00 00 00 00\n"
     ]
    }
   ],
   "source": [
    "printhex(payload8[0x162:0x1f3], 32)"
   ]
  },
  {
   "cell_type": "markdown",
   "metadata": {},
   "source": [
    "Following are some bytes of more unknown stuff which could be 32 bit integers?"
   ]
  },
  {
   "cell_type": "code",
   "execution_count": 37,
   "metadata": {
    "collapsed": false
   },
   "outputs": [
    {
     "name": "stdout",
     "output_type": "stream",
     "text": [
      "50 72 65 73 65 74 53 74 79 6C 65 00\n",
      "50 72 65 73 65 74 53 74 79 6C 65 00\n",
      "50 72 65 73 65 74 53 74 79 6C 65 00\n",
      "50 72 65 73 65 74 53 74 79 6C 65 00\n",
      "50 72 65 73 65 74 53 74 79 6C 65 00\n"
     ]
    },
    {
     "data": {
      "text/plain": [
       "u'PresetStyle\\x00PresetStyle\\x00PresetStyle\\x00PresetStyle\\x00PresetStyle\\x00'"
      ]
     },
     "execution_count": 37,
     "metadata": {},
     "output_type": "execute_result"
    }
   ],
   "source": [
    "printhex(payload8[0x1f3:0x22f], 12)\n",
    "payload8[0x1f3:0x22f].decode('ascii')"
   ]
  },
  {
   "cell_type": "markdown",
   "metadata": {},
   "source": [
    "... followed by five repeats of ascii 'PresetStyle' and `00`. The PSR-225 only has three of these (starting from 0x00007), so this has probably got something to do with each song."
   ]
  },
  {
   "cell_type": "code",
   "execution_count": 38,
   "metadata": {
    "collapsed": false,
    "scrolled": true
   },
   "outputs": [
    {
     "name": "stdout",
     "output_type": "stream",
     "text": [
      "01 FF FF FF FF 02\n",
      "19 12 14 FF FF 13\n",
      "43 47 7B 82 51 44\n",
      "0B FF 07 FF FF 08\n",
      "0D 0F 0A 11 FF 0C\n"
     ]
    }
   ],
   "source": [
    "beginning_blocks = payload8[0x22f:0x24d]\n",
    "\n",
    "printhex(beginning_blocks, 6)"
   ]
  },
  {
   "cell_type": "markdown",
   "metadata": {},
   "source": [
    "Immediately following that, we have what appears to be the 30 bytes from 0x22f through 0x24c indicating the beginning blocks, corresponding to 0x0002B-0x0003F on the PSR-225.\n",
    "\n",
    "Each group of six bytes corresponds to a usersong in order, and each byte corresponds to a track, from 1-5, followed by the *time track* with the tempo, SysEx, etc. (Compare with the PSR-225, which has 6+1 tracks for each of its 3 songs and therefore needs 21 (=0x15) bytes total.)\n",
    "\n",
    "Blocks are numbered 0x01 to 0x82 and `FF` indicates that the track is not in use."
   ]
  },
  {
   "cell_type": "code",
   "execution_count": 39,
   "metadata": {
    "collapsed": false
   },
   "outputs": [
    {
     "name": "stdout",
     "output_type": "stream",
     "text": [
      "04 03 FF 05 06 FF 09 FF FF FF FF FF 0E FF 10 FF\n",
      "FF 17 FF 15 16 1B 18 FF 1A FF FF 00 00 00 00 00\n",
      "00 00 00 00 00 00 00 00 00 00 00 00 00 00 00 00\n",
      "00 00 00 00 00 00 00 00 00 00 00 00 00 00 00 00\n",
      "00 00 45 FF 46 FF 48 49 4A 4B 60 4D 4E 4F 50 58\n",
      "52 53 54 55 56 57 FF 59 5A 5B 5C 5D FF 00 00 61\n",
      "62 63 7A 00 00 00 00 00 00 00 00 00 00 00 00 00\n",
      "00 00 00 00 00 00 00 00 00 FF 7C 7D 7E 7F 80 81\n",
      "FF 4C\n"
     ]
    }
   ],
   "source": [
    "next_blocks = payload8[0x24d:0x2cf]\n",
    "\n",
    "printhex(next_blocks, 16)"
   ]
  },
  {
   "cell_type": "markdown",
   "metadata": {},
   "source": [
    "Running from 0x24d to 0x2ce is the table of 0x82 (=130) next blocks, corresponding to 0x00040-0x000C1 on the PSR-225.\n",
    "\n",
    "`00` indicates unused blocks, `FF` indicates final blocks."
   ]
  },
  {
   "cell_type": "code",
   "execution_count": 40,
   "metadata": {
    "collapsed": false
   },
   "outputs": [
    {
     "name": "stdout",
     "output_type": "stream",
     "text": [
      "50 4B 30 30 30 31\n"
     ]
    },
    {
     "data": {
      "text/plain": [
       "u'PK0001'"
      ]
     },
     "execution_count": 40,
     "metadata": {},
     "output_type": "execute_result"
    }
   ],
   "source": [
    "printhex(payload8[0x2cf:0x2d5])\n",
    "payload8[0x2cf:0x2d5].decode('ascii')"
   ]
  },
  {
   "cell_type": "markdown",
   "metadata": {},
   "source": [
    "At 0x2cf, we find 'PK0001', which corresponds to the PSR-225's 'PK9801' at 0x000C2, and marks the beginning of the block data at 0x2d5."
   ]
  },
  {
   "cell_type": "code",
   "execution_count": 41,
   "metadata": {
    "collapsed": false
   },
   "outputs": [
    {
     "name": "stdout",
     "output_type": "stream",
     "text": [
      "50 4B 30 30 30 31\n"
     ]
    },
    {
     "data": {
      "text/plain": [
       "u'PK0001'"
      ]
     },
     "execution_count": 41,
     "metadata": {},
     "output_type": "execute_result"
    }
   ],
   "source": [
    "printhex(payload8[0x106d5:])\n",
    "payload8[0x106d5:].decode('ascii')"
   ]
  },
  {
   "cell_type": "markdown",
   "metadata": {},
   "source": [
    "The final six bytes, spelling 'PK0001' again from 0x106d5 to 0x106da, mark the end of the block data and correspond to 0x104C8-0x104CD on the PSR-225."
   ]
  },
  {
   "cell_type": "code",
   "execution_count": 42,
   "metadata": {
    "collapsed": false
   },
   "outputs": [
    {
     "data": {
      "text/plain": [
       "512"
      ]
     },
     "execution_count": 42,
     "metadata": {},
     "output_type": "execute_result"
    }
   ],
   "source": [
    "(0x106d5-0x2d5)/0x82"
   ]
  },
  {
   "cell_type": "markdown",
   "metadata": {},
   "source": [
    "Like the PSR-225, the blocks are 0x200 = 512 bytes in size.\n",
    "\n",
    "Block 0x01 begins at offset 0x2d5:"
   ]
  },
  {
   "cell_type": "code",
   "execution_count": 43,
   "metadata": {
    "collapsed": false
   },
   "outputs": [
    {
     "name": "stdout",
     "output_type": "stream",
     "text": [
      "4D 54 72 6B 00 00 07 C2\n"
     ]
    },
    {
     "data": {
      "text/plain": [
       "bytearray(b'MTrk\\x00\\x00\\x07\\xc2')"
      ]
     },
     "execution_count": 43,
     "metadata": {},
     "output_type": "execute_result"
    }
   ],
   "source": [
    "printhex(payload8[0x2d5:0x2d5+8])\n",
    "payload8[0x2d5:0x2d5+8]"
   ]
  },
  {
   "cell_type": "markdown",
   "metadata": {},
   "source": [
    "And we can see the start of an MTrk chunk.\n",
    "\n",
    "To calculate the start each block we can use a simple formula\n",
    "```\n",
    "offset(n) = 0x2d5 + (0x200 * (n-1))\n",
    "```\n",
    "or, to simplify, \n",
    "```\n",
    "offset(n) = 0xd5 + (0x200 * n)\n",
    "```\n"
   ]
  },
  {
   "cell_type": "code",
   "execution_count": 44,
   "metadata": {
    "collapsed": false
   },
   "outputs": [],
   "source": [
    "def chunk_offset(n):\n",
    "    if 0x01 <= n <= 0x82:\n",
    "        return 0xd5 + (0x200*n)\n",
    "    else:\n",
    "        raise ValueError(\"Invalid chunk\", n)"
   ]
  },
  {
   "cell_type": "code",
   "execution_count": 45,
   "metadata": {
    "collapsed": false
   },
   "outputs": [
    {
     "name": "stdout",
     "output_type": "stream",
     "text": [
      "Block 0x01 at 0x002d5: 4D 54 72 6B - MTrk\n",
      "Block 0x02 at 0x004d5: 4D 54 72 6B - MTrk\n",
      "Block 0x19 at 0x032d5: 4D 54 72 6B - MTrk\n",
      "Block 0x12 at 0x024d5: 4D 54 72 6B - MTrk\n",
      "Block 0x14 at 0x028d5: 4D 54 72 6B - MTrk\n",
      "Block 0x13 at 0x026d5: 4D 54 72 6B - MTrk\n",
      "Block 0x43 at 0x086d5: 4D 54 72 6B - MTrk\n",
      "Block 0x47 at 0x08ed5: 4D 54 72 6B - MTrk\n",
      "Block 0x7b at 0x0f6d5: 4D 54 72 6B - MTrk\n",
      "Block 0x82 at 0x104d5: 4D 54 72 6B - MTrk\n",
      "Block 0x51 at 0x0a2d5: 4D 54 72 6B - MTrk\n",
      "Block 0x44 at 0x088d5: 4D 54 72 6B - MTrk\n",
      "Block 0x0b at 0x016d5: 4D 54 72 6B - MTrk\n",
      "Block 0x07 at 0x00ed5: 4D 54 72 6B - MTrk\n",
      "Block 0x08 at 0x010d5: 4D 54 72 6B - MTrk\n",
      "Block 0x0d at 0x01ad5: 4D 54 72 6B - MTrk\n",
      "Block 0x0f at 0x01ed5: 4D 54 72 6B - MTrk\n",
      "Block 0x0a at 0x014d5: 4D 54 72 6B - MTrk\n",
      "Block 0x11 at 0x022d5: 4D 54 72 6B - MTrk\n",
      "Block 0x0c at 0x018d5: 4D 54 72 6B - MTrk\n"
     ]
    }
   ],
   "source": [
    "track_blocks = [x for x in beginning_blocks if x != 0xFF]\n",
    "\n",
    "for n in track_blocks:\n",
    "    offset = chunk_offset(n)\n",
    "    bits = payload8[offset:offset+4]\n",
    "    print(u\"Block 0x{:02x} at 0x{:05x}: {} - {}\".format(n, offset, tohex(bits), bits.decode('ascii')))\n"
   ]
  },
  {
   "cell_type": "markdown",
   "metadata": {},
   "source": [
    "We can see that the blocks marked as the beginning blocks for each track do, indeed, contain the start of the tracks."
   ]
  },
  {
   "cell_type": "markdown",
   "metadata": {},
   "source": [
    "### The Remainder\n",
    "There are two regions left unexplained:"
   ]
  },
  {
   "cell_type": "code",
   "execution_count": 46,
   "metadata": {
    "collapsed": false,
    "scrolled": true
   },
   "outputs": [
    {
     "name": "stdout",
     "output_type": "stream",
     "text": [
      "1F 00 0A 03 E8 03 E8 01 F4 22 28 1E 1E 05 7F 1E 00 00 19 00 01 00 00 01 7F 00 0A 00 0F 00 13 00\n",
      "16 00 18 00 1A 00 1B 00 1C 00 1D 00 1E 00 1E 00 1E 00 1E 00 1E 00 1E 00 1E 00 1E 00 1E 00 1E 00\n",
      "1E 00 1E 00 1E 00 1E 00 1E 00 1E 00 1E 00 1E 00 1E 00 1E 00 1E 00 1E 00 1E 00 1E 00 1E 00 1E 00\n",
      "1E 00 1E 00 1E 00 1E 00 1E 00 1E 00 1E 00 1E 00 1E 00 1E 00 1E 00 1E 00 1E 00 1E 00 1E 00 05 00\n",
      "08 00 0B 00 0D 00 0F 00 11 00 13 00 15 00 16 00 17 00 17 00 18 00 18 00 19 00 1A 00 1A 00 1B 00\n",
      "1B 00 1B 00 1C 00 1C 00 1C 00 1D 00 1D 00 1E 00 1E 00 1E 00 1E 00 1E 00 1E 00 1E 00 1E 00 1E 00\n",
      "1E 00 1E 00 1E 00 1E 00 1E 00 1E 00 1E 00 1E 00 1E 00 1E 00 1E 00 1E 00 1E 00 1E 00 1E 00 1E 00\n",
      "1E 00 19 00 19 00 19 00 19 00 19 00 18 00 18 00 18 00 17 00 17 00 16 00 16 00 15 00 15 00 14 00\n",
      "14 00 13 00 13 00 12 00 12 00 11 00 11 00 10 00 10 00 0F 00 0E 00 0D 00 0C 00 0B 00 0A 00 19 00\n",
      "19 00 14 00 14 00 0F 00 0F 00 0F 00 0F 00 0F 00 0F 00 0F 00 0F 00 0F 00 0F 00 0F 00 0F 00 0F 00\n",
      "0F 00 0F 00 0F 00 0F 00 0F 00 0F 00 0F 00 0F 00 0F 00 0F 00 0F 00 0F 00 0F 00 64 02 BC\n"
     ]
    }
   ],
   "source": [
    "printhex(payload8[:0x15d], 32)"
   ]
  },
  {
   "cell_type": "code",
   "execution_count": 47,
   "metadata": {
    "collapsed": false
   },
   "outputs": [
    {
     "name": "stdout",
     "output_type": "stream",
     "text": [
      "00 00 00 00 00 00 00 00 27 00 00 00 0B 00 00 00 25 00 00 00 08 00 00 00 11 00 00 00 27 00 00 00\n",
      "00 00 00 00 00 00 00 00 00 00 00 00 00 00 00 00 25 00 00 00 0B 00 00 00 0B 00 00 00 0B 00 00 00\n",
      "00 00 00 00 00 00 00 00 00 00 00 00 12 00 00 00 1F 00 00 00 21 00 00 00 25 00 00 00 25 00 00 00\n",
      "00 00 00 00 08 00 00 00 00 00 00 00 08 00 00 00 00 00 00 00 00 00 00 00 00 00 00 00 11 00 00 00\n",
      "10 00 00 00 10 00 00 00 11 00 00 00 00 00 00 00 00\n"
     ]
    }
   ],
   "source": [
    "printhex(payload8[0x162:0x1f3], 32)"
   ]
  },
  {
   "cell_type": "markdown",
   "metadata": {},
   "source": [
    "We've accounted for pretty much everything found in the PSR-225's song dump format, except for the very first byte, offset 0x00000, which is supposed to be a bitfield for the songs in use. If the same pattern is used for the DGX-505, then we should expect to see a `00011111` or `1F` byte somewhere, as all five songs were in use.\n",
    "The very first byte, offset 0x0, is, in fact, `1F`, so that might just be it (I'll have to delete one of the songs to check).\n",
    "\n",
    "There's also one feature 'Step Recording' (offset 0x0004-0x0006 on PSR-225) the DGX-505 doesn't have. If the (abscence of) step-recorded tracks was noted directly after the normal tracks, this would account for five `00` bytes directly after the normal tracks at 0x162, and the rest lines up rather nicely as a bunch of 32 bit numbers\n"
   ]
  },
  {
   "cell_type": "code",
   "execution_count": 48,
   "metadata": {
    "collapsed": false
   },
   "outputs": [
    {
     "name": "stdout",
     "output_type": "stream",
     "text": [
      "00 00 00 27 00 00 00 0B 00 00 00 25 00 00 00 08 00 00 00 11 00 00 00 27 00 00 00 00 00 00 00 00\n",
      "00 00 00 00 00 00 00 00 00 00 00 25 00 00 00 0B 00 00 00 0B 00 00 00 0B 00 00 00 00 00 00 00 00\n",
      "00 00 00 00 00 00 00 12 00 00 00 1F 00 00 00 21 00 00 00 25 00 00 00 25 00 00 00 00 00 00 00 08\n",
      "00 00 00 00 00 00 00 08 00 00 00 00 00 00 00 00 00 00 00 00 00 00 00 11 00 00 00 10 00 00 00 10\n",
      "00 00 00 11 00 00 00 00 00 00 00 00\n"
     ]
    }
   ],
   "source": [
    "printhex(payload8[0x167:0x1f3], 32)"
   ]
  },
  {
   "cell_type": "markdown",
   "metadata": {},
   "source": [
    "Let's describe some patterns.\n",
    "\n",
    "From offset 0x0 to 0x18, there's a bunch of bytes. 0x0 may be the song-usage-bitfield thing."
   ]
  },
  {
   "cell_type": "code",
   "execution_count": 49,
   "metadata": {
    "collapsed": false,
    "scrolled": true
   },
   "outputs": [
    {
     "name": "stdout",
     "output_type": "stream",
     "text": [
      "1F 00 0A 03 E8 03 E8 01 F4 22 28 1E 1E 05 7F 1E 00 00 19 00 01 00 00 01 7F\n"
     ]
    }
   ],
   "source": [
    "printhex(payload8[:0x19], 32)"
   ]
  },
  {
   "cell_type": "markdown",
   "metadata": {},
   "source": [
    "From 0x19 to 0x2c, we get small numbers that increase by five, three, two, two, one, one, one, one..."
   ]
  },
  {
   "cell_type": "code",
   "execution_count": 50,
   "metadata": {
    "collapsed": false
   },
   "outputs": [
    {
     "name": "stdout",
     "output_type": "stream",
     "text": [
      "00 0A 00 0F 00 13 00 16 00 18 00 1A 00 1B 00 1C 00 1D 00 1E\n"
     ]
    }
   ],
   "source": [
    "printhex(payload8[0x19:0x2d], 32)"
   ]
  },
  {
   "cell_type": "markdown",
   "metadata": {},
   "source": [
    "Then, after 0x2b, the numbers stop increasing."
   ]
  },
  {
   "cell_type": "code",
   "execution_count": 51,
   "metadata": {
    "collapsed": false
   },
   "outputs": [
    {
     "name": "stdout",
     "output_type": "stream",
     "text": [
      "00 1E 00 1E 00 1E 00 1E 00 1E 00 1E 00 1E 00 1E 00 1E 00 1E 00 1E 00 1E 00 1E 00 1E 00 1E 00 1E\n",
      "00 1E 00 1E 00 1E 00 1E 00 1E 00 1E 00 1E 00 1E 00 1E 00 1E 00 1E 00 1E 00 1E 00 1E 00 1E 00 1E\n",
      "00 1E 00 1E 00 1E 00 1E 00 1E 00 1E 00 1E 00 1E 00 1E\n"
     ]
    }
   ],
   "source": [
    "printhex(payload8[0x2b:0x7d], 32)"
   ]
  },
  {
   "cell_type": "markdown",
   "metadata": {},
   "source": [
    "...until 0x7d, where it drops back down to `05` and starts increasing again, starting in steps of three and then slowing down again until also stopping at `1E`..."
   ]
  },
  {
   "cell_type": "code",
   "execution_count": 52,
   "metadata": {
    "collapsed": false
   },
   "outputs": [
    {
     "name": "stdout",
     "output_type": "stream",
     "text": [
      "00 05 00 08 00 0B 00 0D 00 0F 00 11 00 13 00 15 00 16 00 17 00 17 00 18 00 18 00 19 00 1A 00 1A\n",
      "00 1B 00 1B 00 1B 00 1C 00 1C 00 1C 00 1D 00 1D 00 1E 00 1E 00 1E 00 1E 00 1E 00 1E 00 1E 00 1E\n",
      "00 1E 00 1E 00 1E 00 1E 00 1E 00 1E 00 1E 00 1E 00 1E 00 1E 00 1E 00 1E 00 1E 00 1E 00 1E 00 1E\n",
      "00 1E 00 1E\n"
     ]
    }
   ],
   "source": [
    "printhex(payload8[0x7d:0xe1], 32)"
   ]
  },
  {
   "cell_type": "markdown",
   "metadata": {},
   "source": [
    "and then at 0xe1 it drops to `19` and starts going down, speeding up..."
   ]
  },
  {
   "cell_type": "code",
   "execution_count": 53,
   "metadata": {
    "collapsed": false
   },
   "outputs": [
    {
     "name": "stdout",
     "output_type": "stream",
     "text": [
      "00 19 00 19 00 19 00 19 00 19 00 18 00 18 00 18 00 17 00 17 00 16 00 16 00 15 00 15 00 14 00 14\n",
      "00 13 00 13 00 12 00 12 00 11 00 11 00 10 00 10 00 0F 00 0E 00 0D 00 0C 00 0B 00 0A\n"
     ]
    }
   ],
   "source": [
    "printhex(payload8[0xe1:0x11d], 32)"
   ]
  },
  {
   "cell_type": "markdown",
   "metadata": {},
   "source": [
    "And then jumping back up to `19` at 0x11d, and then two steps of five and then a whole bunch of `0F`"
   ]
  },
  {
   "cell_type": "code",
   "execution_count": 54,
   "metadata": {
    "collapsed": false
   },
   "outputs": [
    {
     "name": "stdout",
     "output_type": "stream",
     "text": [
      "00 19 00 19 00 14 00 14 00 0F 00 0F 00 0F 00 0F 00 0F 00 0F 00 0F 00 0F 00 0F 00 0F 00 0F 00 0F\n",
      "00 0F 00 0F 00 0F 00 0F 00 0F 00 0F 00 0F 00 0F 00 0F 00 0F 00 0F 00 0F 00 0F 00 0F\n"
     ]
    }
   ],
   "source": [
    "printhex(payload8[0x11d:0x159], 32)"
   ]
  },
  {
   "cell_type": "markdown",
   "metadata": {},
   "source": [
    "And then four more bytes of whatever. I'm baffled, really."
   ]
  },
  {
   "cell_type": "code",
   "execution_count": 55,
   "metadata": {
    "collapsed": false
   },
   "outputs": [
    {
     "name": "stdout",
     "output_type": "stream",
     "text": [
      "00 64 02 BC\n"
     ]
    }
   ],
   "source": [
    "printhex(payload8[0x159:0x15d], 32)"
   ]
  },
  {
   "cell_type": "code",
   "execution_count": 57,
   "metadata": {
    "collapsed": false
   },
   "outputs": [],
   "source": [
    "mystery_region = payload8[0x019:0x159]"
   ]
  },
  {
   "cell_type": "code",
   "execution_count": 62,
   "metadata": {
    "collapsed": false
   },
   "outputs": [
    {
     "data": {
      "text/plain": [
       "[<matplotlib.lines.Line2D at 0x7ff9dcb24790>]"
      ]
     },
     "execution_count": 62,
     "metadata": {},
     "output_type": "execute_result"
    },
    {
     "data": {
      "image/png": "[encoded data removed]",
      "text/plain": [
       "<matplotlib.figure.Figure at 0x7ff9dcb962d0>"
      ]
     },
     "metadata": {},
     "output_type": "display_data"
    }
   ],
   "source": [
    "plt.plot(mystery_region)"
   ]
  },
  {
   "cell_type": "markdown",
   "metadata": {},
   "source": [
    "Is rather pretty, though."
   ]
  },
  {
   "cell_type": "code",
   "execution_count": 78,
   "metadata": {
    "collapsed": true
   },
   "outputs": [],
   "source": [
    "mystery_numbers = [(x<<4)+y for x,y in takebyn(payload8[1:0x15d], 2)]"
   ]
  },
  {
   "cell_type": "code",
   "execution_count": 81,
   "metadata": {
    "collapsed": false
   },
   "outputs": [
    {
     "data": {
      "text/plain": [
       "[<matplotlib.lines.Line2D at 0x7ff9dc64a250>]"
      ]
     },
     "execution_count": 81,
     "metadata": {},
     "output_type": "execute_result"
    },
    {
     "data": {
      "image/png": "[encoded data removed]",
      "text/plain": [
       "<matplotlib.figure.Figure at 0x7ff9dc6a5550>"
      ]
     },
     "metadata": {},
     "output_type": "display_data"
    }
   ],
   "source": [
    "plt.plot(mystery_numbers)"
   ]
  },
  {
   "cell_type": "code",
   "execution_count": null,
   "metadata": {
    "collapsed": true
   },
   "outputs": [],
   "source": []
  }
 ],
 "metadata": {
  "kernelspec": {
   "display_name": "Python 2",
   "language": "python",
   "name": "python2"
  },
  "language_info": {
   "codemirror_mode": {
    "name": "ipython",
    "version": 2
   },
   "file_extension": ".py",
   "mimetype": "text/x-python",
   "name": "python",
   "nbconvert_exporter": "python",
   "pygments_lexer": "ipython2",
   "version": "2.7.12+"
  }
 },
 "nbformat": 4,
 "nbformat_minor": 0
}
