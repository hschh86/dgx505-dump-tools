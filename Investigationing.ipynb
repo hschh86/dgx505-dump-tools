{
 "cells": [
  {
   "cell_type": "markdown",
   "metadata": {},
   "source": [
    "looking thru: https://www.midi.org/forum/279-yamaha-bull-dump-data-format,\n",
    "http://rnhart.net/articles/bulk-dump.htm"
   ]
  },
  {
   "cell_type": "code",
   "execution_count": 280,
   "metadata": {
    "collapsed": false,
    "scrolled": true
   },
   "outputs": [],
   "source": [
    "with open('syxout.txt') as hexdata:\n",
    "    lines = [bytearray.fromhex(line.strip()) for line in hexdata]"
   ]
  },
  {
   "cell_type": "code",
   "execution_count": 281,
   "metadata": {
    "collapsed": false,
    "scrolled": true
   },
   "outputs": [],
   "source": [
    "def tohex(by):\n",
    "    return \" \".join(\"%02X\"%x for x in by)\n",
    "def tobin(by):\n",
    "    return \" \".join(\"{:08b}\".format(x) for x in by)"
   ]
  },
  {
   "cell_type": "code",
   "execution_count": null,
   "metadata": {
    "collapsed": false
   },
   "outputs": [],
   "source": []
  },
  {
   "cell_type": "code",
   "execution_count": 282,
   "metadata": {
    "collapsed": false,
    "scrolled": true
   },
   "outputs": [
    {
     "name": "stdout",
     "output_type": "stream",
     "text": [
      "('F0 43 73 7F 44 06 0A 10 00 10 00 00 00 00 1F 00 0A 03 68 03', '...', '37 00 3B F7')\n",
      "('F0 43 73 7F 44 06 0A 10 00 10 00 00 10 00 00 37 00 03 45 7F', '...', '3B 10 0A F7')\n",
      "('F0 43 73 7F 44 06 0A 10 00 10 00 00 20 00 55 27 37 42 00 33', '...', '41 00 28 F7')\n",
      "('F0 43 73 7F 44 06 0A 10 00 10 00 00 30 00 20 00 32 00 00 00', '...', '4B 00 56 F7')\n",
      "('F0 43 73 7F 44 06 0A 10 00 10 00 00 40 00 00 05 48 4F 01 24', '...', '41 00 67 F7')\n",
      "('F0 43 73 7F 44 06 0A 10 00 10 00 00 50 00 20 00 33 00 00 00', '...', '0B 00 6C F7')\n",
      "('F0 43 73 7F 44 06 0A 10 00 10 00 00 60 00 3B 21 01 43 00 01', '...', '24 00 4D F7')\n",
      "('F0 43 73 7F 44 06 0A 10 00 10 00 00 70 00 29 2F 2F 51 44 01', '...', '00 00 1C F7')\n",
      "('F0 43 73 7F 44 06 0A 10 00 10 00 01 00 00 00 46 43 02 4A 42', '...', '40 22 21 F7')\n",
      "('F0 43 73 7F 44 06 0A 10 00 10 00 01 10 00 00 02 12 1D 42 29', '...', '43 00 54 F7')\n",
      "('F0 43 73 7F 44 06 0A 10 00 10 00 01 20 00 45 02 3E 00 00 37', '...', '4F 00 6D F7')\n",
      "('F0 43 73 7F 44 06 0A 10 00 10 00 01 30 00 00 06 48 56 00 4C', '...', '03 08 27 F7')\n",
      "('F0 43 73 7F 44 06 0A 10 00 10 00 01 40 00 10 58 00 02 60 02', '...', '01 08 37 F7')\n",
      "('F0 43 73 7F 44 06 0A 10 00 10 00 01 50 00 60 00 36 00 6A 00', '...', '00 22 1E F7')\n",
      "('F0 43 73 7F 44 06 0A 10 00 10 00 01 60 00 0F 00 60 00 0B 00', '...', '00 08 09 F7')\n",
      "('F0 43 73 7F 44 06 0A 10 00 10 00 01 70 00 6A 00 26 00 60 00', '...', '60 11 14 F7')\n",
      "('F0 43 73 7F 44 06 0A 10 00 10 00 02 00 00 42 61 00 6A 42 61', '...', '02 08 10 F7')\n",
      "('F0 43 73 7F 44 06 0A 10 00 10 00 02 10 00 60 00 3C 00 6A 00', '...', '33 00 01 F7')\n",
      "('F0 43 73 7F 44 06 0A 10 00 10 00 02 20 00 00 33 00 3A 7F 7F', '...', '41 00 5A F7')\n",
      "('F0 43 73 7F 44 06 0A 10 00 10 00 02 30 00 20 00 33 00 00 00', '...', '46 00 7D F7')\n",
      "('F0 43 73 7F 44 06 0A 10 00 10 00 02 40 00 00 05 38 00 0E 2C', '...', '1B 11 2C F7')\n",
      "('F0 43 73 7F 44 06 0A 10 00 10 00 02 50 00 50 00 21 11 38 40', '...', '33 11 74 F7')\n",
      "('F0 43 73 7F 44 06 0A 10 00 10 00 02 60 00 40 7F 00 3D 40 7F', '...', '33 11 64 F7')\n",
      "('F0 43 73 7F 44 06 0A 10 00 10 00 02 70 00 40 00 00 3D 40 00', '...', '08 08 6A F7')\n",
      "('F0 43 73 7F 44 06 0A 10 00 10 00 03 00 00 46 00 19 52 4C 08', '...', '05 00 72 F7')\n",
      "('F0 43 73 7F 44 06 0A 10 00 10 00 03 10 00 48 00 20 46 22 05', '...', '33 11 44 F7')\n",
      "('F0 43 73 7F 44 06 0A 10 00 10 00 03 20 00 40 7F 00 3D 40 7F', '...', '41 00 17 F7')\n",
      "('F0 43 73 7F 44 06 0A 10 00 10 00 03 30 00 20 00 30 00 00 00', '...', '1B 11 1C F7')\n",
      "('F0 43 73 7F 44 06 0A 10 00 10 00 03 40 00 46 00 21 11 2A 00', '...', '04 00 19 F7')\n",
      "('F0 43 73 7F 44 06 0A 10 00 10 00 03 50 00 2B 4D 00 45 00 16', '...', '00 08 2E F7')\n",
      "('F0 43 73 7F 44 06 0A 10 00 10 00 03 60 00 1A 35 00 01 10 30', '...', '01 00 23 F7')\n",
      "('F0 43 73 7F 44 06 0A 10 00 10 00 03 70 00 5D 00 2E 58 3A 01', '...', '48 00 65 F7')\n",
      "('F0 43 73 7F 44 06 0A 10 00 10 00 04 00 00 45 00 32 42 01 39', '...', '45 00 52 F7')\n",
      "('F0 43 73 7F 44 06 0A 10 00 10 00 04 10 00 00 04 24 00 02 40', '...', '00 44 44 F7')\n",
      "('F0 43 73 7F 44 06 0A 10 00 10 00 04 20 00 00 1A 1C 00 25 10', '...', '1B 11 32 F7')\n",
      "('F0 43 73 7F 44 06 0A 10 00 10 00 04 30 00 2C 3C 00 11 4D 48', '...', '23 08 69 F7')\n",
      "('F0 43 73 7F 44 06 0A 10 00 10 00 04 40 00 12 2E 41 00 1C 22', '...', '04 08 2B F7')\n",
      "('F0 43 73 7F 44 06 0A 08 68 08 68 04 50 00 12 36 00 00 1C 2A', '...', '31 00 66 F7')\n",
      "('F0 43 73 7F 44 06 0A 00 01 00 01 7F 7F 7F F7', '...', '7F 7F 7F F7')\n",
      "('F0 43 73 7F 44 06 09 06 30 06 2E 00 00 00 50 53 52 03 01 00', '...', '00 00 30 F7')\n",
      "('F0 43 73 7F 44 06 09 00 01 00 01 7F 7F 7F F7', '...', '7F 7F 7F F7')\n"
     ]
    }
   ],
   "source": [
    "for line in lines:\n",
    "    print(tohex(line[:20]), \"...\", tohex(line[-4:]))"
   ]
  },
  {
   "cell_type": "code",
   "execution_count": 283,
   "metadata": {
    "collapsed": false,
    "scrolled": true
   },
   "outputs": [],
   "source": [
    "lb = lines[0]\n",
    "ls = lines[-4]"
   ]
  },
  {
   "cell_type": "markdown",
   "metadata": {},
   "source": [
    "manufacturer/device/data type header: F0 43 73 7F 44 06. TT=0A indicates song data apparently."
   ]
  },
  {
   "cell_type": "code",
   "execution_count": 284,
   "metadata": {
    "collapsed": false
   },
   "outputs": [
    {
     "data": {
      "text/plain": [
       "'F0 43 73 7F 44 06 0A'"
      ]
     },
     "execution_count": 284,
     "metadata": {},
     "output_type": "execute_result"
    }
   ],
   "source": [
    "tohex(lb[:7])"
   ]
  },
  {
   "cell_type": "markdown",
   "metadata": {},
   "source": [
    "'SS' Size bytes. \n",
    "\n",
    "There appear to be four of them. At the EOS this is '00 01 00 01'\n",
    "the longest messages have this as '10 00 10 00', the last message before EOS has this as '08 68 08 68'.\n",
    "\n",
    "\n",
    "It appears to be two repeated\n",
    " (at least, in the case of the 0A. The 09 data, with only one message, appears to be different again.)"
   ]
  },
  {
   "cell_type": "code",
   "execution_count": 285,
   "metadata": {
    "collapsed": false
   },
   "outputs": [
    {
     "data": {
      "text/plain": [
       "'10 00 10 00'"
      ]
     },
     "execution_count": 285,
     "metadata": {},
     "output_type": "execute_result"
    }
   ],
   "source": [
    "tohex(lb[7:11])"
   ]
  },
  {
   "cell_type": "markdown",
   "metadata": {},
   "source": [
    "three 'ZZ' running total bytes. \n",
    "\n",
    "At the EOS this is '7F 7F 7F', then immediately followed by the end F7.\n"
   ]
  },
  {
   "cell_type": "code",
   "execution_count": 286,
   "metadata": {
    "collapsed": false
   },
   "outputs": [
    {
     "data": {
      "text/plain": [
       "'00 00 00'"
      ]
     },
     "execution_count": 286,
     "metadata": {},
     "output_type": "execute_result"
    }
   ],
   "source": [
    "tohex(lb[11:14])"
   ]
  },
  {
   "cell_type": "markdown",
   "metadata": {},
   "source": [
    "the 'KK' checksum and end-of-message flag F7."
   ]
  },
  {
   "cell_type": "code",
   "execution_count": 287,
   "metadata": {
    "collapsed": false
   },
   "outputs": [
    {
     "data": {
      "text/plain": [
       "'3B F7'"
      ]
     },
     "execution_count": 287,
     "metadata": {},
     "output_type": "execute_result"
    }
   ],
   "source": [
    "tohex(lb[-2:])\n"
   ]
  },
  {
   "cell_type": "markdown",
   "metadata": {},
   "source": [
    "This should, and I say *should*, be of a similar format, so...\n",
    "If this works, sum of SS SS SS to KK inclusive should be 0 (mod 128)."
   ]
  },
  {
   "cell_type": "code",
   "execution_count": 288,
   "metadata": {
    "collapsed": false,
    "scrolled": true
   },
   "outputs": [
    {
     "data": {
      "text/plain": [
       "[0,\n",
       " 0,\n",
       " 0,\n",
       " 0,\n",
       " 0,\n",
       " 0,\n",
       " 0,\n",
       " 0,\n",
       " 0,\n",
       " 0,\n",
       " 0,\n",
       " 0,\n",
       " 0,\n",
       " 0,\n",
       " 0,\n",
       " 0,\n",
       " 0,\n",
       " 0,\n",
       " 0,\n",
       " 0,\n",
       " 0,\n",
       " 0,\n",
       " 0,\n",
       " 0,\n",
       " 0,\n",
       " 0,\n",
       " 0,\n",
       " 0,\n",
       " 0,\n",
       " 0,\n",
       " 0,\n",
       " 0,\n",
       " 0,\n",
       " 0,\n",
       " 0,\n",
       " 0,\n",
       " 0,\n",
       " 0,\n",
       " 127,\n",
       " 0,\n",
       " 127]"
      ]
     },
     "execution_count": 288,
     "metadata": {},
     "output_type": "execute_result"
    }
   ],
   "source": [
    "[sum(line[7:-1]) % 128 for line in lines]"
   ]
  },
  {
   "cell_type": "code",
   "execution_count": 289,
   "metadata": {
    "collapsed": false
   },
   "outputs": [],
   "source": [
    "def unpackseven(by):\n",
    "    # Ignore the first bit, which is always zero.\n",
    "    # The most signifcant bit comes first\n",
    "    sum = 0\n",
    "    for v, b in zip(by, range(len(by)-1, -1, -1)):\n",
    "        sum += v << (b*7)\n",
    "    return sum"
   ]
  },
  {
   "cell_type": "code",
   "execution_count": 290,
   "metadata": {
    "collapsed": false
   },
   "outputs": [
    {
     "data": {
      "text/plain": [
       "'800'"
      ]
     },
     "execution_count": 290,
     "metadata": {},
     "output_type": "execute_result"
    }
   ],
   "source": [
    "\"%X\"%(unpackseven(bytearray.fromhex('10 00')))\n",
    "# 0x800, or 2048 bytes of encoded data seems to be the maximum.\n",
    "# the ZZ bytes appear to increment by this amount "
   ]
  },
  {
   "cell_type": "code",
   "execution_count": 291,
   "metadata": {
    "collapsed": false
   },
   "outputs": [],
   "source": [
    "pay1=lb[14:-2]"
   ]
  },
  {
   "cell_type": "code",
   "execution_count": 292,
   "metadata": {
    "collapsed": false
   },
   "outputs": [
    {
     "data": {
      "text/plain": [
       "2048"
      ]
     },
     "execution_count": 292,
     "metadata": {},
     "output_type": "execute_result"
    }
   ],
   "source": [
    "len(pay1)"
   ]
  },
  {
   "cell_type": "code",
   "execution_count": 293,
   "metadata": {
    "collapsed": false
   },
   "outputs": [
    {
     "data": {
      "text/plain": [
       "'468'"
      ]
     },
     "execution_count": 293,
     "metadata": {},
     "output_type": "execute_result"
    }
   ],
   "source": [
    "\"%X\"%(unpackseven(bytearray.fromhex('08 68')))\n",
    "# that penultimate message should be 0x468, or 1128, bytes"
   ]
  },
  {
   "cell_type": "code",
   "execution_count": 294,
   "metadata": {
    "collapsed": false
   },
   "outputs": [
    {
     "data": {
      "text/plain": [
       "True"
      ]
     },
     "execution_count": 294,
     "metadata": {},
     "output_type": "execute_result"
    }
   ],
   "source": [
    "unpackseven(ls[9:11]) == len(ls[14:-2])"
   ]
  },
  {
   "cell_type": "code",
   "execution_count": 295,
   "metadata": {
    "collapsed": false
   },
   "outputs": [
    {
     "data": {
      "text/plain": [
       "1128"
      ]
     },
     "execution_count": 295,
     "metadata": {},
     "output_type": "execute_result"
    }
   ],
   "source": [
    "len(ls[14:-2])"
   ]
  },
  {
   "cell_type": "markdown",
   "metadata": {},
   "source": [
    "Instead encoding one byte to two by nybble, with 0F 07 == 7F like in the [PSR-225](http://rnhart.net/articles/bulk-dump.htm), it seems that the 'payload' data uses all seven available bits, which could mean several things."
   ]
  },
  {
   "cell_type": "code",
   "execution_count": 296,
   "metadata": {
    "collapsed": true
   },
   "outputs": [],
   "source": [
    "payloads = [line[14:-2] for line in lines[:-3]]"
   ]
  },
  {
   "cell_type": "code",
   "execution_count": 297,
   "metadata": {
    "collapsed": false
   },
   "outputs": [],
   "source": [
    "payload = bytearray().join(payloads)"
   ]
  },
  {
   "cell_type": "markdown",
   "metadata": {},
   "source": [
    "From staring at the 'payload' in a hex editor, I have recognised some patterns. I think that every 8th byte is some sort of 'parity' byte or something. Ignoring these bytes you can see the ascii for 'YAMAHA' and 'MTrk' and 'PresetStyle\\x00'. So that's a start."
   ]
  },
  {
   "cell_type": "code",
   "execution_count": 298,
   "metadata": {
    "collapsed": false
   },
   "outputs": [
    {
     "data": {
      "text/plain": [
       "9613"
      ]
     },
     "execution_count": 298,
     "metadata": {},
     "output_type": "execute_result"
    }
   ],
   "source": [
    "len(payload)/8"
   ]
  },
  {
   "cell_type": "code",
   "execution_count": 299,
   "metadata": {
    "collapsed": true
   },
   "outputs": [],
   "source": [
    "import numpy as np\n",
    "import matplotlib.pyplot as plt\n",
    "%matplotlib inline"
   ]
  },
  {
   "cell_type": "code",
   "execution_count": 300,
   "metadata": {
    "collapsed": false
   },
   "outputs": [],
   "source": [
    "pays = np.array(payload).reshape((9613,8))"
   ]
  },
  {
   "cell_type": "code",
   "execution_count": 301,
   "metadata": {
    "collapsed": false
   },
   "outputs": [
    {
     "data": {
      "text/plain": [
       "[<matplotlib.lines.Line2D at 0x7f77a2715290>]"
      ]
     },
     "execution_count": 301,
     "metadata": {},
     "output_type": "execute_result"
    },
    {
     "data": {
      "image/png": "[encoded data removed]",
      "text/plain": [
       "<matplotlib.figure.Figure at 0x7f77a2822990>"
      ]
     },
     "metadata": {},
     "output_type": "display_data"
    }
   ],
   "source": [
    "plt.plot(pays[:,7], 'r.')"
   ]
  },
  {
   "cell_type": "code",
   "execution_count": 302,
   "metadata": {
    "collapsed": false
   },
   "outputs": [
    {
     "data": {
      "text/plain": [
       "array([[   0, 3084],\n",
       "       [   1,  120],\n",
       "       [   2,  122],\n",
       "       [   4,   96],\n",
       "       [   5,   28],\n",
       "       [   8, 1468],\n",
       "       [   9,   18],\n",
       "       [  10,   25],\n",
       "       [  11,    1],\n",
       "       [  16,   93],\n",
       "       [  17, 1348],\n",
       "       [  18,   19],\n",
       "       [  20,   40],\n",
       "       [  21,    4],\n",
       "       [  32,  126],\n",
       "       [  33,    1],\n",
       "       [  34, 1354],\n",
       "       [  36,   17],\n",
       "       [  37,   12],\n",
       "       [  40,   34],\n",
       "       [  42,    1],\n",
       "       [  48,    1],\n",
       "       [  52,    1],\n",
       "       [  56,    1],\n",
       "       [  62,    1],\n",
       "       [  64,  126],\n",
       "       [  65,    4],\n",
       "       [  66,    1],\n",
       "       [  68, 1398],\n",
       "       [  69,    1],\n",
       "       [  72,   16],\n",
       "       [  74,    5],\n",
       "       [  80,   25],\n",
       "       [  81,   18],\n",
       "       [  84,    1],\n",
       "       [  90,    1],\n",
       "       [ 104,    1],\n",
       "       [ 120,    1]])"
      ]
     },
     "execution_count": 302,
     "metadata": {},
     "output_type": "execute_result"
    }
   ],
   "source": [
    "np.asarray(np.unique(pays[:,7], return_counts=True)).T"
   ]
  },
  {
   "cell_type": "code",
   "execution_count": 303,
   "metadata": {
    "collapsed": false
   },
   "outputs": [
    {
     "data": {
      "text/plain": [
       "'01110000 00000101 01111110 01111111 00001001 00000001 01110111 01000001'"
      ]
     },
     "execution_count": 303,
     "metadata": {},
     "output_type": "execute_result"
    }
   ],
   "source": [
    "tobin(pays[pays[:,7]==65,:][2])"
   ]
  },
  {
   "cell_type": "code",
   "execution_count": 304,
   "metadata": {
    "collapsed": false
   },
   "outputs": [
    {
     "data": {
      "text/plain": [
       "'00000000 00000001 00000010 00000100 00000101 00001000 00001001 00001010 00001011 00010000 00010001 00010010 00010100 00010101 00100000 00100001 00100010 00100100 00100101 00101000 00101010 00110000 00110100 00111000 00111110 01000000 01000001 01000010 01000100 01000101 01001000 01001010 01010000 01010001 01010100 01011010 01101000 01111000'"
      ]
     },
     "execution_count": 304,
     "metadata": {},
     "output_type": "execute_result"
    }
   ],
   "source": [
    "tobin(np.unique(pays[:,7]))"
   ]
  },
  {
   "cell_type": "markdown",
   "metadata": {},
   "source": [
    "... I dunno. Maybe we should just ignore all the 8th bytes."
   ]
  },
  {
   "cell_type": "code",
   "execution_count": 305,
   "metadata": {
    "collapsed": true
   },
   "outputs": [],
   "source": [
    "payload7 = bytearray()\n",
    "for i in range(0, len(payload), 8):\n",
    "    payload7.extend(payload[i:i+7])"
   ]
  },
  {
   "cell_type": "markdown",
   "metadata": {},
   "source": [
    "If I had to squeeze 8 bits down into seven, how would I do it?\n",
    "Maybe, we take each of the seven bits of the eighth byte and stick them in front of the previous seven?"
   ]
  },
  {
   "cell_type": "code",
   "execution_count": 306,
   "metadata": {
    "collapsed": true
   },
   "outputs": [],
   "source": [
    "def reconstitute(by):\n",
    "    blob = by[:7]\n",
    "    for i in range(7):\n",
    "        bitmask = 0b01000000 >> i\n",
    "        blob[i] = blob[i] | ((by[7] & bitmask) << i+1)\n",
    "    return blob"
   ]
  },
  {
   "cell_type": "code",
   "execution_count": 307,
   "metadata": {
    "collapsed": false
   },
   "outputs": [],
   "source": [
    "pgroups = [payload[i:i+8] for i in range(0, len(payload), 8)]"
   ]
  },
  {
   "cell_type": "code",
   "execution_count": 308,
   "metadata": {
    "collapsed": false
   },
   "outputs": [],
   "source": [
    "payload8 = bytearray().join(reconstitute(g) for g in pgroups)"
   ]
  }
 ],
 "metadata": {
  "kernelspec": {
   "display_name": "Python 2",
   "language": "python",
   "name": "python2"
  },
  "language_info": {
   "codemirror_mode": {
    "name": "ipython",
    "version": 2
   },
   "file_extension": ".py",
   "mimetype": "text/x-python",
   "name": "python",
   "nbconvert_exporter": "python",
   "pygments_lexer": "ipython2",
   "version": "2.7.12+"
  }
 },
 "nbformat": 4,
 "nbformat_minor": 0
}
