{
 "cells": [
  {
   "cell_type": "markdown",
   "metadata": {},
   "source": [
    "# INVESTIGATIONING III\n",
    "## The Messages"
   ]
  },
  {
   "cell_type": "markdown",
   "metadata": {},
   "source": [
    "Well first of all, we need a way to grab and format messages."
   ]
  },
  {
   "cell_type": "code",
   "execution_count": 1,
   "metadata": {},
   "outputs": [],
   "source": [
    "%cd -q '..'\n",
    "import mido\n",
    "import copy\n",
    "from commons import mido_util"
   ]
  },
  {
   "cell_type": "code",
   "execution_count": 2,
   "metadata": {},
   "outputs": [],
   "source": [
    "from commons import timers"
   ]
  },
  {
   "cell_type": "markdown",
   "metadata": {},
   "source": [
    "We want a way to grab the messages with the appropriate time, put them in a list, also print them out as they arrive, except for the clock ones, which we don't want because they would spam the whole thing. Also maybe include a nice signal to terminate, such as the foot pedal or something."
   ]
  },
  {
   "cell_type": "code",
   "execution_count": 3,
   "metadata": {},
   "outputs": [],
   "source": [
    "from commons.messages import controlstate, controls"
   ]
  },
  {
   "cell_type": "code",
   "execution_count": 4,
   "metadata": {},
   "outputs": [],
   "source": [
    "def collector(state=None):\n",
    "    if state is None:\n",
    "        newstate = controlstate.MidiControlState()\n",
    "    else:\n",
    "        newstate = copy.deepcopy(state)\n",
    "    collection_list = []\n",
    "    with mido.open_input(\"DGX-505 MIDI 1\") as inport:\n",
    "        timer = timers.offsetTimer()\n",
    "        for msg in inport:\n",
    "            msg.time = timer()\n",
    "            wrapped = newstate.feed_message(msg)\n",
    "            collection_list.append(wrapped)\n",
    "            if msg.type != \"clock\":\n",
    "                print(wrapped)\n",
    "            if wrapped.wrap_type == controls.Control.PEDAL:\n",
    "                break\n",
    "    return newstate, collection_list"
   ]
  },
  {
   "cell_type": "code",
   "execution_count": 5,
   "metadata": {},
   "outputs": [],
   "source": [
    "def writeout(outlist, outname):\n",
    "    with open(outname, 'w') as outfile:\n",
    "        for wrapped in outlist:\n",
    "            outfile.write(str(wrapped.message)+'\\n')"
   ]
  },
  {
   "cell_type": "markdown",
   "metadata": {},
   "source": [
    "Now let's try it with the initial send after power on."
   ]
  },
  {
   "cell_type": "code",
   "execution_count": 16,
   "metadata": {},
   "outputs": [
    {
     "name": "stdout",
     "output_type": "stream",
     "text": [
      "[SysEx 7E 7F 09 01]\n",
      "[SysEx 43 10 4C 00 00 7E 00]\n",
      "MIDI Master Tuning 0\n",
      "Reverb Type 02(Hall2)\n",
      "Chorus Type ---(Celeste)\n",
      "8 Voice Volume 88\n",
      "8 Modulation Wheel 0\n",
      "8 Voice Pan 64\n",
      "8 Expression 127\n",
      "8 Voice Reverb Level 40\n",
      "8 Voice Chorus Level 0\n",
      "8 Harmonic Content 64\n",
      "8 Release Time 64\n",
      "8 Attack Time 64\n",
      "8 Brightness 64\n",
      "8 Bank MSB 127\n",
      "8 Bank LSB 0\n",
      "8 Program Change: [127,0,0] 122 Standard Kit 1 (DRUM KITS)\n",
      "8 RPN MSB 0\n",
      "8 RPN LSB 0\n",
      "8 Data Entry MSB: Pitch Bend Range 2\n",
      "8 RPN MSB 0\n",
      "8 RPN LSB 1\n",
      "8 Data Entry MSB: Channel Fine Tuning 64\n",
      "8 RPN MSB 0\n",
      "8 RPN LSB 2\n",
      "8 Data Entry MSB: Channel Coarse Tuning 64\n",
      "8 Pitch Bend 0\n",
      "9 Voice Volume 86\n",
      "9 Modulation Wheel 0\n",
      "9 Voice Pan 64\n",
      "9 Expression 127\n",
      "9 Voice Reverb Level 20\n",
      "9 Voice Chorus Level 0\n",
      "9 Harmonic Content 64\n",
      "9 Release Time 64\n",
      "9 Attack Time 64\n",
      "9 Brightness 64\n",
      "9 Bank MSB 127\n",
      "9 Bank LSB 0\n",
      "9 Program Change: [127,0,27] 128 Dance Kit (DRUM KITS)\n",
      "9 RPN MSB 0\n",
      "9 RPN LSB 0\n",
      "9 Data Entry MSB: Pitch Bend Range 2\n",
      "9 RPN MSB 0\n",
      "9 RPN LSB 1\n",
      "9 Data Entry MSB: Channel Fine Tuning 64\n",
      "9 RPN MSB 0\n",
      "9 RPN LSB 2\n",
      "9 Data Entry MSB: Channel Coarse Tuning 64\n",
      "9 Pitch Bend 0\n",
      "10 Voice Volume 81\n",
      "10 Modulation Wheel 0\n",
      "10 Voice Pan 64\n",
      "10 Expression 127\n",
      "10 Voice Reverb Level 0\n",
      "10 Voice Chorus Level 20\n",
      "10 Harmonic Content 64\n",
      "10 Release Time 64\n",
      "10 Attack Time 64\n",
      "10 Brightness 64\n",
      "10 Bank MSB 0\n",
      "10 Bank LSB 112\n",
      "10 Program Change: [0,112,33] 046 Finger Bass (BASS)\n",
      "10 RPN MSB 0\n",
      "10 RPN LSB 0\n",
      "10 Data Entry MSB: Pitch Bend Range 2\n",
      "10 RPN MSB 0\n",
      "10 RPN LSB 1\n",
      "10 Data Entry MSB: Channel Fine Tuning 64\n",
      "10 RPN MSB 0\n",
      "10 RPN LSB 2\n",
      "10 Data Entry MSB: Channel Coarse Tuning 64\n",
      "10 Pitch Bend 0\n",
      "11 Voice Volume 56\n",
      "11 Modulation Wheel 0\n",
      "11 Voice Pan 38\n",
      "11 Expression 127\n",
      "11 Voice Reverb Level 30\n",
      "11 Voice Chorus Level 30\n",
      "11 Harmonic Content 64\n",
      "11 Release Time 64\n",
      "11 Attack Time 64\n",
      "11 Brightness 64\n",
      "11 Bank MSB 0\n",
      "11 Bank LSB 117\n",
      "11 Program Change: [0,117,27] 041 60's Clean Guitar (GUITAR)\n",
      "11 RPN MSB 0\n",
      "11 RPN LSB 0\n",
      "11 Data Entry MSB: Pitch Bend Range 2\n",
      "11 RPN MSB 0\n",
      "11 RPN LSB 1\n",
      "11 Data Entry MSB: Channel Fine Tuning 64\n",
      "11 RPN MSB 0\n",
      "11 RPN LSB 2\n",
      "11 Data Entry MSB: Channel Coarse Tuning 64\n",
      "11 Pitch Bend 0\n",
      "12 Voice Volume 50\n",
      "12 Modulation Wheel 0\n",
      "12 Voice Pan 86\n",
      "12 Expression 127\n",
      "12 Voice Reverb Level 40\n",
      "12 Voice Chorus Level 40\n",
      "12 Harmonic Content 64\n",
      "12 Release Time 64\n",
      "12 Attack Time 64\n",
      "12 Brightness 64\n",
      "12 Bank MSB 0\n",
      "12 Bank LSB 1\n",
      "12 Program Change: [0,1,4] 146 Electric Piano 1 KSP (XG PIANO)\n",
      "12 RPN MSB 0\n",
      "12 RPN LSB 0\n",
      "12 Data Entry MSB: Pitch Bend Range 2\n",
      "12 RPN MSB 0\n",
      "12 RPN LSB 1\n",
      "12 Data Entry MSB: Channel Fine Tuning 64\n",
      "12 RPN MSB 0\n",
      "12 RPN LSB 2\n",
      "12 Data Entry MSB: Channel Coarse Tuning 64\n",
      "12 Pitch Bend 0\n",
      "13 Voice Volume 52\n",
      "13 Modulation Wheel 0\n",
      "13 Voice Pan 68\n",
      "13 Expression 127\n",
      "13 Voice Reverb Level 68\n",
      "13 Voice Chorus Level 0\n",
      "13 Harmonic Content 64\n",
      "13 Release Time 64\n",
      "13 Attack Time 64\n",
      "13 Brightness 52\n",
      "13 Bank MSB 0\n",
      "13 Bank LSB 0\n",
      "13 Program Change: [0,0,51] 287 Synth Strings 2 (XG ENSEMBLE)\n",
      "13 RPN MSB 0\n",
      "13 RPN LSB 0\n",
      "13 Data Entry MSB: Pitch Bend Range 2\n",
      "13 RPN MSB 0\n",
      "13 RPN LSB 1\n",
      "13 Data Entry MSB: Channel Fine Tuning 64\n",
      "13 RPN MSB 0\n",
      "13 RPN LSB 2\n",
      "13 Data Entry MSB: Channel Coarse Tuning 64\n",
      "13 Pitch Bend 0\n",
      "14 Voice Volume 127\n",
      "14 Modulation Wheel 0\n",
      "14 Voice Pan 64\n",
      "14 Expression 127\n",
      "14 Voice Reverb Level 40\n",
      "14 Voice Chorus Level 0\n",
      "14 Harmonic Content 64\n",
      "14 Release Time 64\n",
      "14 Attack Time 64\n",
      "14 Brightness 64\n",
      "14 Bank MSB 0\n",
      "14 Bank LSB 0\n",
      "14 Program Change: [0,0,0] 134 Grand Piano (XG PIANO)\n",
      "14 RPN MSB 0\n",
      "14 RPN LSB 0\n",
      "14 Data Entry MSB: Pitch Bend Range 2\n",
      "14 RPN MSB 0\n",
      "14 RPN LSB 1\n",
      "14 Data Entry MSB: Channel Fine Tuning 64\n",
      "14 RPN MSB 0\n",
      "14 RPN LSB 2\n",
      "14 Data Entry MSB: Channel Coarse Tuning 64\n",
      "14 Pitch Bend 0\n",
      "15 Voice Volume 127\n",
      "15 Modulation Wheel 0\n",
      "15 Voice Pan 64\n",
      "15 Expression 127\n",
      "15 Voice Reverb Level 40\n",
      "15 Voice Chorus Level 0\n",
      "15 Harmonic Content 64\n",
      "15 Release Time 64\n",
      "15 Attack Time 64\n",
      "15 Brightness 64\n",
      "15 Bank MSB 0\n",
      "15 Bank LSB 0\n",
      "15 Program Change: [0,0,0] 134 Grand Piano (XG PIANO)\n",
      "15 RPN MSB 0\n",
      "15 RPN LSB 0\n",
      "15 Data Entry MSB: Pitch Bend Range 2\n",
      "15 RPN MSB 0\n",
      "15 RPN LSB 1\n",
      "15 Data Entry MSB: Channel Fine Tuning 64\n",
      "15 RPN MSB 0\n",
      "15 RPN LSB 2\n",
      "15 Data Entry MSB: Channel Coarse Tuning 64\n",
      "15 Pitch Bend 0\n",
      "0 Bank MSB 0\n",
      "0 Bank LSB 113\n",
      "0 Program Change: [0,113,0] 001 Live! Grand Piano (PIANO)\n",
      "1 Bank MSB 0\n",
      "1 Bank LSB 112\n",
      "1 Program Change: [0,112,48] 054 String Ensemble (STRINGS)\n",
      "2 Bank MSB 0\n",
      "2 Bank LSB 112\n",
      "2 Program Change: [0,112,33] 046 Finger Bass (BASS)\n",
      "0 Voice Volume 110\n",
      "1 Voice Volume 36\n",
      "2 Voice Volume 100\n",
      "0 Voice Pan 64\n",
      "1 Voice Pan 64\n",
      "2 Voice Pan 64\n",
      "0 Voice Reverb Level 20\n",
      "1 Voice Reverb Level 50\n",
      "2 Voice Reverb Level 8\n",
      "0 Voice Chorus Level 0\n",
      "1 Voice Chorus Level 0\n",
      "2 Voice Chorus Level 0\n",
      "0 RPN MSB 0\n",
      "0 RPN LSB 0\n",
      "0 Data Entry MSB: Pitch Bend Range 2\n",
      "1 RPN MSB 0\n",
      "1 RPN LSB 0\n",
      "1 Data Entry MSB: Pitch Bend Range 2\n",
      "2 RPN MSB 0\n",
      "2 RPN LSB 0\n",
      "2 Data Entry MSB: Pitch Bend Range 2\n",
      "0 Pitch Bend 0\n",
      "1 Pitch Bend 0\n",
      "2 Pitch Bend 0\n",
      "0 Release Time 64\n",
      "1 Release Time 64\n",
      "2 Release Time 64\n",
      "0 Pedal Sustain ON\n"
     ]
    }
   ],
   "source": [
    "s, c = collector()"
   ]
  },
  {
   "cell_type": "code",
   "execution_count": 17,
   "metadata": {},
   "outputs": [
    {
     "data": {
      "text/plain": [
       "349"
      ]
     },
     "execution_count": 17,
     "metadata": {},
     "output_type": "execute_result"
    }
   ],
   "source": [
    "len(c)"
   ]
  },
  {
   "cell_type": "code",
   "execution_count": 18,
   "metadata": {},
   "outputs": [],
   "source": [
    "writeout(c, 'documents/data/initial_send.txt')"
   ]
  },
  {
   "cell_type": "code",
   "execution_count": 19,
   "metadata": {},
   "outputs": [
    {
     "name": "stdout",
     "output_type": "stream",
     "text": [
      "Local: None\n",
      "Master volume: None\n",
      "Master tuning: 0\n",
      "Reverb type: 02(Hall2)\n",
      "Chorus type: ---(Celeste)\n",
      "CHANNEL: 0\n",
      "Bank Program: (0, 113, 0)\n",
      "Control.BANK_MSB: 0\n",
      "Control.BANK_LSB: 113\n",
      "Control.VOLUME: 110\n",
      "Control.PAN: 64\n",
      "Control.REVERB: 20\n",
      "Control.CHORUS: 0\n",
      "Control.PEDAL: ON\n",
      "Control.RELEASE: 64\n",
      "Control.MODULATION: None\n",
      "Control.EXPRESSION: None\n",
      "Control.PORTAMENTO_CTRL: None\n",
      "Control.HARMONIC: None\n",
      "Control.ATTACK: None\n",
      "Control.BRIGHTNESS: None\n",
      "Control.RPN_MSB: 0\n",
      "Control.RPN_LSB: 0\n",
      "Control.DATA_MSB: None\n",
      "Control.DATA_LSB: None\n",
      "Control.DATA_INC: None\n",
      "Control.DATA_DEC: None\n",
      "Control.SOUND_OFF: None\n",
      "Control.SOUND_OFF_XMONO: None\n",
      "Control.SOUND_OFF_XPOLY: None\n",
      "Control.NOTES_OFF: None\n",
      "Control.NOTES_OFF_XOMNIOFF: None\n",
      "Control.NOTES_OFF_XOMNION: None\n",
      "Control.RESET_CONTROLS: None\n",
      "Control.LOCAL: None\n",
      "Rpn.PITCH_BEND_RANGE: (2, None)\n",
      "Rpn.FINE_TUNE: (None, None)\n",
      "Rpn.COARSE_TUNE: (None, None)\n",
      "Rpn.NULL: (None, None)\n",
      "Pitchwheel: 0\n",
      "CHANNEL: 1\n",
      "Bank Program: (0, 112, 48)\n",
      "Control.BANK_MSB: 0\n",
      "Control.BANK_LSB: 112\n",
      "Control.VOLUME: 36\n",
      "Control.PAN: 64\n",
      "Control.REVERB: 50\n",
      "Control.CHORUS: 0\n",
      "Control.PEDAL: None\n",
      "Control.RELEASE: 64\n",
      "Control.MODULATION: None\n",
      "Control.EXPRESSION: None\n",
      "Control.PORTAMENTO_CTRL: None\n",
      "Control.HARMONIC: None\n",
      "Control.ATTACK: None\n",
      "Control.BRIGHTNESS: None\n",
      "Control.RPN_MSB: 0\n",
      "Control.RPN_LSB: 0\n",
      "Control.DATA_MSB: None\n",
      "Control.DATA_LSB: None\n",
      "Control.DATA_INC: None\n",
      "Control.DATA_DEC: None\n",
      "Control.SOUND_OFF: None\n",
      "Control.SOUND_OFF_XMONO: None\n",
      "Control.SOUND_OFF_XPOLY: None\n",
      "Control.NOTES_OFF: None\n",
      "Control.NOTES_OFF_XOMNIOFF: None\n",
      "Control.NOTES_OFF_XOMNION: None\n",
      "Control.RESET_CONTROLS: None\n",
      "Control.LOCAL: None\n",
      "Rpn.PITCH_BEND_RANGE: (2, None)\n",
      "Rpn.FINE_TUNE: (None, None)\n",
      "Rpn.COARSE_TUNE: (None, None)\n",
      "Rpn.NULL: (None, None)\n",
      "Pitchwheel: 0\n",
      "CHANNEL: 2\n",
      "Bank Program: (0, 112, 33)\n",
      "Control.BANK_MSB: 0\n",
      "Control.BANK_LSB: 112\n",
      "Control.VOLUME: 100\n",
      "Control.PAN: 64\n",
      "Control.REVERB: 8\n",
      "Control.CHORUS: 0\n",
      "Control.PEDAL: None\n",
      "Control.RELEASE: 64\n",
      "Control.MODULATION: None\n",
      "Control.EXPRESSION: None\n",
      "Control.PORTAMENTO_CTRL: None\n",
      "Control.HARMONIC: None\n",
      "Control.ATTACK: None\n",
      "Control.BRIGHTNESS: None\n",
      "Control.RPN_MSB: 0\n",
      "Control.RPN_LSB: 0\n",
      "Control.DATA_MSB: None\n",
      "Control.DATA_LSB: None\n",
      "Control.DATA_INC: None\n",
      "Control.DATA_DEC: None\n",
      "Control.SOUND_OFF: None\n",
      "Control.SOUND_OFF_XMONO: None\n",
      "Control.SOUND_OFF_XPOLY: None\n",
      "Control.NOTES_OFF: None\n",
      "Control.NOTES_OFF_XOMNIOFF: None\n",
      "Control.NOTES_OFF_XOMNION: None\n",
      "Control.RESET_CONTROLS: None\n",
      "Control.LOCAL: None\n",
      "Rpn.PITCH_BEND_RANGE: (2, None)\n",
      "Rpn.FINE_TUNE: (None, None)\n",
      "Rpn.COARSE_TUNE: (None, None)\n",
      "Rpn.NULL: (None, None)\n",
      "Pitchwheel: 0\n",
      "CHANNEL: 3\n",
      "Bank Program: (None, None, None)\n",
      "Control.BANK_MSB: None\n",
      "Control.BANK_LSB: None\n",
      "Control.VOLUME: None\n",
      "Control.PAN: None\n",
      "Control.REVERB: None\n",
      "Control.CHORUS: None\n",
      "Control.PEDAL: None\n",
      "Control.RELEASE: None\n",
      "Control.MODULATION: None\n",
      "Control.EXPRESSION: None\n",
      "Control.PORTAMENTO_CTRL: None\n",
      "Control.HARMONIC: None\n",
      "Control.ATTACK: None\n",
      "Control.BRIGHTNESS: None\n",
      "Control.RPN_MSB: None\n",
      "Control.RPN_LSB: None\n",
      "Control.DATA_MSB: None\n",
      "Control.DATA_LSB: None\n",
      "Control.DATA_INC: None\n",
      "Control.DATA_DEC: None\n",
      "Control.SOUND_OFF: None\n",
      "Control.SOUND_OFF_XMONO: None\n",
      "Control.SOUND_OFF_XPOLY: None\n",
      "Control.NOTES_OFF: None\n",
      "Control.NOTES_OFF_XOMNIOFF: None\n",
      "Control.NOTES_OFF_XOMNION: None\n",
      "Control.RESET_CONTROLS: None\n",
      "Control.LOCAL: None\n",
      "Rpn.PITCH_BEND_RANGE: (None, None)\n",
      "Rpn.FINE_TUNE: (None, None)\n",
      "Rpn.COARSE_TUNE: (None, None)\n",
      "Rpn.NULL: (None, None)\n",
      "Pitchwheel: None\n",
      "CHANNEL: 4\n",
      "Bank Program: (None, None, None)\n",
      "Control.BANK_MSB: None\n",
      "Control.BANK_LSB: None\n",
      "Control.VOLUME: None\n",
      "Control.PAN: None\n",
      "Control.REVERB: None\n",
      "Control.CHORUS: None\n",
      "Control.PEDAL: None\n",
      "Control.RELEASE: None\n",
      "Control.MODULATION: None\n",
      "Control.EXPRESSION: None\n",
      "Control.PORTAMENTO_CTRL: None\n",
      "Control.HARMONIC: None\n",
      "Control.ATTACK: None\n",
      "Control.BRIGHTNESS: None\n",
      "Control.RPN_MSB: None\n",
      "Control.RPN_LSB: None\n",
      "Control.DATA_MSB: None\n",
      "Control.DATA_LSB: None\n",
      "Control.DATA_INC: None\n",
      "Control.DATA_DEC: None\n",
      "Control.SOUND_OFF: None\n",
      "Control.SOUND_OFF_XMONO: None\n",
      "Control.SOUND_OFF_XPOLY: None\n",
      "Control.NOTES_OFF: None\n",
      "Control.NOTES_OFF_XOMNIOFF: None\n",
      "Control.NOTES_OFF_XOMNION: None\n",
      "Control.RESET_CONTROLS: None\n",
      "Control.LOCAL: None\n",
      "Rpn.PITCH_BEND_RANGE: (None, None)\n",
      "Rpn.FINE_TUNE: (None, None)\n",
      "Rpn.COARSE_TUNE: (None, None)\n",
      "Rpn.NULL: (None, None)\n",
      "Pitchwheel: None\n",
      "CHANNEL: 5\n",
      "Bank Program: (None, None, None)\n",
      "Control.BANK_MSB: None\n",
      "Control.BANK_LSB: None\n",
      "Control.VOLUME: None\n",
      "Control.PAN: None\n",
      "Control.REVERB: None\n",
      "Control.CHORUS: None\n",
      "Control.PEDAL: None\n",
      "Control.RELEASE: None\n",
      "Control.MODULATION: None\n",
      "Control.EXPRESSION: None\n",
      "Control.PORTAMENTO_CTRL: None\n",
      "Control.HARMONIC: None\n",
      "Control.ATTACK: None\n",
      "Control.BRIGHTNESS: None\n",
      "Control.RPN_MSB: None\n",
      "Control.RPN_LSB: None\n",
      "Control.DATA_MSB: None\n",
      "Control.DATA_LSB: None\n",
      "Control.DATA_INC: None\n",
      "Control.DATA_DEC: None\n",
      "Control.SOUND_OFF: None\n",
      "Control.SOUND_OFF_XMONO: None\n",
      "Control.SOUND_OFF_XPOLY: None\n",
      "Control.NOTES_OFF: None\n",
      "Control.NOTES_OFF_XOMNIOFF: None\n",
      "Control.NOTES_OFF_XOMNION: None\n",
      "Control.RESET_CONTROLS: None\n",
      "Control.LOCAL: None\n",
      "Rpn.PITCH_BEND_RANGE: (None, None)\n",
      "Rpn.FINE_TUNE: (None, None)\n",
      "Rpn.COARSE_TUNE: (None, None)\n",
      "Rpn.NULL: (None, None)\n",
      "Pitchwheel: None\n",
      "CHANNEL: 6\n",
      "Bank Program: (None, None, None)\n",
      "Control.BANK_MSB: None\n",
      "Control.BANK_LSB: None\n",
      "Control.VOLUME: None\n",
      "Control.PAN: None\n",
      "Control.REVERB: None\n",
      "Control.CHORUS: None\n",
      "Control.PEDAL: None\n",
      "Control.RELEASE: None\n",
      "Control.MODULATION: None\n",
      "Control.EXPRESSION: None\n",
      "Control.PORTAMENTO_CTRL: None\n",
      "Control.HARMONIC: None\n",
      "Control.ATTACK: None\n",
      "Control.BRIGHTNESS: None\n",
      "Control.RPN_MSB: None\n",
      "Control.RPN_LSB: None\n",
      "Control.DATA_MSB: None\n",
      "Control.DATA_LSB: None\n",
      "Control.DATA_INC: None\n",
      "Control.DATA_DEC: None\n",
      "Control.SOUND_OFF: None\n",
      "Control.SOUND_OFF_XMONO: None\n",
      "Control.SOUND_OFF_XPOLY: None\n",
      "Control.NOTES_OFF: None\n",
      "Control.NOTES_OFF_XOMNIOFF: None\n",
      "Control.NOTES_OFF_XOMNION: None\n",
      "Control.RESET_CONTROLS: None\n",
      "Control.LOCAL: None\n",
      "Rpn.PITCH_BEND_RANGE: (None, None)\n",
      "Rpn.FINE_TUNE: (None, None)\n",
      "Rpn.COARSE_TUNE: (None, None)\n",
      "Rpn.NULL: (None, None)\n",
      "Pitchwheel: None\n",
      "CHANNEL: 7\n",
      "Bank Program: (None, None, None)\n",
      "Control.BANK_MSB: None\n",
      "Control.BANK_LSB: None\n",
      "Control.VOLUME: None\n",
      "Control.PAN: None\n",
      "Control.REVERB: None\n",
      "Control.CHORUS: None\n",
      "Control.PEDAL: None\n",
      "Control.RELEASE: None\n",
      "Control.MODULATION: None\n",
      "Control.EXPRESSION: None\n",
      "Control.PORTAMENTO_CTRL: None\n",
      "Control.HARMONIC: None\n",
      "Control.ATTACK: None\n",
      "Control.BRIGHTNESS: None\n",
      "Control.RPN_MSB: None\n",
      "Control.RPN_LSB: None\n",
      "Control.DATA_MSB: None\n",
      "Control.DATA_LSB: None\n",
      "Control.DATA_INC: None\n",
      "Control.DATA_DEC: None\n",
      "Control.SOUND_OFF: None\n",
      "Control.SOUND_OFF_XMONO: None\n",
      "Control.SOUND_OFF_XPOLY: None\n",
      "Control.NOTES_OFF: None\n",
      "Control.NOTES_OFF_XOMNIOFF: None\n",
      "Control.NOTES_OFF_XOMNION: None\n",
      "Control.RESET_CONTROLS: None\n",
      "Control.LOCAL: None\n",
      "Rpn.PITCH_BEND_RANGE: (None, None)\n",
      "Rpn.FINE_TUNE: (None, None)\n",
      "Rpn.COARSE_TUNE: (None, None)\n",
      "Rpn.NULL: (None, None)\n",
      "Pitchwheel: None\n",
      "CHANNEL: 8\n",
      "Bank Program: (127, 0, 0)\n",
      "Control.BANK_MSB: 127\n",
      "Control.BANK_LSB: 0\n",
      "Control.VOLUME: 88\n",
      "Control.PAN: 64\n",
      "Control.REVERB: 40\n",
      "Control.CHORUS: 0\n",
      "Control.PEDAL: None\n",
      "Control.RELEASE: 64\n",
      "Control.MODULATION: 0\n",
      "Control.EXPRESSION: 127\n",
      "Control.PORTAMENTO_CTRL: None\n",
      "Control.HARMONIC: 64\n",
      "Control.ATTACK: 64\n",
      "Control.BRIGHTNESS: 64\n",
      "Control.RPN_MSB: 0\n",
      "Control.RPN_LSB: 2\n",
      "Control.DATA_MSB: None\n",
      "Control.DATA_LSB: None\n",
      "Control.DATA_INC: None\n",
      "Control.DATA_DEC: None\n",
      "Control.SOUND_OFF: None\n",
      "Control.SOUND_OFF_XMONO: None\n",
      "Control.SOUND_OFF_XPOLY: None\n",
      "Control.NOTES_OFF: None\n",
      "Control.NOTES_OFF_XOMNIOFF: None\n",
      "Control.NOTES_OFF_XOMNION: None\n",
      "Control.RESET_CONTROLS: None\n",
      "Control.LOCAL: None\n",
      "Rpn.PITCH_BEND_RANGE: (2, None)\n",
      "Rpn.FINE_TUNE: (64, None)\n",
      "Rpn.COARSE_TUNE: (64, None)\n",
      "Rpn.NULL: (None, None)\n",
      "Pitchwheel: 0\n",
      "CHANNEL: 9\n",
      "Bank Program: (127, 0, 27)\n",
      "Control.BANK_MSB: 127\n",
      "Control.BANK_LSB: 0\n",
      "Control.VOLUME: 86\n",
      "Control.PAN: 64\n",
      "Control.REVERB: 20\n",
      "Control.CHORUS: 0\n",
      "Control.PEDAL: None\n",
      "Control.RELEASE: 64\n",
      "Control.MODULATION: 0\n",
      "Control.EXPRESSION: 127\n",
      "Control.PORTAMENTO_CTRL: None\n",
      "Control.HARMONIC: 64\n",
      "Control.ATTACK: 64\n",
      "Control.BRIGHTNESS: 64\n",
      "Control.RPN_MSB: 0\n",
      "Control.RPN_LSB: 2\n",
      "Control.DATA_MSB: None\n",
      "Control.DATA_LSB: None\n",
      "Control.DATA_INC: None\n",
      "Control.DATA_DEC: None\n",
      "Control.SOUND_OFF: None\n",
      "Control.SOUND_OFF_XMONO: None\n",
      "Control.SOUND_OFF_XPOLY: None\n",
      "Control.NOTES_OFF: None\n",
      "Control.NOTES_OFF_XOMNIOFF: None\n",
      "Control.NOTES_OFF_XOMNION: None\n",
      "Control.RESET_CONTROLS: None\n",
      "Control.LOCAL: None\n",
      "Rpn.PITCH_BEND_RANGE: (2, None)\n",
      "Rpn.FINE_TUNE: (64, None)\n",
      "Rpn.COARSE_TUNE: (64, None)\n",
      "Rpn.NULL: (None, None)\n",
      "Pitchwheel: 0\n",
      "CHANNEL: 10\n",
      "Bank Program: (0, 112, 33)\n",
      "Control.BANK_MSB: 0\n",
      "Control.BANK_LSB: 112\n",
      "Control.VOLUME: 81\n",
      "Control.PAN: 64\n",
      "Control.REVERB: 0\n",
      "Control.CHORUS: 20\n",
      "Control.PEDAL: None\n",
      "Control.RELEASE: 64\n",
      "Control.MODULATION: 0\n",
      "Control.EXPRESSION: 127\n",
      "Control.PORTAMENTO_CTRL: None\n",
      "Control.HARMONIC: 64\n",
      "Control.ATTACK: 64\n",
      "Control.BRIGHTNESS: 64\n",
      "Control.RPN_MSB: 0\n",
      "Control.RPN_LSB: 2\n",
      "Control.DATA_MSB: None\n",
      "Control.DATA_LSB: None\n",
      "Control.DATA_INC: None\n",
      "Control.DATA_DEC: None\n",
      "Control.SOUND_OFF: None\n",
      "Control.SOUND_OFF_XMONO: None\n",
      "Control.SOUND_OFF_XPOLY: None\n",
      "Control.NOTES_OFF: None\n",
      "Control.NOTES_OFF_XOMNIOFF: None\n",
      "Control.NOTES_OFF_XOMNION: None\n",
      "Control.RESET_CONTROLS: None\n",
      "Control.LOCAL: None\n",
      "Rpn.PITCH_BEND_RANGE: (2, None)\n",
      "Rpn.FINE_TUNE: (64, None)\n",
      "Rpn.COARSE_TUNE: (64, None)\n",
      "Rpn.NULL: (None, None)\n",
      "Pitchwheel: 0\n",
      "CHANNEL: 11\n",
      "Bank Program: (0, 117, 27)\n",
      "Control.BANK_MSB: 0\n",
      "Control.BANK_LSB: 117\n",
      "Control.VOLUME: 56\n",
      "Control.PAN: 38\n",
      "Control.REVERB: 30\n",
      "Control.CHORUS: 30\n",
      "Control.PEDAL: None\n",
      "Control.RELEASE: 64\n",
      "Control.MODULATION: 0\n",
      "Control.EXPRESSION: 127\n",
      "Control.PORTAMENTO_CTRL: None\n",
      "Control.HARMONIC: 64\n",
      "Control.ATTACK: 64\n",
      "Control.BRIGHTNESS: 64\n",
      "Control.RPN_MSB: 0\n",
      "Control.RPN_LSB: 2\n",
      "Control.DATA_MSB: None\n",
      "Control.DATA_LSB: None\n",
      "Control.DATA_INC: None\n",
      "Control.DATA_DEC: None\n",
      "Control.SOUND_OFF: None\n",
      "Control.SOUND_OFF_XMONO: None\n",
      "Control.SOUND_OFF_XPOLY: None\n",
      "Control.NOTES_OFF: None\n",
      "Control.NOTES_OFF_XOMNIOFF: None\n",
      "Control.NOTES_OFF_XOMNION: None\n",
      "Control.RESET_CONTROLS: None\n",
      "Control.LOCAL: None\n",
      "Rpn.PITCH_BEND_RANGE: (2, None)\n",
      "Rpn.FINE_TUNE: (64, None)\n",
      "Rpn.COARSE_TUNE: (64, None)\n",
      "Rpn.NULL: (None, None)\n",
      "Pitchwheel: 0\n",
      "CHANNEL: 12\n",
      "Bank Program: (0, 1, 4)\n",
      "Control.BANK_MSB: 0\n",
      "Control.BANK_LSB: 1\n",
      "Control.VOLUME: 50\n",
      "Control.PAN: 86\n",
      "Control.REVERB: 40\n",
      "Control.CHORUS: 40\n",
      "Control.PEDAL: None\n",
      "Control.RELEASE: 64\n",
      "Control.MODULATION: 0\n",
      "Control.EXPRESSION: 127\n",
      "Control.PORTAMENTO_CTRL: None\n",
      "Control.HARMONIC: 64\n",
      "Control.ATTACK: 64\n",
      "Control.BRIGHTNESS: 64\n",
      "Control.RPN_MSB: 0\n",
      "Control.RPN_LSB: 2\n",
      "Control.DATA_MSB: None\n",
      "Control.DATA_LSB: None\n",
      "Control.DATA_INC: None\n",
      "Control.DATA_DEC: None\n",
      "Control.SOUND_OFF: None\n",
      "Control.SOUND_OFF_XMONO: None\n",
      "Control.SOUND_OFF_XPOLY: None\n",
      "Control.NOTES_OFF: None\n",
      "Control.NOTES_OFF_XOMNIOFF: None\n",
      "Control.NOTES_OFF_XOMNION: None\n",
      "Control.RESET_CONTROLS: None\n",
      "Control.LOCAL: None\n",
      "Rpn.PITCH_BEND_RANGE: (2, None)\n",
      "Rpn.FINE_TUNE: (64, None)\n",
      "Rpn.COARSE_TUNE: (64, None)\n",
      "Rpn.NULL: (None, None)\n",
      "Pitchwheel: 0\n",
      "CHANNEL: 13\n",
      "Bank Program: (0, 0, 51)\n",
      "Control.BANK_MSB: 0\n",
      "Control.BANK_LSB: 0\n",
      "Control.VOLUME: 52\n",
      "Control.PAN: 68\n",
      "Control.REVERB: 68\n",
      "Control.CHORUS: 0\n",
      "Control.PEDAL: None\n",
      "Control.RELEASE: 64\n",
      "Control.MODULATION: 0\n",
      "Control.EXPRESSION: 127\n",
      "Control.PORTAMENTO_CTRL: None\n",
      "Control.HARMONIC: 64\n",
      "Control.ATTACK: 64\n",
      "Control.BRIGHTNESS: 52\n",
      "Control.RPN_MSB: 0\n",
      "Control.RPN_LSB: 2\n",
      "Control.DATA_MSB: None\n",
      "Control.DATA_LSB: None\n",
      "Control.DATA_INC: None\n",
      "Control.DATA_DEC: None\n",
      "Control.SOUND_OFF: None\n",
      "Control.SOUND_OFF_XMONO: None\n",
      "Control.SOUND_OFF_XPOLY: None\n",
      "Control.NOTES_OFF: None\n",
      "Control.NOTES_OFF_XOMNIOFF: None\n",
      "Control.NOTES_OFF_XOMNION: None\n",
      "Control.RESET_CONTROLS: None\n",
      "Control.LOCAL: None\n",
      "Rpn.PITCH_BEND_RANGE: (2, None)\n",
      "Rpn.FINE_TUNE: (64, None)\n",
      "Rpn.COARSE_TUNE: (64, None)\n",
      "Rpn.NULL: (None, None)\n",
      "Pitchwheel: 0\n",
      "CHANNEL: 14\n",
      "Bank Program: (0, 0, 0)\n",
      "Control.BANK_MSB: 0\n",
      "Control.BANK_LSB: 0\n",
      "Control.VOLUME: 127\n",
      "Control.PAN: 64\n",
      "Control.REVERB: 40\n",
      "Control.CHORUS: 0\n",
      "Control.PEDAL: None\n",
      "Control.RELEASE: 64\n",
      "Control.MODULATION: 0\n",
      "Control.EXPRESSION: 127\n",
      "Control.PORTAMENTO_CTRL: None\n",
      "Control.HARMONIC: 64\n",
      "Control.ATTACK: 64\n",
      "Control.BRIGHTNESS: 64\n",
      "Control.RPN_MSB: 0\n",
      "Control.RPN_LSB: 2\n",
      "Control.DATA_MSB: None\n",
      "Control.DATA_LSB: None\n",
      "Control.DATA_INC: None\n",
      "Control.DATA_DEC: None\n",
      "Control.SOUND_OFF: None\n",
      "Control.SOUND_OFF_XMONO: None\n",
      "Control.SOUND_OFF_XPOLY: None\n",
      "Control.NOTES_OFF: None\n",
      "Control.NOTES_OFF_XOMNIOFF: None\n",
      "Control.NOTES_OFF_XOMNION: None\n",
      "Control.RESET_CONTROLS: None\n",
      "Control.LOCAL: None\n",
      "Rpn.PITCH_BEND_RANGE: (2, None)\n",
      "Rpn.FINE_TUNE: (64, None)\n",
      "Rpn.COARSE_TUNE: (64, None)\n",
      "Rpn.NULL: (None, None)\n",
      "Pitchwheel: 0\n",
      "CHANNEL: 15\n",
      "Bank Program: (0, 0, 0)\n",
      "Control.BANK_MSB: 0\n",
      "Control.BANK_LSB: 0\n",
      "Control.VOLUME: 127\n",
      "Control.PAN: 64\n",
      "Control.REVERB: 40\n",
      "Control.CHORUS: 0\n",
      "Control.PEDAL: None\n",
      "Control.RELEASE: 64\n",
      "Control.MODULATION: 0\n",
      "Control.EXPRESSION: 127\n",
      "Control.PORTAMENTO_CTRL: None\n",
      "Control.HARMONIC: 64\n",
      "Control.ATTACK: 64\n",
      "Control.BRIGHTNESS: 64\n",
      "Control.RPN_MSB: 0\n",
      "Control.RPN_LSB: 2\n",
      "Control.DATA_MSB: None\n",
      "Control.DATA_LSB: None\n",
      "Control.DATA_INC: None\n",
      "Control.DATA_DEC: None\n",
      "Control.SOUND_OFF: None\n",
      "Control.SOUND_OFF_XMONO: None\n",
      "Control.SOUND_OFF_XPOLY: None\n",
      "Control.NOTES_OFF: None\n",
      "Control.NOTES_OFF_XOMNIOFF: None\n",
      "Control.NOTES_OFF_XOMNION: None\n",
      "Control.RESET_CONTROLS: None\n",
      "Control.LOCAL: None\n",
      "Rpn.PITCH_BEND_RANGE: (2, None)\n",
      "Rpn.FINE_TUNE: (64, None)\n",
      "Rpn.COARSE_TUNE: (64, None)\n",
      "Rpn.NULL: (None, None)\n",
      "Pitchwheel: 0\n"
     ]
    }
   ],
   "source": [
    "s._dump()"
   ]
  },
  {
   "cell_type": "markdown",
   "metadata": {},
   "source": [
    "Hmmm, what about if we have a song selected instead of a style?"
   ]
  },
  {
   "cell_type": "code",
   "execution_count": 22,
   "metadata": {},
   "outputs": [
    {
     "name": "stdout",
     "output_type": "stream",
     "text": [
      "[SysEx 7E 7F 09 01]\n",
      "[SysEx 43 10 4C 00 00 7E 00]\n",
      "MIDI Master Tuning 0\n",
      "Reverb Type 03(Hall3)\n",
      "Chorus Type ---(Celeste)\n",
      "0 Bank MSB 0\n",
      "0 Bank LSB 113\n",
      "0 Program Change: [0,113,0] 001 Live! Grand Piano (PIANO)\n",
      "1 Bank MSB 0\n",
      "1 Bank LSB 112\n",
      "1 Program Change: [0,112,48] 054 String Ensemble (STRINGS)\n",
      "2 Bank MSB 0\n",
      "2 Bank LSB 112\n",
      "2 Program Change: [0,112,33] 046 Finger Bass (BASS)\n",
      "0 Voice Volume 110\n",
      "1 Voice Volume 36\n",
      "2 Voice Volume 100\n",
      "0 Voice Pan 64\n",
      "1 Voice Pan 64\n",
      "2 Voice Pan 64\n",
      "0 Voice Reverb Level 20\n",
      "1 Voice Reverb Level 50\n",
      "2 Voice Reverb Level 8\n",
      "0 Voice Chorus Level 0\n",
      "1 Voice Chorus Level 0\n",
      "2 Voice Chorus Level 0\n",
      "0 RPN MSB 0\n",
      "0 RPN LSB 0\n",
      "0 Data Entry MSB: Pitch Bend Range 2\n",
      "1 RPN MSB 0\n",
      "1 RPN LSB 0\n",
      "1 Data Entry MSB: Pitch Bend Range 2\n",
      "2 RPN MSB 0\n",
      "2 RPN LSB 0\n",
      "2 Data Entry MSB: Pitch Bend Range 2\n",
      "0 Pitch Bend 0\n",
      "1 Pitch Bend 0\n",
      "2 Pitch Bend 0\n",
      "0 Release Time 64\n",
      "1 Release Time 64\n",
      "2 Release Time 64\n",
      "0 Pedal Sustain ON\n"
     ]
    }
   ],
   "source": [
    "s1, c1 = collector(s)\n",
    "writeout(c1, 'documents/data/initial_send_song1.txt')"
   ]
  },
  {
   "cell_type": "markdown",
   "metadata": {},
   "source": [
    "That's with song 001 selected."
   ]
  },
  {
   "cell_type": "markdown",
   "metadata": {},
   "source": [
    "How about a blank user song?"
   ]
  },
  {
   "cell_type": "code",
   "execution_count": 28,
   "metadata": {},
   "outputs": [
    {
     "name": "stdout",
     "output_type": "stream",
     "text": [
      "[SysEx 7E 7F 09 01]\n",
      "[SysEx 43 10 4C 00 00 7E 00]\n",
      "MIDI Master Tuning 0\n",
      "Reverb Type 01(Hall1)\n",
      "Chorus Type ---(Celeste)\n",
      "3 Bank MSB 0\n",
      "3 Bank LSB 0\n",
      "3 Program Change: [0,0,0] 134 Grand Piano (XG PIANO)\n",
      "3 RPN MSB 0\n",
      "3 RPN LSB 0\n",
      "3 Data Entry MSB: Pitch Bend Range 2\n",
      "3 RPN LSB 127\n",
      "3 RPN MSB 127\n",
      "3 Voice Reverb Level 40\n",
      "3 Voice Chorus Level 0\n",
      "3 Voice Volume 100\n",
      "3 Voice Pan 64\n",
      "3 Pedal Sustain OFF\n"
     ]
    }
   ],
   "source": [
    "s2, c2 = collector(s1)\n",
    "writeout(c2, 'documents/data/initial_send_user.txt')"
   ]
  },
  {
   "cell_type": "markdown",
   "metadata": {},
   "source": [
    "Huh, it looks like it actually sends a pedal sustain for that.\n",
    "Let's use a note_on instead."
   ]
  },
  {
   "cell_type": "code",
   "execution_count": 6,
   "metadata": {},
   "outputs": [],
   "source": [
    "def collector(state=None):\n",
    "    if state is None:\n",
    "        newstate = controlstate.MidiControlState()\n",
    "    else:\n",
    "        newstate = copy.deepcopy(state)\n",
    "    collection_list = []\n",
    "    with mido.open_input(\"DGX-505 MIDI 1\") as inport:\n",
    "        timer = timers.offsetTimer()\n",
    "        for msg in inport:\n",
    "            msg.time = timer()\n",
    "            wrapped = newstate.feed_message(msg)\n",
    "            collection_list.append(wrapped)\n",
    "            if msg.type != \"clock\":\n",
    "                print(wrapped)\n",
    "            if msg.type == \"note_on\":\n",
    "                break\n",
    "    return newstate, collection_list"
   ]
  },
  {
   "cell_type": "code",
   "execution_count": 30,
   "metadata": {},
   "outputs": [
    {
     "name": "stdout",
     "output_type": "stream",
     "text": [
      "[SysEx 7E 7F 09 01]\n",
      "[SysEx 43 10 4C 00 00 7E 00]\n",
      "MIDI Master Tuning 0\n",
      "Reverb Type 01(Hall1)\n",
      "Chorus Type ---(Celeste)\n",
      "3 Bank MSB 0\n",
      "3 Bank LSB 0\n",
      "3 Program Change: [0,0,0] 134 Grand Piano (XG PIANO)\n",
      "3 RPN MSB 0\n",
      "3 RPN LSB 0\n",
      "3 Data Entry MSB: Pitch Bend Range 2\n",
      "3 RPN LSB 127\n",
      "3 RPN MSB 127\n",
      "3 Voice Reverb Level 40\n",
      "3 Voice Chorus Level 0\n",
      "3 Voice Volume 100\n",
      "3 Voice Pan 64\n",
      "3 Pedal Sustain OFF\n",
      "3 Modulation Wheel 0\n",
      "3 Expression 127\n",
      "3 Harmonic Content 64\n",
      "3 Release Time 64\n",
      "3 Attack Time 64\n",
      "3 Brightness 64\n",
      "3 Pitch Bend 0\n",
      "4 Bank MSB 0\n",
      "4 Bank LSB 0\n",
      "4 Program Change: [0,0,0] 134 Grand Piano (XG PIANO)\n",
      "4 RPN MSB 0\n",
      "4 RPN LSB 0\n",
      "4 Data Entry MSB: Pitch Bend Range 2\n",
      "4 RPN LSB 127\n",
      "4 RPN MSB 127\n",
      "4 Voice Reverb Level 40\n",
      "4 Voice Chorus Level 0\n",
      "4 Voice Volume 100\n",
      "4 Voice Pan 64\n",
      "4 Pedal Sustain OFF\n",
      "4 Modulation Wheel 0\n",
      "4 Expression 127\n",
      "4 Harmonic Content 64\n",
      "4 Release Time 64\n",
      "4 Attack Time 64\n",
      "4 Brightness 64\n",
      "4 Pitch Bend 0\n",
      "5 Bank MSB 0\n",
      "5 Bank LSB 0\n",
      "5 Program Change: [0,0,0] 134 Grand Piano (XG PIANO)\n",
      "5 RPN MSB 0\n",
      "5 RPN LSB 0\n",
      "5 Data Entry MSB: Pitch Bend Range 2\n",
      "5 RPN LSB 127\n",
      "5 RPN MSB 127\n",
      "5 Voice Reverb Level 40\n",
      "5 Voice Chorus Level 0\n",
      "5 Voice Volume 100\n",
      "5 Voice Pan 64\n",
      "5 Pedal Sustain OFF\n",
      "5 Modulation Wheel 0\n",
      "5 Expression 127\n",
      "5 Harmonic Content 64\n",
      "5 Release Time 64\n",
      "5 Attack Time 64\n",
      "5 Brightness 64\n",
      "5 Pitch Bend 0\n",
      "6 Bank MSB 0\n",
      "6 Bank LSB 0\n",
      "6 Program Change: [0,0,0] 134 Grand Piano (XG PIANO)\n",
      "6 RPN MSB 0\n",
      "6 RPN LSB 0\n",
      "6 Data Entry MSB: Pitch Bend Range 2\n",
      "6 RPN LSB 127\n",
      "6 RPN MSB 127\n",
      "6 Voice Reverb Level 40\n",
      "6 Voice Chorus Level 0\n",
      "6 Voice Volume 100\n",
      "6 Voice Pan 64\n",
      "6 Pedal Sustain OFF\n",
      "6 Modulation Wheel 0\n",
      "6 Expression 127\n",
      "6 Harmonic Content 64\n",
      "6 Release Time 64\n",
      "6 Attack Time 64\n",
      "6 Brightness 64\n",
      "6 Pitch Bend 0\n",
      "7 Bank MSB 0\n",
      "7 Bank LSB 0\n",
      "7 Program Change: [0,0,0] 134 Grand Piano (XG PIANO)\n",
      "7 RPN MSB 0\n",
      "7 RPN LSB 0\n",
      "7 Data Entry MSB: Pitch Bend Range 2\n",
      "7 RPN LSB 127\n",
      "7 RPN MSB 127\n",
      "7 Voice Reverb Level 40\n",
      "7 Voice Chorus Level 0\n",
      "7 Voice Volume 100\n",
      "7 Voice Pan 64\n",
      "7 Pedal Sustain OFF\n",
      "7 Modulation Wheel 0\n",
      "7 Expression 127\n",
      "7 Harmonic Content 64\n",
      "7 Release Time 64\n",
      "7 Attack Time 64\n",
      "7 Brightness 64\n",
      "7 Pitch Bend 0\n",
      "8 Voice Volume 88\n",
      "8 Modulation Wheel 0\n",
      "8 Voice Pan 64\n",
      "8 Expression 127\n",
      "8 Voice Reverb Level 40\n",
      "8 Voice Chorus Level 0\n",
      "8 Harmonic Content 64\n",
      "8 Release Time 64\n",
      "8 Attack Time 64\n",
      "8 Brightness 64\n",
      "8 Bank MSB 127\n",
      "8 Bank LSB 0\n",
      "8 Program Change: [127,0,0] 122 Standard Kit 1 (DRUM KITS)\n",
      "8 RPN MSB 0\n",
      "8 RPN LSB 0\n",
      "8 Data Entry MSB: Pitch Bend Range 2\n",
      "8 RPN MSB 0\n",
      "8 RPN LSB 1\n",
      "8 Data Entry MSB: Channel Fine Tuning 64\n",
      "8 RPN MSB 0\n",
      "8 RPN LSB 2\n",
      "8 Data Entry MSB: Channel Coarse Tuning 64\n",
      "8 Pitch Bend 0\n",
      "9 Voice Volume 86\n",
      "9 Modulation Wheel 0\n",
      "9 Voice Pan 64\n",
      "9 Expression 127\n",
      "9 Voice Reverb Level 20\n",
      "9 Voice Chorus Level 0\n",
      "9 Harmonic Content 64\n",
      "9 Release Time 64\n",
      "9 Attack Time 64\n",
      "9 Brightness 64\n",
      "9 Bank MSB 127\n",
      "9 Bank LSB 0\n",
      "9 Program Change: [127,0,27] 128 Dance Kit (DRUM KITS)\n",
      "9 RPN MSB 0\n",
      "9 RPN LSB 0\n",
      "9 Data Entry MSB: Pitch Bend Range 2\n",
      "9 RPN MSB 0\n",
      "9 RPN LSB 1\n",
      "9 Data Entry MSB: Channel Fine Tuning 64\n",
      "9 RPN MSB 0\n",
      "9 RPN LSB 2\n",
      "9 Data Entry MSB: Channel Coarse Tuning 64\n",
      "9 Pitch Bend 0\n",
      "10 Voice Volume 81\n",
      "10 Modulation Wheel 0\n",
      "10 Voice Pan 64\n",
      "10 Expression 127\n",
      "10 Voice Reverb Level 0\n",
      "10 Voice Chorus Level 20\n",
      "10 Harmonic Content 64\n",
      "10 Release Time 64\n",
      "10 Attack Time 64\n",
      "10 Brightness 64\n",
      "10 Bank MSB 0\n",
      "10 Bank LSB 112\n",
      "10 Program Change: [0,112,33] 046 Finger Bass (BASS)\n",
      "10 RPN MSB 0\n",
      "10 RPN LSB 0\n",
      "10 Data Entry MSB: Pitch Bend Range 2\n",
      "10 RPN MSB 0\n",
      "10 RPN LSB 1\n",
      "10 Data Entry MSB: Channel Fine Tuning 64\n",
      "10 RPN MSB 0\n",
      "10 RPN LSB 2\n",
      "10 Data Entry MSB: Channel Coarse Tuning 64\n",
      "10 Pitch Bend 0\n",
      "11 Voice Volume 56\n",
      "11 Modulation Wheel 0\n",
      "11 Voice Pan 38\n",
      "11 Expression 127\n",
      "11 Voice Reverb Level 30\n",
      "11 Voice Chorus Level 30\n",
      "11 Harmonic Content 64\n",
      "11 Release Time 64\n",
      "11 Attack Time 64\n",
      "11 Brightness 64\n",
      "11 Bank MSB 0\n",
      "11 Bank LSB 117\n",
      "11 Program Change: [0,117,27] 041 60's Clean Guitar (GUITAR)\n",
      "11 RPN MSB 0\n",
      "11 RPN LSB 0\n",
      "11 Data Entry MSB: Pitch Bend Range 2\n",
      "11 RPN MSB 0\n",
      "11 RPN LSB 1\n",
      "11 Data Entry MSB: Channel Fine Tuning 64\n",
      "11 RPN MSB 0\n",
      "11 RPN LSB 2\n",
      "11 Data Entry MSB: Channel Coarse Tuning 64\n",
      "11 Pitch Bend 0\n",
      "12 Voice Volume 50\n",
      "12 Modulation Wheel 0\n",
      "12 Voice Pan 86\n",
      "12 Expression 127\n",
      "12 Voice Reverb Level 40\n",
      "12 Voice Chorus Level 40\n",
      "12 Harmonic Content 64\n",
      "12 Release Time 64\n",
      "12 Attack Time 64\n",
      "12 Brightness 64\n",
      "12 Bank MSB 0\n",
      "12 Bank LSB 1\n",
      "12 Program Change: [0,1,4] 146 Electric Piano 1 KSP (XG PIANO)\n",
      "12 RPN MSB 0\n",
      "12 RPN LSB 0\n",
      "12 Data Entry MSB: Pitch Bend Range 2\n",
      "12 RPN MSB 0\n",
      "12 RPN LSB 1\n",
      "12 Data Entry MSB: Channel Fine Tuning 64\n",
      "12 RPN MSB 0\n",
      "12 RPN LSB 2\n",
      "12 Data Entry MSB: Channel Coarse Tuning 64\n",
      "12 Pitch Bend 0\n",
      "13 Voice Volume 52\n",
      "13 Modulation Wheel 0\n",
      "13 Voice Pan 68\n",
      "13 Expression 127\n",
      "13 Voice Reverb Level 68\n",
      "13 Voice Chorus Level 0\n",
      "13 Harmonic Content 64\n",
      "13 Release Time 64\n",
      "13 Attack Time 64\n",
      "13 Brightness 52\n",
      "13 Bank MSB 0\n",
      "13 Bank LSB 0\n",
      "13 Program Change: [0,0,51] 287 Synth Strings 2 (XG ENSEMBLE)\n",
      "13 RPN MSB 0\n",
      "13 RPN LSB 0\n",
      "13 Data Entry MSB: Pitch Bend Range 2\n",
      "13 RPN MSB 0\n",
      "13 RPN LSB 1\n",
      "13 Data Entry MSB: Channel Fine Tuning 64\n",
      "13 RPN MSB 0\n",
      "13 RPN LSB 2\n",
      "13 Data Entry MSB: Channel Coarse Tuning 64\n",
      "13 Pitch Bend 0\n",
      "14 Voice Volume 127\n",
      "14 Modulation Wheel 0\n",
      "14 Voice Pan 64\n",
      "14 Expression 127\n",
      "14 Voice Reverb Level 40\n",
      "14 Voice Chorus Level 0\n",
      "14 Harmonic Content 64\n",
      "14 Release Time 64\n",
      "14 Attack Time 64\n",
      "14 Brightness 64\n",
      "14 Bank MSB 0\n",
      "14 Bank LSB 0\n",
      "14 Program Change: [0,0,0] 134 Grand Piano (XG PIANO)\n",
      "14 RPN MSB 0\n",
      "14 RPN LSB 0\n",
      "14 Data Entry MSB: Pitch Bend Range 2\n",
      "14 RPN MSB 0\n",
      "14 RPN LSB 1\n",
      "14 Data Entry MSB: Channel Fine Tuning 64\n",
      "14 RPN MSB 0\n",
      "14 RPN LSB 2\n",
      "14 Data Entry MSB: Channel Coarse Tuning 64\n",
      "14 Pitch Bend 0\n",
      "15 Voice Volume 127\n",
      "15 Modulation Wheel 0\n",
      "15 Voice Pan 64\n",
      "15 Expression 127\n",
      "15 Voice Reverb Level 40\n",
      "15 Voice Chorus Level 0\n",
      "15 Harmonic Content 64\n",
      "15 Release Time 64\n",
      "15 Attack Time 64\n",
      "15 Brightness 64\n",
      "15 Bank MSB 0\n",
      "15 Bank LSB 0\n",
      "15 Program Change: [0,0,0] 134 Grand Piano (XG PIANO)\n",
      "15 RPN MSB 0\n",
      "15 RPN LSB 0\n",
      "15 Data Entry MSB: Pitch Bend Range 2\n",
      "15 RPN MSB 0\n",
      "15 RPN LSB 1\n",
      "15 Data Entry MSB: Channel Fine Tuning 64\n",
      "15 RPN MSB 0\n",
      "15 RPN LSB 2\n",
      "15 Data Entry MSB: Channel Coarse Tuning 64\n",
      "15 Pitch Bend 0\n",
      "0 Bank MSB 0\n",
      "0 Bank LSB 113\n",
      "0 Program Change: [0,113,0] 001 Live! Grand Piano (PIANO)\n",
      "1 Bank MSB 0\n",
      "1 Bank LSB 112\n",
      "1 Program Change: [0,112,48] 054 String Ensemble (STRINGS)\n",
      "2 Bank MSB 0\n",
      "2 Bank LSB 112\n",
      "2 Program Change: [0,112,33] 046 Finger Bass (BASS)\n",
      "0 Voice Volume 110\n",
      "1 Voice Volume 36\n",
      "2 Voice Volume 100\n",
      "0 Voice Pan 64\n",
      "1 Voice Pan 64\n",
      "2 Voice Pan 64\n",
      "0 Voice Reverb Level 20\n",
      "1 Voice Reverb Level 50\n",
      "2 Voice Reverb Level 8\n",
      "0 Voice Chorus Level 0\n",
      "1 Voice Chorus Level 0\n",
      "2 Voice Chorus Level 0\n",
      "0 RPN MSB 0\n",
      "0 RPN LSB 0\n",
      "0 Data Entry MSB: Pitch Bend Range 2\n",
      "1 RPN MSB 0\n",
      "1 RPN LSB 0\n",
      "1 Data Entry MSB: Pitch Bend Range 2\n",
      "2 RPN MSB 0\n",
      "2 RPN LSB 0\n",
      "2 Data Entry MSB: Pitch Bend Range 2\n",
      "0 Pitch Bend 0\n",
      "1 Pitch Bend 0\n",
      "2 Pitch Bend 0\n",
      "0 Release Time 64\n",
      "1 Release Time 64\n",
      "2 Release Time 64\n",
      "0 Note On 100(E6)\n"
     ]
    }
   ],
   "source": [
    "s3, c2 = collector(s2)\n",
    "writeout(c2, 'documents/data/initial_send_user.txt')"
   ]
  },
  {
   "cell_type": "code",
   "execution_count": 31,
   "metadata": {},
   "outputs": [
    {
     "name": "stdout",
     "output_type": "stream",
     "text": [
      "Local: None\n",
      "Master volume: None\n",
      "Master tuning: 0\n",
      "Reverb type: 01(Hall1)\n",
      "Chorus type: ---(Celeste)\n",
      "CHANNEL: 0\n",
      "Bank Program: (0, 113, 0)\n",
      "Control.BANK_MSB: 0\n",
      "Control.BANK_LSB: 113\n",
      "Control.VOLUME: 110\n",
      "Control.PAN: 64\n",
      "Control.REVERB: 20\n",
      "Control.CHORUS: 0\n",
      "Control.PEDAL: ON\n",
      "Control.RELEASE: 64\n",
      "Control.MODULATION: None\n",
      "Control.EXPRESSION: None\n",
      "Control.PORTAMENTO_CTRL: None\n",
      "Control.HARMONIC: None\n",
      "Control.ATTACK: None\n",
      "Control.BRIGHTNESS: None\n",
      "Control.RPN_MSB: 0\n",
      "Control.RPN_LSB: 0\n",
      "Control.DATA_MSB: None\n",
      "Control.DATA_LSB: None\n",
      "Control.DATA_INC: None\n",
      "Control.DATA_DEC: None\n",
      "Control.SOUND_OFF: None\n",
      "Control.SOUND_OFF_XMONO: None\n",
      "Control.SOUND_OFF_XPOLY: None\n",
      "Control.NOTES_OFF: None\n",
      "Control.NOTES_OFF_XOMNIOFF: None\n",
      "Control.NOTES_OFF_XOMNION: None\n",
      "Control.RESET_CONTROLS: None\n",
      "Control.LOCAL: None\n",
      "Rpn.PITCH_BEND_RANGE: (2, None)\n",
      "Rpn.FINE_TUNE: (None, None)\n",
      "Rpn.COARSE_TUNE: (None, None)\n",
      "Rpn.NULL: (None, None)\n",
      "Pitchwheel: 0\n",
      "CHANNEL: 1\n",
      "Bank Program: (0, 112, 48)\n",
      "Control.BANK_MSB: 0\n",
      "Control.BANK_LSB: 112\n",
      "Control.VOLUME: 36\n",
      "Control.PAN: 64\n",
      "Control.REVERB: 50\n",
      "Control.CHORUS: 0\n",
      "Control.PEDAL: None\n",
      "Control.RELEASE: 64\n",
      "Control.MODULATION: None\n",
      "Control.EXPRESSION: None\n",
      "Control.PORTAMENTO_CTRL: None\n",
      "Control.HARMONIC: None\n",
      "Control.ATTACK: None\n",
      "Control.BRIGHTNESS: None\n",
      "Control.RPN_MSB: 0\n",
      "Control.RPN_LSB: 0\n",
      "Control.DATA_MSB: None\n",
      "Control.DATA_LSB: None\n",
      "Control.DATA_INC: None\n",
      "Control.DATA_DEC: None\n",
      "Control.SOUND_OFF: None\n",
      "Control.SOUND_OFF_XMONO: None\n",
      "Control.SOUND_OFF_XPOLY: None\n",
      "Control.NOTES_OFF: None\n",
      "Control.NOTES_OFF_XOMNIOFF: None\n",
      "Control.NOTES_OFF_XOMNION: None\n",
      "Control.RESET_CONTROLS: None\n",
      "Control.LOCAL: None\n",
      "Rpn.PITCH_BEND_RANGE: (2, None)\n",
      "Rpn.FINE_TUNE: (None, None)\n",
      "Rpn.COARSE_TUNE: (None, None)\n",
      "Rpn.NULL: (None, None)\n",
      "Pitchwheel: 0\n",
      "CHANNEL: 2\n",
      "Bank Program: (0, 112, 33)\n",
      "Control.BANK_MSB: 0\n",
      "Control.BANK_LSB: 112\n",
      "Control.VOLUME: 100\n",
      "Control.PAN: 64\n",
      "Control.REVERB: 8\n",
      "Control.CHORUS: 0\n",
      "Control.PEDAL: None\n",
      "Control.RELEASE: 64\n",
      "Control.MODULATION: None\n",
      "Control.EXPRESSION: None\n",
      "Control.PORTAMENTO_CTRL: None\n",
      "Control.HARMONIC: None\n",
      "Control.ATTACK: None\n",
      "Control.BRIGHTNESS: None\n",
      "Control.RPN_MSB: 0\n",
      "Control.RPN_LSB: 0\n",
      "Control.DATA_MSB: None\n",
      "Control.DATA_LSB: None\n",
      "Control.DATA_INC: None\n",
      "Control.DATA_DEC: None\n",
      "Control.SOUND_OFF: None\n",
      "Control.SOUND_OFF_XMONO: None\n",
      "Control.SOUND_OFF_XPOLY: None\n",
      "Control.NOTES_OFF: None\n",
      "Control.NOTES_OFF_XOMNIOFF: None\n",
      "Control.NOTES_OFF_XOMNION: None\n",
      "Control.RESET_CONTROLS: None\n",
      "Control.LOCAL: None\n",
      "Rpn.PITCH_BEND_RANGE: (2, None)\n",
      "Rpn.FINE_TUNE: (None, None)\n",
      "Rpn.COARSE_TUNE: (None, None)\n",
      "Rpn.NULL: (None, None)\n",
      "Pitchwheel: 0\n",
      "CHANNEL: 3\n",
      "Bank Program: (0, 0, 0)\n",
      "Control.BANK_MSB: 0\n",
      "Control.BANK_LSB: 0\n",
      "Control.VOLUME: 100\n",
      "Control.PAN: 64\n",
      "Control.REVERB: 40\n",
      "Control.CHORUS: 0\n",
      "Control.PEDAL: OFF\n",
      "Control.RELEASE: 64\n",
      "Control.MODULATION: 0\n",
      "Control.EXPRESSION: 127\n",
      "Control.PORTAMENTO_CTRL: None\n",
      "Control.HARMONIC: 64\n",
      "Control.ATTACK: 64\n",
      "Control.BRIGHTNESS: 64\n",
      "Control.RPN_MSB: 127\n",
      "Control.RPN_LSB: 127\n",
      "Control.DATA_MSB: None\n",
      "Control.DATA_LSB: None\n",
      "Control.DATA_INC: None\n",
      "Control.DATA_DEC: None\n",
      "Control.SOUND_OFF: None\n",
      "Control.SOUND_OFF_XMONO: None\n",
      "Control.SOUND_OFF_XPOLY: None\n",
      "Control.NOTES_OFF: None\n",
      "Control.NOTES_OFF_XOMNIOFF: None\n",
      "Control.NOTES_OFF_XOMNION: None\n",
      "Control.RESET_CONTROLS: None\n",
      "Control.LOCAL: None\n",
      "Rpn.PITCH_BEND_RANGE: (2, None)\n",
      "Rpn.FINE_TUNE: (None, None)\n",
      "Rpn.COARSE_TUNE: (None, None)\n",
      "Rpn.NULL: (None, None)\n",
      "Pitchwheel: 0\n",
      "CHANNEL: 4\n",
      "Bank Program: (0, 0, 0)\n",
      "Control.BANK_MSB: 0\n",
      "Control.BANK_LSB: 0\n",
      "Control.VOLUME: 100\n",
      "Control.PAN: 64\n",
      "Control.REVERB: 40\n",
      "Control.CHORUS: 0\n",
      "Control.PEDAL: OFF\n",
      "Control.RELEASE: 64\n",
      "Control.MODULATION: 0\n",
      "Control.EXPRESSION: 127\n",
      "Control.PORTAMENTO_CTRL: None\n",
      "Control.HARMONIC: 64\n",
      "Control.ATTACK: 64\n",
      "Control.BRIGHTNESS: 64\n",
      "Control.RPN_MSB: 127\n",
      "Control.RPN_LSB: 127\n",
      "Control.DATA_MSB: None\n",
      "Control.DATA_LSB: None\n",
      "Control.DATA_INC: None\n",
      "Control.DATA_DEC: None\n",
      "Control.SOUND_OFF: None\n",
      "Control.SOUND_OFF_XMONO: None\n",
      "Control.SOUND_OFF_XPOLY: None\n",
      "Control.NOTES_OFF: None\n",
      "Control.NOTES_OFF_XOMNIOFF: None\n",
      "Control.NOTES_OFF_XOMNION: None\n",
      "Control.RESET_CONTROLS: None\n",
      "Control.LOCAL: None\n",
      "Rpn.PITCH_BEND_RANGE: (2, None)\n",
      "Rpn.FINE_TUNE: (None, None)\n",
      "Rpn.COARSE_TUNE: (None, None)\n",
      "Rpn.NULL: (None, None)\n",
      "Pitchwheel: 0\n",
      "CHANNEL: 5\n",
      "Bank Program: (0, 0, 0)\n",
      "Control.BANK_MSB: 0\n",
      "Control.BANK_LSB: 0\n",
      "Control.VOLUME: 100\n",
      "Control.PAN: 64\n",
      "Control.REVERB: 40\n",
      "Control.CHORUS: 0\n",
      "Control.PEDAL: OFF\n",
      "Control.RELEASE: 64\n",
      "Control.MODULATION: 0\n",
      "Control.EXPRESSION: 127\n",
      "Control.PORTAMENTO_CTRL: None\n",
      "Control.HARMONIC: 64\n",
      "Control.ATTACK: 64\n",
      "Control.BRIGHTNESS: 64\n",
      "Control.RPN_MSB: 127\n",
      "Control.RPN_LSB: 127\n",
      "Control.DATA_MSB: None\n",
      "Control.DATA_LSB: None\n",
      "Control.DATA_INC: None\n",
      "Control.DATA_DEC: None\n",
      "Control.SOUND_OFF: None\n",
      "Control.SOUND_OFF_XMONO: None\n",
      "Control.SOUND_OFF_XPOLY: None\n",
      "Control.NOTES_OFF: None\n",
      "Control.NOTES_OFF_XOMNIOFF: None\n",
      "Control.NOTES_OFF_XOMNION: None\n",
      "Control.RESET_CONTROLS: None\n",
      "Control.LOCAL: None\n",
      "Rpn.PITCH_BEND_RANGE: (2, None)\n",
      "Rpn.FINE_TUNE: (None, None)\n",
      "Rpn.COARSE_TUNE: (None, None)\n",
      "Rpn.NULL: (None, None)\n",
      "Pitchwheel: 0\n",
      "CHANNEL: 6\n",
      "Bank Program: (0, 0, 0)\n",
      "Control.BANK_MSB: 0\n",
      "Control.BANK_LSB: 0\n",
      "Control.VOLUME: 100\n",
      "Control.PAN: 64\n",
      "Control.REVERB: 40\n",
      "Control.CHORUS: 0\n",
      "Control.PEDAL: OFF\n",
      "Control.RELEASE: 64\n",
      "Control.MODULATION: 0\n",
      "Control.EXPRESSION: 127\n",
      "Control.PORTAMENTO_CTRL: None\n",
      "Control.HARMONIC: 64\n",
      "Control.ATTACK: 64\n",
      "Control.BRIGHTNESS: 64\n",
      "Control.RPN_MSB: 127\n",
      "Control.RPN_LSB: 127\n",
      "Control.DATA_MSB: None\n",
      "Control.DATA_LSB: None\n",
      "Control.DATA_INC: None\n",
      "Control.DATA_DEC: None\n",
      "Control.SOUND_OFF: None\n",
      "Control.SOUND_OFF_XMONO: None\n",
      "Control.SOUND_OFF_XPOLY: None\n",
      "Control.NOTES_OFF: None\n",
      "Control.NOTES_OFF_XOMNIOFF: None\n",
      "Control.NOTES_OFF_XOMNION: None\n",
      "Control.RESET_CONTROLS: None\n",
      "Control.LOCAL: None\n",
      "Rpn.PITCH_BEND_RANGE: (2, None)\n",
      "Rpn.FINE_TUNE: (None, None)\n",
      "Rpn.COARSE_TUNE: (None, None)\n",
      "Rpn.NULL: (None, None)\n",
      "Pitchwheel: 0\n",
      "CHANNEL: 7\n",
      "Bank Program: (0, 0, 0)\n",
      "Control.BANK_MSB: 0\n",
      "Control.BANK_LSB: 0\n",
      "Control.VOLUME: 100\n",
      "Control.PAN: 64\n",
      "Control.REVERB: 40\n",
      "Control.CHORUS: 0\n",
      "Control.PEDAL: OFF\n",
      "Control.RELEASE: 64\n",
      "Control.MODULATION: 0\n",
      "Control.EXPRESSION: 127\n",
      "Control.PORTAMENTO_CTRL: None\n",
      "Control.HARMONIC: 64\n",
      "Control.ATTACK: 64\n",
      "Control.BRIGHTNESS: 64\n",
      "Control.RPN_MSB: 127\n",
      "Control.RPN_LSB: 127\n",
      "Control.DATA_MSB: None\n",
      "Control.DATA_LSB: None\n",
      "Control.DATA_INC: None\n",
      "Control.DATA_DEC: None\n",
      "Control.SOUND_OFF: None\n",
      "Control.SOUND_OFF_XMONO: None\n",
      "Control.SOUND_OFF_XPOLY: None\n",
      "Control.NOTES_OFF: None\n",
      "Control.NOTES_OFF_XOMNIOFF: None\n",
      "Control.NOTES_OFF_XOMNION: None\n",
      "Control.RESET_CONTROLS: None\n",
      "Control.LOCAL: None\n",
      "Rpn.PITCH_BEND_RANGE: (2, None)\n",
      "Rpn.FINE_TUNE: (None, None)\n",
      "Rpn.COARSE_TUNE: (None, None)\n",
      "Rpn.NULL: (None, None)\n",
      "Pitchwheel: 0\n",
      "CHANNEL: 8\n",
      "Bank Program: (127, 0, 0)\n",
      "Control.BANK_MSB: 127\n",
      "Control.BANK_LSB: 0\n",
      "Control.VOLUME: 88\n",
      "Control.PAN: 64\n",
      "Control.REVERB: 40\n",
      "Control.CHORUS: 0\n",
      "Control.PEDAL: None\n",
      "Control.RELEASE: 64\n",
      "Control.MODULATION: 0\n",
      "Control.EXPRESSION: 127\n",
      "Control.PORTAMENTO_CTRL: None\n",
      "Control.HARMONIC: 64\n",
      "Control.ATTACK: 64\n",
      "Control.BRIGHTNESS: 64\n",
      "Control.RPN_MSB: 0\n",
      "Control.RPN_LSB: 2\n",
      "Control.DATA_MSB: None\n",
      "Control.DATA_LSB: None\n",
      "Control.DATA_INC: None\n",
      "Control.DATA_DEC: None\n",
      "Control.SOUND_OFF: None\n",
      "Control.SOUND_OFF_XMONO: None\n",
      "Control.SOUND_OFF_XPOLY: None\n",
      "Control.NOTES_OFF: None\n",
      "Control.NOTES_OFF_XOMNIOFF: None\n",
      "Control.NOTES_OFF_XOMNION: None\n",
      "Control.RESET_CONTROLS: None\n",
      "Control.LOCAL: None\n",
      "Rpn.PITCH_BEND_RANGE: (2, None)\n",
      "Rpn.FINE_TUNE: (64, None)\n",
      "Rpn.COARSE_TUNE: (64, None)\n",
      "Rpn.NULL: (None, None)\n",
      "Pitchwheel: 0\n",
      "CHANNEL: 9\n",
      "Bank Program: (127, 0, 27)\n",
      "Control.BANK_MSB: 127\n",
      "Control.BANK_LSB: 0\n",
      "Control.VOLUME: 86\n",
      "Control.PAN: 64\n",
      "Control.REVERB: 20\n",
      "Control.CHORUS: 0\n",
      "Control.PEDAL: None\n",
      "Control.RELEASE: 64\n",
      "Control.MODULATION: 0\n",
      "Control.EXPRESSION: 127\n",
      "Control.PORTAMENTO_CTRL: None\n",
      "Control.HARMONIC: 64\n",
      "Control.ATTACK: 64\n",
      "Control.BRIGHTNESS: 64\n",
      "Control.RPN_MSB: 0\n",
      "Control.RPN_LSB: 2\n",
      "Control.DATA_MSB: None\n",
      "Control.DATA_LSB: None\n",
      "Control.DATA_INC: None\n",
      "Control.DATA_DEC: None\n",
      "Control.SOUND_OFF: None\n",
      "Control.SOUND_OFF_XMONO: None\n",
      "Control.SOUND_OFF_XPOLY: None\n",
      "Control.NOTES_OFF: None\n",
      "Control.NOTES_OFF_XOMNIOFF: None\n",
      "Control.NOTES_OFF_XOMNION: None\n",
      "Control.RESET_CONTROLS: None\n",
      "Control.LOCAL: None\n",
      "Rpn.PITCH_BEND_RANGE: (2, None)\n",
      "Rpn.FINE_TUNE: (64, None)\n",
      "Rpn.COARSE_TUNE: (64, None)\n",
      "Rpn.NULL: (None, None)\n",
      "Pitchwheel: 0\n",
      "CHANNEL: 10\n",
      "Bank Program: (0, 112, 33)\n",
      "Control.BANK_MSB: 0\n",
      "Control.BANK_LSB: 112\n",
      "Control.VOLUME: 81\n",
      "Control.PAN: 64\n",
      "Control.REVERB: 0\n",
      "Control.CHORUS: 20\n",
      "Control.PEDAL: None\n",
      "Control.RELEASE: 64\n",
      "Control.MODULATION: 0\n",
      "Control.EXPRESSION: 127\n",
      "Control.PORTAMENTO_CTRL: None\n",
      "Control.HARMONIC: 64\n",
      "Control.ATTACK: 64\n",
      "Control.BRIGHTNESS: 64\n",
      "Control.RPN_MSB: 0\n",
      "Control.RPN_LSB: 2\n",
      "Control.DATA_MSB: None\n",
      "Control.DATA_LSB: None\n",
      "Control.DATA_INC: None\n",
      "Control.DATA_DEC: None\n",
      "Control.SOUND_OFF: None\n",
      "Control.SOUND_OFF_XMONO: None\n",
      "Control.SOUND_OFF_XPOLY: None\n",
      "Control.NOTES_OFF: None\n",
      "Control.NOTES_OFF_XOMNIOFF: None\n",
      "Control.NOTES_OFF_XOMNION: None\n",
      "Control.RESET_CONTROLS: None\n",
      "Control.LOCAL: None\n",
      "Rpn.PITCH_BEND_RANGE: (2, None)\n",
      "Rpn.FINE_TUNE: (64, None)\n",
      "Rpn.COARSE_TUNE: (64, None)\n",
      "Rpn.NULL: (None, None)\n",
      "Pitchwheel: 0\n",
      "CHANNEL: 11\n",
      "Bank Program: (0, 117, 27)\n",
      "Control.BANK_MSB: 0\n",
      "Control.BANK_LSB: 117\n",
      "Control.VOLUME: 56\n",
      "Control.PAN: 38\n",
      "Control.REVERB: 30\n",
      "Control.CHORUS: 30\n",
      "Control.PEDAL: None\n",
      "Control.RELEASE: 64\n",
      "Control.MODULATION: 0\n",
      "Control.EXPRESSION: 127\n",
      "Control.PORTAMENTO_CTRL: None\n",
      "Control.HARMONIC: 64\n",
      "Control.ATTACK: 64\n",
      "Control.BRIGHTNESS: 64\n",
      "Control.RPN_MSB: 0\n",
      "Control.RPN_LSB: 2\n",
      "Control.DATA_MSB: None\n",
      "Control.DATA_LSB: None\n",
      "Control.DATA_INC: None\n",
      "Control.DATA_DEC: None\n",
      "Control.SOUND_OFF: None\n",
      "Control.SOUND_OFF_XMONO: None\n",
      "Control.SOUND_OFF_XPOLY: None\n",
      "Control.NOTES_OFF: None\n",
      "Control.NOTES_OFF_XOMNIOFF: None\n",
      "Control.NOTES_OFF_XOMNION: None\n",
      "Control.RESET_CONTROLS: None\n",
      "Control.LOCAL: None\n",
      "Rpn.PITCH_BEND_RANGE: (2, None)\n",
      "Rpn.FINE_TUNE: (64, None)\n",
      "Rpn.COARSE_TUNE: (64, None)\n",
      "Rpn.NULL: (None, None)\n",
      "Pitchwheel: 0\n",
      "CHANNEL: 12\n",
      "Bank Program: (0, 1, 4)\n",
      "Control.BANK_MSB: 0\n",
      "Control.BANK_LSB: 1\n",
      "Control.VOLUME: 50\n",
      "Control.PAN: 86\n",
      "Control.REVERB: 40\n",
      "Control.CHORUS: 40\n",
      "Control.PEDAL: None\n",
      "Control.RELEASE: 64\n",
      "Control.MODULATION: 0\n",
      "Control.EXPRESSION: 127\n",
      "Control.PORTAMENTO_CTRL: None\n",
      "Control.HARMONIC: 64\n",
      "Control.ATTACK: 64\n",
      "Control.BRIGHTNESS: 64\n",
      "Control.RPN_MSB: 0\n",
      "Control.RPN_LSB: 2\n",
      "Control.DATA_MSB: None\n",
      "Control.DATA_LSB: None\n",
      "Control.DATA_INC: None\n",
      "Control.DATA_DEC: None\n",
      "Control.SOUND_OFF: None\n",
      "Control.SOUND_OFF_XMONO: None\n",
      "Control.SOUND_OFF_XPOLY: None\n",
      "Control.NOTES_OFF: None\n",
      "Control.NOTES_OFF_XOMNIOFF: None\n",
      "Control.NOTES_OFF_XOMNION: None\n",
      "Control.RESET_CONTROLS: None\n",
      "Control.LOCAL: None\n",
      "Rpn.PITCH_BEND_RANGE: (2, None)\n",
      "Rpn.FINE_TUNE: (64, None)\n",
      "Rpn.COARSE_TUNE: (64, None)\n",
      "Rpn.NULL: (None, None)\n",
      "Pitchwheel: 0\n",
      "CHANNEL: 13\n",
      "Bank Program: (0, 0, 51)\n",
      "Control.BANK_MSB: 0\n",
      "Control.BANK_LSB: 0\n",
      "Control.VOLUME: 52\n",
      "Control.PAN: 68\n",
      "Control.REVERB: 68\n",
      "Control.CHORUS: 0\n",
      "Control.PEDAL: None\n",
      "Control.RELEASE: 64\n",
      "Control.MODULATION: 0\n",
      "Control.EXPRESSION: 127\n",
      "Control.PORTAMENTO_CTRL: None\n",
      "Control.HARMONIC: 64\n",
      "Control.ATTACK: 64\n",
      "Control.BRIGHTNESS: 52\n",
      "Control.RPN_MSB: 0\n",
      "Control.RPN_LSB: 2\n",
      "Control.DATA_MSB: None\n",
      "Control.DATA_LSB: None\n",
      "Control.DATA_INC: None\n",
      "Control.DATA_DEC: None\n",
      "Control.SOUND_OFF: None\n",
      "Control.SOUND_OFF_XMONO: None\n",
      "Control.SOUND_OFF_XPOLY: None\n",
      "Control.NOTES_OFF: None\n",
      "Control.NOTES_OFF_XOMNIOFF: None\n",
      "Control.NOTES_OFF_XOMNION: None\n",
      "Control.RESET_CONTROLS: None\n",
      "Control.LOCAL: None\n",
      "Rpn.PITCH_BEND_RANGE: (2, None)\n",
      "Rpn.FINE_TUNE: (64, None)\n",
      "Rpn.COARSE_TUNE: (64, None)\n",
      "Rpn.NULL: (None, None)\n",
      "Pitchwheel: 0\n",
      "CHANNEL: 14\n",
      "Bank Program: (0, 0, 0)\n",
      "Control.BANK_MSB: 0\n",
      "Control.BANK_LSB: 0\n",
      "Control.VOLUME: 127\n",
      "Control.PAN: 64\n",
      "Control.REVERB: 40\n",
      "Control.CHORUS: 0\n",
      "Control.PEDAL: None\n",
      "Control.RELEASE: 64\n",
      "Control.MODULATION: 0\n",
      "Control.EXPRESSION: 127\n",
      "Control.PORTAMENTO_CTRL: None\n",
      "Control.HARMONIC: 64\n",
      "Control.ATTACK: 64\n",
      "Control.BRIGHTNESS: 64\n",
      "Control.RPN_MSB: 0\n",
      "Control.RPN_LSB: 2\n",
      "Control.DATA_MSB: None\n",
      "Control.DATA_LSB: None\n",
      "Control.DATA_INC: None\n",
      "Control.DATA_DEC: None\n",
      "Control.SOUND_OFF: None\n",
      "Control.SOUND_OFF_XMONO: None\n",
      "Control.SOUND_OFF_XPOLY: None\n",
      "Control.NOTES_OFF: None\n",
      "Control.NOTES_OFF_XOMNIOFF: None\n",
      "Control.NOTES_OFF_XOMNION: None\n",
      "Control.RESET_CONTROLS: None\n",
      "Control.LOCAL: None\n",
      "Rpn.PITCH_BEND_RANGE: (2, None)\n",
      "Rpn.FINE_TUNE: (64, None)\n",
      "Rpn.COARSE_TUNE: (64, None)\n",
      "Rpn.NULL: (None, None)\n",
      "Pitchwheel: 0\n",
      "CHANNEL: 15\n",
      "Bank Program: (0, 0, 0)\n",
      "Control.BANK_MSB: 0\n",
      "Control.BANK_LSB: 0\n",
      "Control.VOLUME: 127\n",
      "Control.PAN: 64\n",
      "Control.REVERB: 40\n",
      "Control.CHORUS: 0\n",
      "Control.PEDAL: None\n",
      "Control.RELEASE: 64\n",
      "Control.MODULATION: 0\n",
      "Control.EXPRESSION: 127\n",
      "Control.PORTAMENTO_CTRL: None\n",
      "Control.HARMONIC: 64\n",
      "Control.ATTACK: 64\n",
      "Control.BRIGHTNESS: 64\n",
      "Control.RPN_MSB: 0\n",
      "Control.RPN_LSB: 2\n",
      "Control.DATA_MSB: None\n",
      "Control.DATA_LSB: None\n",
      "Control.DATA_INC: None\n",
      "Control.DATA_DEC: None\n",
      "Control.SOUND_OFF: None\n",
      "Control.SOUND_OFF_XMONO: None\n",
      "Control.SOUND_OFF_XPOLY: None\n",
      "Control.NOTES_OFF: None\n",
      "Control.NOTES_OFF_XOMNIOFF: None\n",
      "Control.NOTES_OFF_XOMNION: None\n",
      "Control.RESET_CONTROLS: None\n",
      "Control.LOCAL: None\n",
      "Rpn.PITCH_BEND_RANGE: (2, None)\n",
      "Rpn.FINE_TUNE: (64, None)\n",
      "Rpn.COARSE_TUNE: (64, None)\n",
      "Rpn.NULL: (None, None)\n",
      "Pitchwheel: 0\n"
     ]
    }
   ],
   "source": [
    "s3._dump()"
   ]
  },
  {
   "cell_type": "markdown",
   "metadata": {},
   "source": [
    "With a blank user song, it looks like there are more of the settings set (to defaults?)"
   ]
  },
  {
   "cell_type": "markdown",
   "metadata": {},
   "source": [
    "How about if we have an initial send, but with the song out OFF?"
   ]
  },
  {
   "cell_type": "code",
   "execution_count": 32,
   "metadata": {},
   "outputs": [
    {
     "name": "stdout",
     "output_type": "stream",
     "text": [
      "[SysEx 7E 7F 09 01]\n",
      "[SysEx 43 10 4C 00 00 7E 00]\n",
      "MIDI Master Tuning 0\n",
      "Reverb Type 01(Hall1)\n",
      "Chorus Type ---(Celeste)\n",
      "8 Voice Volume 88\n",
      "8 Modulation Wheel 0\n",
      "8 Voice Pan 64\n",
      "8 Expression 127\n",
      "8 Voice Reverb Level 40\n",
      "8 Voice Chorus Level 0\n",
      "8 Harmonic Content 64\n",
      "8 Release Time 64\n",
      "8 Attack Time 64\n",
      "8 Brightness 64\n",
      "8 Bank MSB 127\n",
      "8 Bank LSB 0\n",
      "8 Program Change: [127,0,0] 122 Standard Kit 1 (DRUM KITS)\n",
      "8 RPN MSB 0\n",
      "8 RPN LSB 0\n",
      "8 Data Entry MSB: Pitch Bend Range 2\n",
      "8 RPN MSB 0\n",
      "8 RPN LSB 1\n",
      "8 Data Entry MSB: Channel Fine Tuning 64\n",
      "8 RPN MSB 0\n",
      "8 RPN LSB 2\n",
      "8 Data Entry MSB: Channel Coarse Tuning 64\n",
      "8 Pitch Bend 0\n",
      "9 Voice Volume 86\n",
      "9 Modulation Wheel 0\n",
      "9 Voice Pan 64\n",
      "9 Expression 127\n",
      "9 Voice Reverb Level 20\n",
      "9 Voice Chorus Level 0\n",
      "9 Harmonic Content 64\n",
      "9 Release Time 64\n",
      "9 Attack Time 64\n",
      "9 Brightness 64\n",
      "9 Bank MSB 127\n",
      "9 Bank LSB 0\n",
      "9 Program Change: [127,0,27] 128 Dance Kit (DRUM KITS)\n",
      "9 RPN MSB 0\n",
      "9 RPN LSB 0\n",
      "9 Data Entry MSB: Pitch Bend Range 2\n",
      "9 RPN MSB 0\n",
      "9 RPN LSB 1\n",
      "9 Data Entry MSB: Channel Fine Tuning 64\n",
      "9 RPN MSB 0\n",
      "9 RPN LSB 2\n",
      "9 Data Entry MSB: Channel Coarse Tuning 64\n",
      "9 Pitch Bend 0\n",
      "10 Voice Volume 81\n",
      "10 Modulation Wheel 0\n",
      "10 Voice Pan 64\n",
      "10 Expression 127\n",
      "10 Voice Reverb Level 0\n",
      "10 Voice Chorus Level 20\n",
      "10 Harmonic Content 64\n",
      "10 Release Time 64\n",
      "10 Attack Time 64\n",
      "10 Brightness 64\n",
      "10 Bank MSB 0\n",
      "10 Bank LSB 112\n",
      "10 Program Change: [0,112,33] 046 Finger Bass (BASS)\n",
      "10 RPN MSB 0\n",
      "10 RPN LSB 0\n",
      "10 Data Entry MSB: Pitch Bend Range 2\n",
      "10 RPN MSB 0\n",
      "10 RPN LSB 1\n",
      "10 Data Entry MSB: Channel Fine Tuning 64\n",
      "10 RPN MSB 0\n",
      "10 RPN LSB 2\n",
      "10 Data Entry MSB: Channel Coarse Tuning 64\n",
      "10 Pitch Bend 0\n",
      "11 Voice Volume 56\n",
      "11 Modulation Wheel 0\n",
      "11 Voice Pan 38\n",
      "11 Expression 127\n",
      "11 Voice Reverb Level 30\n",
      "11 Voice Chorus Level 30\n",
      "11 Harmonic Content 64\n",
      "11 Release Time 64\n",
      "11 Attack Time 64\n",
      "11 Brightness 64\n",
      "11 Bank MSB 0\n",
      "11 Bank LSB 117\n",
      "11 Program Change: [0,117,27] 041 60's Clean Guitar (GUITAR)\n",
      "11 RPN MSB 0\n",
      "11 RPN LSB 0\n",
      "11 Data Entry MSB: Pitch Bend Range 2\n",
      "11 RPN MSB 0\n",
      "11 RPN LSB 1\n",
      "11 Data Entry MSB: Channel Fine Tuning 64\n",
      "11 RPN MSB 0\n",
      "11 RPN LSB 2\n",
      "11 Data Entry MSB: Channel Coarse Tuning 64\n",
      "11 Pitch Bend 0\n",
      "12 Voice Volume 50\n",
      "12 Modulation Wheel 0\n",
      "12 Voice Pan 86\n",
      "12 Expression 127\n",
      "12 Voice Reverb Level 40\n",
      "12 Voice Chorus Level 40\n",
      "12 Harmonic Content 64\n",
      "12 Release Time 64\n",
      "12 Attack Time 64\n",
      "12 Brightness 64\n",
      "12 Bank MSB 0\n",
      "12 Bank LSB 1\n",
      "12 Program Change: [0,1,4] 146 Electric Piano 1 KSP (XG PIANO)\n",
      "12 RPN MSB 0\n",
      "12 RPN LSB 0\n",
      "12 Data Entry MSB: Pitch Bend Range 2\n",
      "12 RPN MSB 0\n",
      "12 RPN LSB 1\n",
      "12 Data Entry MSB: Channel Fine Tuning 64\n",
      "12 RPN MSB 0\n",
      "12 RPN LSB 2\n",
      "12 Data Entry MSB: Channel Coarse Tuning 64\n",
      "12 Pitch Bend 0\n",
      "13 Voice Volume 52\n",
      "13 Modulation Wheel 0\n",
      "13 Voice Pan 68\n",
      "13 Expression 127\n",
      "13 Voice Reverb Level 68\n",
      "13 Voice Chorus Level 0\n",
      "13 Harmonic Content 64\n",
      "13 Release Time 64\n",
      "13 Attack Time 64\n",
      "13 Brightness 52\n",
      "13 Bank MSB 0\n",
      "13 Bank LSB 0\n",
      "13 Program Change: [0,0,51] 287 Synth Strings 2 (XG ENSEMBLE)\n",
      "13 RPN MSB 0\n",
      "13 RPN LSB 0\n",
      "13 Data Entry MSB: Pitch Bend Range 2\n",
      "13 RPN MSB 0\n",
      "13 RPN LSB 1\n",
      "13 Data Entry MSB: Channel Fine Tuning 64\n",
      "13 RPN MSB 0\n",
      "13 RPN LSB 2\n",
      "13 Data Entry MSB: Channel Coarse Tuning 64\n",
      "13 Pitch Bend 0\n",
      "14 Voice Volume 127\n",
      "14 Modulation Wheel 0\n",
      "14 Voice Pan 64\n",
      "14 Expression 127\n",
      "14 Voice Reverb Level 40\n",
      "14 Voice Chorus Level 0\n",
      "14 Harmonic Content 64\n",
      "14 Release Time 64\n",
      "14 Attack Time 64\n",
      "14 Brightness 64\n",
      "14 Bank MSB 0\n",
      "14 Bank LSB 0\n",
      "14 Program Change: [0,0,0] 134 Grand Piano (XG PIANO)\n",
      "14 RPN MSB 0\n",
      "14 RPN LSB 0\n",
      "14 Data Entry MSB: Pitch Bend Range 2\n",
      "14 RPN MSB 0\n",
      "14 RPN LSB 1\n",
      "14 Data Entry MSB: Channel Fine Tuning 64\n",
      "14 RPN MSB 0\n",
      "14 RPN LSB 2\n",
      "14 Data Entry MSB: Channel Coarse Tuning 64\n",
      "14 Pitch Bend 0\n",
      "15 Voice Volume 127\n",
      "15 Modulation Wheel 0\n",
      "15 Voice Pan 64\n",
      "15 Expression 127\n",
      "15 Voice Reverb Level 40\n",
      "15 Voice Chorus Level 0\n",
      "15 Harmonic Content 64\n",
      "15 Release Time 64\n",
      "15 Attack Time 64\n",
      "15 Brightness 64\n",
      "15 Bank MSB 0\n",
      "15 Bank LSB 0\n",
      "15 Program Change: [0,0,0] 134 Grand Piano (XG PIANO)\n",
      "15 RPN MSB 0\n",
      "15 RPN LSB 0\n",
      "15 Data Entry MSB: Pitch Bend Range 2\n",
      "15 RPN MSB 0\n",
      "15 RPN LSB 1\n",
      "15 Data Entry MSB: Channel Fine Tuning 64\n",
      "15 RPN MSB 0\n",
      "15 RPN LSB 2\n",
      "15 Data Entry MSB: Channel Coarse Tuning 64\n",
      "15 Pitch Bend 0\n",
      "0 Bank MSB 0\n",
      "0 Bank LSB 113\n",
      "0 Program Change: [0,113,0] 001 Live! Grand Piano (PIANO)\n",
      "1 Bank MSB 0\n",
      "1 Bank LSB 112\n",
      "1 Program Change: [0,112,48] 054 String Ensemble (STRINGS)\n",
      "2 Bank MSB 0\n",
      "2 Bank LSB 112\n",
      "2 Program Change: [0,112,33] 046 Finger Bass (BASS)\n",
      "0 Voice Volume 110\n",
      "1 Voice Volume 36\n",
      "2 Voice Volume 100\n",
      "0 Voice Pan 64\n",
      "1 Voice Pan 64\n",
      "2 Voice Pan 64\n",
      "0 Voice Reverb Level 20\n",
      "1 Voice Reverb Level 50\n",
      "2 Voice Reverb Level 8\n",
      "0 Voice Chorus Level 0\n",
      "1 Voice Chorus Level 0\n",
      "2 Voice Chorus Level 0\n",
      "0 RPN MSB 0\n",
      "0 RPN LSB 0\n",
      "0 Data Entry MSB: Pitch Bend Range 2\n",
      "1 RPN MSB 0\n",
      "1 RPN LSB 0\n",
      "1 Data Entry MSB: Pitch Bend Range 2\n",
      "2 RPN MSB 0\n",
      "2 RPN LSB 0\n",
      "2 Data Entry MSB: Pitch Bend Range 2\n",
      "0 Pitch Bend 0\n",
      "1 Pitch Bend 0\n",
      "2 Pitch Bend 0\n",
      "0 Release Time 64\n",
      "1 Release Time 64\n",
      "2 Release Time 64\n",
      "0 Note On 108(C7)\n"
     ]
    }
   ],
   "source": [
    "s4, c4 = collector(s3)\n",
    "writeout(c4, 'documents/data/initial_send_songoff.txt')"
   ]
  },
  {
   "cell_type": "markdown",
   "metadata": {},
   "source": [
    "And how about song and style out OFF?"
   ]
  },
  {
   "cell_type": "code",
   "execution_count": 33,
   "metadata": {},
   "outputs": [
    {
     "name": "stdout",
     "output_type": "stream",
     "text": [
      "[SysEx 7E 7F 09 01]\n",
      "[SysEx 43 10 4C 00 00 7E 00]\n",
      "MIDI Master Tuning 0\n",
      "Reverb Type 02(Hall2)\n",
      "Chorus Type ---(Celeste)\n",
      "0 Bank MSB 0\n",
      "0 Bank LSB 113\n",
      "0 Program Change: [0,113,0] 001 Live! Grand Piano (PIANO)\n",
      "1 Bank MSB 0\n",
      "1 Bank LSB 112\n",
      "1 Program Change: [0,112,48] 054 String Ensemble (STRINGS)\n",
      "2 Bank MSB 0\n",
      "2 Bank LSB 112\n",
      "2 Program Change: [0,112,33] 046 Finger Bass (BASS)\n",
      "0 Voice Volume 110\n",
      "1 Voice Volume 36\n",
      "2 Voice Volume 100\n",
      "0 Voice Pan 64\n",
      "1 Voice Pan 64\n",
      "2 Voice Pan 64\n",
      "0 Voice Reverb Level 20\n",
      "1 Voice Reverb Level 50\n",
      "2 Voice Reverb Level 8\n",
      "0 Voice Chorus Level 0\n",
      "1 Voice Chorus Level 0\n",
      "2 Voice Chorus Level 0\n",
      "0 RPN MSB 0\n",
      "0 RPN LSB 0\n",
      "0 Data Entry MSB: Pitch Bend Range 2\n",
      "1 RPN MSB 0\n",
      "1 RPN LSB 0\n",
      "1 Data Entry MSB: Pitch Bend Range 2\n",
      "2 RPN MSB 0\n",
      "2 RPN LSB 0\n",
      "2 Data Entry MSB: Pitch Bend Range 2\n",
      "0 Pitch Bend 0\n",
      "1 Pitch Bend 0\n",
      "2 Pitch Bend 0\n",
      "0 Release Time 64\n",
      "1 Release Time 64\n",
      "2 Release Time 64\n",
      "0 Note On 095(B5)\n"
     ]
    }
   ],
   "source": [
    "s5, c5 = collector(s4)\n",
    "writeout(c5, 'documents/data/initial_send_stylesongoff.txt')"
   ]
  },
  {
   "cell_type": "markdown",
   "metadata": {},
   "source": [
    "I guess with voice out OFF it wouldn't send that either"
   ]
  },
  {
   "cell_type": "code",
   "execution_count": 34,
   "metadata": {},
   "outputs": [
    {
     "name": "stdout",
     "output_type": "stream",
     "text": [
      "[SysEx 7E 7F 09 01]\n",
      "[SysEx 43 10 4C 00 00 7E 00]\n",
      "MIDI Master Tuning 0\n",
      "Reverb Type 02(Hall2)\n",
      "Chorus Type ---(Celeste)\n",
      "0 Note On 086(D5)\n"
     ]
    }
   ],
   "source": [
    "s6, c6 = collector(s5)\n",
    "writeout(c6, 'documents/data/initial_send_alloff.txt')"
   ]
  },
  {
   "cell_type": "markdown",
   "metadata": {},
   "source": [
    "Whoops on that one, I needed to turn keyboard OUT back on to send the note. Ah well."
   ]
  },
  {
   "cell_type": "markdown",
   "metadata": {},
   "source": [
    "Now for some QUESTIONS."
   ]
  },
  {
   "cell_type": "markdown",
   "metadata": {},
   "source": [
    "Sending messages doesn't change the internal instrument thing, so it shouldn't affect the initial send thing at all."
   ]
  },
  {
   "cell_type": "code",
   "execution_count": 35,
   "metadata": {},
   "outputs": [
    {
     "data": {
      "text/plain": [
       "<commons.messages.controlstate.MidiControlState at 0x7f7fc4096710>"
      ]
     },
     "execution_count": 35,
     "metadata": {},
     "output_type": "execute_result"
    }
   ],
   "source": [
    "s6"
   ]
  },
  {
   "cell_type": "code",
   "execution_count": 40,
   "metadata": {},
   "outputs": [
    {
     "data": {
      "text/plain": [
       "110"
      ]
     },
     "execution_count": 40,
     "metadata": {},
     "output_type": "execute_result"
    }
   ],
   "source": [
    "s6._channels[0].control_value(controls.Control.VOLUME)"
   ]
  },
  {
   "cell_type": "code",
   "execution_count": 41,
   "metadata": {},
   "outputs": [],
   "source": [
    "with mido.open_output('DGX-505 MIDI 1') as outport:\n",
    "    for i in range(16):\n",
    "        outport.send(controls.cc(controls.Control.VOLUME, channel=i, value=1))"
   ]
  },
  {
   "cell_type": "code",
   "execution_count": 42,
   "metadata": {},
   "outputs": [
    {
     "name": "stdout",
     "output_type": "stream",
     "text": [
      "[SysEx 7E 7F 09 01]\n",
      "[SysEx 43 10 4C 00 00 7E 00]\n",
      "MIDI Master Tuning 0\n",
      "Reverb Type 01(Hall1)\n",
      "Chorus Type ---(Celeste)\n",
      "3 Bank MSB 0\n",
      "3 Bank LSB 0\n",
      "3 Program Change: [0,0,0] 134 Grand Piano (XG PIANO)\n",
      "3 RPN MSB 0\n",
      "3 RPN LSB 0\n",
      "3 Data Entry MSB: Pitch Bend Range 2\n",
      "3 RPN LSB 127\n",
      "3 RPN MSB 127\n",
      "3 Voice Reverb Level 40\n",
      "3 Voice Chorus Level 0\n",
      "3 Voice Volume 100\n",
      "3 Voice Pan 64\n",
      "3 Pedal Sustain OFF\n",
      "3 Modulation Wheel 0\n",
      "3 Expression 127\n",
      "3 Harmonic Content 64\n",
      "3 Release Time 64\n",
      "3 Attack Time 64\n",
      "3 Brightness 64\n",
      "3 Pitch Bend 0\n",
      "4 Bank MSB 0\n",
      "4 Bank LSB 0\n",
      "4 Program Change: [0,0,0] 134 Grand Piano (XG PIANO)\n",
      "4 RPN MSB 0\n",
      "4 RPN LSB 0\n",
      "4 Data Entry MSB: Pitch Bend Range 2\n",
      "4 RPN LSB 127\n",
      "4 RPN MSB 127\n",
      "4 Voice Reverb Level 40\n",
      "4 Voice Chorus Level 0\n",
      "4 Voice Volume 100\n",
      "4 Voice Pan 64\n",
      "4 Pedal Sustain OFF\n",
      "4 Modulation Wheel 0\n",
      "4 Expression 127\n",
      "4 Harmonic Content 64\n",
      "4 Release Time 64\n",
      "4 Attack Time 64\n",
      "4 Brightness 64\n",
      "4 Pitch Bend 0\n",
      "5 Bank MSB 0\n",
      "5 Bank LSB 0\n",
      "5 Program Change: [0,0,0] 134 Grand Piano (XG PIANO)\n",
      "5 RPN MSB 0\n",
      "5 RPN LSB 0\n",
      "5 Data Entry MSB: Pitch Bend Range 2\n",
      "5 RPN LSB 127\n",
      "5 RPN MSB 127\n",
      "5 Voice Reverb Level 40\n",
      "5 Voice Chorus Level 0\n",
      "5 Voice Volume 100\n",
      "5 Voice Pan 64\n",
      "5 Pedal Sustain OFF\n",
      "5 Modulation Wheel 0\n",
      "5 Expression 127\n",
      "5 Harmonic Content 64\n",
      "5 Release Time 64\n",
      "5 Attack Time 64\n",
      "5 Brightness 64\n",
      "5 Pitch Bend 0\n",
      "6 Bank MSB 0\n",
      "6 Bank LSB 0\n",
      "6 Program Change: [0,0,0] 134 Grand Piano (XG PIANO)\n",
      "6 RPN MSB 0\n",
      "6 RPN LSB 0\n",
      "6 Data Entry MSB: Pitch Bend Range 2\n",
      "6 RPN LSB 127\n",
      "6 RPN MSB 127\n",
      "6 Voice Reverb Level 40\n",
      "6 Voice Chorus Level 0\n",
      "6 Voice Volume 100\n",
      "6 Voice Pan 64\n",
      "6 Pedal Sustain OFF\n",
      "6 Modulation Wheel 0\n",
      "6 Expression 127\n",
      "6 Harmonic Content 64\n",
      "6 Release Time 64\n",
      "6 Attack Time 64\n",
      "6 Brightness 64\n",
      "6 Pitch Bend 0\n",
      "7 Bank MSB 0\n",
      "7 Bank LSB 0\n",
      "7 Program Change: [0,0,0] 134 Grand Piano (XG PIANO)\n",
      "7 RPN MSB 0\n",
      "7 RPN LSB 0\n",
      "7 Data Entry MSB: Pitch Bend Range 2\n",
      "7 RPN LSB 127\n",
      "7 RPN MSB 127\n",
      "7 Voice Reverb Level 40\n",
      "7 Voice Chorus Level 0\n",
      "7 Voice Volume 100\n",
      "7 Voice Pan 64\n",
      "7 Pedal Sustain OFF\n",
      "7 Modulation Wheel 0\n",
      "7 Expression 127\n",
      "7 Harmonic Content 64\n",
      "7 Release Time 64\n",
      "7 Attack Time 64\n",
      "7 Brightness 64\n",
      "7 Pitch Bend 0\n",
      "8 Voice Volume 54\n",
      "8 Modulation Wheel 0\n",
      "8 Voice Pan 64\n",
      "8 Expression 127\n",
      "8 Voice Reverb Level 42\n",
      "8 Voice Chorus Level 0\n",
      "8 Harmonic Content 64\n",
      "8 Release Time 64\n",
      "8 Attack Time 64\n",
      "8 Brightness 64\n",
      "8 Bank MSB 127\n",
      "8 Bank LSB 0\n",
      "8 Program Change: [127,0,0] 122 Standard Kit 1 (DRUM KITS)\n",
      "8 RPN MSB 0\n",
      "8 RPN LSB 0\n",
      "8 Data Entry MSB: Pitch Bend Range 2\n",
      "8 RPN MSB 0\n",
      "8 RPN LSB 1\n",
      "8 Data Entry MSB: Channel Fine Tuning 64\n",
      "8 RPN MSB 0\n",
      "8 RPN LSB 2\n",
      "8 Data Entry MSB: Channel Coarse Tuning 64\n",
      "8 Pitch Bend 0\n",
      "9 Voice Volume 90\n",
      "9 Modulation Wheel 0\n",
      "9 Voice Pan 64\n",
      "9 Expression 127\n",
      "9 Voice Reverb Level 50\n",
      "9 Voice Chorus Level 0\n",
      "9 Harmonic Content 64\n",
      "9 Release Time 64\n",
      "9 Attack Time 64\n",
      "9 Brightness 64\n",
      "9 Bank MSB 127\n",
      "9 Bank LSB 0\n",
      "9 Program Change: [127,0,25] 127 Analog Kit (DRUM KITS)\n",
      "9 RPN MSB 0\n",
      "9 RPN LSB 0\n",
      "9 Data Entry MSB: Pitch Bend Range 2\n",
      "9 RPN MSB 0\n",
      "9 RPN LSB 1\n",
      "9 Data Entry MSB: Channel Fine Tuning 64\n",
      "9 RPN MSB 0\n",
      "9 RPN LSB 2\n",
      "9 Data Entry MSB: Channel Coarse Tuning 64\n",
      "9 Pitch Bend 0\n",
      "10 Voice Volume 94\n",
      "10 Modulation Wheel 0\n",
      "10 Voice Pan 64\n",
      "10 Expression 127\n",
      "10 Voice Reverb Level 0\n",
      "10 Voice Chorus Level 0\n",
      "10 Harmonic Content 0\n",
      "10 Release Time 64\n",
      "10 Attack Time 64\n",
      "10 Brightness 46\n",
      "10 Bank MSB 0\n",
      "10 Bank LSB 0\n",
      "10 Program Change: [0,0,33] 236 Finger Bass (XG BASS)\n",
      "10 RPN MSB 0\n",
      "10 RPN LSB 0\n",
      "10 Data Entry MSB: Pitch Bend Range 12\n",
      "10 RPN MSB 0\n",
      "10 RPN LSB 1\n",
      "10 Data Entry MSB: Channel Fine Tuning 64\n",
      "10 RPN MSB 0\n",
      "10 RPN LSB 2\n",
      "10 Data Entry MSB: Channel Coarse Tuning 64\n",
      "10 Pitch Bend 0\n",
      "11 Voice Volume 74\n",
      "11 Modulation Wheel 0\n",
      "11 Voice Pan 74\n",
      "11 Expression 127\n",
      "11 Voice Reverb Level 30\n",
      "11 Voice Chorus Level 48\n",
      "11 Harmonic Content 60\n",
      "11 Release Time 64\n",
      "11 Attack Time 64\n",
      "11 Brightness 70\n",
      "11 Bank MSB 0\n",
      "11 Bank LSB 1\n",
      "11 Program Change: [0,1,5] 149 Electric Piano 2 KSP (XG PIANO)\n",
      "11 RPN MSB 0\n",
      "11 RPN LSB 0\n",
      "11 Data Entry MSB: Pitch Bend Range 2\n",
      "11 RPN MSB 0\n",
      "11 RPN LSB 1\n",
      "11 Data Entry MSB: Channel Fine Tuning 64\n",
      "11 RPN MSB 0\n",
      "11 RPN LSB 2\n",
      "11 Data Entry MSB: Channel Coarse Tuning 64\n",
      "11 Pitch Bend 0\n",
      "12 Voice Volume 60\n",
      "12 Modulation Wheel 0\n",
      "12 Voice Pan 44\n",
      "12 Expression 127\n",
      "12 Voice Reverb Level 42\n",
      "12 Voice Chorus Level 15\n",
      "12 Harmonic Content 64\n",
      "12 Release Time 64\n",
      "12 Attack Time 64\n",
      "12 Brightness 55\n",
      "12 Bank MSB 0\n",
      "12 Bank LSB 0\n",
      "12 Program Change: [0,0,24] 209 Nylon Guitar (XG GUITAR)\n",
      "12 RPN MSB 0\n",
      "12 RPN LSB 0\n",
      "12 Data Entry MSB: Pitch Bend Range 2\n",
      "12 RPN MSB 0\n",
      "12 RPN LSB 1\n",
      "12 Data Entry MSB: Channel Fine Tuning 64\n",
      "12 RPN MSB 0\n",
      "12 RPN LSB 2\n",
      "12 Data Entry MSB: Channel Coarse Tuning 64\n",
      "12 Pitch Bend 0\n",
      "13 Voice Volume 74\n",
      "13 Modulation Wheel 0\n",
      "13 Voice Pan 64\n",
      "13 Expression 127\n",
      "13 Voice Reverb Level 80\n",
      "13 Voice Chorus Level 30\n",
      "13 Harmonic Content 51\n",
      "13 Release Time 64\n",
      "13 Attack Time 64\n",
      "13 Brightness 46\n",
      "13 Bank MSB 0\n",
      "13 Bank LSB 3\n",
      "13 Program Change: [0,3,49] 282 Stereo Slow Strings (XG ENSEMBLE)\n",
      "13 RPN MSB 0\n",
      "13 RPN LSB 0\n",
      "13 Data Entry MSB: Pitch Bend Range 2\n",
      "13 RPN MSB 0\n",
      "13 RPN LSB 1\n",
      "13 Data Entry MSB: Channel Fine Tuning 64\n",
      "13 RPN MSB 0\n",
      "13 RPN LSB 2\n",
      "13 Data Entry MSB: Channel Coarse Tuning 64\n",
      "13 Pitch Bend 0\n",
      "14 Voice Volume 57\n",
      "14 Modulation Wheel 0\n",
      "14 Voice Pan 82\n",
      "14 Expression 127\n",
      "14 Voice Reverb Level 38\n",
      "14 Voice Chorus Level 40\n",
      "14 Harmonic Content 64\n",
      "14 Release Time 64\n",
      "14 Attack Time 64\n",
      "14 Brightness 72\n",
      "14 Bank MSB 0\n",
      "14 Bank LSB 112\n",
      "14 Program Change: [0,112,28] 042 Muted Guitar (GUITAR)\n",
      "14 RPN MSB 0\n",
      "14 RPN LSB 0\n",
      "14 Data Entry MSB: Pitch Bend Range 2\n",
      "14 RPN MSB 0\n",
      "14 RPN LSB 1\n",
      "14 Data Entry MSB: Channel Fine Tuning 64\n",
      "14 RPN MSB 0\n",
      "14 RPN LSB 2\n",
      "14 Data Entry MSB: Channel Coarse Tuning 64\n",
      "14 Pitch Bend 0\n",
      "15 Voice Volume 127\n",
      "15 Modulation Wheel 0\n",
      "15 Voice Pan 64\n",
      "15 Expression 127\n",
      "15 Voice Reverb Level 40\n",
      "15 Voice Chorus Level 0\n",
      "15 Harmonic Content 64\n",
      "15 Release Time 64\n",
      "15 Attack Time 64\n",
      "15 Brightness 64\n",
      "15 Bank MSB 0\n",
      "15 Bank LSB 0\n",
      "15 Program Change: [0,0,0] 134 Grand Piano (XG PIANO)\n",
      "15 RPN MSB 0\n",
      "15 RPN LSB 0\n",
      "15 Data Entry MSB: Pitch Bend Range 2\n",
      "15 RPN MSB 0\n",
      "15 RPN LSB 1\n",
      "15 Data Entry MSB: Channel Fine Tuning 64\n",
      "15 RPN MSB 0\n",
      "15 RPN LSB 2\n",
      "15 Data Entry MSB: Channel Coarse Tuning 64\n",
      "15 Pitch Bend 0\n",
      "0 Bank MSB 0\n",
      "0 Bank LSB 113\n",
      "0 Program Change: [0,113,0] 001 Live! Grand Piano (PIANO)\n",
      "1 Bank MSB 0\n",
      "1 Bank LSB 112\n",
      "1 Program Change: [0,112,48] 054 String Ensemble (STRINGS)\n",
      "2 Bank MSB 0\n",
      "2 Bank LSB 112\n",
      "2 Program Change: [0,112,33] 046 Finger Bass (BASS)\n",
      "0 Voice Volume 110\n",
      "1 Voice Volume 36\n",
      "2 Voice Volume 100\n",
      "0 Voice Pan 64\n",
      "1 Voice Pan 64\n",
      "2 Voice Pan 64\n",
      "0 Voice Reverb Level 20\n",
      "1 Voice Reverb Level 50\n",
      "2 Voice Reverb Level 8\n",
      "0 Voice Chorus Level 0\n",
      "1 Voice Chorus Level 0\n",
      "2 Voice Chorus Level 0\n",
      "0 RPN MSB 0\n",
      "0 RPN LSB 0\n",
      "0 Data Entry MSB: Pitch Bend Range 2\n",
      "1 RPN MSB 0\n",
      "1 RPN LSB 0\n",
      "1 Data Entry MSB: Pitch Bend Range 2\n",
      "2 RPN MSB 0\n",
      "2 RPN LSB 0\n",
      "2 Data Entry MSB: Pitch Bend Range 2\n",
      "0 Pitch Bend 0\n",
      "1 Pitch Bend 0\n",
      "2 Pitch Bend 0\n",
      "0 Release Time 64\n",
      "1 Release Time 64\n",
      "2 Release Time 64\n",
      "0 Note On 095(B5)\n"
     ]
    }
   ],
   "source": [
    "s7, c7 = collector(s6)"
   ]
  },
  {
   "cell_type": "markdown",
   "metadata": {},
   "source": [
    "Yep, that does nothing."
   ]
  },
  {
   "cell_type": "markdown",
   "metadata": {},
   "source": [
    "... wait, have i got the chorus type wrong this whole time?"
   ]
  },
  {
   "cell_type": "code",
   "execution_count": 43,
   "metadata": {},
   "outputs": [
    {
     "name": "stdout",
     "output_type": "stream",
     "text": [
      "Chorus Type 2(Chorus2)\n",
      "Chorus Type ---(Celeste)\n",
      "Chorus Type 5(Off)\n",
      "Chorus Type ---(Celeste)\n",
      "Chorus Type 2(Chorus2)\n",
      "Chorus Type 3(Flanger1)\n",
      "Chorus Type 4(Flanger2)\n",
      "Chorus Type 5(Off)\n",
      "Chorus Type ---(Celeste)\n",
      "Chorus Type 2(Chorus2)\n",
      "Chorus Type 3(Flanger1)\n",
      "Chorus Type 4(Flanger2)\n",
      "Chorus Type 5(Off)\n",
      "Chorus Type ---(Celeste)\n",
      "Chorus Type 2(Chorus2)\n",
      "Chorus Type 3(Flanger1)\n",
      "Chorus Type 4(Flanger2)\n",
      "Chorus Type 5(Off)\n",
      "Chorus Type ---(Celeste)\n",
      "0 Release Time 110\n",
      "1 Release Time 110\n",
      "2 Release Time 110\n",
      "0 Release Time 64\n",
      "1 Release Time 64\n",
      "2 Release Time 64\n",
      "Reverb Type 02(Hall2)\n",
      "Reverb Type 03(Hall3)\n",
      "Reverb Type 04(Room1)\n",
      "Reverb Type 05(Room2)\n",
      "Reverb Type 06(Stage1)\n",
      "Reverb Type 07(Stage2)\n",
      "Reverb Type 08(Plate1)\n",
      "Reverb Type 09(Plate2)\n",
      "Reverb Type 10(Off)\n",
      "Reverb Type 01(Hall1)\n",
      "Reverb Type 02(Hall2)\n",
      "Reverb Type 03(Hall3)\n",
      "Reverb Type 04(Room1)\n",
      "Reverb Type 05(Room2)\n",
      "Reverb Type 06(Stage1)\n",
      "0 Note On 084(C5)\n"
     ]
    }
   ],
   "source": [
    "s8, c8 = collector(s7)"
   ]
  },
  {
   "cell_type": "markdown",
   "metadata": {},
   "source": [
    "Okay, i've stuffed something up here."
   ]
  },
  {
   "cell_type": "code",
   "execution_count": 46,
   "metadata": {},
   "outputs": [],
   "source": [
    "cc8 = [x for x in c8 if x.message.type != \"clock\"]"
   ]
  },
  {
   "cell_type": "code",
   "execution_count": 47,
   "metadata": {},
   "outputs": [
    {
     "data": {
      "text/plain": [
       "[<Chorus Type 2(Chorus2) <message sysex data=(67,16,76,2,1,32,65,2) time=2.630009147000237>>,\n",
       " <Chorus Type ---(Celeste) <message sysex data=(67,16,76,2,1,32,66,17) time=4.349999486001252>>,\n",
       " <Chorus Type 5(Off) <message sysex data=(67,16,76,2,1,32,0,0) time=5.791061604000788>>,\n",
       " <Chorus Type ---(Celeste) <message sysex data=(67,16,76,2,1,32,66,17) time=7.089836037999703>>,\n",
       " <Chorus Type 2(Chorus2) <message sysex data=(67,16,76,2,1,32,65,2) time=7.539973680000912>>,\n",
       " <Chorus Type 3(Flanger1) <message sysex data=(67,16,76,2,1,32,67,8) time=7.9398248640009115>>,\n",
       " <Chorus Type 4(Flanger2) <message sysex data=(67,16,76,2,1,32,67,17) time=8.309797896001328>>,\n",
       " <Chorus Type 5(Off) <message sysex data=(67,16,76,2,1,32,0,0) time=8.690824854000311>>,\n",
       " <Chorus Type ---(Celeste) <message sysex data=(67,16,76,2,1,32,66,17) time=9.069776480000655>>,\n",
       " <Chorus Type 2(Chorus2) <message sysex data=(67,16,76,2,1,32,65,2) time=9.51991687699956>>,\n",
       " <Chorus Type 3(Flanger1) <message sysex data=(67,16,76,2,1,32,67,8) time=9.940788104000603>>,\n",
       " <Chorus Type 4(Flanger2) <message sysex data=(67,16,76,2,1,32,67,17) time=10.428737461999845>>,\n",
       " <Chorus Type 5(Off) <message sysex data=(67,16,76,2,1,32,0,0) time=10.909726179001154>>,\n",
       " <Chorus Type ---(Celeste) <message sysex data=(67,16,76,2,1,32,66,17) time=11.918711055999665>>,\n",
       " <Chorus Type 2(Chorus2) <message sysex data=(67,16,76,2,1,32,65,2) time=12.308835637000811>>,\n",
       " <Chorus Type 3(Flanger1) <message sysex data=(67,16,76,2,1,32,67,8) time=12.528917835999891>>,\n",
       " <Chorus Type 4(Flanger2) <message sysex data=(67,16,76,2,1,32,67,17) time=12.7398508389997>>,\n",
       " <Chorus Type 5(Off) <message sysex data=(67,16,76,2,1,32,0,0) time=12.959965264000857>>,\n",
       " <Chorus Type ---(Celeste) <message sysex data=(67,16,76,2,1,32,66,17) time=13.658779874000174>>,\n",
       " <0 Release Time 110 <message control_change channel=0 control=72 value=110 time=16.916625596000813>>,\n",
       " <1 Release Time 110 <message control_change channel=1 control=72 value=110 time=16.917588453999997>>,\n",
       " <2 Release Time 110 <message control_change channel=2 control=72 value=110 time=16.918561406000663>>,\n",
       " <0 Release Time 64 <message control_change channel=0 control=72 value=64 time=17.27656428299997>>,\n",
       " <1 Release Time 64 <message control_change channel=1 control=72 value=64 time=17.277558572001>>,\n",
       " <2 Release Time 64 <message control_change channel=2 control=72 value=64 time=17.27854593899974>>,\n",
       " <Reverb Type 02(Hall2) <message sysex data=(67,16,76,2,1,0,1,16) time=19.458480219000194>>,\n",
       " <Reverb Type 03(Hall3) <message sysex data=(67,16,76,2,1,0,1,17) time=19.718666750999546>>,\n",
       " <Reverb Type 04(Room1) <message sysex data=(67,16,76,2,1,0,2,17) time=19.89847636000013>>,\n",
       " <Reverb Type 05(Room2) <message sysex data=(67,16,76,2,1,0,2,19) time=20.49847401199986>>,\n",
       " <Reverb Type 06(Stage1) <message sysex data=(67,16,76,2,1,0,3,16) time=20.918484382000315>>,\n",
       " <Reverb Type 07(Stage2) <message sysex data=(67,16,76,2,1,0,3,17) time=21.157583227999567>>,\n",
       " <Reverb Type 08(Plate1) <message sysex data=(67,16,76,2,1,0,4,16) time=21.34744437399968>>,\n",
       " <Reverb Type 09(Plate2) <message sysex data=(67,16,76,2,1,0,4,17) time=21.539438388001145>>,\n",
       " <Reverb Type 10(Off) <message sysex data=(67,16,76,2,1,0,0,0) time=21.677499171000818>>,\n",
       " <Reverb Type 01(Hall1) <message sysex data=(67,16,76,2,1,0,1,0) time=21.8074632200005>>,\n",
       " <Reverb Type 02(Hall2) <message sysex data=(67,16,76,2,1,0,1,16) time=21.988409241001136>>,\n",
       " <Reverb Type 03(Hall3) <message sysex data=(67,16,76,2,1,0,1,17) time=22.138417837000816>>,\n",
       " <Reverb Type 04(Room1) <message sysex data=(67,16,76,2,1,0,2,17) time=22.31740799200088>>,\n",
       " <Reverb Type 05(Room2) <message sysex data=(67,16,76,2,1,0,2,19) time=22.46840489799979>>,\n",
       " <Reverb Type 06(Stage1) <message sysex data=(67,16,76,2,1,0,3,16) time=22.647407700000258>>,\n",
       " <0 Note On 084(C5) <message note_on channel=0 note=84 velocity=82 time=23.895374871000968>>]"
      ]
     },
     "execution_count": 47,
     "metadata": {},
     "output_type": "execute_result"
    }
   ],
   "source": [
    "cc8"
   ]
  },
  {
   "cell_type": "code",
   "execution_count": 60,
   "metadata": {},
   "outputs": [
    {
     "data": {
      "text/plain": [
       "'43 10 4C 02 01 20 42 11'"
      ]
     },
     "execution_count": 60,
     "metadata": {},
     "output_type": "execute_result"
    }
   ],
   "source": [
    "\" \".join(format(x, \"02X\") for x in (cc8[1].message.data))"
   ]
  },
  {
   "cell_type": "code",
   "execution_count": 72,
   "metadata": {},
   "outputs": [
    {
     "name": "stdout",
     "output_type": "stream",
     "text": [
      "The autoreload extension is already loaded. To reload it, use:\n",
      "  %reload_ext autoreload\n"
     ]
    }
   ],
   "source": [
    "%load_ext autoreload\n",
    "%autoreload"
   ]
  },
  {
   "cell_type": "code",
   "execution_count": 4,
   "metadata": {},
   "outputs": [],
   "source": [
    "from commons.messages import wrappers\n",
    "from commons import enums"
   ]
  },
  {
   "cell_type": "code",
   "execution_count": 81,
   "metadata": {},
   "outputs": [
    {
     "data": {
      "text/plain": [
       "<Chorus Type 1(Chorus1) <message sysex data=(67,16,76,2,1,32,66,17) time=4.349999486001252>>"
      ]
     },
     "execution_count": 81,
     "metadata": {},
     "output_type": "execute_result"
    }
   ],
   "source": [
    "wrappers.wrap(cc8[1].message)"
   ]
  },
  {
   "cell_type": "markdown",
   "metadata": {},
   "source": [
    "Ok, so that's fixed."
   ]
  },
  {
   "cell_type": "markdown",
   "metadata": {},
   "source": [
    "I've noticed that the GM SYSTEM ON resets some things on the panel. Could it reset some other stuff as well?\n",
    "Here we have the reverb type and chorus type set to weird things, and for good measure let's also change the pitch bend range and the panel sustain and other stuff:"
   ]
  },
  {
   "cell_type": "code",
   "execution_count": 84,
   "metadata": {},
   "outputs": [
    {
     "name": "stdout",
     "output_type": "stream",
     "text": [
      "[SysEx 7E 7F 09 01]\n",
      "[SysEx 43 10 4C 00 00 7E 00]\n",
      "MIDI Master Tuning 1\n",
      "Reverb Type 06(Stage1)\n",
      "Chorus Type 4(Flanger2)\n",
      "3 Bank MSB 0\n",
      "3 Bank LSB 0\n",
      "3 Program Change: [0,0,0] 134 Grand Piano (XG PIANO)\n",
      "3 RPN MSB 0\n",
      "3 RPN LSB 0\n",
      "3 Data Entry MSB: Pitch Bend Range 2\n",
      "3 RPN LSB 127\n",
      "3 RPN MSB 127\n",
      "3 Voice Reverb Level 40\n",
      "3 Voice Chorus Level 0\n",
      "3 Voice Volume 100\n",
      "3 Voice Pan 64\n",
      "3 Pedal Sustain OFF\n",
      "3 Modulation Wheel 0\n",
      "3 Expression 127\n",
      "3 Harmonic Content 64\n",
      "3 Release Time 64\n",
      "3 Attack Time 64\n",
      "3 Brightness 64\n",
      "3 Pitch Bend 0\n",
      "4 Bank MSB 0\n",
      "4 Bank LSB 0\n",
      "4 Program Change: [0,0,0] 134 Grand Piano (XG PIANO)\n",
      "4 RPN MSB 0\n",
      "4 RPN LSB 0\n",
      "4 Data Entry MSB: Pitch Bend Range 2\n",
      "4 RPN LSB 127\n",
      "4 RPN MSB 127\n",
      "4 Voice Reverb Level 40\n",
      "4 Voice Chorus Level 0\n",
      "4 Voice Volume 100\n",
      "4 Voice Pan 64\n",
      "4 Pedal Sustain OFF\n",
      "4 Modulation Wheel 0\n",
      "4 Expression 127\n",
      "4 Harmonic Content 64\n",
      "4 Release Time 64\n",
      "4 Attack Time 64\n",
      "4 Brightness 64\n",
      "4 Pitch Bend 0\n",
      "5 Bank MSB 0\n",
      "5 Bank LSB 0\n",
      "5 Program Change: [0,0,0] 134 Grand Piano (XG PIANO)\n",
      "5 RPN MSB 0\n",
      "5 RPN LSB 0\n",
      "5 Data Entry MSB: Pitch Bend Range 2\n",
      "5 RPN LSB 127\n",
      "5 RPN MSB 127\n",
      "5 Voice Reverb Level 40\n",
      "5 Voice Chorus Level 0\n",
      "5 Voice Volume 100\n",
      "5 Voice Pan 64\n",
      "5 Pedal Sustain OFF\n",
      "5 Modulation Wheel 0\n",
      "5 Expression 127\n",
      "5 Harmonic Content 64\n",
      "5 Release Time 64\n",
      "5 Attack Time 64\n",
      "5 Brightness 64\n",
      "5 Pitch Bend 0\n",
      "6 Bank MSB 0\n",
      "6 Bank LSB 0\n",
      "6 Program Change: [0,0,0] 134 Grand Piano (XG PIANO)\n",
      "6 RPN MSB 0\n",
      "6 RPN LSB 0\n",
      "6 Data Entry MSB: Pitch Bend Range 2\n",
      "6 RPN LSB 127\n",
      "6 RPN MSB 127\n",
      "6 Voice Reverb Level 40\n",
      "6 Voice Chorus Level 0\n",
      "6 Voice Volume 100\n",
      "6 Voice Pan 64\n",
      "6 Pedal Sustain OFF\n",
      "6 Modulation Wheel 0\n",
      "6 Expression 127\n",
      "6 Harmonic Content 64\n",
      "6 Release Time 64\n",
      "6 Attack Time 64\n",
      "6 Brightness 64\n",
      "6 Pitch Bend 0\n",
      "7 Bank MSB 0\n",
      "7 Bank LSB 0\n",
      "7 Program Change: [0,0,0] 134 Grand Piano (XG PIANO)\n",
      "7 RPN MSB 0\n",
      "7 RPN LSB 0\n",
      "7 Data Entry MSB: Pitch Bend Range 2\n",
      "7 RPN LSB 127\n",
      "7 RPN MSB 127\n",
      "7 Voice Reverb Level 40\n",
      "7 Voice Chorus Level 0\n",
      "7 Voice Volume 100\n",
      "7 Voice Pan 64\n",
      "7 Pedal Sustain OFF\n",
      "7 Modulation Wheel 0\n",
      "7 Expression 127\n",
      "7 Harmonic Content 64\n",
      "7 Release Time 64\n",
      "7 Attack Time 64\n",
      "7 Brightness 64\n",
      "7 Pitch Bend 0\n",
      "8 Voice Volume 54\n",
      "8 Modulation Wheel 0\n",
      "8 Voice Pan 64\n",
      "8 Expression 127\n",
      "8 Voice Reverb Level 42\n",
      "8 Voice Chorus Level 0\n",
      "8 Harmonic Content 64\n",
      "8 Release Time 64\n",
      "8 Attack Time 64\n",
      "8 Brightness 64\n",
      "8 Bank MSB 127\n",
      "8 Bank LSB 0\n",
      "8 Program Change: [127,0,0] 122 Standard Kit 1 (DRUM KITS)\n",
      "8 RPN MSB 0\n",
      "8 RPN LSB 0\n",
      "8 Data Entry MSB: Pitch Bend Range 2\n",
      "8 RPN MSB 0\n",
      "8 RPN LSB 1\n",
      "8 Data Entry MSB: Channel Fine Tuning 64\n",
      "8 RPN MSB 0\n",
      "8 RPN LSB 2\n",
      "8 Data Entry MSB: Channel Coarse Tuning 64\n",
      "8 Pitch Bend 0\n",
      "9 Voice Volume 90\n",
      "9 Modulation Wheel 0\n",
      "9 Voice Pan 64\n",
      "9 Expression 127\n",
      "9 Voice Reverb Level 50\n",
      "9 Voice Chorus Level 0\n",
      "9 Harmonic Content 64\n",
      "9 Release Time 64\n",
      "9 Attack Time 64\n",
      "9 Brightness 64\n",
      "9 Bank MSB 127\n",
      "9 Bank LSB 0\n",
      "9 Program Change: [127,0,25] 127 Analog Kit (DRUM KITS)\n",
      "9 RPN MSB 0\n",
      "9 RPN LSB 0\n",
      "9 Data Entry MSB: Pitch Bend Range 2\n",
      "9 RPN MSB 0\n",
      "9 RPN LSB 1\n",
      "9 Data Entry MSB: Channel Fine Tuning 64\n",
      "9 RPN MSB 0\n",
      "9 RPN LSB 2\n",
      "9 Data Entry MSB: Channel Coarse Tuning 64\n",
      "9 Pitch Bend 0\n",
      "10 Voice Volume 94\n",
      "10 Modulation Wheel 0\n",
      "10 Voice Pan 64\n",
      "10 Expression 127\n",
      "10 Voice Reverb Level 0\n",
      "10 Voice Chorus Level 0\n",
      "10 Harmonic Content 0\n",
      "10 Release Time 64\n",
      "10 Attack Time 64\n",
      "10 Brightness 46\n",
      "10 Bank MSB 0\n",
      "10 Bank LSB 0\n",
      "10 Program Change: [0,0,33] 236 Finger Bass (XG BASS)\n",
      "10 RPN MSB 0\n",
      "10 RPN LSB 0\n",
      "10 Data Entry MSB: Pitch Bend Range 12\n",
      "10 RPN MSB 0\n",
      "10 RPN LSB 1\n",
      "10 Data Entry MSB: Channel Fine Tuning 64\n",
      "10 RPN MSB 0\n",
      "10 RPN LSB 2\n",
      "10 Data Entry MSB: Channel Coarse Tuning 64\n",
      "10 Pitch Bend 0\n",
      "11 Voice Volume 74\n",
      "11 Modulation Wheel 0\n",
      "11 Voice Pan 74\n",
      "11 Expression 127\n",
      "11 Voice Reverb Level 30\n",
      "11 Voice Chorus Level 48\n",
      "11 Harmonic Content 60\n",
      "11 Release Time 64\n",
      "11 Attack Time 64\n",
      "11 Brightness 70\n",
      "11 Bank MSB 0\n",
      "11 Bank LSB 1\n",
      "11 Program Change: [0,1,5] 149 Electric Piano 2 KSP (XG PIANO)\n",
      "11 RPN MSB 0\n",
      "11 RPN LSB 0\n",
      "11 Data Entry MSB: Pitch Bend Range 2\n",
      "11 RPN MSB 0\n",
      "11 RPN LSB 1\n",
      "11 Data Entry MSB: Channel Fine Tuning 64\n",
      "11 RPN MSB 0\n",
      "11 RPN LSB 2\n",
      "11 Data Entry MSB: Channel Coarse Tuning 64\n",
      "11 Pitch Bend 0\n",
      "12 Voice Volume 60\n",
      "12 Modulation Wheel 0\n",
      "12 Voice Pan 44\n",
      "12 Expression 127\n",
      "12 Voice Reverb Level 42\n",
      "12 Voice Chorus Level 15\n",
      "12 Harmonic Content 64\n",
      "12 Release Time 64\n",
      "12 Attack Time 64\n",
      "12 Brightness 55\n",
      "12 Bank MSB 0\n",
      "12 Bank LSB 0\n",
      "12 Program Change: [0,0,24] 209 Nylon Guitar (XG GUITAR)\n",
      "12 RPN MSB 0\n",
      "12 RPN LSB 0\n",
      "12 Data Entry MSB: Pitch Bend Range 2\n",
      "12 RPN MSB 0\n",
      "12 RPN LSB 1\n",
      "12 Data Entry MSB: Channel Fine Tuning 64\n",
      "12 RPN MSB 0\n",
      "12 RPN LSB 2\n",
      "12 Data Entry MSB: Channel Coarse Tuning 64\n",
      "12 Pitch Bend 0\n",
      "13 Voice Volume 74\n",
      "13 Modulation Wheel 0\n",
      "13 Voice Pan 64\n",
      "13 Expression 127\n",
      "13 Voice Reverb Level 80\n",
      "13 Voice Chorus Level 30\n",
      "13 Harmonic Content 51\n",
      "13 Release Time 64\n",
      "13 Attack Time 64\n",
      "13 Brightness 46\n",
      "13 Bank MSB 0\n",
      "13 Bank LSB 3\n",
      "13 Program Change: [0,3,49] 282 Stereo Slow Strings (XG ENSEMBLE)\n",
      "13 RPN MSB 0\n",
      "13 RPN LSB 0\n",
      "13 Data Entry MSB: Pitch Bend Range 2\n",
      "13 RPN MSB 0\n",
      "13 RPN LSB 1\n",
      "13 Data Entry MSB: Channel Fine Tuning 64\n",
      "13 RPN MSB 0\n",
      "13 RPN LSB 2\n",
      "13 Data Entry MSB: Channel Coarse Tuning 64\n",
      "13 Pitch Bend 0\n",
      "14 Voice Volume 57\n",
      "14 Modulation Wheel 0\n",
      "14 Voice Pan 82\n",
      "14 Expression 127\n",
      "14 Voice Reverb Level 38\n",
      "14 Voice Chorus Level 40\n",
      "14 Harmonic Content 64\n",
      "14 Release Time 64\n",
      "14 Attack Time 64\n",
      "14 Brightness 72\n",
      "14 Bank MSB 0\n",
      "14 Bank LSB 112\n",
      "14 Program Change: [0,112,28] 042 Muted Guitar (GUITAR)\n",
      "14 RPN MSB 0\n",
      "14 RPN LSB 0\n",
      "14 Data Entry MSB: Pitch Bend Range 2\n",
      "14 RPN MSB 0\n",
      "14 RPN LSB 1\n",
      "14 Data Entry MSB: Channel Fine Tuning 64\n",
      "14 RPN MSB 0\n",
      "14 RPN LSB 2\n",
      "14 Data Entry MSB: Channel Coarse Tuning 64\n",
      "14 Pitch Bend 0\n",
      "15 Voice Volume 127\n",
      "15 Modulation Wheel 0\n",
      "15 Voice Pan 64\n",
      "15 Expression 127\n",
      "15 Voice Reverb Level 40\n",
      "15 Voice Chorus Level 0\n",
      "15 Harmonic Content 64\n",
      "15 Release Time 64\n",
      "15 Attack Time 64\n",
      "15 Brightness 64\n",
      "15 Bank MSB 0\n",
      "15 Bank LSB 0\n",
      "15 Program Change: [0,0,0] 134 Grand Piano (XG PIANO)\n",
      "15 RPN MSB 0\n",
      "15 RPN LSB 0\n",
      "15 Data Entry MSB: Pitch Bend Range 2\n",
      "15 RPN MSB 0\n",
      "15 RPN LSB 1\n",
      "15 Data Entry MSB: Channel Fine Tuning 64\n",
      "15 RPN MSB 0\n",
      "15 RPN LSB 2\n",
      "15 Data Entry MSB: Channel Coarse Tuning 64\n",
      "15 Pitch Bend 0\n",
      "0 Bank MSB 0\n",
      "0 Bank LSB 113\n",
      "0 Program Change: [0,113,0] 001 Live! Grand Piano (PIANO)\n",
      "1 Bank MSB 0\n",
      "1 Bank LSB 112\n",
      "1 Program Change: [0,112,48] 054 String Ensemble (STRINGS)\n",
      "2 Bank MSB 0\n",
      "2 Bank LSB 112\n",
      "2 Program Change: [0,112,33] 046 Finger Bass (BASS)\n",
      "0 Voice Volume 110\n",
      "1 Voice Volume 36\n",
      "2 Voice Volume 99\n",
      "0 Voice Pan 78\n",
      "1 Voice Pan 64\n",
      "2 Voice Pan 64\n",
      "0 Voice Reverb Level 40\n",
      "1 Voice Reverb Level 50\n",
      "2 Voice Reverb Level 8\n",
      "0 Voice Chorus Level 50\n",
      "1 Voice Chorus Level 6\n",
      "2 Voice Chorus Level 0\n",
      "0 RPN MSB 0\n",
      "0 RPN LSB 0\n",
      "0 Data Entry MSB: Pitch Bend Range 6\n",
      "1 RPN MSB 0\n",
      "1 RPN LSB 0\n",
      "1 Data Entry MSB: Pitch Bend Range 6\n",
      "2 RPN MSB 0\n",
      "2 RPN LSB 0\n",
      "2 Data Entry MSB: Pitch Bend Range 6\n",
      "0 Pitch Bend 0\n",
      "1 Pitch Bend 0\n",
      "2 Pitch Bend 0\n",
      "0 Release Time 110\n",
      "1 Release Time 110\n",
      "2 Release Time 110\n",
      "0 Note On 091(G5)\n"
     ]
    }
   ],
   "source": [
    "ns, nsc = collector(s8)"
   ]
  },
  {
   "cell_type": "markdown",
   "metadata": {},
   "source": [
    "Now we do GM_SYSTEM ON"
   ]
  },
  {
   "cell_type": "code",
   "execution_count": 85,
   "metadata": {},
   "outputs": [],
   "source": [
    "with mido.open_output('DGX-505 MIDI 1') as outport:\n",
    "     outport.send(controls.gm_on())"
   ]
  },
  {
   "cell_type": "code",
   "execution_count": 86,
   "metadata": {},
   "outputs": [
    {
     "name": "stdout",
     "output_type": "stream",
     "text": [
      "[SysEx 7E 7F 09 01]\n",
      "[SysEx 43 10 4C 00 00 7E 00]\n",
      "MIDI Master Tuning 1\n",
      "Reverb Type 01(Hall1)\n",
      "Chorus Type ---(Chorus)\n",
      "3 Bank MSB 0\n",
      "3 Bank LSB 0\n",
      "3 Program Change: [0,0,0] 134 Grand Piano (XG PIANO)\n",
      "3 RPN MSB 0\n",
      "3 RPN LSB 0\n",
      "3 Data Entry MSB: Pitch Bend Range 2\n",
      "3 RPN LSB 127\n",
      "3 RPN MSB 127\n",
      "3 Voice Reverb Level 40\n",
      "3 Voice Chorus Level 0\n",
      "3 Voice Volume 100\n",
      "3 Voice Pan 64\n",
      "3 Pedal Sustain OFF\n",
      "3 Modulation Wheel 0\n",
      "3 Expression 127\n",
      "3 Harmonic Content 64\n",
      "3 Release Time 64\n",
      "3 Attack Time 64\n",
      "3 Brightness 64\n",
      "3 Pitch Bend 0\n",
      "4 Bank MSB 0\n",
      "4 Bank LSB 0\n",
      "4 Program Change: [0,0,0] 134 Grand Piano (XG PIANO)\n",
      "4 RPN MSB 0\n",
      "4 RPN LSB 0\n",
      "4 Data Entry MSB: Pitch Bend Range 2\n",
      "4 RPN LSB 127\n",
      "4 RPN MSB 127\n",
      "4 Voice Reverb Level 40\n",
      "4 Voice Chorus Level 0\n",
      "4 Voice Volume 100\n",
      "4 Voice Pan 64\n",
      "4 Pedal Sustain OFF\n",
      "4 Modulation Wheel 0\n",
      "4 Expression 127\n",
      "4 Harmonic Content 64\n",
      "4 Release Time 64\n",
      "4 Attack Time 64\n",
      "4 Brightness 64\n",
      "4 Pitch Bend 0\n",
      "5 Bank MSB 0\n",
      "5 Bank LSB 0\n",
      "5 Program Change: [0,0,0] 134 Grand Piano (XG PIANO)\n",
      "5 RPN MSB 0\n",
      "5 RPN LSB 0\n",
      "5 Data Entry MSB: Pitch Bend Range 2\n",
      "5 RPN LSB 127\n",
      "5 RPN MSB 127\n",
      "5 Voice Reverb Level 40\n",
      "5 Voice Chorus Level 0\n",
      "5 Voice Volume 100\n",
      "5 Voice Pan 64\n",
      "5 Pedal Sustain OFF\n",
      "5 Modulation Wheel 0\n",
      "5 Expression 127\n",
      "5 Harmonic Content 64\n",
      "5 Release Time 64\n",
      "5 Attack Time 64\n",
      "5 Brightness 64\n",
      "5 Pitch Bend 0\n",
      "6 Bank MSB 0\n",
      "6 Bank LSB 0\n",
      "6 Program Change: [0,0,0] 134 Grand Piano (XG PIANO)\n",
      "6 RPN MSB 0\n",
      "6 RPN LSB 0\n",
      "6 Data Entry MSB: Pitch Bend Range 2\n",
      "6 RPN LSB 127\n",
      "6 RPN MSB 127\n",
      "6 Voice Reverb Level 40\n",
      "6 Voice Chorus Level 0\n",
      "6 Voice Volume 100\n",
      "6 Voice Pan 64\n",
      "6 Pedal Sustain OFF\n",
      "6 Modulation Wheel 0\n",
      "6 Expression 127\n",
      "6 Harmonic Content 64\n",
      "6 Release Time 64\n",
      "6 Attack Time 64\n",
      "6 Brightness 64\n",
      "6 Pitch Bend 0\n",
      "7 Bank MSB 0\n",
      "7 Bank LSB 0\n",
      "7 Program Change: [0,0,0] 134 Grand Piano (XG PIANO)\n",
      "7 RPN MSB 0\n",
      "7 RPN LSB 0\n",
      "7 Data Entry MSB: Pitch Bend Range 2\n",
      "7 RPN LSB 127\n",
      "7 RPN MSB 127\n",
      "7 Voice Reverb Level 40\n",
      "7 Voice Chorus Level 0\n",
      "7 Voice Volume 100\n",
      "7 Voice Pan 64\n",
      "7 Pedal Sustain OFF\n",
      "7 Modulation Wheel 0\n",
      "7 Expression 127\n",
      "7 Harmonic Content 64\n",
      "7 Release Time 64\n",
      "7 Attack Time 64\n",
      "7 Brightness 64\n",
      "7 Pitch Bend 0\n",
      "8 Voice Volume 54\n",
      "8 Modulation Wheel 0\n",
      "8 Voice Pan 64\n",
      "8 Expression 127\n",
      "8 Voice Reverb Level 42\n",
      "8 Voice Chorus Level 0\n",
      "8 Harmonic Content 64\n",
      "8 Release Time 64\n",
      "8 Attack Time 64\n",
      "8 Brightness 64\n",
      "8 Bank MSB 127\n",
      "8 Bank LSB 0\n",
      "8 Program Change: [127,0,0] 122 Standard Kit 1 (DRUM KITS)\n",
      "8 RPN MSB 0\n",
      "8 RPN LSB 0\n",
      "8 Data Entry MSB: Pitch Bend Range 2\n",
      "8 RPN MSB 0\n",
      "8 RPN LSB 1\n",
      "8 Data Entry MSB: Channel Fine Tuning 64\n",
      "8 RPN MSB 0\n",
      "8 RPN LSB 2\n",
      "8 Data Entry MSB: Channel Coarse Tuning 64\n",
      "8 Pitch Bend 0\n",
      "9 Voice Volume 90\n",
      "9 Modulation Wheel 0\n",
      "9 Voice Pan 64\n",
      "9 Expression 127\n",
      "9 Voice Reverb Level 50\n",
      "9 Voice Chorus Level 0\n",
      "9 Harmonic Content 64\n",
      "9 Release Time 64\n",
      "9 Attack Time 64\n",
      "9 Brightness 64\n",
      "9 Bank MSB 127\n",
      "9 Bank LSB 0\n",
      "9 Program Change: [127,0,25] 127 Analog Kit (DRUM KITS)\n",
      "9 RPN MSB 0\n",
      "9 RPN LSB 0\n",
      "9 Data Entry MSB: Pitch Bend Range 2\n",
      "9 RPN MSB 0\n",
      "9 RPN LSB 1\n",
      "9 Data Entry MSB: Channel Fine Tuning 64\n",
      "9 RPN MSB 0\n",
      "9 RPN LSB 2\n",
      "9 Data Entry MSB: Channel Coarse Tuning 64\n",
      "9 Pitch Bend 0\n",
      "10 Voice Volume 94\n",
      "10 Modulation Wheel 0\n",
      "10 Voice Pan 64\n",
      "10 Expression 127\n",
      "10 Voice Reverb Level 0\n",
      "10 Voice Chorus Level 0\n",
      "10 Harmonic Content 0\n",
      "10 Release Time 64\n",
      "10 Attack Time 64\n",
      "10 Brightness 46\n",
      "10 Bank MSB 0\n",
      "10 Bank LSB 0\n",
      "10 Program Change: [0,0,33] 236 Finger Bass (XG BASS)\n",
      "10 RPN MSB 0\n",
      "10 RPN LSB 0\n",
      "10 Data Entry MSB: Pitch Bend Range 12\n",
      "10 RPN MSB 0\n",
      "10 RPN LSB 1\n",
      "10 Data Entry MSB: Channel Fine Tuning 64\n",
      "10 RPN MSB 0\n",
      "10 RPN LSB 2\n",
      "10 Data Entry MSB: Channel Coarse Tuning 64\n",
      "10 Pitch Bend 0\n",
      "11 Voice Volume 74\n",
      "11 Modulation Wheel 0\n",
      "11 Voice Pan 74\n",
      "11 Expression 127\n",
      "11 Voice Reverb Level 30\n",
      "11 Voice Chorus Level 48\n",
      "11 Harmonic Content 60\n",
      "11 Release Time 64\n",
      "11 Attack Time 64\n",
      "11 Brightness 70\n",
      "11 Bank MSB 0\n",
      "11 Bank LSB 1\n",
      "11 Program Change: [0,1,5] 149 Electric Piano 2 KSP (XG PIANO)\n",
      "11 RPN MSB 0\n",
      "11 RPN LSB 0\n",
      "11 Data Entry MSB: Pitch Bend Range 2\n",
      "11 RPN MSB 0\n",
      "11 RPN LSB 1\n",
      "11 Data Entry MSB: Channel Fine Tuning 64\n",
      "11 RPN MSB 0\n",
      "11 RPN LSB 2\n",
      "11 Data Entry MSB: Channel Coarse Tuning 64\n",
      "11 Pitch Bend 0\n",
      "12 Voice Volume 60\n",
      "12 Modulation Wheel 0\n",
      "12 Voice Pan 44\n",
      "12 Expression 127\n",
      "12 Voice Reverb Level 42\n",
      "12 Voice Chorus Level 15\n",
      "12 Harmonic Content 64\n",
      "12 Release Time 64\n",
      "12 Attack Time 64\n",
      "12 Brightness 55\n",
      "12 Bank MSB 0\n",
      "12 Bank LSB 0\n",
      "12 Program Change: [0,0,24] 209 Nylon Guitar (XG GUITAR)\n",
      "12 RPN MSB 0\n",
      "12 RPN LSB 0\n",
      "12 Data Entry MSB: Pitch Bend Range 2\n",
      "12 RPN MSB 0\n",
      "12 RPN LSB 1\n",
      "12 Data Entry MSB: Channel Fine Tuning 64\n",
      "12 RPN MSB 0\n",
      "12 RPN LSB 2\n",
      "12 Data Entry MSB: Channel Coarse Tuning 64\n",
      "12 Pitch Bend 0\n",
      "13 Voice Volume 74\n",
      "13 Modulation Wheel 0\n",
      "13 Voice Pan 64\n",
      "13 Expression 127\n",
      "13 Voice Reverb Level 80\n",
      "13 Voice Chorus Level 30\n",
      "13 Harmonic Content 51\n",
      "13 Release Time 64\n",
      "13 Attack Time 64\n",
      "13 Brightness 46\n",
      "13 Bank MSB 0\n",
      "13 Bank LSB 3\n",
      "13 Program Change: [0,3,49] 282 Stereo Slow Strings (XG ENSEMBLE)\n",
      "13 RPN MSB 0\n",
      "13 RPN LSB 0\n",
      "13 Data Entry MSB: Pitch Bend Range 2\n",
      "13 RPN MSB 0\n",
      "13 RPN LSB 1\n",
      "13 Data Entry MSB: Channel Fine Tuning 64\n",
      "13 RPN MSB 0\n",
      "13 RPN LSB 2\n",
      "13 Data Entry MSB: Channel Coarse Tuning 64\n",
      "13 Pitch Bend 0\n",
      "14 Voice Volume 57\n",
      "14 Modulation Wheel 0\n",
      "14 Voice Pan 82\n",
      "14 Expression 127\n",
      "14 Voice Reverb Level 38\n",
      "14 Voice Chorus Level 40\n",
      "14 Harmonic Content 64\n",
      "14 Release Time 64\n",
      "14 Attack Time 64\n",
      "14 Brightness 72\n",
      "14 Bank MSB 0\n",
      "14 Bank LSB 112\n",
      "14 Program Change: [0,112,28] 042 Muted Guitar (GUITAR)\n",
      "14 RPN MSB 0\n",
      "14 RPN LSB 0\n",
      "14 Data Entry MSB: Pitch Bend Range 2\n",
      "14 RPN MSB 0\n",
      "14 RPN LSB 1\n",
      "14 Data Entry MSB: Channel Fine Tuning 64\n",
      "14 RPN MSB 0\n",
      "14 RPN LSB 2\n",
      "14 Data Entry MSB: Channel Coarse Tuning 64\n",
      "14 Pitch Bend 0\n",
      "15 Voice Volume 127\n",
      "15 Modulation Wheel 0\n",
      "15 Voice Pan 64\n",
      "15 Expression 127\n",
      "15 Voice Reverb Level 40\n",
      "15 Voice Chorus Level 0\n",
      "15 Harmonic Content 64\n",
      "15 Release Time 64\n",
      "15 Attack Time 64\n",
      "15 Brightness 64\n",
      "15 Bank MSB 0\n",
      "15 Bank LSB 0\n",
      "15 Program Change: [0,0,0] 134 Grand Piano (XG PIANO)\n",
      "15 RPN MSB 0\n",
      "15 RPN LSB 0\n",
      "15 Data Entry MSB: Pitch Bend Range 2\n",
      "15 RPN MSB 0\n",
      "15 RPN LSB 1\n",
      "15 Data Entry MSB: Channel Fine Tuning 64\n",
      "15 RPN MSB 0\n",
      "15 RPN LSB 2\n",
      "15 Data Entry MSB: Channel Coarse Tuning 64\n",
      "15 Pitch Bend 0\n",
      "0 Bank MSB 0\n",
      "0 Bank LSB 113\n",
      "0 Program Change: [0,113,0] 001 Live! Grand Piano (PIANO)\n",
      "1 Bank MSB 0\n",
      "1 Bank LSB 112\n",
      "1 Program Change: [0,112,48] 054 String Ensemble (STRINGS)\n",
      "2 Bank MSB 0\n",
      "2 Bank LSB 112\n",
      "2 Program Change: [0,112,33] 046 Finger Bass (BASS)\n",
      "0 Voice Volume 110\n",
      "1 Voice Volume 36\n",
      "2 Voice Volume 99\n",
      "0 Voice Pan 78\n",
      "1 Voice Pan 64\n",
      "2 Voice Pan 64\n",
      "0 Voice Reverb Level 40\n",
      "1 Voice Reverb Level 50\n",
      "2 Voice Reverb Level 8\n",
      "0 Voice Chorus Level 50\n",
      "1 Voice Chorus Level 6\n",
      "2 Voice Chorus Level 0\n",
      "0 RPN MSB 0\n",
      "0 RPN LSB 0\n",
      "0 Data Entry MSB: Pitch Bend Range 6\n",
      "1 RPN MSB 0\n",
      "1 RPN LSB 0\n",
      "1 Data Entry MSB: Pitch Bend Range 6\n",
      "2 RPN MSB 0\n",
      "2 RPN LSB 0\n",
      "2 Data Entry MSB: Pitch Bend Range 6\n",
      "0 Pitch Bend 0\n",
      "1 Pitch Bend 0\n",
      "2 Pitch Bend 0\n",
      "0 Release Time 110\n",
      "1 Release Time 110\n",
      "2 Release Time 110\n",
      "0 Note On 096(C6)\n"
     ]
    }
   ],
   "source": [
    "rs, rsc = collector(ns)"
   ]
  },
  {
   "cell_type": "code",
   "execution_count": 91,
   "metadata": {},
   "outputs": [
    {
     "name": "stdout",
     "output_type": "stream",
     "text": [
      "Reverb Type 06(Stage1) Reverb Type 01(Hall1)\n",
      "Chorus Type 4(Flanger2) Chorus Type ---(Chorus)\n",
      "0 Note On 091(G5) 0 Note On 096(C6)\n"
     ]
    }
   ],
   "source": [
    "def nonclock(l):\n",
    "    return (x for x in l if x.message.type != 'clock')\n",
    "for n, r in zip(nonclock(nsc), nonclock(rsc)):\n",
    "    if str(n) != str(r):\n",
    "        print(n, r)"
   ]
  },
  {
   "cell_type": "markdown",
   "metadata": {},
   "source": [
    "It looks like the GM_ON reset only affects the reverb and chorus panel settings. nice to know."
   ]
  },
  {
   "cell_type": "code",
   "execution_count": 95,
   "metadata": {},
   "outputs": [],
   "source": [
    "with mido.open_output('DGX-505 MIDI 1') as outport:\n",
    "    for i in range(16):\n",
    "        outport.send(controls.cc(controls.Control.VOLUME, channel=i, value=1))"
   ]
  },
  {
   "cell_type": "code",
   "execution_count": 96,
   "metadata": {},
   "outputs": [],
   "source": [
    "with mido.open_output('DGX-505 MIDI 1') as outport:\n",
    "    for i in range(16):\n",
    "        outport.send(controls.cc(controls.Control.RESET_CONTROLS, channel=i, value=1))"
   ]
  },
  {
   "cell_type": "code",
   "execution_count": 97,
   "metadata": {},
   "outputs": [],
   "source": [
    "with mido.open_output('DGX-505 MIDI 1') as outport:\n",
    "    for i in range(16):\n",
    "        outport.send(controls.cc(controls.Control.VOLUME, channel=i, value=127))"
   ]
  },
  {
   "cell_type": "markdown",
   "metadata": {},
   "source": [
    "Huh, it looks like Reset Controllers does nothing to volume either."
   ]
  },
  {
   "cell_type": "code",
   "execution_count": 98,
   "metadata": {},
   "outputs": [],
   "source": [
    "with mido.open_output('DGX-505 MIDI 1') as outport:\n",
    "    for i in range(16):\n",
    "        outport.send(controls.cc(controls.Control.MODULATION, channel=i, value=127))"
   ]
  },
  {
   "cell_type": "code",
   "execution_count": 99,
   "metadata": {},
   "outputs": [],
   "source": [
    "with mido.open_output('DGX-505 MIDI 1') as outport:\n",
    "    for i in range(16):\n",
    "        outport.send(controls.cc(controls.Control.RESET_CONTROLS, channel=i, value=1))"
   ]
  },
  {
   "cell_type": "markdown",
   "metadata": {},
   "source": [
    "But it works with Modulation for some reason. hmmmmmm."
   ]
  },
  {
   "cell_type": "code",
   "execution_count": 101,
   "metadata": {},
   "outputs": [],
   "source": [
    "outport = mido.open_output('DGX-505 MIDI 1')"
   ]
  },
  {
   "cell_type": "code",
   "execution_count": 103,
   "metadata": {},
   "outputs": [],
   "source": [
    "outport.send(controls.gm_on())\n",
    "outport.send(controls.local(False))"
   ]
  },
  {
   "cell_type": "markdown",
   "metadata": {},
   "source": [
    "Let's start from the top: voice volume."
   ]
  },
  {
   "cell_type": "code",
   "execution_count": 104,
   "metadata": {},
   "outputs": [],
   "source": [
    "cc = controls.cc\n",
    "C = controls.Control"
   ]
  },
  {
   "cell_type": "code",
   "execution_count": 105,
   "metadata": {},
   "outputs": [],
   "source": [
    "outport.send(cc(C.VOLUME, 0))"
   ]
  },
  {
   "cell_type": "markdown",
   "metadata": {},
   "source": [
    "No sound."
   ]
  },
  {
   "cell_type": "code",
   "execution_count": 107,
   "metadata": {},
   "outputs": [],
   "source": [
    "outport.send(cc(C.RESET_CONTROLS, 64))"
   ]
  },
  {
   "cell_type": "markdown",
   "metadata": {},
   "source": [
    "Still no sound."
   ]
  },
  {
   "cell_type": "code",
   "execution_count": 108,
   "metadata": {},
   "outputs": [],
   "source": [
    "outport.send(cc(C.VOLUME, 64))"
   ]
  },
  {
   "cell_type": "code",
   "execution_count": 122,
   "metadata": {},
   "outputs": [],
   "source": [
    "outport.send(controls.gm_on())"
   ]
  },
  {
   "cell_type": "code",
   "execution_count": 113,
   "metadata": {},
   "outputs": [],
   "source": [
    "outport.send(cc(C.VOLUME, 110))"
   ]
  },
  {
   "cell_type": "markdown",
   "metadata": {},
   "source": [
    "We can conclude that RESET_CONTROLS does nothing to voice volume, and I have no idea what GM_ON resets it to."
   ]
  },
  {
   "cell_type": "code",
   "execution_count": 118,
   "metadata": {},
   "outputs": [],
   "source": [
    "outport.send(cc(C.PAN, 0))"
   ]
  },
  {
   "cell_type": "markdown",
   "metadata": {},
   "source": [
    "All sound on the left."
   ]
  },
  {
   "cell_type": "code",
   "execution_count": 120,
   "metadata": {},
   "outputs": [],
   "source": [
    "outport.send(cc(C.RESET_CONTROLS, 42))"
   ]
  },
  {
   "cell_type": "markdown",
   "metadata": {},
   "source": [
    "All sound still on the left."
   ]
  },
  {
   "cell_type": "markdown",
   "metadata": {},
   "source": [
    "Just checking if i'm not missing anything:"
   ]
  },
  {
   "cell_type": "code",
   "execution_count": 121,
   "metadata": {},
   "outputs": [],
   "source": [
    "for i in range(128):\n",
    "    outport.send(cc(C.RESET_CONTROLS, i))"
   ]
  },
  {
   "cell_type": "markdown",
   "metadata": {},
   "source": [
    "Nope, the reset doesn't work for pan either."
   ]
  },
  {
   "cell_type": "code",
   "execution_count": 123,
   "metadata": {},
   "outputs": [],
   "source": [
    "outport.send(controls.gm_on())\n",
    "outport.send(cc(C.REVERB, 127))"
   ]
  },
  {
   "cell_type": "code",
   "execution_count": 124,
   "metadata": {},
   "outputs": [],
   "source": [
    "outport.send(cc(C.RESET_CONTROLS, 42))"
   ]
  },
  {
   "cell_type": "markdown",
   "metadata": {},
   "source": [
    "Still reverby."
   ]
  },
  {
   "cell_type": "code",
   "execution_count": 127,
   "metadata": {},
   "outputs": [],
   "source": [
    "outport.send(controls.gm_on())\n",
    "outport.send(cc(C.CHORUS, 127))"
   ]
  },
  {
   "cell_type": "code",
   "execution_count": 128,
   "metadata": {},
   "outputs": [],
   "source": [
    "outport.send(cc(C.RESET_CONTROLS, 3))"
   ]
  },
  {
   "cell_type": "markdown",
   "metadata": {},
   "source": [
    "Neither does the chorus"
   ]
  },
  {
   "cell_type": "code",
   "execution_count": 131,
   "metadata": {},
   "outputs": [],
   "source": [
    "outport.send(controls.gm_on())\n",
    "outport.send(cc(C.PEDAL, 127))"
   ]
  },
  {
   "cell_type": "markdown",
   "metadata": {},
   "source": [
    "Pedal"
   ]
  },
  {
   "cell_type": "code",
   "execution_count": 132,
   "metadata": {},
   "outputs": [],
   "source": [
    "outport.send(cc(C.RESET_CONTROLS, 3))"
   ]
  },
  {
   "cell_type": "markdown",
   "metadata": {},
   "source": [
    "Hey, it does work for pedal! Turns it OFF."
   ]
  },
  {
   "cell_type": "code",
   "execution_count": 133,
   "metadata": {},
   "outputs": [],
   "source": [
    "outport.send(cc(C.RELEASE, 127))"
   ]
  },
  {
   "cell_type": "code",
   "execution_count": 134,
   "metadata": {},
   "outputs": [],
   "source": [
    "outport.send(cc(C.RESET_CONTROLS, 3))"
   ]
  },
  {
   "cell_type": "markdown",
   "metadata": {},
   "source": [
    "Also Panel Sustain, that is, release time"
   ]
  },
  {
   "cell_type": "code",
   "execution_count": 135,
   "metadata": {},
   "outputs": [],
   "source": [
    "outport.send(cc(C.RELEASE, 0))"
   ]
  },
  {
   "cell_type": "code",
   "execution_count": 136,
   "metadata": {},
   "outputs": [],
   "source": [
    "outport.send(cc(C.RESET_CONTROLS, 3))"
   ]
  },
  {
   "cell_type": "code",
   "execution_count": 137,
   "metadata": {},
   "outputs": [],
   "source": [
    "outport.send(controls.gm_on())\n"
   ]
  },
  {
   "cell_type": "markdown",
   "metadata": {},
   "source": [
    "I think the default is 0x40, probably."
   ]
  },
  {
   "cell_type": "code",
   "execution_count": 138,
   "metadata": {},
   "outputs": [],
   "source": [
    "outport.send(cc(C.MODULATION, 127))"
   ]
  },
  {
   "cell_type": "code",
   "execution_count": 144,
   "metadata": {},
   "outputs": [],
   "source": [
    "outport.send(cc(C.RESET_CONTROLS, 3))"
   ]
  },
  {
   "cell_type": "code",
   "execution_count": 143,
   "metadata": {},
   "outputs": [],
   "source": [
    "outport.send(cc(C.MODULATION, 0))"
   ]
  },
  {
   "cell_type": "markdown",
   "metadata": {},
   "source": [
    "The modulation wheel, I guess, is reset to zero."
   ]
  },
  {
   "cell_type": "code",
   "execution_count": 154,
   "metadata": {},
   "outputs": [],
   "source": [
    "outport.send(cc(C.EXPRESSION, 127))"
   ]
  },
  {
   "cell_type": "code",
   "execution_count": 153,
   "metadata": {},
   "outputs": [],
   "source": [
    "outport.send(cc(C.EXPRESSION, 64))"
   ]
  },
  {
   "cell_type": "code",
   "execution_count": 155,
   "metadata": {},
   "outputs": [],
   "source": [
    "outport.send(cc(C.RESET_CONTROLS, 3))"
   ]
  },
  {
   "cell_type": "markdown",
   "metadata": {},
   "source": [
    "Expression can be reset as well. Dunno what the default is."
   ]
  },
  {
   "cell_type": "code",
   "execution_count": 159,
   "metadata": {},
   "outputs": [],
   "source": [
    "outport.send(cc(C.PORTAMENTO_CTRL, 12))"
   ]
  },
  {
   "cell_type": "markdown",
   "metadata": {},
   "source": [
    "I don't even know what portamento even does."
   ]
  },
  {
   "cell_type": "code",
   "execution_count": 160,
   "metadata": {},
   "outputs": [],
   "source": [
    "outport.send(cc(0x05, 127))"
   ]
  },
  {
   "cell_type": "markdown",
   "metadata": {},
   "source": [
    "# Later"
   ]
  },
  {
   "cell_type": "markdown",
   "metadata": {},
   "source": [
    "I've been reading through the MIDI Specs. Things to note:\n",
    "\n",
    " * The MIDI implementation chart is dated 1 December 2003\n",
    " * The keyboard implements General MIDI Level 1\n",
    " * And also Yamaha's XGLite.\n",
    " \n",
    "The specification for XG 2.0 can be found through http://www.jososoft.dk/yamaha/docs_specs.htm\n",
    "dated April 2001. XGLite is a subset of this specification."
   ]
  },
  {
   "cell_type": "markdown",
   "metadata": {},
   "source": [
    "## Interesting Things From The XG Spec\n",
    "\n",
    "I'm going to assume that the implementation of XGLite is like XG, only with a whole lot fewer controls and voices available, so no super fancy stuff. Nevertheless, we do have our 16 channel multi timbral tone generator (with 32 note polyphony).\n",
    "\n",
    "### 3.1.2 Program Change\n",
    "There are melody voices and there are rhythym voices (drum kits). \n",
    "\n",
    "The specification says:\n",
    "\n",
    " > If the tone generator does not have a drum kit corresponding to the specified program number, it will ignore the message and continue to use the current drum kit.\n",
    "\n",
    "> If Program change makes a change from normal voice to drum kit, the part mode shall revert to what it was before normal mode was invoked. Upon receipt of XG System ON, the system shall virtually set this \"revert-to\" mode to Drum Setup 2 for all Parts 1 to 16, except for Part 10.\n",
    "\n",
    "### 3.1.6.1 Bank Select MSB/LSB\n",
    "Bank MSB:\n",
    "\n",
    "|MSB||\n",
    "|-----------|---|\n",
    "| `00`      | Melody voice |\n",
    "| `01`–`3F` | Model-exclusive area |\n",
    "| `40`      | SFX voice |\n",
    "| `41`–`77` | Reserved for XG extensions |\n",
    "| `78`      | GM L2 Rhythm Kit |\n",
    "| `79`      | GM L2 Melody voice |\n",
    "| `7A`–`7D` | Reserved for XG extensions |\n",
    "| `7E`      | SFX kit |\n",
    "| `7F`      | Rhythm kit |\n",
    "\n",
    "Bank LSB is an extension area.\n",
    "\n",
    " > If support is included for one or more voices in an extension bank, then all the other program change numbers in that bank are filled with the corresponding voices of Bank 0 (basic voices)\n",
    " \n",
    " > Note 1: By default, channel 10 plays rhythm voices while other channels use bank 0 melody voices (as in GM Level 1)\n",
    " \n",
    " > Note 2: If the new Bank Select MSB is `00` (melody voice) but the tone generator does not support the melody voice corresponding to the last recieved Bank Select LSB, the channel reverts to the Bank Select LSB corresponding to its most recently played melody voice.\n",
    " \n",
    " > Note 3: If the new Bank Select MSB is `7F` (rhythm voice) the tone generator unconditionally uses LSB `00` without using the most recently received Bank Select LSB. If the tone generator does not support a drum kit corresponding to the channel's most recently received Program Change, the channel will revert to the Program Change corresponding to its most recently played rhythm kit.\n",
    " \n",
    " > Note 4: If a Bank Select MSB value of `01`–`77` or `7A`–`7E` (model-exclusive area, SFX voice, or XG extension voice) is received and the tone generator does not have a voice corresponding to the last received LSB and Program  change, the tone generator shall produce no sound for that channel regardless of subsequent Key On messages.\n",
    " \n",
    " > In the case where a melody voice is being changed first to a voice in bank-LSB A and then to a voice in bank-LSB B, and the change to A is possible but the change to B is not possible, A will be used as the substitute for B. If neither the change to A nor the change to B is possible, the voice of the previous bank will [be] substituted for A and B.\n",
    "\n",
    " > In the case where a rhythm voice is being changed first program number kit A and then to program number kit B, and the change to A is possible but the change to B is not possible, A will be used as the substitute for B. If neither the change to A nor the change to B is possible, the voice of the previous bank will [be] substituted for A and B.\n",
    " \n",
    "### 3.1.6.2 Modulation\n",
    "Control `01`, defaults to `00`\n",
    "\n",
    " > By default, this message controls vibrato depth only\n",
    "\n",
    "### 3.1.6.3 Portamento Time\n",
    "Has no effect on portamento control. Turns out those things aren't the same thing? Is this a difference in the MIDI Spec?\n",
    "\n",
    "### 3.1.6.4 Data Entry MSB / LSB\n",
    "`06` and `26`, as usual\n",
    "\n",
    "### 3.1.6.5 Main Volume\n",
    "Control `07`, default `64`\n",
    "In the DGX-505 chart this is called \"Part Volume\".\n",
    "\n",
    "### 3.1.6.6 Panpot\n",
    "Control `0A`, default `40`\n",
    "Apparently `00` and `01` are the same (L63)... it goes from there up as you would expect to `7F` being R63.\n",
    "\n",
    "Also, *that's* what Pan stands for?\n",
    "\n",
    "### 3.1.6.7 Expression\n",
    "Control `0B`. default `7F`\n",
    "\n",
    "### 3.1.6.8 Sustain (Hold)\n",
    "Control `40`. OFF/ON. default `00` (OFF).\n",
    "\n",
    " > This setting also affects the release part of the sound following note-off (after-damper effect).\n",
    " \n",
    "### 3.1.6.9–11 Portamento, Sostenuto, Soft Pedal\n",
    "Not supported by 505.\n",
    "\n",
    "### 3.1.6.12–15 Harmonic Content, Release Time, Attack Time, Brightness\n",
    "Controls `47`, `48`, `49`, `4A` respectively\n",
    "\n",
    "Range `00`:-64, `40`:0, `7F`:+63; default `40` (0)\n",
    "\n",
    " > On some voices, the effective range is narrower than the range which can be set.\n",
    " \n",
    "Harmonic content adjusts resonance, release/attack adjusts the envelope, brightness adjusts the filter cutoff frequency. Controls are relative to the default `40`.\n",
    "\n",
    "### 3.1.6.16 Portamento Control\n",
    "Control `54`.\n",
    "\n",
    " > Portamento time is always 0.\n",
    " \n",
    "... So, what, it just does the portamento instantly or something?\n",
    " \n",
    "\n",
    "### 3.1.6.17 Effect Send 1 (Reverb)\n",
    "Control `5B`. Default `28`\n",
    "\n",
    "### 3.1.6.18 Effect Send 3 (Chorus)\n",
    "Control `5D`. Default `00`\n",
    "\n",
    "### 3.1.6.19 Effect Send 4 (Variation)\n",
    "Not supported by 505\n",
    "\n",
    "### 3.1.6.20 Data Increment/Decrement\n",
    "Controls `60`, `61`.\n",
    " > The data byte is ignored.\n",
    " \n",
    "### 3.1.6.21 NRPN\n",
    "Not supported by 505. This is full of complex stuff for the full XG I suppose.\n",
    "\n",
    "### 3.1.6.22 RPN\n",
    "LSB on `64`, MSB on `65`. Default: `7F 7F`.\n",
    "The order here is LSB MSB, but the instrument transmits in MSB LSB order.\n",
    "\n",
    "#### Pitch Bend Sensitivity\n",
    "MSB LSB: `00 00`. Data on MSB, default `02`. LSB ignored.\n",
    "\n",
    "#### [Channel] Fine Tune & Coarse Tune\n",
    "MSB LSB: `00 01`, `00 02` respectively.\n",
    "Data on MSB, with range `00`:-64, `40`:0, `7F`:+63.\n",
    "Default `40`.\n",
    "\n",
    "Looks like LSB is probably ignored here too.\n",
    "\n",
    "### 3.1.7.1 All Sound Off\n",
    "Control `78`, with data `00`.\n",
    "Silences all notes on the channel, but does not reset stuff that was set by channel messages\n",
    "\n",
    "### 3.1.7.2 Reset All Controllers\n",
    "Control `79`, with data `00`.\n",
    "\n",
    "Resets to default:\n",
    "* Pitch Bend\n",
    "* Modulation\n",
    "* Expression\n",
    "* Sustain\n",
    "* (Portamento, Sostenuto, Soft Pedal)\n",
    "* Registed Parameter Number.\n",
    "\n",
    "> It also sets off reception of Portamento Control. It does not reset the Portamento source key.\n",
    "\n",
    "Huh, so how does the portamento control work? Must consult the MIDI spec?\n",
    "\n",
    "### 3.1.7.3 All Notes Off\n",
    "Control `7B`, data `00`\n",
    "Turns all notes that are ON, OFF. Doesn't stop playing if in sustain or sostenuto phase until those phases become off as well.\n",
    "\n",
    "### 3.1.7.4–7 Omni ON/OFF/Mono/Poly\n",
    "Not particularly relevant, as instrument only supports mode 3.\n",
    "Thus, these just act as notes/sound off messages (depending on type: `7C`, `7D` as Notes Off and `7E`, `7F` as Sound Off. \n",
    "\n",
    "Interestingly according to the spec OMNI ON does not implement OMNI ON.\n",
    "\n",
    "### 3.2.1 XG System Exclusive Messages\n",
    "\n",
    "#### Parameter Change\n",
    "Apparently in XG, special parameters can be set with \n",
    "\n",
    "`F0 43 1n 4C aa aa aa dd .. dd F7`.\n",
    "\n",
    "`n` is the device number, `4C` the model ID, `aa aa aa` the address hi/mid/lo, `dd .. dd` the data.\n",
    "\n",
    " > A single message shall be used to set the data value, even if the value's data size consists of multiple bytes. The tone generator shall not accept the message if the number of sent data bytes is less than the required number of data bytes. It shall not be possible, when sending data for a multibyte parameter (such as master tuning), to send the high-order byte only.\n",
    "\n",
    "Note that during the Initial Send, a sysEx message is recieved:\n",
    "\n",
    "`F0 43 10 4C 00 00 7E 00 F7`\n",
    "\n",
    "So now we have some idea of what this is:\n",
    "Device `0`, set parameter address `00 00 7E` to value `00`.\n",
    "\n",
    "\n",
    "#### Bulk Dump\n",
    "Sets parameters as a block\n",
    "\n",
    "`F0 43 0n 4C bb bb aa aa aa dd .. dd cc F7`\n",
    "\n",
    "Here, `bb bb` are Byte Count MSB/LSB, which corresponds to the \"TOTAL SIZE\" figures in Attached Chart 5 of the spec.\n",
    "\n",
    "`cc` is a checksum, such that low-order 7 bits of sum of byte count, address, data, checksum itself = 0.\n",
    "\n",
    " > If sending consecutive bulk dumps, leave an interval of about 10ms between the F7 and the next F0.\n",
    " \n",
    "#### Parameter Request\n",
    "Optional: has no meaning on tone generators without MIDI OUT\n",
    "\n",
    "Gets the value of a specified parameter\n",
    "\n",
    "`F0 43 4n 4C aa aa aa F7`\n",
    "\n",
    "#### Dump Request\n",
    "Optional, as above\n",
    "\n",
    "`F0 43 2n 4C aa aa aa F7`\n",
    "\n",
    "### 3.2.1.1 System Data Parameters\n",
    "\n",
    "There are ten zillion of these, which probably aren't implemented in XGLite.\n",
    "\n",
    "#### 3.2.1.1.1 Master Tuning\n",
    "\n",
    "Address `00 00 00`, data `aa bb cc dd`, default `00 04 00 00`\n",
    "\n",
    "Master tuning as `aa`×`1000` + `bb`×`0100` + `cc`×`0010` + `dd`×`0001` - `0400` in units of 0.1 cents.\n",
    "\n",
    "Note: This is not the \"MIDI Master Tuning\" SysEx message\n",
    "\n",
    "`F0 43 1n 27 30 00 00 mm ll cc F7`\n",
    "\n",
    "#### 3.2.1.1.2 Master Volume\n",
    "Address `00 00 04`, data `dd`, default `7F`.\n",
    "\n",
    "This parameter value can also be changed by the Universal SysEx Master Volume message\n",
    "\n",
    "`F0 7F 7F 04 01 ll mm F7`,\n",
    "\n",
    "which is documented in the DGX-505 manual (`ll` ignored)\n",
    "\n",
    "#### 3.2.1.1.3 Master Attenuator\n",
    "Address `00 00 05`, data `dd`, default `00`. Optional.\n",
    "\n",
    "#### 3.2.1.1.4 Master Transpose\n",
    "Address `00 00 06`, data `dd`, default `40`, range `28`–`58` (-24 to +24)\n",
    "\n",
    "#### 3.2.1.1.5 Drum Setup Reset\n",
    "Address `00 00 7D`, data `dd`, default --, range `00`–(Drum setup count - 1). Initialises drum setup parameters, but doesn't change kit number.\n",
    "\n",
    "#### 3.2.1.1.6 XG System ON\n",
    "Address `00 00 7E`, data `dd`. If data is `00`, resets tone generator to XG initial state.\n",
    "\n",
    "Aha, now this is what our message `F0 43 10 4C 00 00 7E 00 F7` is.\n",
    "\n",
    "#### 3.2.1.1.7 All Parameter Reset\n",
    "Address `00 00 7F`, data `dd`, If data is `00`, resets tone generator mode to factory defaults\n",
    "\n",
    "#### 3.2.1.3 Multi Effect Data Parameters\n",
    "\n",
    "These are for the Reverb and Chorus (and Variation, but not supported?) Types. Effect type is set by MSB and LSB.\n",
    "\n",
    "For unsupported MSB, No Effect is used, which is 0.\n",
    "\n",
    "For unsupported LSB, older models change non-supported LSBs to 0, while newer models calculate\n",
    "\n",
    " > Substitute LSB = Integer part of (given LSB/32) × 32\n",
    "\n",
    "ending up with 0, 32, 64, or 96.\n",
    "Considering that the DGX-505 does not support any LSB greater than 32, I think having it be 0 is kind of the same thing.\n",
    "\n",
    "### 3.2.2 Yamaha System Exclusive\n",
    "Optional, for the purpose of compatibility with pre-XG models.\n",
    "Just the one message:\n",
    "\n",
    "#### 3.2.2.1 MIDI Master Tuning\n",
    "\n",
    "`F0 43 1n 27 30 00 00 0m 0l cc F7`\n",
    "\n",
    "The DGX-505 implements this one.\n",
    "\n",
    "\n",
    "### 3.2.3 Universal System Exclusive\n",
    "#### 3.2.3.1 GM System ON\n",
    "\n",
    "`F0 7E 7F 09 01 F7`\n",
    "\n",
    "Resets all settings besides MIDI Master Tuning to default.\n",
    "Acts on MIDI Master Tuning \"the same\" as XG System ON.\n",
    "\n",
    "The DGX-505 implements this one.\n",
    "\n",
    "#### 3.2.3.2 Midi Master Volume\n",
    "\n",
    "`F0 7F 7F 04 01 ll mm F7`\n",
    "\n",
    "The DGX-505 implements this one, ignoring `ll`.\n",
    "\n",
    "### 4.1 Master Tuning\n",
    "XG has 3 ways of changing master tuning:\n",
    "\n",
    "1. XG Master Tuning, for tuning of the song\n",
    "2. MIDI Master Tuning, for tuning the system\n",
    "3. Panel Settings, for tuning the system\n",
    "\n",
    "2 and 3 are the same thing, of which latest setting is effective. XG System ON / GM System ON would return the tuning to the most recent 2 or 3 value, while All Parameter Rest / Factory Set would reset everything including 2 and 3.\n",
    "\n",
    "\n",
    "## Relevant Parts From The MIDI Spec\n",
    "These are documents from the official MIDI specifications, available at https://www.midi.org/specifications (a signup required). There's a whole bunch of documents, which include the complete MIDI 1.0 Specification (v4.2, Februrary 1996) and a whole bunch of recommended practices (RPs) and assorted updates since then.\n",
    "\n",
    "### Running Status\n",
    "Interesting, but apparently (from some Googling) not supported by USB-MIDI and quite possibly undone by the operating system libraries. So not particularly relevant to us, outside of clearing up some of the examples in the specs themselves. Mido doesn't seem to support parsing it.\n",
    "\n",
    "### Note Off\n",
    "Note On with velocity 0 is equivalent to Note Off (and useful for Running Status), but a separate Note Off is also provided with its own velocity for devices to use if they want. The DGX505 says it doesn't recognise Note Off velocity (it recognises Note Off messages, as a good implementer would).\n",
    "\n",
    "### Controller Numbers\n",
    "| Range | |\n",
    "|-------| |\n",
    "| `00`–`1F` | MSB for most continuous Controller Data |\n",
    "| `20`–`3F` | optional LSB for the controllers `00`–`1F` |\n",
    "| `40`–`45` | Single byte, usually switches/pedals |\n",
    "| `46`–`4F` | Single byte, Sound control |\n",
    "| `50`–`5A` | Other single byte |\n",
    "| `5B`–`5F` | Single byte, External effect depth |\n",
    "| `60`–`65` | Inc/Dec, Parameters |\n",
    "| `66`–`77` | Undefined, as of 1996 |\n",
    "\n",
    "`78` to `7F` are technically Channel Mode messages, not Control Change messages, but mido doesn't care.\n",
    "\n",
    "The way MSB/LSB are supposed to work: LSB is optional. Once MSB is sent, then the LSB can be adjusted without sending another MSB message (as long as we don't need to change the MSB, obviously). When setting MSB, the LSB is implicitly set to zero.\n",
    "\n",
    "Question: Does this apply to Bank MSB/LSB, which falls in the `00`–`3F` range? How about Data Entry MSB/LSB?\n",
    "\n",
    "The switches work on `00`–`3F` as OFF, `40`–`7F` as ON. An instrument does not technically have to interpret them as switches, and can interpret a non-switch as a switch, if it wants to. The spec recommends values of `00` and `7F` for OFF and ON.\n",
    "\n",
    "### General Purpose Controllers\n",
    "\n",
    "`10`–`13` (with LSB `30`–`33`), and `50`–`53` (single byte) are the General Purpose Controllers, with manufacturer defined purpose. We don't use any of them.\n",
    "\n",
    "### Bank Select\n",
    "\n",
    "MIDI transmitters must transmit MSB and LSB as a pair immediately followed by Program Change, as to not confuse if another message is inserted in a gap. \n",
    "\n",
    "### Sound Controllers\n",
    "`46` through `4A`. All except the first are implemented by DGX505. (see the XG section).\n",
    "\n",
    "`4B` through `4F` have no specified defaults (i.e. up to manufacturer, with no suggestion from the association).\n",
    "\n",
    "### Portamento Controller\n",
    "`54`. This is the complicated one, introduced for legato with portamento on POLY mode.\n",
    "\n",
    "When a Note On is recieved after a Portamento Control, the voice pitch should glide from that specified in the Portamento Control (the pitch reference) to the new Note On, at a rate set by the Portamento Time Controller, ignoring Portamento ON/OFF (which I gather is for some other mode). It only affects the next Note-On on its channel, and does not affect any other notes that are sounding when it is recieved or overlapped (at least for Poly mode), with the exception of the reference note on that channel if it is already on. Note-Off must match the Note-On message, not the Portamento Controller message.\n",
    "\n",
    "Okay, since the Portamento Time is set to 0 for this purpose in XG, I suppose this means that Portamento Control is only used for legato and not for slower sweeps.\n",
    "\n",
    "### RPN and NRPN\n",
    "RPN are agreed by the Association, NRPN are manufacturer specific.\n",
    "NRPN reception should be disabled by default on startup.\n",
    "When reception of RPN/NRPN is enabled, devices should wait until both MSB and LSB have been set.\n",
    "\n",
    "Recievers should work with only LSB or MSB set messages, but transmitters should send both just in case each time it is changed.\n",
    "\n",
    "| RPN (MSB LSB) | parameter |\n",
    "|---------|-----------|\n",
    "| `00 00` | Pitch Bend Sensitivity (MSB = semitones, LSB = cents) |\n",
    "| `00 01` | Fine Tuning |\n",
    "| `00 02` | Coarse Tuning |\n",
    "| `00 03` | Tuning Program Select |\n",
    "| `00 04` | Tuning Bank Select | \n",
    "\n",
    "Additional RPNs have since been registered since 1996 as well, specified in the other documents.\n",
    "\n",
    "### Data Inc and Dec\n",
    "The behaviour was vague in the 1996 spec, so a Recommended Practice document was issued (*RP-018, Response to Data Inc/Dec Controllers*, approved October 1997):\n",
    "\n",
    "The value byte is ignored in Data Inc/Dec messages.\n",
    "\n",
    "For RPN 0 and 1 (Pitch Bend Sensitivity and Fine Tuning), Inc/Dec should adjust the LSB primarily (changing the MSB on overflow). Because Pitch Bend Sensitivity works in cents, it overflows at 100 instead of 128.\n",
    "\n",
    "For RPN 2, 3, 4, Inc/Dec works on the MSB.\n",
    "\n",
    "For devices which don't support LSB for Pitch Bend Sensitivity / Fine Tuning, the number of Inc/Dec should be kept track of anyway so the overflow should be made at the right time (for example it should take 100 Incs to change 1 semitone, regardless of whether the sensitivity actually changes inbetween).\n",
    "\n",
    "\n",
    "### Aftertouch\n",
    "Not implemented on the DGX505. Mido has these as 'aftertouch' for the channel pressure and 'polytouch' for the polyphonic pressure.\n",
    "\n",
    "### Channel Mode Messages\n",
    "These are the All Notes Off/ Sound Off / Omni / Poly as well as Reset All Controllers and Local Control. These are supposed to be recognised only when sent on the Basic Channel, and affect all the notes on the channels controlled by that Channel. I think the DGX-505 counts as 16 different instruments for this purpose, each their own Basic Channel??\n",
    "\n",
    "#### Reset All Controllers\n",
    "This message should \"reset the condition\" of all continuous and switch controllers, pitch bend etc to an ideal initial state. This is a little vague in the 1996 spec, so a Recommended Practice was issued (*RP-015, Response to Reset All Controllers*, approved May 1999), which specifies what should be set default:\n",
    "\n",
    "|  Control/setting    | default          |\n",
    "|---------------------| -----------------|\n",
    "| `0B` Expression     | `7F`             |\n",
    "| `01` Modulation     | `00`             |\n",
    "| `40`–`43` Pedals    | `00`             |\n",
    "| `62`–`65` (N)RPN    | `7F` (null)      |\n",
    "| Pitch Bend          | `00 40` (centre) |\n",
    "| Channel pressure    | 0                |\n",
    "| Polyphonic pressure | 0                |\n",
    "\n",
    "And what should *not* be set default:\n",
    "\n",
    "* `07` Volume\n",
    "* `0A` Pan\n",
    "* `46`–`4F` Sound controllers\n",
    "* `5B`–`5F` Effect controllers\n",
    "* `78`–`7F` Channel Mode messages\n",
    "* `00`&`20` Bank Select\n",
    "* Program Change\n",
    "* (N)RPN parameters\n",
    "\n",
    "This pretty much lines up with the XG spec.\n",
    "\n",
    "General MIDI ON should perform this as well alongside anything else necessary (so I suppose it would also reset the things that wouldn't normally be reset).\n",
    "\n",
    "\n",
    "#### Local Control\n",
    "Interrupts the \"internal control path\" from keyboard to sound generator. \n",
    "\n",
    "#### System Real-Time\n",
    "Clock messages `F8` are sent 24 times per quarternote; Start `FA` and Stop `FC` are self explanatory. `FB` is the Continue command, which is used in conjuction with the song position/select messages which aren't implemented by the DGX505.\n",
    "\n",
    "#### End Of Exclusive\n",
    "Exclusive messages can apparently end with any Non-Real-Time Status Byte (with real-time messages inbetween), but `F7` should be sent at the end of all SysEx messages. This is possibly unsupported or abstracted away by USB-MIDI.\n",
    "\n",
    "#### Active Sensing\n",
    "`FE` is sent at least every 300 milliseconds if there is no other data.\n",
    "\n",
    "#### System Reset\n",
    "`FF` resets everything to power-on. Not implemented by DGX505.\n",
    "\n",
    "### Universal System Exclusive\n",
    "\n",
    "`F0 <id> <device id> <sub id 1> <sub id 2> .. F7`\n",
    "\n",
    "`<id>` is `7E` for Non-Real Time Universal SysEx, and `7F` for real time.\n",
    "\n",
    "`<device id>` is a byte that should specify the physical device in most cases (as opposed to a channel or virtual device), except for when you need to address the parts separately. `7F` is the \"all-call\" broadcast address.\n",
    "\n",
    "`<sub id>` parts are for specifying what type of Universal SysEx message it is.\n",
    "\n",
    "There's a whole protocol for exchanging files and what not over universal system exclusive messages, with handshakes etc. From inspecting the messages exchanged while transferring MIDI files using Musicsoft Downloader, the DGX-505 does not use this (it uses some Yamaha specific protocol) but it might be similar. Something to investigate later, perhaps.\n",
    "\n",
    "Interestingly, the way that this protocol \"7-bit-izes\" octets is different from the way that the DGX-505 uses for its bulk dump: the leading bits are transmitted before the rest instead of afterward.\n",
    "This avoids the need for padding at the end.\n",
    "\n",
    "There's a whole thing for microtuning and sample banks and dumps.\n",
    "\n",
    "There's also a message for turning General MIDI OFF, `F0 7E <id> 09 02 F7` if the device supports it.\n"
   ]
  },
  {
   "cell_type": "markdown",
   "metadata": {},
   "source": [
    "# Questions\n",
    "\n",
    "Now I've read through the spec, we still have some Questions:\n",
    "\n",
    "* Does the DGX-505 support any of the more advanced XG settings beyond those listed in the manual?\n",
    "\n",
    "* What's the deal with LSB when MSB is set for bank and data entry? Does adjusting the LSB use the MSB previously set or will it jump somehow to the last one used, even for a different RPN?\n",
    "\n",
    "* Does DGX-505 (and/or XG(Lite) in general) have the proper behaviour for Data Inc/Dec as specified in RPN-018?\n",
    "\n",
    "* What is up with the Basic Channel?\n",
    "\n",
    "* What, exactly, does Portamento Control do?\n",
    "\n"
   ]
  },
  {
   "cell_type": "markdown",
   "metadata": {},
   "source": [
    "Let's do these in reverse order.\n",
    "First up, Portamento Control."
   ]
  },
  {
   "cell_type": "code",
   "execution_count": 5,
   "metadata": {},
   "outputs": [],
   "source": [
    "import time"
   ]
  },
  {
   "cell_type": "code",
   "execution_count": 78,
   "metadata": {},
   "outputs": [],
   "source": [
    "outport = mido.open_output('DGX-505 MIDI 1')"
   ]
  },
  {
   "cell_type": "code",
   "execution_count": 79,
   "metadata": {},
   "outputs": [],
   "source": [
    "# Let's use a square lead on channel 5, everyone's favourite channel\n",
    "controls.multisend(outport, controls.set_voice_numbers(101, 5))"
   ]
  },
  {
   "cell_type": "code",
   "execution_count": 169,
   "metadata": {},
   "outputs": [],
   "source": [
    "outport.send(mido.Message('note_on', channel=5, note=64))\n",
    "time.sleep(0.5)\n",
    "outport.send(mido.Message('note_on', channel=5, note=68))\n",
    "time.sleep(0.5)\n",
    "outport.send(mido.Message('note_off', channel=5, note=68))\n",
    "time.sleep(0.5)\n",
    "outport.send(mido.Message('note_off', channel=5, note=64))\n",
    "time.sleep(0.5)\n"
   ]
  },
  {
   "cell_type": "markdown",
   "metadata": {},
   "source": [
    "Both notes turn on, and both notes have to be turned off."
   ]
  },
  {
   "cell_type": "code",
   "execution_count": 170,
   "metadata": {},
   "outputs": [],
   "source": [
    "outport.send(controls.cc(controls.Control.PORTAMENTO_CTRL, channel=5, value=64))\n",
    "outport.send(mido.Message('note_on', channel=5, note=68))\n",
    "time.sleep(0.5)\n",
    "outport.send(mido.Message('note_off', channel=5, note=68))"
   ]
  },
  {
   "cell_type": "markdown",
   "metadata": {},
   "source": [
    "I hear no difference, but PTC should have one extra effect:"
   ]
  },
  {
   "cell_type": "code",
   "execution_count": 172,
   "metadata": {},
   "outputs": [],
   "source": [
    "outport.send(mido.Message('note_on', channel=5, note=64))\n",
    "time.sleep(0.5)\n",
    "outport.send(controls.cc(controls.Control.PORTAMENTO_CTRL, channel=5, value=64))\n",
    "outport.send(mido.Message('note_on', channel=5, note=68))\n",
    "time.sleep(0.5)\n",
    "outport.send(mido.Message('note_off', channel=5, note=68))"
   ]
  },
  {
   "cell_type": "markdown",
   "metadata": {},
   "source": [
    "Now the first note switches off as soon as the second comes on, and doesn't need to be switched off separately."
   ]
  },
  {
   "cell_type": "code",
   "execution_count": 264,
   "metadata": {},
   "outputs": [],
   "source": [
    "outport.send(mido.Message('note_on', channel=5, note=64))\n",
    "outport.send(mido.Message('note_on', channel=5, note=68))\n",
    "outport.send(mido.Message('note_on', channel=5, note=71))\n",
    "time.sleep(0.5)\n",
    "outport.send(controls.cc(controls.Control.PORTAMENTO_CTRL, channel=5, value=68))\n",
    "outport.send(mido.Message('note_on', channel=5, note=56))\n",
    "time.sleep(0.5)\n",
    "outport.send(controls.cc(controls.Control.PORTAMENTO_CTRL, channel=5, value=64))\n",
    "outport.send(mido.Message('note_on', channel=5, note=56))\n",
    "time.sleep(0.5)\n",
    "outport.send(controls.cc(controls.Control.PORTAMENTO_CTRL, channel=5, value=71))\n",
    "outport.send(mido.Message('note_on', channel=5, note=56))\n",
    "time.sleep(0.5)\n",
    "outport.send(controls.cc(controls.Control.SOUND_OFF_XPOLY, channel=5, value=0))"
   ]
  },
  {
   "cell_type": "code",
   "execution_count": 265,
   "metadata": {},
   "outputs": [],
   "source": [
    "outport.send(mido.Message('note_on', channel=5, note=64, velocity=64))\n",
    "time.sleep(0.5)\n",
    "outport.send(controls.cc(controls.Control.PORTAMENTO_CTRL, channel=5, value=64))\n",
    "outport.send(mido.Message('note_on', channel=5, note=68, velocity=1))\n",
    "time.sleep(0.5)\n",
    "outport.send(mido.Message('note_on', channel=5, note=68, velocity=0))"
   ]
  },
  {
   "cell_type": "markdown",
   "metadata": {},
   "source": [
    "Okay, I think I have a grip on what Portamento Control does. Also, the channel mode messages act on each channel separately, it seems"
   ]
  },
  {
   "cell_type": "code",
   "execution_count": 7,
   "metadata": {},
   "outputs": [],
   "source": [
    "def panic():\n",
    "    for i in range(16):\n",
    "        outport.send(controls.cc(controls.Control.SOUND_OFF, channel=i, value=0))"
   ]
  },
  {
   "cell_type": "markdown",
   "metadata": {},
   "source": [
    "Now, let's try pitch bend."
   ]
  },
  {
   "cell_type": "code",
   "execution_count": 376,
   "metadata": {},
   "outputs": [],
   "source": [
    "def pb(iv=0.5):\n",
    "    outport.send(mido.Message('pitchwheel', channel=5, pitch=0))\n",
    "    outport.send(mido.Message('note_on', channel=5, note=64))\n",
    "    time.sleep(iv)\n",
    "    outport.send(mido.Message('pitchwheel', channel=5, pitch=+8191))\n",
    "    time.sleep(iv)\n",
    "    outport.send(mido.Message('note_off', channel=5, note=64))\n",
    "    time.sleep(iv)\n",
    "\n"
   ]
  },
  {
   "cell_type": "markdown",
   "metadata": {},
   "source": [
    "Let's set RPN:"
   ]
  },
  {
   "cell_type": "code",
   "execution_count": 6,
   "metadata": {},
   "outputs": [],
   "source": [
    "C = controls.Control\n",
    "cc = controls.cc"
   ]
  },
  {
   "cell_type": "code",
   "execution_count": 330,
   "metadata": {},
   "outputs": [],
   "source": [
    "outport.send(cc(C.RPN_MSB, channel=5, value=0))\n",
    "outport.send(cc(C.RPN_LSB, channel=5, value=0))"
   ]
  },
  {
   "cell_type": "markdown",
   "metadata": {},
   "source": [
    "and decrement:"
   ]
  },
  {
   "cell_type": "code",
   "execution_count": 341,
   "metadata": {},
   "outputs": [],
   "source": [
    "outport.send(cc(C.DATA_DEC, channel=5, value=0))"
   ]
  },
  {
   "cell_type": "code",
   "execution_count": 342,
   "metadata": {},
   "outputs": [],
   "source": [
    "pb()"
   ]
  },
  {
   "cell_type": "markdown",
   "metadata": {},
   "source": [
    "Hmm, no change."
   ]
  },
  {
   "cell_type": "markdown",
   "metadata": {},
   "source": [
    "How about setting?"
   ]
  },
  {
   "cell_type": "code",
   "execution_count": 343,
   "metadata": {},
   "outputs": [],
   "source": [
    "outport.send(cc(C.DATA_MSB, channel=5, value=12))"
   ]
  },
  {
   "cell_type": "code",
   "execution_count": 372,
   "metadata": {},
   "outputs": [],
   "source": [
    "pb()"
   ]
  },
  {
   "cell_type": "code",
   "execution_count": 371,
   "metadata": {},
   "outputs": [],
   "source": [
    "outport.send(cc(C.DATA_DEC, channel=5, value=0))"
   ]
  },
  {
   "cell_type": "code",
   "execution_count": 379,
   "metadata": {},
   "outputs": [],
   "source": [
    "outport.send(cc(C.DATA_MSB, channel=5, value=0))\n",
    "for i in range(12):\n",
    "    outport.send(cc(C.DATA_INC, channel=5, value=0))\n",
    "    pb(0.15)"
   ]
  },
  {
   "cell_type": "markdown",
   "metadata": {},
   "source": [
    "That's definitely incrementing by semitones, there.\n",
    "\n",
    "What if we change the RPN and back?"
   ]
  },
  {
   "cell_type": "code",
   "execution_count": 380,
   "metadata": {},
   "outputs": [],
   "source": [
    "outport.send(cc(C.RPN_LSB, channel=5, value=1))\n",
    "outport.send(cc(C.RPN_LSB, channel=5, value=0))\n",
    "for i in range(12):\n",
    "    outport.send(cc(C.DATA_INC, channel=5, value=0))\n",
    "    pb(0.15)"
   ]
  },
  {
   "cell_type": "code",
   "execution_count": 381,
   "metadata": {},
   "outputs": [],
   "source": [
    "outport.send(cc(C.DATA_MSB, channel=5, value=0))\n",
    "pb()"
   ]
  },
  {
   "cell_type": "code",
   "execution_count": 398,
   "metadata": {},
   "outputs": [],
   "source": [
    "outport.send(cc(C.DATA_MSB, channel=5, value=0))\n",
    "for i in range(1):\n",
    "    outport.send(cc(C.DATA_INC, channel=5, value=0))\n",
    "    pb(0.15)\n",
    "outport.send(cc(C.RPN_LSB, channel=5, value=1))\n",
    "for i in range(1):\n",
    "    pb(0.15)\n",
    "outport.send(cc(C.RPN_LSB, channel=5, value=0))\n",
    "for i in range(1):\n",
    "    outport.send(cc(C.DATA_INC, channel=5, value=0))\n",
    "    pb(0.15)\n",
    "outport.send(cc(C.RPN_MSB, channel=5, value=1))\n",
    "for i in range(1):\n",
    "    outport.send(cc(C.DATA_INC, channel=5, value=0))\n",
    "    pb(0.15)\n",
    "outport.send(cc(C.RPN_MSB, channel=5, value=0))\n",
    "\n",
    "outport.send(cc(C.RPN_MSB, channel=5, value=0x7F))\n",
    "outport.send(cc(C.RPN_LSB, channel=5, value=0x7F))\n",
    "\n",
    "\n",
    "for i in range(4):\n",
    "    outport.send(cc(C.DATA_INC, channel=5, value=0))\n",
    "    pb(0.15)\n",
    "outport.send(cc(C.RPN_MSB, channel=5, value=0))\n",
    "outport.send(cc(C.RPN_LSB, channel=5, value=0))\n",
    "for i in range(4):\n",
    "    outport.send(cc(C.DATA_INC, channel=5, value=0))\n",
    "    pb(0.15)"
   ]
  },
  {
   "cell_type": "markdown",
   "metadata": {},
   "source": [
    "Okay, that's some weird stuff."
   ]
  },
  {
   "cell_type": "code",
   "execution_count": 399,
   "metadata": {},
   "outputs": [],
   "source": [
    "outport.send(controls.gm_on())"
   ]
  },
  {
   "cell_type": "code",
   "execution_count": 487,
   "metadata": {},
   "outputs": [],
   "source": [
    "def pb(iv=0.1):\n",
    "    outport.send(mido.Message('pitchwheel', pitch=0))\n",
    "    outport.send(mido.Message('note_on', note=64, velocity=90))\n",
    "    time.sleep(iv)\n",
    "    outport.send(mido.Message('pitchwheel', pitch=+8191))\n",
    "    time.sleep(iv)\n",
    "    outport.send(mido.Message('note_off', note=64))\n",
    "    time.sleep(iv)\n"
   ]
  },
  {
   "cell_type": "markdown",
   "metadata": {},
   "source": [
    "Hypothesis: INC/DEC doesn't do anything until MSB/LSB has at least been set once. Even if that setting doesn't actually do anything."
   ]
  },
  {
   "cell_type": "code",
   "execution_count": 468,
   "metadata": {},
   "outputs": [],
   "source": [
    "XGRESET = mido.Message.from_hex(\"F0 43 10 4C 00 00 7E 00 F7\")"
   ]
  },
  {
   "cell_type": "code",
   "execution_count": 494,
   "metadata": {},
   "outputs": [],
   "source": [
    "outport.send(controls.gm_on()) # reset all\n",
    "\n",
    "outport.send(cc(C.DATA_MSB, value=0))  # MSB = 0\n",
    "pb()  # PBS == 2\n",
    "for i in range(2):\n",
    "    outport.send(cc(C.DATA_INC, value=0)) # MSB = 2\n",
    "pb() # PBS == 2\n",
    "outport.send(cc(C.RPN_MSB, value=0))\n",
    "outport.send(cc(C.RPN_LSB, value=0))  # RPN -> PBS\n",
    "pb() # PBS == 2\n",
    "#outport.send(cc(C.DATA_MSB, value=0))\n",
    "outport.send(cc(C.DATA_INC, value=0)) # MSB = 3, PBS = MSB\n",
    "pb()  # PBS == 3\n",
    "\n",
    "outport.send(controls.gm_on())\n",
    "# reset, RPN -> NULL, PBS = 2, but MSB stays 3 (?!)\n",
    "pb() # PBS == 2\n",
    "outport.send(cc(C.DATA_INC, value=0))  # MSB = 4\n",
    "outport.send(cc(C.RPN_MSB, value=0))  # RPN -> PBS\n",
    "outport.send(cc(C.RPN_LSB, value=0))\n",
    "pb() # PBS == 2\n",
    "outport.send(cc(C.DATA_INC, value=0)) # MSB = 5\n",
    "pb()  # PBS == 5\n",
    "\n",
    "outport.send(cc(C.RPN_MSB, value=127))\n",
    "outport.send(cc(C.RPN_LSB, value=127)) # RPN -> NULL\n",
    "\n",
    "for i in range(4):\n",
    "    outport.send(cc(C.DATA_DEC, value=0)) # MSB = 1\n",
    "outport.send(cc(C.RPN_MSB, value=0))\n",
    "outport.send(cc(C.RPN_LSB, value=0))  # RPN -> PBS\n",
    "pb() # PBS == 5\n",
    "outport.send(cc(C.DATA_DEC, value=0)) # MSB = 0\n",
    "pb() # PBS == 0\n",
    "\n",
    "outport.send(mido.Message.from_hex(\"F0 43 10 4C 00 00 7E 00 F7\"))\n",
    "# XG ON\n",
    "pb() # PBS == 2\n",
    "outport.send(cc(C.RPN_MSB, value=0))\n",
    "outport.send(cc(C.RPN_LSB, value=0)) # RPN -> PBS\n",
    "outport.send(cc(C.DATA_INC, value=0)) # MSB = 1\n",
    "pb() # PBS == 1\n",
    "\n",
    "outport.send(mido.Message.from_hex(\"F0 43 10 4C 00 00 7F 00 F7\"))\n",
    "# XG Reset\n",
    "pb() # PBS == 2\n",
    "outport.send(cc(C.DATA_INC, value=0)) # MSB = 2\n",
    "\n",
    "outport.send(cc(C.RPN_MSB, value=0))\n",
    "outport.send(cc(C.RPN_LSB, value=0)) # RPN -> PBS\n",
    "outport.send(cc(C.DATA_INC, value=0)) # MSB = 3\n",
    "pb() # PBS == 3\n",
    "\n",
    "outport.send(mido.Message.from_hex(\"F0 43 10 4C 00 00 7F 00 F7\"))\n",
    "# XG Reset, RPN -> NULL\n",
    "pb() # PBS == 2\n",
    "outport.send(cc(C.DATA_MSB, value=12)) # MSB = 12\n",
    "pb() # PBS == 2\n",
    "outport.send(cc(C.RPN_MSB, value=0))\n",
    "outport.send(cc(C.RPN_LSB, value=0)) # RPN -> PBS\n",
    "outport.send(cc(C.DATA_DEC, value=0)) # MSB = 11\n",
    "pb() # PBS == 11\n",
    "\n",
    "\n",
    "\n"
   ]
  },
  {
   "cell_type": "markdown",
   "metadata": {},
   "source": [
    "I've annotated the above with the results of the experiment and what I think's going on. Internally, INC/DEC seem to alter the value of an MSB variable, then set the MSB of the current RPN to what the value is now. It's the same variable, no matter which RPN is currently active; it doesn't get reset on GM_ON or XG ON or XG reset (which actually seems to work otherwise). The lesson: always set the MSB before using the INC/DEC, because weird things happen; it's definitely not the behaviour recommended in RPN-018.\n",
    "\n",
    "Also, weird things happen if you go below zero, and above 127?? Might need even more testing!"
   ]
  },
  {
   "cell_type": "code",
   "execution_count": 525,
   "metadata": {},
   "outputs": [],
   "source": [
    "outport.send(controls.gm_on()) # reset all\n",
    "pb() # PBS == 2\n",
    "outport.send(cc(C.RPN_MSB, value=0))\n",
    "outport.send(cc(C.RPN_LSB, value=0))  # RPN -> PBS\n",
    "outport.send(cc(C.DATA_MSB, value=0)) # MSB = 0\n",
    "pb() # PBS == 0\n",
    "outport.send(cc(C.DATA_DEC, value=0)) # MSB = 0? -1?\n",
    "pb() # PBS == 0\n",
    "outport.send(cc(C.DATA_DEC, value=0)) # MSB = 0? -1?\n",
    "pb() # PBS == 0\n",
    "outport.send(cc(C.DATA_INC, value=0)) # MSB = 1\n",
    "pb() # PBS == 1\n",
    "\n",
    "outport.send(cc(C.RPN_LSB, value=1)) # RPN -> Fine Tune\n",
    "pb() # PBS == 1\n",
    "outport.send(cc(C.DATA_DEC, value=0)) # MSB = 0\n",
    "pb() # PBS == 1, but we've jumped down a semitone\n",
    "outport.send(cc(C.RPN_LSB, value=0)) # RPN -> PBS\n",
    "pb() # PBS == 1\n",
    "outport.send(cc(C.DATA_DEC, value=0)) # MSB = 0? -1 ? \n",
    "pb() # PBS == 1\n",
    "outport.send(cc(C.DATA_DEC, value=0)) # MSB = 0? -1 ? \n",
    "pb() # PBS == 1\n",
    "outport.send(cc(C.DATA_DEC, value=0)) # MSB = 0? -1 ? \n",
    "pb() # PBS == 1\n",
    "outport.send(cc(C.DATA_INC, value=0)) # MSB = 1 ? \n",
    "pb() # PBS == 1\n",
    "outport.send(cc(C.DATA_INC, value=0)) # MSB = 2 ? \n",
    "pb() # PBS == 2\n"
   ]
  },
  {
   "cell_type": "code",
   "execution_count": 540,
   "metadata": {},
   "outputs": [],
   "source": [
    "outport.send(controls.gm_on()) # reset all\n",
    "pb() # PBS == 2\n",
    "outport.send(cc(C.RPN_MSB, value=0))\n",
    "outport.send(cc(C.RPN_LSB, value=0))  # RPN -> PBS\n",
    "outport.send(cc(C.DATA_MSB, value=4)) # MSB = 4\n",
    "pb() # PBS == 4\n",
    "outport.send(cc(C.RPN_LSB, value=1)) # RPN -> Fine Tune\n",
    "pb() # PBS == 4\n",
    "outport.send(cc(C.DATA_DEC, value=0)) # MSB = 4\n",
    "pb() # PBS == 4, but we've jumped down almost a semitone\n",
    "outport.send(cc(C.DATA_DEC, value=0)) # MSB = 3\n",
    "outport.send(cc(C.DATA_DEC, value=0)) # MSB = 2\n",
    "outport.send(cc(C.DATA_DEC, value=0)) # MSB = 1\n",
    "outport.send(cc(C.DATA_DEC, value=0)) # MSB = 0\n",
    "pb() # PBS == 4,\n",
    "\n",
    "outport.send(cc(C.RPN_LSB, value=0)) # RPN -> PBS\n",
    "pb() # PBS == 4\n",
    "outport.send(cc(C.DATA_DEC, value=0)) # MSB = 0\n",
    "pb() # PBS == 4\n",
    "outport.send(cc(C.DATA_DEC, value=0)) # MSB = 0\n",
    "pb() # PBS == 4\n",
    "outport.send(cc(C.DATA_DEC, value=0)) # MSB = 0\n",
    "pb() # PBS == 4\n",
    "outport.send(cc(C.DATA_INC, value=0)) # MSB = 1\n",
    "pb() # PBS == 1\n",
    "outport.send(cc(C.DATA_INC, value=0)) # MSB = 2\n",
    "pb() # PBS == 2"
   ]
  },
  {
   "cell_type": "code",
   "execution_count": 547,
   "metadata": {},
   "outputs": [],
   "source": [
    "outport.send(controls.gm_on()) # reset all\n",
    "pb() # PBS == 2\n",
    "outport.send(cc(C.RPN_MSB, value=0))\n",
    "outport.send(cc(C.RPN_LSB, value=1))  # RPN -> Fine Tune\n",
    "outport.send(cc(C.DATA_MSB, value=127)) # MSB = 127\n",
    "pb() # PBS == 2, but we've jumped up a semitone\n",
    "outport.send(cc(C.RPN_LSB, value=0)) # RPN -> PBS\n",
    "pb() # PBS == 2\n",
    "outport.send(cc(C.DATA_INC, value=0)) # MSB = 127\n",
    "pb() # PBS == 2\n",
    "outport.send(cc(C.DATA_DEC, value=0)) # MSB = 126\n",
    "pb() # PBS == 126 (it gets clamped to 24 in the tone generator)"
   ]
  },
  {
   "cell_type": "markdown",
   "metadata": {},
   "source": [
    "Okay, so now it looks like if you go below 0 to \"-1\", you reach a state where it doesn't actually change the value anymore until you INC, and then it jumps to 1. So it's something like:\n",
    "\n",
    "    upon recieving DATA_DEC:\n",
    "        if MSB > 0:\n",
    "            MSB -= 1\n",
    "            set RPN data to MSB\n",
    "    \n",
    "    upon receiving DATA_INC:\n",
    "        if MSB < 127:\n",
    "            MSB += 1\n",
    "            set RPN data to MSB\n",
    "            \n",
    "\n",
    "As a result if we change RPNs while MSB is at 0 already, then another DATA_DEC doesn't actually change the RPN data, which causes this odd behaviour; a DATA_INC increases the MSB to 1 and then sets the RPN data to 1, the second-lowest possible value. A weird edge case."
   ]
  },
  {
   "cell_type": "markdown",
   "metadata": {},
   "source": [
    "Does changing the RPN MSB also set the RPN LSB to zero?"
   ]
  },
  {
   "cell_type": "code",
   "execution_count": 573,
   "metadata": {},
   "outputs": [],
   "source": [
    "outport.send(controls.gm_on()) # reset all\n",
    "pb() # PBS == 2\n",
    "outport.send(cc(C.RPN_MSB, value=0))\n",
    "outport.send(cc(C.RPN_LSB, value=2))  # RPN -> Coarse Tune\n",
    "outport.send(cc(C.DATA_MSB, value=62)) # MSB = 62\n",
    "pb() # PBS == 2, down 2 semitones\n",
    "outport.send(cc(C.RPN_MSB, value=1))\n",
    "outport.send(cc(C.DATA_DEC, value=0)) # MSB = 61\n",
    "pb() # PBS == 2, down 2 semitones\n",
    "\n",
    "outport.send(cc(C.RPN_MSB, value=0)) # RPN -> Coarse Tune again\n",
    "pb() # PBS == 2, down 2 semitones\n",
    "outport.send(cc(C.DATA_DEC, value=0)) # MSB = 60\n",
    "pb() # PBS == 2, down 4 semitones\n",
    "outport.send(cc(C.DATA_DEC, value=0)) # MSB = 59\n",
    "pb() # PBS == 2, down 5 semitones"
   ]
  },
  {
   "cell_type": "markdown",
   "metadata": {},
   "source": [
    "No, it does not."
   ]
  },
  {
   "cell_type": "markdown",
   "metadata": {},
   "source": [
    "Does setting the LSB change the decrement?"
   ]
  },
  {
   "cell_type": "code",
   "execution_count": 575,
   "metadata": {},
   "outputs": [],
   "source": [
    "outport.send(controls.gm_on()) # reset all\n",
    "pb() # PBS == 2\n",
    "outport.send(cc(C.RPN_MSB, value=0))\n",
    "outport.send(cc(C.RPN_LSB, value=2))  # RPN -> Coarse Tune\n",
    "outport.send(cc(C.DATA_MSB, value=62)) # MSB = 62\n",
    "pb() # PBS == 2, down 2 semitones\n",
    "outport.send(cc(C.DATA_LSB, value=32))\n",
    "pb() # PBS == 2, down 2 semitones\n",
    "outport.send(cc(C.DATA_DEC, value=0)) # MSB = 60\n",
    "pb() # PBS == 2, down 4 semitones\n",
    "outport.send(cc(C.DATA_DEC, value=0)) # MSB = 59\n",
    "pb() # PBS == 2, down 5 semitones"
   ]
  },
  {
   "cell_type": "markdown",
   "metadata": {},
   "source": [
    "No."
   ]
  },
  {
   "cell_type": "markdown",
   "metadata": {},
   "source": [
    "Does setting the LSB drag the MSB along with it?"
   ]
  },
  {
   "cell_type": "code",
   "execution_count": 581,
   "metadata": {},
   "outputs": [],
   "source": [
    "outport.send(controls.gm_on()) # reset all\n",
    "pb() # PBS == 2\n",
    "outport.send(cc(C.RPN_MSB, value=0))\n",
    "outport.send(cc(C.RPN_LSB, value=2))  # RPN -> Coarse Tune\n",
    "outport.send(cc(C.DATA_MSB, value=65)) # MSB = 62\n",
    "pb() # PBS == 2, up 1 semitone\n",
    "outport.send(cc(C.RPN_LSB, value=0))  # RPN -> PBS\n",
    "pb() # PBS ==2, up 1 semitone\n",
    "outport.send(cc(C.DATA_LSB, value=42)) # LSB = 42\n",
    "pb() # PBS == 2, still\n",
    "outport.send(cc(C.DATA_DEC, value=0)) # MSB = 41\n",
    "pb() # PBS == 41 (clamped to 24)\n"
   ]
  },
  {
   "cell_type": "markdown",
   "metadata": {},
   "source": [
    "No."
   ]
  },
  {
   "cell_type": "markdown",
   "metadata": {},
   "source": [
    "`F0 43 1n 4C aa aa aa dd .. dd F7`\n",
    "\n",
    "Parameter settings."
   ]
  },
  {
   "cell_type": "code",
   "execution_count": 606,
   "metadata": {},
   "outputs": [],
   "source": [
    "outport.send(controls.gm_on()) # reset all\n",
    "pb() \n",
    "outport.send(mido.Message.from_hex(\n",
    "    \"F0 43 10 4C 00 00 04 03 F7\"))\n",
    "pb() # XG volume\n",
    "outport.send(mido.Message.from_hex(\n",
    "\"F0 7F 7F 04 01 00 48 F7\"))\n",
    "pb() # USE volume\n",
    "outport.send(mido.Message.from_hex(\n",
    "    \"F0 43 11 4C 00 00 7F 00 F7\"))\n",
    "pb() # XG Reset"
   ]
  },
  {
   "cell_type": "markdown",
   "metadata": {},
   "source": [
    "Seems like the only one that works is the XG Resets."
   ]
  },
  {
   "cell_type": "markdown",
   "metadata": {},
   "source": [
    "Does the DGX-505 respond to XG parameter requests?"
   ]
  },
  {
   "cell_type": "code",
   "execution_count": 607,
   "metadata": {},
   "outputs": [],
   "source": [
    "inport = mido.open_input('DGX-505 MIDI 1')"
   ]
  },
  {
   "cell_type": "code",
   "execution_count": 634,
   "metadata": {},
   "outputs": [
    {
     "data": {
      "text/plain": [
       "[<message note_on channel=0 note=103 velocity=92 time=0>,\n",
       " <message note_on channel=0 note=103 velocity=0 time=0>]"
      ]
     },
     "execution_count": 634,
     "metadata": {},
     "output_type": "execute_result"
    }
   ],
   "source": [
    "list(inport.iter_pending())\n",
    "\n"
   ]
  },
  {
   "cell_type": "code",
   "execution_count": 635,
   "metadata": {},
   "outputs": [],
   "source": [
    "outport.send(mido.Message.from_hex(\n",
    "    \"F0 43 40 4C 00 00 00 F7\")) # request\n",
    "outport.send(mido.Message.from_hex(\n",
    "    \"F0 43 20 4C 00 00 01 F7\")) # dump request"
   ]
  },
  {
   "cell_type": "code",
   "execution_count": 636,
   "metadata": {},
   "outputs": [
    {
     "data": {
      "text/plain": [
       "[]"
      ]
     },
     "execution_count": 636,
     "metadata": {},
     "output_type": "execute_result"
    }
   ],
   "source": [
    "list(inport.iter_pending())\n"
   ]
  },
  {
   "cell_type": "markdown",
   "metadata": {},
   "source": [
    "Nope."
   ]
  },
  {
   "cell_type": "code",
   "execution_count": 637,
   "metadata": {},
   "outputs": [],
   "source": [
    "inport.close()"
   ]
  },
  {
   "cell_type": "code",
   "execution_count": 638,
   "metadata": {},
   "outputs": [],
   "source": [
    "outport.close()"
   ]
  },
  {
   "cell_type": "markdown",
   "metadata": {},
   "source": [
    "What about when we just power on?"
   ]
  },
  {
   "cell_type": "code",
   "execution_count": 657,
   "metadata": {},
   "outputs": [],
   "source": [
    "outport = mido.open_output('DGX-505 MIDI 1')"
   ]
  },
  {
   "cell_type": "code",
   "execution_count": 658,
   "metadata": {},
   "outputs": [],
   "source": [
    "pb() # MSB = 0, probably"
   ]
  },
  {
   "cell_type": "code",
   "execution_count": 659,
   "metadata": {},
   "outputs": [],
   "source": [
    "outport.send(cc(C.DATA_INC, value=0)) # MSB = 1\n",
    "pb() # PBS == 2"
   ]
  },
  {
   "cell_type": "code",
   "execution_count": 660,
   "metadata": {},
   "outputs": [],
   "source": [
    "outport.send(cc(C.RPN_MSB, value=0))\n",
    "outport.send(cc(C.RPN_LSB, value=0)) # RPN -> PBS"
   ]
  },
  {
   "cell_type": "code",
   "execution_count": 661,
   "metadata": {},
   "outputs": [],
   "source": [
    "outport.send(cc(C.DATA_INC, value=0)) # MSB = 2\n",
    "pb() # PBS == 2"
   ]
  },
  {
   "cell_type": "code",
   "execution_count": 662,
   "metadata": {},
   "outputs": [],
   "source": [
    "outport.send(cc(C.DATA_INC, value=0)) # MSB = 3\n",
    "pb() # PBS == 3"
   ]
  },
  {
   "cell_type": "markdown",
   "metadata": {},
   "source": [
    "I guess MSB starts at 0."
   ]
  },
  {
   "cell_type": "code",
   "execution_count": 663,
   "metadata": {},
   "outputs": [],
   "source": [
    "outport.close()\n"
   ]
  },
  {
   "cell_type": "code",
   "execution_count": null,
   "metadata": {},
   "outputs": [],
   "source": [
    "# power on\n",
    "outport = mido.open_output('DGX-505 MIDI 1')\n",
    "pb()\n",
    "outport.send(cc(C.RPN_MSB, value=0))\n",
    "outport.send(cc(C.RPN_LSB, value=2)) # RPN -> Coarse Tuning\n",
    "outport.send(cc(C.DATA_DEC, value=0)) # MSB = 0\n",
    "pb() # Coarse Tuning = 64\n",
    "outport.send(cc(C.DATA_INC, value=0)) # MSB \n"
   ]
  },
  {
   "cell_type": "markdown",
   "metadata": {},
   "source": [
    "# Testing Continues"
   ]
  },
  {
   "cell_type": "markdown",
   "metadata": {},
   "source": [
    "I suppose now we need to test some other stuff."
   ]
  },
  {
   "cell_type": "code",
   "execution_count": 3,
   "metadata": {},
   "outputs": [],
   "source": [
    "o = mido.open_output('DGX-505 MIDI 1')"
   ]
  },
  {
   "cell_type": "code",
   "execution_count": 9,
   "metadata": {},
   "outputs": [],
   "source": [
    "def pulse(port, sleep=0.5, note=60, velocity=100, channel=0):\n",
    "    port.send(mido.Message('note_on', note=note, velocity=velocity, channel=channel))\n",
    "    time.sleep(sleep)\n",
    "    o.send(mido.Message('note_on', note=note, velocity=0, channel=channel))\n",
    "    time.sleep(sleep)"
   ]
  },
  {
   "cell_type": "code",
   "execution_count": 44,
   "metadata": {},
   "outputs": [],
   "source": [
    "pulse(o)"
   ]
  },
  {
   "cell_type": "code",
   "execution_count": 53,
   "metadata": {},
   "outputs": [],
   "source": [
    "# Pitch Bend\n",
    "o.send(controls.gm_on())\n",
    "pulse(o)\n",
    "o.send(mido.Message('pitchwheel', pitch=-8192))\n",
    "pulse(o)\n",
    "o.send(cc(C.RESET_CONTROLS, value=0))\n",
    "pulse(o)"
   ]
  },
  {
   "cell_type": "markdown",
   "metadata": {},
   "source": [
    "Pitch bend: check."
   ]
  },
  {
   "cell_type": "code",
   "execution_count": 147,
   "metadata": {},
   "outputs": [],
   "source": [
    "def pulsetest(port, m, channel=0, reset=True, voice=None, *args, **kwargs):\n",
    "    if reset:\n",
    "        port.send(controls.gm_on())\n",
    "    if voice is not None:\n",
    "        controls.multisend(port, controls.set_voice_numbers(voice, channel=channel))\n",
    "    pulse(port, channel=channel, *args, **kwargs)\n",
    "    port.send(m)\n",
    "    pulse(port, channel=channel, *args, **kwargs)\n",
    "    port.send(cc(C.RESET_CONTROLS, value=0, channel=channel))\n",
    "    pulse(port, channel=channel, *args, **kwargs)\n"
   ]
  },
  {
   "cell_type": "code",
   "execution_count": 151,
   "metadata": {},
   "outputs": [],
   "source": [
    "pulsetest(o, cc(C.RELEASE, value=0), voice=103)"
   ]
  },
  {
   "cell_type": "markdown",
   "metadata": {},
   "source": [
    "Release time: check"
   ]
  },
  {
   "cell_type": "code",
   "execution_count": 166,
   "metadata": {},
   "outputs": [],
   "source": [
    "pulsetest(o, cc(C.ATTACK, value=80), voice=103)"
   ]
  },
  {
   "cell_type": "code",
   "execution_count": 167,
   "metadata": {},
   "outputs": [],
   "source": [
    "pulsetest(o, cc(C.ATTACK, value=80), voice=120)"
   ]
  },
  {
   "cell_type": "markdown",
   "metadata": {},
   "source": [
    "Attack time, check"
   ]
  },
  {
   "cell_type": "code",
   "execution_count": 180,
   "metadata": {},
   "outputs": [],
   "source": [
    "pulsetest(o, cc(C.HARMONIC, value=127), voice=103)"
   ]
  },
  {
   "cell_type": "markdown",
   "metadata": {},
   "source": [
    "Harmonic, check"
   ]
  },
  {
   "cell_type": "code",
   "execution_count": 187,
   "metadata": {},
   "outputs": [],
   "source": [
    "pulsetest(o, cc(C.BRIGHTNESS, value=0), voice=1)"
   ]
  },
  {
   "cell_type": "markdown",
   "metadata": {},
   "source": [
    "Now for Portamento Control"
   ]
  },
  {
   "cell_type": "code",
   "execution_count": 216,
   "metadata": {},
   "outputs": [],
   "source": [
    "def porta(port, sleep=0.5, note1=60, note2=64, velocity=100, channel=0, reset=True, voice=None):\n",
    "    if reset:\n",
    "        port.send(controls.gm_on())\n",
    "    if voice is not None:\n",
    "        controls.multisend(port, controls.set_voice_numbers(voice, channel=channel))\n",
    "        \n",
    "    port.send(mido.Message('note_on', note=note1, velocity=velocity, channel=channel))\n",
    "    time.sleep(sleep)\n",
    "    port.send(cc(C.PORTAMENTO_CTRL, value=note1))\n",
    "    port.send(mido.Message('note_on', note=note2, velocity=1, channel=channel))\n",
    "    time.sleep(sleep)\n",
    "    port.send(mido.Message('note_on', note=note2, velocity=0, channel=channel))\n",
    "    time.sleep(sleep)\n",
    "    port.send(mido.Message('note_on', note=note1, velocity=0, channel=channel))\n",
    "    time.sleep(sleep)\n",
    "    \n",
    "    port.send(mido.Message('note_on', note=note1, velocity=velocity, channel=channel))\n",
    "    time.sleep(sleep)\n",
    "    port.send(cc(C.PORTAMENTO_CTRL, value=note1))\n",
    "    port.send(cc(C.RESET_CONTROLS, value=0, channel=channel))\n",
    "    port.send(mido.Message('note_on', note=note2, velocity=1, channel=channel))\n",
    "    time.sleep(sleep)\n",
    "    port.send(mido.Message('note_on', note=note2, velocity=0, channel=channel))\n",
    "    time.sleep(sleep)\n",
    "    port.send(mido.Message('note_on', note=note1, velocity=0, channel=channel))\n",
    "    time.sleep(sleep)\n",
    "\n",
    "    port.send(mido.Message('note_on', note=note1, velocity=velocity, channel=channel))\n",
    "    time.sleep(sleep)\n",
    "    port.send(cc(C.PORTAMENTO_CTRL, value=note1))\n",
    "    port.send(mido.Message('note_on', note=note2, velocity=1, channel=channel))\n",
    "    port.send(cc(C.RESET_CONTROLS, value=0, channel=channel))\n",
    "    time.sleep(sleep)\n",
    "    port.send(mido.Message('note_on', note=note2, velocity=0, channel=channel))\n",
    "    time.sleep(sleep)\n",
    "    port.send(mido.Message('note_on', note=note1, velocity=0, channel=channel))\n",
    "    time.sleep(sleep)\n"
   ]
  },
  {
   "cell_type": "code",
   "execution_count": 226,
   "metadata": {},
   "outputs": [],
   "source": [
    "porta(o, voice=24)"
   ]
  },
  {
   "cell_type": "code",
   "execution_count": 769,
   "metadata": {},
   "outputs": [],
   "source": [
    "def pbp(port, sleep=0.1, channel=0, note=64, velocity=100):\n",
    "    port.send(mido.Message('pitchwheel', pitch=0, channel=channel))\n",
    "    port.send(mido.Message('note_on', note=note, velocity=velocity, channel=channel))\n",
    "    time.sleep(sleep)\n",
    "    port.send(mido.Message('pitchwheel', pitch=+8191, channel=channel))\n",
    "    time.sleep(sleep)\n",
    "    port.send(mido.Message('note_off', note=note,channel=channel))\n",
    "    time.sleep(sleep)"
   ]
  },
  {
   "cell_type": "code",
   "execution_count": 281,
   "metadata": {},
   "outputs": [],
   "source": [
    "o.send(controls.gm_on())\n",
    "controls.multisend(o, controls.set_voice_numbers(1))\n",
    "\n",
    "o.send(cc(C.RPN_MSB, value=0))\n",
    "o.send(cc(C.RPN_LSB, value=2))\n",
    "\n",
    "pbp(o)\n",
    "\n",
    "o.send(cc(C.DATA_MSB, value=65))\n",
    "\n",
    "pbp(o)\n",
    "\n",
    "o.send(cc(C.RESET_CONTROLS, value=0))\n",
    "\n",
    "pbp(o)\n",
    "\n",
    "\n",
    "pbp(o)\n",
    "\n",
    "o.send(cc(C.RPN_MSB, value=0))\n",
    "o.send(cc(C.DATA_INC, value=0))\n",
    "\n",
    "pbp(o)\n",
    "\n",
    "o.send(cc(C.RPN_LSB, value=2))\n",
    "o.send(cc(C.DATA_INC, value=0))\n",
    "\n",
    "pbp(o)\n",
    "\n",
    "\n"
   ]
  },
  {
   "cell_type": "code",
   "execution_count": 283,
   "metadata": {},
   "outputs": [],
   "source": [
    "i = mido.open_input('DGX-505 MIDI 1')"
   ]
  },
  {
   "cell_type": "code",
   "execution_count": 285,
   "metadata": {},
   "outputs": [
    {
     "data": {
      "text/plain": [
       "[]"
      ]
     },
     "execution_count": 285,
     "metadata": {},
     "output_type": "execute_result"
    }
   ],
   "source": [
    "list(i.iter_pending())"
   ]
  },
  {
   "cell_type": "code",
   "execution_count": 286,
   "metadata": {},
   "outputs": [],
   "source": [
    "d1 = list(i.iter_pending())"
   ]
  },
  {
   "cell_type": "code",
   "execution_count": 291,
   "metadata": {},
   "outputs": [],
   "source": [
    "cs = controlstate.MidiControlState()"
   ]
  },
  {
   "cell_type": "code",
   "execution_count": 294,
   "metadata": {},
   "outputs": [],
   "source": [
    "def grab():\n",
    "    return list(cs.feed_message(m) for m in i.iter_pending())"
   ]
  },
  {
   "cell_type": "code",
   "execution_count": 296,
   "metadata": {},
   "outputs": [],
   "source": [
    "w1 = [cs.feed_message(m) for m in d1]"
   ]
  },
  {
   "cell_type": "code",
   "execution_count": 298,
   "metadata": {},
   "outputs": [],
   "source": [
    "o.send(controls.master_vol(2))"
   ]
  },
  {
   "cell_type": "code",
   "execution_count": 303,
   "metadata": {},
   "outputs": [],
   "source": [
    "w2 = grab()"
   ]
  },
  {
   "cell_type": "code",
   "execution_count": 305,
   "metadata": {},
   "outputs": [
    {
     "data": {
      "text/plain": [
       "True"
      ]
     },
     "execution_count": 305,
     "metadata": {},
     "output_type": "execute_result"
    }
   ],
   "source": [
    "all(a.message == b.message for a, b in zip(w1, w2))"
   ]
  },
  {
   "cell_type": "code",
   "execution_count": 306,
   "metadata": {},
   "outputs": [
    {
     "data": {
      "text/plain": [
       "[<MIDI Master Tuning -1 <message sysex data=(67,16,39,48,0,0,7,15,0) time=0>>,\n",
       " <MIDI Master Tuning -2 <message sysex data=(67,16,39,48,0,0,7,14,0) time=0>>,\n",
       " <MIDI Master Tuning -3 <message sysex data=(67,16,39,48,0,0,7,13,0) time=0>>,\n",
       " <0 Voice Chorus Level 29 <message control_change channel=0 control=93 value=29 time=0>>,\n",
       " <0 Voice Chorus Level 28 <message control_change channel=0 control=93 value=28 time=0>>,\n",
       " <0 Voice Chorus Level 27 <message control_change channel=0 control=93 value=27 time=0>>,\n",
       " <0 Voice Chorus Level 26 <message control_change channel=0 control=93 value=26 time=0>>,\n",
       " <1 Voice Volume 81 <message control_change channel=1 control=7 value=81 time=0>>,\n",
       " <1 Voice Volume 82 <message control_change channel=1 control=7 value=82 time=0>>,\n",
       " <1 Voice Volume 83 <message control_change channel=1 control=7 value=83 time=0>>,\n",
       " <1 Voice Volume 84 <message control_change channel=1 control=7 value=84 time=0>>,\n",
       " <1 Voice Pan 65 <message control_change channel=1 control=10 value=65 time=0>>,\n",
       " <1 Voice Reverb Level 29 <message control_change channel=1 control=91 value=29 time=0>>,\n",
       " <1 Voice Reverb Level 28 <message control_change channel=1 control=91 value=28 time=0>>,\n",
       " <1 Voice Reverb Level 27 <message control_change channel=1 control=91 value=27 time=0>>,\n",
       " <2 Voice Volume 99 <message control_change channel=2 control=7 value=99 time=0>>,\n",
       " <2 Voice Volume 98 <message control_change channel=2 control=7 value=98 time=0>>,\n",
       " <2 Voice Volume 97 <message control_change channel=2 control=7 value=97 time=0>>,\n",
       " <Chorus Type 1(Chorus1) <message sysex data=(67,16,76,2,1,32,66,17) time=0>>,\n",
       " <Chorus Type 2(Chorus2) <message sysex data=(67,16,76,2,1,32,65,2) time=0>>,\n",
       " <Chorus Type 3(Flanger1) <message sysex data=(67,16,76,2,1,32,67,8) time=0>>,\n",
       " <Reverb Type 10(Off) <message sysex data=(67,16,76,2,1,0,0,0) time=0>>,\n",
       " <Reverb Type 09(Plate2) <message sysex data=(67,16,76,2,1,0,4,17) time=0>>,\n",
       " <0 Release Time 110 <message control_change channel=0 control=72 value=110 time=0>>,\n",
       " <1 Release Time 110 <message control_change channel=1 control=72 value=110 time=0>>,\n",
       " <2 Release Time 110 <message control_change channel=2 control=72 value=110 time=0>>]"
      ]
     },
     "execution_count": 306,
     "metadata": {},
     "output_type": "execute_result"
    }
   ],
   "source": [
    "grab()"
   ]
  },
  {
   "cell_type": "code",
   "execution_count": 307,
   "metadata": {},
   "outputs": [],
   "source": [
    "w3 = grab()"
   ]
  },
  {
   "cell_type": "code",
   "execution_count": 309,
   "metadata": {},
   "outputs": [
    {
     "data": {
      "text/plain": [
       "[(<MIDI Master Tuning 0 <message sysex data=(67,16,39,48,0,0,8,0,0) time=0>>,\n",
       "  <MIDI Master Tuning -3 <message sysex data=(67,16,39,48,0,0,7,13,0) time=0>>),\n",
       " (<Reverb Type 01(Hall1) <message sysex data=(67,16,76,2,1,0,1,0) time=0>>,\n",
       "  <Reverb Type 09(Plate2) <message sysex data=(67,16,76,2,1,0,4,17) time=0>>),\n",
       " (<Chorus Type ---(Chorus) <message sysex data=(67,16,76,2,1,32,65,0) time=0>>,\n",
       "  <Chorus Type 3(Flanger1) <message sysex data=(67,16,76,2,1,32,67,8) time=0>>),\n",
       " (<1 Voice Volume 80 <message control_change channel=1 control=7 value=80 time=0>>,\n",
       "  <1 Voice Volume 84 <message control_change channel=1 control=7 value=84 time=0>>),\n",
       " (<2 Voice Volume 100 <message control_change channel=2 control=7 value=100 time=0>>,\n",
       "  <2 Voice Volume 97 <message control_change channel=2 control=7 value=97 time=0>>),\n",
       " (<1 Voice Pan 64 <message control_change channel=1 control=10 value=64 time=0>>,\n",
       "  <1 Voice Pan 65 <message control_change channel=1 control=10 value=65 time=0>>),\n",
       " (<1 Voice Reverb Level 30 <message control_change channel=1 control=91 value=30 time=0>>,\n",
       "  <1 Voice Reverb Level 27 <message control_change channel=1 control=91 value=27 time=0>>),\n",
       " (<0 Voice Chorus Level 30 <message control_change channel=0 control=93 value=30 time=0>>,\n",
       "  <0 Voice Chorus Level 26 <message control_change channel=0 control=93 value=26 time=0>>),\n",
       " (<0 Release Time 64 <message control_change channel=0 control=72 value=64 time=0>>,\n",
       "  <0 Release Time 110 <message control_change channel=0 control=72 value=110 time=0>>),\n",
       " (<1 Release Time 64 <message control_change channel=1 control=72 value=64 time=0>>,\n",
       "  <1 Release Time 110 <message control_change channel=1 control=72 value=110 time=0>>),\n",
       " (<2 Release Time 64 <message control_change channel=2 control=72 value=64 time=0>>,\n",
       "  <2 Release Time 110 <message control_change channel=2 control=72 value=110 time=0>>)]"
      ]
     },
     "execution_count": 309,
     "metadata": {},
     "output_type": "execute_result"
    }
   ],
   "source": [
    "[(a, b) for a, b in zip(w2, w3) if a.message != b.message]"
   ]
  },
  {
   "cell_type": "code",
   "execution_count": 310,
   "metadata": {},
   "outputs": [],
   "source": [
    "o.send(mido.Message.from_hex(\"F0 43 10 4C 00 00 7E 00 F7\")) # XG ON\n"
   ]
  },
  {
   "cell_type": "code",
   "execution_count": 311,
   "metadata": {},
   "outputs": [],
   "source": [
    "w4 = grab()"
   ]
  },
  {
   "cell_type": "code",
   "execution_count": 312,
   "metadata": {},
   "outputs": [
    {
     "data": {
      "text/plain": [
       "[(<Reverb Type 09(Plate2) <message sysex data=(67,16,76,2,1,0,4,17) time=0>>,\n",
       "  <Reverb Type 01(Hall1) <message sysex data=(67,16,76,2,1,0,1,0) time=0>>),\n",
       " (<Chorus Type 3(Flanger1) <message sysex data=(67,16,76,2,1,32,67,8) time=0>>,\n",
       "  <Chorus Type ---(Chorus) <message sysex data=(67,16,76,2,1,32,65,0) time=0>>)]"
      ]
     },
     "execution_count": 312,
     "metadata": {},
     "output_type": "execute_result"
    }
   ],
   "source": [
    "[(a, b) for a, b in zip(w3, w4) if a.message != b.message]"
   ]
  },
  {
   "cell_type": "code",
   "execution_count": 313,
   "metadata": {},
   "outputs": [
    {
     "data": {
      "text/plain": [
       "[<0 Release Time 64 <message control_change channel=0 control=72 value=64 time=0>>,\n",
       " <1 Release Time 64 <message control_change channel=1 control=72 value=64 time=0>>,\n",
       " <2 Release Time 64 <message control_change channel=2 control=72 value=64 time=0>>,\n",
       " <Chorus Type 1(Chorus1) <message sysex data=(67,16,76,2,1,32,66,17) time=0>>,\n",
       " <Reverb Type 10(Off) <message sysex data=(67,16,76,2,1,0,0,0) time=0>>,\n",
       " <Reverb Type 09(Plate2) <message sysex data=(67,16,76,2,1,0,4,17) time=0>>,\n",
       " <Reverb Type 08(Plate1) <message sysex data=(67,16,76,2,1,0,4,16) time=0>>,\n",
       " <Reverb Type 07(Stage2) <message sysex data=(67,16,76,2,1,0,3,17) time=0>>,\n",
       " <Reverb Type 06(Stage1) <message sysex data=(67,16,76,2,1,0,3,16) time=0>>,\n",
       " <Chorus Type 2(Chorus2) <message sysex data=(67,16,76,2,1,32,65,2) time=0>>,\n",
       " <Chorus Type 3(Flanger1) <message sysex data=(67,16,76,2,1,32,67,8) time=0>>,\n",
       " <Chorus Type 4(Flanger2) <message sysex data=(67,16,76,2,1,32,67,17) time=0>>,\n",
       " <Chorus Type 5(Off) <message sysex data=(67,16,76,2,1,32,0,0) time=0>>,\n",
       " <Chorus Type 1(Chorus1) <message sysex data=(67,16,76,2,1,32,66,17) time=0>>,\n",
       " <Chorus Type 2(Chorus2) <message sysex data=(67,16,76,2,1,32,65,2) time=0>>,\n",
       " <Chorus Type 3(Flanger1) <message sysex data=(67,16,76,2,1,32,67,8) time=0>>,\n",
       " <Chorus Type 4(Flanger2) <message sysex data=(67,16,76,2,1,32,67,17) time=0>>,\n",
       " <Chorus Type 5(Off) <message sysex data=(67,16,76,2,1,32,0,0) time=0>>,\n",
       " <Reverb Type 05(Room2) <message sysex data=(67,16,76,2,1,0,2,19) time=0>>,\n",
       " <Reverb Type 04(Room1) <message sysex data=(67,16,76,2,1,0,2,17) time=0>>,\n",
       " <Reverb Type 03(Hall3) <message sysex data=(67,16,76,2,1,0,1,17) time=0>>,\n",
       " <Reverb Type 02(Hall2) <message sysex data=(67,16,76,2,1,0,1,16) time=0>>,\n",
       " <Reverb Type 01(Hall1) <message sysex data=(67,16,76,2,1,0,1,0) time=0>>,\n",
       " <Reverb Type 10(Off) <message sysex data=(67,16,76,2,1,0,0,0) time=0>>,\n",
       " <Reverb Type 09(Plate2) <message sysex data=(67,16,76,2,1,0,4,17) time=0>>,\n",
       " <Reverb Type 10(Off) <message sysex data=(67,16,76,2,1,0,0,0) time=0>>]"
      ]
     },
     "execution_count": 313,
     "metadata": {},
     "output_type": "execute_result"
    }
   ],
   "source": [
    "grab()"
   ]
  },
  {
   "cell_type": "code",
   "execution_count": 314,
   "metadata": {},
   "outputs": [],
   "source": [
    "w5 = grab()"
   ]
  },
  {
   "cell_type": "code",
   "execution_count": 315,
   "metadata": {},
   "outputs": [
    {
     "data": {
      "text/plain": [
       "[(<Reverb Type 01(Hall1) <message sysex data=(67,16,76,2,1,0,1,0) time=0>>,\n",
       "  <Reverb Type 10(Off) <message sysex data=(67,16,76,2,1,0,0,0) time=0>>),\n",
       " (<Chorus Type ---(Chorus) <message sysex data=(67,16,76,2,1,32,65,0) time=0>>,\n",
       "  <Chorus Type 5(Off) <message sysex data=(67,16,76,2,1,32,0,0) time=0>>),\n",
       " (<0 Release Time 110 <message control_change channel=0 control=72 value=110 time=0>>,\n",
       "  <0 Release Time 64 <message control_change channel=0 control=72 value=64 time=0>>),\n",
       " (<1 Release Time 110 <message control_change channel=1 control=72 value=110 time=0>>,\n",
       "  <1 Release Time 64 <message control_change channel=1 control=72 value=64 time=0>>),\n",
       " (<2 Release Time 110 <message control_change channel=2 control=72 value=110 time=0>>,\n",
       "  <2 Release Time 64 <message control_change channel=2 control=72 value=64 time=0>>)]"
      ]
     },
     "execution_count": 315,
     "metadata": {},
     "output_type": "execute_result"
    }
   ],
   "source": [
    "[(a, b) for a, b in zip(w4, w5) if a.message != b.message]"
   ]
  },
  {
   "cell_type": "code",
   "execution_count": 316,
   "metadata": {},
   "outputs": [],
   "source": [
    "o.send(mido.Message.from_hex(\"F0 43 10 4C 00 00 7F 00 F7\")) # XG RESET"
   ]
  },
  {
   "cell_type": "code",
   "execution_count": 317,
   "metadata": {},
   "outputs": [],
   "source": [
    "w6 = grab()"
   ]
  },
  {
   "cell_type": "code",
   "execution_count": 318,
   "metadata": {},
   "outputs": [
    {
     "data": {
      "text/plain": [
       "[(<MIDI Master Tuning -3 <message sysex data=(67,16,39,48,0,0,7,13,0) time=0>>,\n",
       "  <MIDI Master Tuning 0 <message sysex data=(67,16,39,48,0,0,8,0,0) time=0>>),\n",
       " (<Reverb Type 10(Off) <message sysex data=(67,16,76,2,1,0,0,0) time=0>>,\n",
       "  <Reverb Type 01(Hall1) <message sysex data=(67,16,76,2,1,0,1,0) time=0>>),\n",
       " (<Chorus Type 5(Off) <message sysex data=(67,16,76,2,1,32,0,0) time=0>>,\n",
       "  <Chorus Type ---(Chorus) <message sysex data=(67,16,76,2,1,32,65,0) time=0>>)]"
      ]
     },
     "execution_count": 318,
     "metadata": {},
     "output_type": "execute_result"
    }
   ],
   "source": [
    "[(a, b) for a, b in zip(w5, w6) if a.message != b.message]"
   ]
  },
  {
   "cell_type": "markdown",
   "metadata": {},
   "source": [
    "Hmmm, it looks like XG reset also resets the MIDI Master Tuning, as well!"
   ]
  },
  {
   "cell_type": "code",
   "execution_count": 320,
   "metadata": {},
   "outputs": [],
   "source": [
    "o.send(controls.master_tune_val(100))"
   ]
  },
  {
   "cell_type": "code",
   "execution_count": 321,
   "metadata": {},
   "outputs": [],
   "source": [
    "o.send(controls.gm_on())"
   ]
  },
  {
   "cell_type": "code",
   "execution_count": 322,
   "metadata": {},
   "outputs": [],
   "source": [
    "o.send(mido.Message.from_hex(\"F0 43 10 4C 00 00 7E 00 F7\")) # XG ON"
   ]
  },
  {
   "cell_type": "code",
   "execution_count": 326,
   "metadata": {},
   "outputs": [],
   "source": [
    "o.send(mido.Message.from_hex(\"F0 43 10 4C 00 00 7F 00 F7\")) # XG RESET"
   ]
  },
  {
   "cell_type": "markdown",
   "metadata": {},
   "source": [
    "Seems to be the only difference"
   ]
  },
  {
   "cell_type": "code",
   "execution_count": 327,
   "metadata": {},
   "outputs": [
    {
     "data": {
      "text/plain": [
       "[<0 RPN MSB 0 <message control_change channel=0 control=101 value=0 time=0>>,\n",
       " <0 RPN LSB 0 <message control_change channel=0 control=100 value=0 time=0>>,\n",
       " <0 Data Entry MSB: Pitch Bend Range 3 <message control_change channel=0 control=6 value=3 time=0>>,\n",
       " <1 RPN MSB 0 <message control_change channel=1 control=101 value=0 time=0>>,\n",
       " <1 RPN LSB 0 <message control_change channel=1 control=100 value=0 time=0>>,\n",
       " <1 Data Entry MSB: Pitch Bend Range 3 <message control_change channel=1 control=6 value=3 time=0>>,\n",
       " <2 RPN MSB 0 <message control_change channel=2 control=101 value=0 time=0>>,\n",
       " <2 RPN LSB 0 <message control_change channel=2 control=100 value=0 time=0>>,\n",
       " <2 Data Entry MSB: Pitch Bend Range 3 <message control_change channel=2 control=6 value=3 time=0>>,\n",
       " <0 RPN MSB 0 <message control_change channel=0 control=101 value=0 time=0>>,\n",
       " <0 RPN LSB 0 <message control_change channel=0 control=100 value=0 time=0>>,\n",
       " <0 Data Entry MSB: Pitch Bend Range 2 <message control_change channel=0 control=6 value=2 time=0>>,\n",
       " <1 RPN MSB 0 <message control_change channel=1 control=101 value=0 time=0>>,\n",
       " <1 RPN LSB 0 <message control_change channel=1 control=100 value=0 time=0>>,\n",
       " <1 Data Entry MSB: Pitch Bend Range 2 <message control_change channel=1 control=6 value=2 time=0>>,\n",
       " <2 RPN MSB 0 <message control_change channel=2 control=101 value=0 time=0>>,\n",
       " <2 RPN LSB 0 <message control_change channel=2 control=100 value=0 time=0>>,\n",
       " <2 Data Entry MSB: Pitch Bend Range 2 <message control_change channel=2 control=6 value=2 time=0>>,\n",
       " <0 Note On 069(A3) <message note_on channel=0 note=69 velocity=26 time=0>>,\n",
       " <0 Note Off 069(A3) <message note_on channel=0 note=69 velocity=0 time=0>>,\n",
       " <0 Release Time 110 <message control_change channel=0 control=72 value=110 time=0>>,\n",
       " <1 Release Time 110 <message control_change channel=1 control=72 value=110 time=0>>,\n",
       " <2 Release Time 110 <message control_change channel=2 control=72 value=110 time=0>>,\n",
       " <0 Release Time 64 <message control_change channel=0 control=72 value=64 time=0>>,\n",
       " <1 Release Time 64 <message control_change channel=1 control=72 value=64 time=0>>,\n",
       " <2 Release Time 64 <message control_change channel=2 control=72 value=64 time=0>>]"
      ]
     },
     "execution_count": 327,
     "metadata": {},
     "output_type": "execute_result"
    }
   ],
   "source": [
    "grab()"
   ]
  },
  {
   "cell_type": "markdown",
   "metadata": {},
   "source": [
    "# What About The Bank"
   ]
  },
  {
   "cell_type": "code",
   "execution_count": 328,
   "metadata": {},
   "outputs": [],
   "source": [
    "i.close()"
   ]
  },
  {
   "cell_type": "markdown",
   "metadata": {},
   "source": [
    "Let's review:"
   ]
  },
  {
   "cell_type": "markdown",
   "metadata": {},
   "source": [
    "\n",
    "### 3.1.2 Program Change\n",
    "There are melody voices and there are rhythym voices (drum kits). \n",
    "\n",
    "The specification says:\n",
    "\n",
    " > If the tone generator does not have a drum kit corresponding to the specified program number, it will ignore the message and continue to use the current drum kit.\n",
    "\n",
    "> If Program change makes a change from normal voice to drum kit, the part mode shall revert to what it was before normal mode was invoked. Upon receipt of XG System ON, the system shall virtually set this \"revert-to\" mode to Drum Setup 2 for all Parts 1 to 16, except for Part 10.\n",
    "\n",
    "### 3.1.6.1 Bank Select MSB/LSB\n",
    "Bank MSB:\n",
    "\n",
    "|MSB||\n",
    "|-----------|---|\n",
    "| `00`      | Melody voice |\n",
    "| `01`–`3F` | Model-exclusive area |\n",
    "| `40`      | SFX voice |\n",
    "| `41`–`77` | Reserved for XG extensions |\n",
    "| `78`      | GM L2 Rhythm Kit |\n",
    "| `79`      | GM L2 Melody voice |\n",
    "| `7A`–`7D` | Reserved for XG extensions |\n",
    "| `7E`      | SFX kit |\n",
    "| `7F`      | Rhythm kit |\n",
    "\n",
    "Bank LSB is an extension area.\n",
    "\n",
    " > If support is included for one or more voices in an extension bank, then all the other program change numbers in that bank are filled with the corresponding voices of Bank 0 (basic voices)\n",
    " \n",
    " > Note 1: By default, channel 10 plays rhythm voices while other channels use bank 0 melody voices (as in GM Level 1)\n",
    " \n",
    " > Note 2: If the new Bank Select MSB is `00` (melody voice) but the tone generator does not support the melody voice corresponding to the last recieved Bank Select LSB, the channel reverts to the Bank Select LSB corresponding to its most recently played melody voice.\n",
    " \n",
    " > Note 3: If the new Bank Select MSB is `7F` (rhythm voice) the tone generator unconditionally uses LSB `00` without using the most recently received Bank Select LSB. If the tone generator does not support a drum kit corresponding to the channel's most recently received Program Change, the channel will revert to the Program Change corresponding to its most recently played rhythm kit.\n",
    " \n",
    " > Note 4: If a Bank Select MSB value of `01`–`77` or `7A`–`7E` (model-exclusive area, SFX voice, or XG extension voice) is received and the tone generator does not have a voice corresponding to the last received LSB and Program  change, the tone generator shall produce no sound for that channel regardless of subsequent Key On messages.\n",
    " \n",
    " > In the case where a melody voice is being changed first to a voice in bank-LSB A and then to a voice in bank-LSB B, and the change to A is possible but the change to B is not possible, A will be used as the substitute for B. If neither the change to A nor the change to B is possible, the voice of the previous bank will [be] substituted for A and B.\n",
    "\n",
    " > In the case where a rhythm voice is being changed first program number kit A and then to program number kit B, and the change to A is possible but the change to B is not possible, A will be used as the substitute for B. If neither the change to A nor the change to B is possible, the voice of the previous bank will [be] substituted for A and B."
   ]
  },
  {
   "cell_type": "markdown",
   "metadata": {},
   "source": [
    "We have the following supported kits:\n",
    "\n",
    "\n",
    "|No.| Name | MSB | LSB | Prog | Note 40 |\n",
    "|---|-------|-|-|-|-|\n",
    "|122|Standard Kit 1|127|0|0| Snare H Hard|\n",
    "|123|Standard Kit 2|127|0|1| Snare H Hard 2|\n",
    "|124|Room Kit|127|0|8| SD Room H|\n",
    "|125|Rock Kit|127|0|16| SD Rock Rim|\n",
    "|126|Electronic Kit|127|0|24| SD Rock H|\n",
    "|127|Analog Kit|127|0|25| Analog Snare 2|\n",
    "|128|Dance Kit|127|0|27| AnSD Ana+Acoustic|\n",
    "|129|Jazz Kit|127|0|32| SD Jazz M|\n",
    "|130|Brush Kit|127|0|40| Brush Tap|\n",
    "|131|Symphony Kit|127|0|48| Marching Sn H|\n",
    "|132|SFX Kit 1|126|0|0| | \n",
    "|133|SFX Kit 2|126|0|1| Scratch|\n",
    "\n",
    "Note 40 is different for each of them."
   ]
  },
  {
   "cell_type": "code",
   "execution_count": 330,
   "metadata": {},
   "outputs": [],
   "source": [
    "i = mido.open_input('DGX-505 MIDI 1')"
   ]
  },
  {
   "cell_type": "code",
   "execution_count": 335,
   "metadata": {
    "collapsed": true
   },
   "outputs": [
    {
     "data": {
      "text/plain": [
       "[<0 Note On 040(E1) <message note_on channel=0 note=40 velocity=58 time=0>>,\n",
       " <0 Note Off 040(E1) <message note_on channel=0 note=40 velocity=0 time=0>>,\n",
       " <0 Bank MSB 127 <message control_change channel=0 control=0 value=127 time=0>>,\n",
       " <0 Bank LSB 0 <message control_change channel=0 control=32 value=0 time=0>>,\n",
       " <0 Program Change: [127,0,0] 122 Standard Kit 1 (DRUM KITS) <message program_change channel=0 program=0 time=0>>,\n",
       " <1 Bank MSB 0 <message control_change channel=1 control=0 value=0 time=0>>,\n",
       " <1 Bank LSB 112 <message control_change channel=1 control=32 value=112 time=0>>,\n",
       " <1 Program Change: [0,112,48] 054 String Ensemble (STRINGS) <message program_change channel=1 program=48 time=0>>,\n",
       " <0 Voice Volume 104 <message control_change channel=0 control=7 value=104 time=0>>,\n",
       " <0 Voice Reverb Level 28 <message control_change channel=0 control=91 value=28 time=0>>,\n",
       " <1 Voice Volume 100 <message control_change channel=1 control=7 value=100 time=0>>,\n",
       " <1 Voice Reverb Level 40 <message control_change channel=1 control=91 value=40 time=0>>,\n",
       " <0 Note On 040(E1) <message note_on channel=0 note=40 velocity=69 time=0>>,\n",
       " <0 Note Off 040(E1) <message note_on channel=0 note=40 velocity=0 time=0>>,\n",
       " <0 Bank MSB 127 <message control_change channel=0 control=0 value=127 time=0>>,\n",
       " <0 Bank LSB 0 <message control_change channel=0 control=32 value=0 time=0>>,\n",
       " <0 Program Change: [127,0,1] 123 Standard Kit 2 (DRUM KITS) <message program_change channel=0 program=1 time=0>>,\n",
       " <0 Voice Reverb Level 26 <message control_change channel=0 control=91 value=26 time=0>>,\n",
       " <0 Note On 040(E1) <message note_on channel=0 note=40 velocity=65 time=0>>,\n",
       " <0 Note Off 040(E1) <message note_on channel=0 note=40 velocity=0 time=0>>,\n",
       " <0 Bank MSB 127 <message control_change channel=0 control=0 value=127 time=0>>,\n",
       " <0 Bank LSB 0 <message control_change channel=0 control=32 value=0 time=0>>,\n",
       " <0 Program Change: [127,0,8] 124 Room Kit (DRUM KITS) <message program_change channel=0 program=8 time=0>>,\n",
       " <0 Voice Reverb Level 20 <message control_change channel=0 control=91 value=20 time=0>>,\n",
       " <0 Note On 040(E1) <message note_on channel=0 note=40 velocity=72 time=0>>,\n",
       " <0 Note Off 040(E1) <message note_on channel=0 note=40 velocity=0 time=0>>,\n",
       " <0 Bank MSB 127 <message control_change channel=0 control=0 value=127 time=0>>,\n",
       " <0 Bank LSB 0 <message control_change channel=0 control=32 value=0 time=0>>,\n",
       " <0 Program Change: [127,0,16] 125 Rock Kit (DRUM KITS) <message program_change channel=0 program=16 time=0>>,\n",
       " <0 Voice Reverb Level 40 <message control_change channel=0 control=91 value=40 time=0>>,\n",
       " <0 Note On 040(E1) <message note_on channel=0 note=40 velocity=49 time=0>>,\n",
       " <0 Note Off 040(E1) <message note_on channel=0 note=40 velocity=0 time=0>>,\n",
       " <0 Bank MSB 127 <message control_change channel=0 control=0 value=127 time=0>>,\n",
       " <0 Bank LSB 0 <message control_change channel=0 control=32 value=0 time=0>>,\n",
       " <0 Program Change: [127,0,24] 126 Electronic Kit (DRUM KITS) <message program_change channel=0 program=24 time=0>>,\n",
       " <0 Voice Reverb Level 28 <message control_change channel=0 control=91 value=28 time=0>>,\n",
       " <0 Note On 040(E1) <message note_on channel=0 note=40 velocity=66 time=0>>,\n",
       " <0 Note Off 040(E1) <message note_on channel=0 note=40 velocity=0 time=0>>,\n",
       " <0 Bank MSB 127 <message control_change channel=0 control=0 value=127 time=0>>,\n",
       " <0 Bank LSB 0 <message control_change channel=0 control=32 value=0 time=0>>,\n",
       " <0 Program Change: [127,0,25] 127 Analog Kit (DRUM KITS) <message program_change channel=0 program=25 time=0>>,\n",
       " <0 Voice Reverb Level 20 <message control_change channel=0 control=91 value=20 time=0>>,\n",
       " <0 Note On 040(E1) <message note_on channel=0 note=40 velocity=47 time=0>>,\n",
       " <0 Note Off 040(E1) <message note_on channel=0 note=40 velocity=0 time=0>>,\n",
       " <0 Bank MSB 127 <message control_change channel=0 control=0 value=127 time=0>>,\n",
       " <0 Bank LSB 0 <message control_change channel=0 control=32 value=0 time=0>>,\n",
       " <0 Program Change: [127,0,27] 128 Dance Kit (DRUM KITS) <message program_change channel=0 program=27 time=0>>,\n",
       " <0 Voice Reverb Level 18 <message control_change channel=0 control=91 value=18 time=0>>,\n",
       " <0 Note On 040(E1) <message note_on channel=0 note=40 velocity=66 time=0>>,\n",
       " <0 Note Off 040(E1) <message note_on channel=0 note=40 velocity=0 time=0>>,\n",
       " <0 Bank MSB 127 <message control_change channel=0 control=0 value=127 time=0>>,\n",
       " <0 Bank LSB 0 <message control_change channel=0 control=32 value=0 time=0>>,\n",
       " <0 Program Change: [127,0,32] 129 Jazz Kit (DRUM KITS) <message program_change channel=0 program=32 time=0>>,\n",
       " <0 Voice Reverb Level 28 <message control_change channel=0 control=91 value=28 time=0>>,\n",
       " <0 Note On 040(E1) <message note_on channel=0 note=40 velocity=64 time=0>>,\n",
       " <0 Note Off 040(E1) <message note_on channel=0 note=40 velocity=0 time=0>>,\n",
       " <0 Bank MSB 127 <message control_change channel=0 control=0 value=127 time=0>>,\n",
       " <0 Bank LSB 0 <message control_change channel=0 control=32 value=0 time=0>>,\n",
       " <0 Program Change: [127,0,40] 130 Brush Kit (DRUM KITS) <message program_change channel=0 program=40 time=0>>,\n",
       " <0 Note On 040(E1) <message note_on channel=0 note=40 velocity=68 time=0>>,\n",
       " <0 Note Off 040(E1) <message note_on channel=0 note=40 velocity=0 time=0>>,\n",
       " <0 Bank MSB 127 <message control_change channel=0 control=0 value=127 time=0>>,\n",
       " <0 Bank LSB 0 <message control_change channel=0 control=32 value=0 time=0>>,\n",
       " <0 Program Change: [127,0,48] 131 Symphony Kit (DRUM KITS) <message program_change channel=0 program=48 time=0>>,\n",
       " <0 Voice Reverb Level 40 <message control_change channel=0 control=91 value=40 time=0>>,\n",
       " <0 Note On 040(E1) <message note_on channel=0 note=40 velocity=69 time=0>>,\n",
       " <0 Note Off 040(E1) <message note_on channel=0 note=40 velocity=0 time=0>>,\n",
       " <0 Bank MSB 126 <message control_change channel=0 control=0 value=126 time=0>>,\n",
       " <0 Bank LSB 0 <message control_change channel=0 control=32 value=0 time=0>>,\n",
       " <0 Program Change: [126,0,0] 132 SFX Kit 1 (DRUM KITS) <message program_change channel=0 program=0 time=0>>,\n",
       " <0 Voice Reverb Level 28 <message control_change channel=0 control=91 value=28 time=0>>,\n",
       " <0 Note On 040(E1) <message note_on channel=0 note=40 velocity=72 time=0>>,\n",
       " <0 Note Off 040(E1) <message note_on channel=0 note=40 velocity=0 time=0>>,\n",
       " <0 Bank MSB 126 <message control_change channel=0 control=0 value=126 time=0>>,\n",
       " <0 Bank LSB 0 <message control_change channel=0 control=32 value=0 time=0>>,\n",
       " <0 Program Change: [126,0,1] 133 SFX Kit 2 (DRUM KITS) <message program_change channel=0 program=1 time=0>>,\n",
       " <0 Note On 040(E1) <message note_on channel=0 note=40 velocity=78 time=0>>,\n",
       " <0 Note Off 040(E1) <message note_on channel=0 note=40 velocity=0 time=0>>,\n",
       " <0 Bank MSB 0 <message control_change channel=0 control=0 value=0 time=0>>,\n",
       " <0 Bank LSB 0 <message control_change channel=0 control=32 value=0 time=0>>,\n",
       " <0 Program Change: [0,0,0] 134 Grand Piano (XG PIANO) <message program_change channel=0 program=0 time=0>>,\n",
       " <0 Voice Volume 127 <message control_change channel=0 control=7 value=127 time=0>>,\n",
       " <1 Voice Volume 70 <message control_change channel=1 control=7 value=70 time=0>>,\n",
       " <1 Voice Reverb Level 32 <message control_change channel=1 control=91 value=32 time=0>>,\n",
       " <0 Note On 052(E2) <message note_on channel=0 note=52 velocity=69 time=0>>,\n",
       " <0 Note Off 052(E2) <message note_on channel=0 note=52 velocity=0 time=0>>]"
      ]
     },
     "execution_count": 335,
     "metadata": {},
     "output_type": "execute_result"
    }
   ],
   "source": [
    "grab()"
   ]
  },
  {
   "cell_type": "code",
   "execution_count": 361,
   "metadata": {},
   "outputs": [],
   "source": [
    "progs = (0,1,8,16,24,25,27,32,40,48)"
   ]
  },
  {
   "cell_type": "code",
   "execution_count": 341,
   "metadata": {},
   "outputs": [],
   "source": [
    "o.send(cc(C.BANK_MSB, value=127))"
   ]
  },
  {
   "cell_type": "code",
   "execution_count": 343,
   "metadata": {},
   "outputs": [],
   "source": [
    "o.send(mido.Message('program_change', program=0))"
   ]
  },
  {
   "cell_type": "code",
   "execution_count": 488,
   "metadata": {},
   "outputs": [],
   "source": [
    "for p in progs:\n",
    "    o.send(mido.Message('program_change', program=p))\n",
    "    \n",
    "    o.send(mido.Message('note_on', note=40, velocity=33))\n",
    "    \n",
    "    time.sleep(0.2)"
   ]
  },
  {
   "cell_type": "code",
   "execution_count": null,
   "metadata": {},
   "outputs": [],
   "source": [
    "o.send(cc(C.BANK_LSB, value=127))"
   ]
  },
  {
   "cell_type": "code",
   "execution_count": 8,
   "metadata": {},
   "outputs": [],
   "source": [
    "from commons.messages import voices"
   ]
  },
  {
   "cell_type": "code",
   "execution_count": 402,
   "metadata": {},
   "outputs": [],
   "source": [
    "def voice_list(prog):\n",
    "    v = []\n",
    "    for l in range(128):\n",
    "        try:\n",
    "            v.append(voices.from_bank_program(0, l, prog))\n",
    "        except KeyError:\n",
    "            pass\n",
    "    return v"
   ]
  },
  {
   "cell_type": "code",
   "execution_count": 396,
   "metadata": {
    "collapsed": true
   },
   "outputs": [
    {
     "data": {
      "text/plain": [
       "[[Voice(number=134, name='Grand Piano', category='XG PIANO', msb=0, lsb=0, prog=0),\n",
       "  Voice(number=135, name='Grand Piano KSP', category='XG PIANO', msb=0, lsb=1, prog=0),\n",
       "  Voice(number=136, name='Piano Strings', category='XG PIANO', msb=0, lsb=40, prog=0),\n",
       "  Voice(number=137, name='Dream', category='XG PIANO', msb=0, lsb=41, prog=0),\n",
       "  Voice(number=3, name='Grand Piano', category='PIANO', msb=0, lsb=112, prog=0),\n",
       "  Voice(number=1, name='Live! Grand Piano', category='PIANO', msb=0, lsb=113, prog=0),\n",
       "  Voice(number=2, name='Live! Warm Grand Piano', category='PIANO', msb=0, lsb=114, prog=0)],\n",
       " [Voice(number=138, name='Bright Piano', category='XG PIANO', msb=0, lsb=0, prog=1),\n",
       "  Voice(number=139, name='Bright Piano KSP', category='XG PIANO', msb=0, lsb=1, prog=1),\n",
       "  Voice(number=4, name='Bright Piano', category='PIANO', msb=0, lsb=112, prog=1)],\n",
       " [Voice(number=157, name='Celesta', category='XG CHROMATIC', msb=0, lsb=0, prog=8),\n",
       "  Voice(number=118, name='Celesta', category='PERCUSSION', msb=0, lsb=112, prog=8)],\n",
       " [Voice(number=176, name='DrawOrg', category='XG ORGAN', msb=0, lsb=0, prog=16),\n",
       "  Voice(number=177, name='Detuned DrawOrg', category='XG ORGAN', msb=0, lsb=32, prog=16),\n",
       "  Voice(number=178, name=\"60's DrawOrg 1\", category='XG ORGAN', msb=0, lsb=33, prog=16),\n",
       "  Voice(number=179, name=\"60's DrawOrg 2\", category='XG ORGAN', msb=0, lsb=34, prog=16),\n",
       "  Voice(number=180, name=\"70's DrawOrg 1\", category='XG ORGAN', msb=0, lsb=35, prog=16),\n",
       "  Voice(number=181, name=\"60's DrawOrg 3\", category='XG ORGAN', msb=0, lsb=37, prog=16),\n",
       "  Voice(number=182, name=\"16+2'2/3\", category='XG ORGAN', msb=0, lsb=40, prog=16),\n",
       "  Voice(number=183, name='Organ Bass', category='XG ORGAN', msb=0, lsb=64, prog=16),\n",
       "  Voice(number=184, name=\"70's DrawOrg 2\", category='XG ORGAN', msb=0, lsb=65, prog=16),\n",
       "  Voice(number=185, name='Cheezy Organ', category='XG ORGAN', msb=0, lsb=66, prog=16),\n",
       "  Voice(number=186, name='DrawOrg 3', category='XG ORGAN', msb=0, lsb=67, prog=16),\n",
       "  Voice(number=19, name='Jazz Organ 1', category='ORGAN', msb=0, lsb=112, prog=16),\n",
       "  Voice(number=20, name='Jazz Organ 2', category='ORGAN', msb=0, lsb=113, prog=16),\n",
       "  Voice(number=27, name='Theater Organ', category='ORGAN', msb=0, lsb=114, prog=16),\n",
       "  Voice(number=22, name='Bright Organ', category='ORGAN', msb=0, lsb=116, prog=16),\n",
       "  Voice(number=25, name=\"16'+2' Organ\", category='ORGAN', msb=0, lsb=118, prog=16),\n",
       "  Voice(number=26, name=\"16'+4' Organ\", category='ORGAN', msb=0, lsb=119, prog=16)],\n",
       " [Voice(number=209, name='Nylon Guitar', category='XG GUITAR', msb=0, lsb=0, prog=24),\n",
       "  Voice(number=210, name='Velocity Guitar Harmonics', category='XG GUITAR', msb=0, lsb=43, prog=24),\n",
       "  Voice(number=211, name='Ukulele', category='XG GUITAR', msb=0, lsb=96, prog=24),\n",
       "  Voice(number=35, name='Classical Guitar', category='GUITAR', msb=0, lsb=112, prog=24)],\n",
       " [Voice(number=212, name='Steel Guitar', category='XG GUITAR', msb=0, lsb=0, prog=25),\n",
       "  Voice(number=213, name='12-string Guitar', category='XG GUITAR', msb=0, lsb=35, prog=25),\n",
       "  Voice(number=214, name='Nylon & Steel Guitar', category='XG GUITAR', msb=0, lsb=40, prog=25),\n",
       "  Voice(number=215, name='Steel Guitar with Body Sound', category='XG GUITAR', msb=0, lsb=41, prog=25),\n",
       "  Voice(number=216, name='Mandolin', category='XG GUITAR', msb=0, lsb=96, prog=25),\n",
       "  Voice(number=36, name='Folk Guitar', category='GUITAR', msb=0, lsb=112, prog=25),\n",
       "  Voice(number=37, name='12Strings Guitar', category='GUITAR', msb=0, lsb=113, prog=25)],\n",
       " [Voice(number=219, name='Clean Guitar', category='XG GUITAR', msb=0, lsb=0, prog=27),\n",
       "  Voice(number=220, name='Chorus Guitar', category='XG GUITAR', msb=0, lsb=32, prog=27),\n",
       "  Voice(number=40, name='Clean Guitar', category='GUITAR', msb=0, lsb=112, prog=27),\n",
       "  Voice(number=41, name=\"60's Clean Guitar\", category='GUITAR', msb=0, lsb=117, prog=27)],\n",
       " [Voice(number=233, name='Acoustic Bass', category='XG BASS', msb=0, lsb=0, prog=32),\n",
       "  Voice(number=234, name='Jazz Rhythm', category='XG BASS', msb=0, lsb=40, prog=32),\n",
       "  Voice(number=235, name='Velocity Crossfade Upright Bass', category='XG BASS', msb=0, lsb=45, prog=32),\n",
       "  Voice(number=45, name='Acoustic Bass', category='BASS', msb=0, lsb=112, prog=32)],\n",
       " [Voice(number=261, name='Violin', category='XG STRING', msb=0, lsb=0, prog=40),\n",
       "  Voice(number=262, name='Slow Violin', category='XG STRING', msb=0, lsb=8, prog=40),\n",
       "  Voice(number=60, name='Violin', category='STRINGS', msb=0, lsb=112, prog=40)],\n",
       " [Voice(number=273, name='Strings 1', category='XG ENSEMBLE', msb=0, lsb=0, prog=48),\n",
       "  Voice(number=274, name='Stereo Strings', category='XG ENSEMBLE', msb=0, lsb=3, prog=48),\n",
       "  Voice(number=275, name='Slow Strings', category='XG ENSEMBLE', msb=0, lsb=8, prog=48),\n",
       "  Voice(number=276, name=\"60's Strings\", category='XG ENSEMBLE', msb=0, lsb=35, prog=48),\n",
       "  Voice(number=277, name='Orchestra', category='XG ENSEMBLE', msb=0, lsb=40, prog=48),\n",
       "  Voice(number=278, name='Orchestra 2', category='XG ENSEMBLE', msb=0, lsb=41, prog=48),\n",
       "  Voice(number=279, name='Tremolo Orchestra', category='XG ENSEMBLE', msb=0, lsb=42, prog=48),\n",
       "  Voice(number=280, name='Velocity Strings', category='XG ENSEMBLE', msb=0, lsb=45, prog=48),\n",
       "  Voice(number=54, name='String Ensemble', category='STRINGS', msb=0, lsb=112, prog=48)]]"
      ]
     },
     "execution_count": 396,
     "metadata": {},
     "output_type": "execute_result"
    }
   ],
   "source": [
    "[voice_list(x) for x in progs]"
   ]
  },
  {
   "cell_type": "code",
   "execution_count": 517,
   "metadata": {
    "scrolled": true
   },
   "outputs": [
    {
     "name": "stdout",
     "output_type": "stream",
     "text": [
      "[0,0,16] 176 DrawOrg (XG ORGAN)\n",
      "[0,32,16] 177 Detuned DrawOrg (XG ORGAN)\n",
      "[0,33,16] 178 60's DrawOrg 1 (XG ORGAN)\n",
      "[0,34,16] 179 60's DrawOrg 2 (XG ORGAN)\n",
      "[0,35,16] 180 70's DrawOrg 1 (XG ORGAN)\n",
      "[0,37,16] 181 60's DrawOrg 3 (XG ORGAN)\n",
      "[0,40,16] 182 16+2'2/3 (XG ORGAN)\n",
      "[0,64,16] 183 Organ Bass (XG ORGAN)\n",
      "[0,65,16] 184 70's DrawOrg 2 (XG ORGAN)\n",
      "[0,66,16] 185 Cheezy Organ (XG ORGAN)\n",
      "[0,67,16] 186 DrawOrg 3 (XG ORGAN)\n",
      "[0,112,16] 019 Jazz Organ 1 (ORGAN)\n",
      "[0,113,16] 020 Jazz Organ 2 (ORGAN)\n",
      "[0,114,16] 027 Theater Organ (ORGAN)\n",
      "[0,116,16] 022 Bright Organ (ORGAN)\n",
      "[0,118,16] 025 16'+2' Organ (ORGAN)\n",
      "[0,119,16] 026 16'+4' Organ (ORGAN)\n"
     ]
    }
   ],
   "source": [
    "organvoices = voice_list(16)\n",
    "print('\\n'.join(x.voice_string_extended() for x in organvoices))"
   ]
  },
  {
   "cell_type": "markdown",
   "metadata": {},
   "source": [
    "There are a lot of different organ voices for program 16, MSB 0."
   ]
  },
  {
   "cell_type": "markdown",
   "metadata": {},
   "source": [
    "MSB 127 program 16 is the Rock Kit."
   ]
  },
  {
   "cell_type": "markdown",
   "metadata": {},
   "source": [
    "Let's set channel 1 to the DrawOrg, Channel 2 to the Jazz Organ 1."
   ]
  },
  {
   "cell_type": "code",
   "execution_count": 418,
   "metadata": {},
   "outputs": [],
   "source": [
    "controls.multisend(o, controls.set_voice_numbers(176, channel=1))\n",
    "controls.multisend(o, controls.set_voice_numbers(19, channel=2))"
   ]
  },
  {
   "cell_type": "code",
   "execution_count": 540,
   "metadata": {},
   "outputs": [],
   "source": [
    "pulse(o, channel=1, note=40)"
   ]
  },
  {
   "cell_type": "code",
   "execution_count": 506,
   "metadata": {},
   "outputs": [],
   "source": [
    "pulse(o, channel=2, note=40)"
   ]
  },
  {
   "cell_type": "code",
   "execution_count": 497,
   "metadata": {},
   "outputs": [],
   "source": [
    "o.send(mido.Message('program_change', program=16, channel=0))"
   ]
  },
  {
   "cell_type": "markdown",
   "metadata": {},
   "source": [
    "Let's set Channel 0 to the rock kit, program 16:\n"
   ]
  },
  {
   "cell_type": "code",
   "execution_count": 498,
   "metadata": {},
   "outputs": [],
   "source": [
    "pulse(o, channel=0, note=40)"
   ]
  },
  {
   "cell_type": "markdown",
   "metadata": {},
   "source": [
    "Now, Bank LSB should be totally ignored for drum kits."
   ]
  },
  {
   "cell_type": "code",
   "execution_count": 516,
   "metadata": {},
   "outputs": [],
   "source": [
    "o.send(cc(C.BANK_MSB, value=127, channel=0))\n",
    "o.send(cc(C.BANK_LSB, value=0, channel=0))\n",
    "o.send(mido.Message('program_change', program=16, channel=0))\n",
    "pulse(o, channel=0, note=40)\n",
    "o.send(cc(C.BANK_LSB, value=112, channel=0))\n",
    "o.send(mido.Message('program_change', program=16, channel=0))\n",
    "pulse(o, channel=0, note=40)\n",
    "o.send(cc(C.BANK_MSB, value=0, channel=0))\n",
    "o.send(mido.Message('program_change', program=16, channel=0))\n",
    "pulse(o, channel=0, note=40)\n",
    "o.send(cc(C.BANK_MSB, value=127, channel=0))\n",
    "o.send(mido.Message('program_change', program=16, channel=0))\n",
    "pulse(o, channel=0, note=40)\n",
    "o.send(cc(C.BANK_MSB, value=0, channel=0))\n",
    "o.send(mido.Message('program_change', program=16, channel=0))\n",
    "pulse(o, channel=0, note=40)"
   ]
  },
  {
   "cell_type": "code",
   "execution_count": 514,
   "metadata": {},
   "outputs": [],
   "source": []
  },
  {
   "cell_type": "markdown",
   "metadata": {},
   "source": [
    "The Bank LSB is treated as 0 (or at least not recognised for the drum kits), but it is still remembered so that if we change the MSB, the LSB value is used then. Setting the MSB does not reset the LSB to zero."
   ]
  },
  {
   "cell_type": "code",
   "execution_count": 518,
   "metadata": {},
   "outputs": [],
   "source": [
    "olsbs = [v.lsb for v in organvoices]"
   ]
  },
  {
   "cell_type": "code",
   "execution_count": 519,
   "metadata": {},
   "outputs": [
    {
     "data": {
      "text/plain": [
       "[0, 32, 33, 34, 35, 37, 40, 64, 65, 66, 67, 112, 113, 114, 116, 118, 119]"
      ]
     },
     "execution_count": 519,
     "metadata": {},
     "output_type": "execute_result"
    }
   ],
   "source": [
    "olsbs"
   ]
  },
  {
   "cell_type": "code",
   "execution_count": 538,
   "metadata": {},
   "outputs": [],
   "source": [
    "o.send(cc(C.BANK_LSB, value=114, channel=0))\n",
    "o.send(mido.Message('program_change', program=16, channel=0))\n",
    "pulse(o, sleep=0.2, channel=0, note=40)\n",
    "o.send(cc(C.BANK_LSB, value=115, channel=0))\n",
    "o.send(mido.Message('program_change', program=16, channel=0))\n",
    "pulse(o, sleep=0.2, channel=0, note=40)\n"
   ]
  },
  {
   "cell_type": "code",
   "execution_count": 676,
   "metadata": {},
   "outputs": [
    {
     "name": "stdout",
     "output_type": "stream",
     "text": [
      "0 1 2 3 4 5 6 7 8 9 10 11 12 13 14 15 16 17 18 19 20 21 22 23 24 25 26 27 28 29 30 31 32 33 34 35 36 37 38 39 40 41 42 43 44 45 46 47 48 49 50 51 52 53 54 55 56 57 58 59 60 61 62 63 64 65 66 67 68 69 70 71 72 73 74 75 76 77 78 79 80 81 82 83 84 85 86 87 88 89 90 91 92 93 94 95 96 97 98 99 100 101 102 103 104 105 106 107 108 109 110 111 112 113 114 115 116 117 118 119 "
     ]
    }
   ],
   "source": [
    "o.send(cc(C.BANK_MSB, value=0, channel=0))\n",
    "for l in range(120):\n",
    "    print(l, end=\" \")\n",
    "    o.send(cc(C.BANK_LSB, value=l, channel=0))\n",
    "    o.send(mido.Message('program_change', program=16, channel=0))\n",
    "    pulse(o, sleep=0.1, channel=0, note=40)"
   ]
  },
  {
   "cell_type": "markdown",
   "metadata": {},
   "source": [
    "It seems like when the LSB is not supported, it falls back to zero, but I'm willing to bet it still remembers it."
   ]
  },
  {
   "cell_type": "code",
   "execution_count": 702,
   "metadata": {},
   "outputs": [],
   "source": [
    "o.send(cc(C.BANK_LSB, value=0, channel=0))\n",
    "o.send(mido.Message('program_change', program=16, channel=0))\n",
    "pulse(o, sleep=0.2, channel=0, note=40)\n",
    "o.send(cc(C.BANK_LSB, value=8, channel=0))\n",
    "o.send(mido.Message('program_change', program=16, channel=0))\n",
    "pulse(o, sleep=0.2, channel=0, note=40)\n",
    "o.send(cc(C.BANK_LSB, value=32, channel=0))\n",
    "o.send(mido.Message('program_change', program=16, channel=0))\n",
    "pulse(o, sleep=0.2, channel=0, note=40)\n",
    "o.send(cc(C.BANK_LSB, value=8, channel=0))\n",
    "o.send(mido.Message('program_change', program=16, channel=0))\n",
    "pulse(o, sleep=0.2, channel=0, note=40)\n",
    "\n",
    "# change to violins\n",
    "o.send(mido.Message('program_change', program=40, channel=0))\n",
    "pulse(o, sleep=0.2, channel=0, note=40)\n",
    "o.send(cc(C.BANK_LSB, value=0, channel=0))\n",
    "o.send(mido.Message('program_change', program=40, channel=0))\n",
    "pulse(o, sleep=0.2, channel=0, note=40)\n",
    "o.send(cc(C.BANK_LSB, value=8, channel=0))\n",
    "o.send(mido.Message('program_change', program=40, channel=0))\n",
    "pulse(o, sleep=0.2, channel=0, note=40)"
   ]
  },
  {
   "cell_type": "markdown",
   "metadata": {},
   "source": [
    "Yep, it seems like it."
   ]
  },
  {
   "cell_type": "code",
   "execution_count": 553,
   "metadata": {},
   "outputs": [],
   "source": [
    "o.send(cc(C.BANK_LSB, value=114, channel=0))\n",
    "o.send(mido.Message('program_change', program=16, channel=0))\n",
    "pulse(o, sleep=0.2, channel=0, note=40)\n",
    "o.send(cc(C.RESET_CONTROLS, value=0, channel=0))\n",
    "o.send(mido.Message('program_change', program=16, channel=0))\n",
    "pulse(o, sleep=0.2, channel=0, note=40)\n"
   ]
  },
  {
   "cell_type": "markdown",
   "metadata": {},
   "source": [
    "Yep, and the bank doesn't get reset either."
   ]
  },
  {
   "cell_type": "markdown",
   "metadata": {},
   "source": [
    "What about unsupported banks?"
   ]
  },
  {
   "cell_type": "code",
   "execution_count": 677,
   "metadata": {},
   "outputs": [],
   "source": [
    "o.send(cc(C.BANK_MSB, value=0, channel=0))\n",
    "o.send(cc(C.BANK_LSB, value=114, channel=0))\n",
    "o.send(mido.Message('program_change', program=16, channel=0))\n",
    "pulse(o, sleep=0.2, channel=0, note=40)\n",
    "o.send(cc(C.BANK_MSB, value=62, channel=0))\n",
    "o.send(mido.Message('program_change', program=16, channel=0))\n",
    "pulse(o, sleep=0.2, channel=0, note=40)\n",
    "o.send(cc(C.BANK_LSB, value=116, channel=0))\n",
    "o.send(mido.Message('program_change', program=16, channel=0))\n",
    "pulse(o, sleep=0.2, channel=0, note=40)\n",
    "o.send(cc(C.BANK_MSB, value=0, channel=0))\n",
    "o.send(mido.Message('program_change', program=16, channel=0))\n",
    "pulse(o, sleep=0.2, channel=0, note=40)\n",
    "o.send(cc(C.BANK_LSB, value=114, channel=0))\n",
    "o.send(mido.Message('program_change', program=16, channel=0))\n",
    "pulse(o, sleep=0.2, channel=0, note=40)"
   ]
  },
  {
   "cell_type": "markdown",
   "metadata": {},
   "source": [
    "They're silent."
   ]
  },
  {
   "cell_type": "code",
   "execution_count": 577,
   "metadata": {},
   "outputs": [],
   "source": [
    "allvoices = [voices.from_number(x) for x in range(1, 495)]"
   ]
  },
  {
   "cell_type": "code",
   "execution_count": 605,
   "metadata": {},
   "outputs": [],
   "source": [
    "zerovoices = sorted((v for v in allvoices if v.lsb == 0), key=lambda v: (v.msb, v.prog))"
   ]
  },
  {
   "cell_type": "code",
   "execution_count": 587,
   "metadata": {},
   "outputs": [
    {
     "data": {
      "text/plain": [
       "[Voice(number=134, name='Grand Piano', category='XG PIANO', msb=0, lsb=0, prog=0),\n",
       " Voice(number=138, name='Bright Piano', category='XG PIANO', msb=0, lsb=0, prog=1),\n",
       " Voice(number=140, name='Electric Grand Piano', category='XG PIANO', msb=0, lsb=0, prog=2),\n",
       " Voice(number=143, name='Honky-tonk Piano', category='XG PIANO', msb=0, lsb=0, prog=3),\n",
       " Voice(number=145, name='Electric Piano 1', category='XG PIANO', msb=0, lsb=0, prog=4),\n",
       " Voice(number=148, name='Electric Piano 2', category='XG PIANO', msb=0, lsb=0, prog=5),\n",
       " Voice(number=152, name='Harpsichord', category='XG PIANO', msb=0, lsb=0, prog=6),\n",
       " Voice(number=155, name='Clavi', category='XG PIANO', msb=0, lsb=0, prog=7),\n",
       " Voice(number=157, name='Celesta', category='XG CHROMATIC', msb=0, lsb=0, prog=8),\n",
       " Voice(number=158, name='Glockenspiel', category='XG CHROMATIC', msb=0, lsb=0, prog=9),\n",
       " Voice(number=159, name='Music Box', category='XG CHROMATIC', msb=0, lsb=0, prog=10),\n",
       " Voice(number=161, name='Vibraphone', category='XG CHROMATIC', msb=0, lsb=0, prog=11),\n",
       " Voice(number=163, name='Marimba', category='XG CHROMATIC', msb=0, lsb=0, prog=12),\n",
       " Voice(number=168, name='Xylophone', category='XG CHROMATIC', msb=0, lsb=0, prog=13),\n",
       " Voice(number=169, name='Tubular Bells', category='XG CHROMATIC', msb=0, lsb=0, prog=14),\n",
       " Voice(number=172, name='Dulcimer', category='XG CHROMATIC', msb=0, lsb=0, prog=15),\n",
       " Voice(number=176, name='DrawOrg', category='XG ORGAN', msb=0, lsb=0, prog=16),\n",
       " Voice(number=187, name='Percussive Organ', category='XG ORGAN', msb=0, lsb=0, prog=17),\n",
       " Voice(number=192, name='Rock Organ', category='XG ORGAN', msb=0, lsb=0, prog=18),\n",
       " Voice(number=196, name='Church Organ', category='XG ORGAN', msb=0, lsb=0, prog=19),\n",
       " Voice(number=202, name='Reed Organ', category='XG ORGAN', msb=0, lsb=0, prog=20),\n",
       " Voice(number=204, name='Accordion', category='XG ORGAN', msb=0, lsb=0, prog=21),\n",
       " Voice(number=205, name='Harmonica', category='XG ORGAN', msb=0, lsb=0, prog=22),\n",
       " Voice(number=207, name='Tango Accordion', category='XG ORGAN', msb=0, lsb=0, prog=23),\n",
       " Voice(number=209, name='Nylon Guitar', category='XG GUITAR', msb=0, lsb=0, prog=24),\n",
       " Voice(number=212, name='Steel Guitar', category='XG GUITAR', msb=0, lsb=0, prog=25),\n",
       " Voice(number=217, name='Jazz Guitar', category='XG GUITAR', msb=0, lsb=0, prog=26),\n",
       " Voice(number=219, name='Clean Guitar', category='XG GUITAR', msb=0, lsb=0, prog=27),\n",
       " Voice(number=221, name='Muted Guitar', category='XG GUITAR', msb=0, lsb=0, prog=28),\n",
       " Voice(number=225, name='Overdriven Guitar', category='XG GUITAR', msb=0, lsb=0, prog=29),\n",
       " Voice(number=227, name='Distortion Guitar', category='XG GUITAR', msb=0, lsb=0, prog=30),\n",
       " Voice(number=230, name='Guitar Harmonics', category='XG GUITAR', msb=0, lsb=0, prog=31),\n",
       " Voice(number=233, name='Acoustic Bass', category='XG BASS', msb=0, lsb=0, prog=32),\n",
       " Voice(number=236, name='Finger Bass', category='XG BASS', msb=0, lsb=0, prog=33),\n",
       " Voice(number=242, name='Pick Bass', category='XG BASS', msb=0, lsb=0, prog=34),\n",
       " Voice(number=244, name='Fretless Bass', category='XG BASS', msb=0, lsb=0, prog=35),\n",
       " Voice(number=248, name='Slap Bass 1', category='XG BASS', msb=0, lsb=0, prog=36),\n",
       " Voice(number=250, name='Slap Bass 2', category='XG BASS', msb=0, lsb=0, prog=37),\n",
       " Voice(number=252, name='Synth Bass 1', category='XG BASS', msb=0, lsb=0, prog=38),\n",
       " Voice(number=254, name='Synth Bass 2', category='XG BASS', msb=0, lsb=0, prog=39),\n",
       " Voice(number=261, name='Violin', category='XG STRING', msb=0, lsb=0, prog=40),\n",
       " Voice(number=263, name='Viola', category='XG STRING', msb=0, lsb=0, prog=41),\n",
       " Voice(number=264, name='Cello', category='XG STRING', msb=0, lsb=0, prog=42),\n",
       " Voice(number=265, name='Contrabass', category='XG STRING', msb=0, lsb=0, prog=43),\n",
       " Voice(number=266, name='Tremolo Strings', category='XG STRING', msb=0, lsb=0, prog=44),\n",
       " Voice(number=269, name='Pizzicato Strings', category='XG STRING', msb=0, lsb=0, prog=45),\n",
       " Voice(number=270, name='Orchestral Harp', category='XG STRING', msb=0, lsb=0, prog=46),\n",
       " Voice(number=272, name='Timpani', category='XG STRING', msb=0, lsb=0, prog=47),\n",
       " Voice(number=273, name='Strings 1', category='XG ENSEMBLE', msb=0, lsb=0, prog=48),\n",
       " Voice(number=281, name='Strings 2', category='XG ENSEMBLE', msb=0, lsb=0, prog=49),\n",
       " Voice(number=286, name='Synth Strings 1', category='XG ENSEMBLE', msb=0, lsb=0, prog=50),\n",
       " Voice(number=287, name='Synth Strings 2', category='XG ENSEMBLE', msb=0, lsb=0, prog=51),\n",
       " Voice(number=288, name='Choir Aahs ', category='XG ENSEMBLE', msb=0, lsb=0, prog=52),\n",
       " Voice(number=292, name='Voice Oohs', category='XG ENSEMBLE', msb=0, lsb=0, prog=53),\n",
       " Voice(number=293, name='Synth Voice', category='XG ENSEMBLE', msb=0, lsb=0, prog=54),\n",
       " Voice(number=297, name='Orchestra Hit', category='XG ENSEMBLE', msb=0, lsb=0, prog=55),\n",
       " Voice(number=300, name='Trumpet ', category='XG BRASS', msb=0, lsb=0, prog=56),\n",
       " Voice(number=302, name='Trombone', category='XG BRASS', msb=0, lsb=0, prog=57),\n",
       " Voice(number=304, name='Tuba', category='XG BRASS', msb=0, lsb=0, prog=58),\n",
       " Voice(number=305, name='Muted Trumpet', category='XG BRASS', msb=0, lsb=0, prog=59),\n",
       " Voice(number=306, name='French Horn', category='XG BRASS', msb=0, lsb=0, prog=60),\n",
       " Voice(number=310, name='Brass Section', category='XG BRASS', msb=0, lsb=0, prog=61),\n",
       " Voice(number=312, name='Synth Brass 1', category='XG BRASS', msb=0, lsb=0, prog=62),\n",
       " Voice(number=314, name='Synth Brass 2', category='XG BRASS', msb=0, lsb=0, prog=63),\n",
       " Voice(number=317, name='Soprano Sax', category='XG REED', msb=0, lsb=0, prog=64),\n",
       " Voice(number=318, name='Alto Sax', category='XG REED', msb=0, lsb=0, prog=65),\n",
       " Voice(number=320, name='Tenor Sax', category='XG REED', msb=0, lsb=0, prog=66),\n",
       " Voice(number=322, name='Baritone Sax', category='XG REED', msb=0, lsb=0, prog=67),\n",
       " Voice(number=323, name='Oboe', category='XG REED', msb=0, lsb=0, prog=68),\n",
       " Voice(number=324, name='English Horn', category='XG REED', msb=0, lsb=0, prog=69),\n",
       " Voice(number=325, name='Bassoon', category='XG REED', msb=0, lsb=0, prog=70),\n",
       " Voice(number=326, name='Clarinet', category='XG REED', msb=0, lsb=0, prog=71),\n",
       " Voice(number=327, name='Piccolo', category='XG PIPE', msb=0, lsb=0, prog=72),\n",
       " Voice(number=328, name='Flute', category='XG PIPE', msb=0, lsb=0, prog=73),\n",
       " Voice(number=329, name='Recorder', category='XG PIPE', msb=0, lsb=0, prog=74),\n",
       " Voice(number=330, name='Pan Flute', category='XG PIPE', msb=0, lsb=0, prog=75),\n",
       " Voice(number=331, name='Blown Bottle', category='XG PIPE', msb=0, lsb=0, prog=76),\n",
       " Voice(number=332, name='Shakuhachi', category='XG PIPE', msb=0, lsb=0, prog=77),\n",
       " Voice(number=333, name='Whistle', category='XG PIPE', msb=0, lsb=0, prog=78),\n",
       " Voice(number=334, name='Ocarina', category='XG PIPE', msb=0, lsb=0, prog=79),\n",
       " Voice(number=335, name='Square Lead', category='XG SYNTH LEAD', msb=0, lsb=0, prog=80),\n",
       " Voice(number=343, name='Sawtooth Lead', category='XG SYNTH LEAD', msb=0, lsb=0, prog=81),\n",
       " Voice(number=350, name='Calliope Lead', category='XG SYNTH LEAD', msb=0, lsb=0, prog=82),\n",
       " Voice(number=352, name='Chiff Lead', category='XG SYNTH LEAD', msb=0, lsb=0, prog=83),\n",
       " Voice(number=353, name='Charang Lead', category='XG SYNTH LEAD', msb=0, lsb=0, prog=84),\n",
       " Voice(number=355, name='Voice Lead', category='XG SYNTH LEAD', msb=0, lsb=0, prog=85),\n",
       " Voice(number=356, name='Fifths Lead', category='XG SYNTH LEAD', msb=0, lsb=0, prog=86),\n",
       " Voice(number=358, name='Bass & Lead', category='XG SYNTH LEAD', msb=0, lsb=0, prog=87),\n",
       " Voice(number=362, name='New Age Pad', category='XG SYNTH PAD', msb=0, lsb=0, prog=88),\n",
       " Voice(number=364, name='Warm Pad', category='XG SYNTH PAD', msb=0, lsb=0, prog=89),\n",
       " Voice(number=365, name='Poly Synth Pad', category='XG SYNTH PAD', msb=0, lsb=0, prog=90),\n",
       " Voice(number=366, name='Choir Pad', category='XG SYNTH PAD', msb=0, lsb=0, prog=91),\n",
       " Voice(number=368, name='Bowed Pad', category='XG SYNTH PAD', msb=0, lsb=0, prog=92),\n",
       " Voice(number=369, name='Metallic Pad', category='XG SYNTH PAD', msb=0, lsb=0, prog=93),\n",
       " Voice(number=370, name='Halo Pad', category='XG SYNTH PAD', msb=0, lsb=0, prog=94),\n",
       " Voice(number=371, name='Sweep Pad', category='XG SYNTH PAD', msb=0, lsb=0, prog=95),\n",
       " Voice(number=372, name='Rain', category='XG SYNTH EFFECTS', msb=0, lsb=0, prog=96),\n",
       " Voice(number=375, name='Sound Track', category='XG SYNTH EFFECTS', msb=0, lsb=0, prog=97),\n",
       " Voice(number=377, name='Crystal', category='XG SYNTH EFFECTS', msb=0, lsb=0, prog=98),\n",
       " Voice(number=389, name='Atmosphere', category='XG SYNTH EFFECTS', msb=0, lsb=0, prog=99),\n",
       " Voice(number=396, name='Brightness', category='XG SYNTH EFFECTS', msb=0, lsb=0, prog=100),\n",
       " Voice(number=397, name='Goblins', category='XG SYNTH EFFECTS', msb=0, lsb=0, prog=101),\n",
       " Voice(number=405, name='Echoes', category='XG SYNTH EFFECTS', msb=0, lsb=0, prog=102),\n",
       " Voice(number=406, name='Sci-Fi', category='XG SYNTH EFFECTS', msb=0, lsb=0, prog=103),\n",
       " Voice(number=407, name='Sitar', category='XG WORLD', msb=0, lsb=0, prog=104),\n",
       " Voice(number=411, name='Banjo', category='XG WORLD', msb=0, lsb=0, prog=105),\n",
       " Voice(number=416, name='Shamisen', category='XG WORLD', msb=0, lsb=0, prog=106),\n",
       " Voice(number=417, name='Koto', category='XG WORLD', msb=0, lsb=0, prog=107),\n",
       " Voice(number=420, name='Kalimba', category='XG WORLD', msb=0, lsb=0, prog=108),\n",
       " Voice(number=421, name='Bagpipe', category='XG WORLD', msb=0, lsb=0, prog=109),\n",
       " Voice(number=422, name='Fiddle', category='XG WORLD', msb=0, lsb=0, prog=110),\n",
       " Voice(number=423, name='Shanai', category='XG WORLD', msb=0, lsb=0, prog=111),\n",
       " Voice(number=424, name='Tinkle Bell', category='XG PERCUSSIVE', msb=0, lsb=0, prog=112),\n",
       " Voice(number=430, name='Agogo', category='XG PERCUSSIVE', msb=0, lsb=0, prog=113),\n",
       " Voice(number=431, name='Steel Drums', category='XG PERCUSSIVE', msb=0, lsb=0, prog=114),\n",
       " Voice(number=434, name='Woodblock', category='XG PERCUSSIVE', msb=0, lsb=0, prog=115),\n",
       " Voice(number=436, name='Taiko Drum', category='XG PERCUSSIVE', msb=0, lsb=0, prog=116),\n",
       " Voice(number=438, name='Melodic Tom', category='XG PERCUSSIVE', msb=0, lsb=0, prog=117),\n",
       " Voice(number=442, name='Synth Drum', category='XG PERCUSSIVE', msb=0, lsb=0, prog=118),\n",
       " Voice(number=445, name='Reverse Cymbal', category='XG PERCUSSIVE', msb=0, lsb=0, prog=119),\n",
       " Voice(number=446, name='Fret Noise', category='XG SOUND EFFECTS', msb=0, lsb=0, prog=120),\n",
       " Voice(number=447, name='Breath Noise', category='XG SOUND EFFECTS', msb=0, lsb=0, prog=121),\n",
       " Voice(number=448, name='Seashore', category='XG SOUND EFFECTS', msb=0, lsb=0, prog=122),\n",
       " Voice(number=449, name='Bird Tweet', category='XG SOUND EFFECTS', msb=0, lsb=0, prog=123),\n",
       " Voice(number=450, name='Telephone Ring', category='XG SOUND EFFECTS', msb=0, lsb=0, prog=124),\n",
       " Voice(number=451, name='Helicopter', category='XG SOUND EFFECTS', msb=0, lsb=0, prog=125),\n",
       " Voice(number=452, name='Applause', category='XG SOUND EFFECTS', msb=0, lsb=0, prog=126),\n",
       " Voice(number=453, name='Gunshot', category='XG SOUND EFFECTS', msb=0, lsb=0, prog=127),\n",
       " Voice(number=454, name='Cutting Noise', category='XG SOUND EFFECTS', msb=64, lsb=0, prog=0),\n",
       " Voice(number=455, name='Cutting Noise 2', category='XG SOUND EFFECTS', msb=64, lsb=0, prog=1),\n",
       " Voice(number=456, name='String Slap', category='XG SOUND EFFECTS', msb=64, lsb=0, prog=3),\n",
       " Voice(number=457, name='Flute Key Click', category='XG SOUND EFFECTS', msb=64, lsb=0, prog=16),\n",
       " Voice(number=458, name='Shower', category='XG SOUND EFFECTS', msb=64, lsb=0, prog=32),\n",
       " Voice(number=459, name='Thunder', category='XG SOUND EFFECTS', msb=64, lsb=0, prog=33),\n",
       " Voice(number=460, name='Wind', category='XG SOUND EFFECTS', msb=64, lsb=0, prog=34),\n",
       " Voice(number=461, name='Stream', category='XG SOUND EFFECTS', msb=64, lsb=0, prog=35),\n",
       " Voice(number=462, name='Bubble', category='XG SOUND EFFECTS', msb=64, lsb=0, prog=36),\n",
       " Voice(number=463, name='Feed', category='XG SOUND EFFECTS', msb=64, lsb=0, prog=37),\n",
       " Voice(number=464, name='Dog', category='XG SOUND EFFECTS', msb=64, lsb=0, prog=48),\n",
       " Voice(number=465, name='Horse', category='XG SOUND EFFECTS', msb=64, lsb=0, prog=49),\n",
       " Voice(number=466, name='Bird Tweet 2', category='XG SOUND EFFECTS', msb=64, lsb=0, prog=50),\n",
       " Voice(number=467, name='Maou', category='XG SOUND EFFECTS', msb=64, lsb=0, prog=55),\n",
       " Voice(number=468, name='Phone Call', category='XG SOUND EFFECTS', msb=64, lsb=0, prog=64),\n",
       " Voice(number=469, name='Door Squeak', category='XG SOUND EFFECTS', msb=64, lsb=0, prog=65),\n",
       " Voice(number=470, name='Door Slam', category='XG SOUND EFFECTS', msb=64, lsb=0, prog=66),\n",
       " Voice(number=471, name='Scratch Cut', category='XG SOUND EFFECTS', msb=64, lsb=0, prog=67),\n",
       " Voice(number=472, name='Scratch Split', category='XG SOUND EFFECTS', msb=64, lsb=0, prog=68),\n",
       " Voice(number=473, name='Wind Chime', category='XG SOUND EFFECTS', msb=64, lsb=0, prog=69),\n",
       " Voice(number=474, name='Telephone Ring 2', category='XG SOUND EFFECTS', msb=64, lsb=0, prog=70),\n",
       " Voice(number=475, name='Car Engine Ignition', category='XG SOUND EFFECTS', msb=64, lsb=0, prog=80),\n",
       " Voice(number=476, name='Car Tires Squeal', category='XG SOUND EFFECTS', msb=64, lsb=0, prog=81),\n",
       " Voice(number=477, name='Car Passing', category='XG SOUND EFFECTS', msb=64, lsb=0, prog=82),\n",
       " Voice(number=478, name='Car Crash', category='XG SOUND EFFECTS', msb=64, lsb=0, prog=83),\n",
       " Voice(number=479, name='Siren', category='XG SOUND EFFECTS', msb=64, lsb=0, prog=84),\n",
       " Voice(number=480, name='Train', category='XG SOUND EFFECTS', msb=64, lsb=0, prog=85),\n",
       " Voice(number=481, name='Jet Plane', category='XG SOUND EFFECTS', msb=64, lsb=0, prog=86),\n",
       " Voice(number=482, name='Starship', category='XG SOUND EFFECTS', msb=64, lsb=0, prog=87),\n",
       " Voice(number=483, name='Burst', category='XG SOUND EFFECTS', msb=64, lsb=0, prog=88),\n",
       " Voice(number=484, name='Roller Coaster', category='XG SOUND EFFECTS', msb=64, lsb=0, prog=89),\n",
       " Voice(number=485, name='Submarine', category='XG SOUND EFFECTS', msb=64, lsb=0, prog=90),\n",
       " Voice(number=486, name='Laugh', category='XG SOUND EFFECTS', msb=64, lsb=0, prog=96),\n",
       " Voice(number=487, name='Scream', category='XG SOUND EFFECTS', msb=64, lsb=0, prog=97),\n",
       " Voice(number=488, name='Punch', category='XG SOUND EFFECTS', msb=64, lsb=0, prog=98),\n",
       " Voice(number=489, name='Heartbeat', category='XG SOUND EFFECTS', msb=64, lsb=0, prog=99),\n",
       " Voice(number=490, name='Footsteps', category='XG SOUND EFFECTS', msb=64, lsb=0, prog=100),\n",
       " Voice(number=491, name='Machine Gun', category='XG SOUND EFFECTS', msb=64, lsb=0, prog=112),\n",
       " Voice(number=492, name='Laser Gun', category='XG SOUND EFFECTS', msb=64, lsb=0, prog=113),\n",
       " Voice(number=493, name='Explosion', category='XG SOUND EFFECTS', msb=64, lsb=0, prog=114),\n",
       " Voice(number=494, name='Firework', category='XG SOUND EFFECTS', msb=64, lsb=0, prog=115),\n",
       " Voice(number=132, name='SFX Kit 1', category='DRUM KITS', msb=126, lsb=0, prog=0),\n",
       " Voice(number=133, name='SFX Kit 2', category='DRUM KITS', msb=126, lsb=0, prog=1),\n",
       " Voice(number=122, name='Standard Kit 1', category='DRUM KITS', msb=127, lsb=0, prog=0),\n",
       " Voice(number=123, name='Standard Kit 2', category='DRUM KITS', msb=127, lsb=0, prog=1),\n",
       " Voice(number=124, name='Room Kit', category='DRUM KITS', msb=127, lsb=0, prog=8),\n",
       " Voice(number=125, name='Rock Kit', category='DRUM KITS', msb=127, lsb=0, prog=16),\n",
       " Voice(number=126, name='Electronic Kit', category='DRUM KITS', msb=127, lsb=0, prog=24),\n",
       " Voice(number=127, name='Analog Kit', category='DRUM KITS', msb=127, lsb=0, prog=25),\n",
       " Voice(number=128, name='Dance Kit', category='DRUM KITS', msb=127, lsb=0, prog=27),\n",
       " Voice(number=129, name='Jazz Kit', category='DRUM KITS', msb=127, lsb=0, prog=32),\n",
       " Voice(number=130, name='Brush Kit', category='DRUM KITS', msb=127, lsb=0, prog=40),\n",
       " Voice(number=131, name='Symphony Kit', category='DRUM KITS', msb=127, lsb=0, prog=48)]"
      ]
     },
     "execution_count": 587,
     "metadata": {},
     "output_type": "execute_result"
    }
   ],
   "source": [
    "zerovoices"
   ]
  },
  {
   "cell_type": "code",
   "execution_count": 592,
   "metadata": {},
   "outputs": [],
   "source": [
    "for v in allvoices:\n",
    "    try:\n",
    "        voices.from_bank_program(v.msb, 0, v.prog)\n",
    "    except KeyError:\n",
    "        print(v)"
   ]
  },
  {
   "cell_type": "code",
   "execution_count": 606,
   "metadata": {
    "scrolled": true
   },
   "outputs": [
    {
     "data": {
      "text/plain": [
       "[]"
      ]
     },
     "execution_count": 606,
     "metadata": {},
     "output_type": "execute_result"
    }
   ],
   "source": [
    "sorted((v for v in allvoices if v.msb != 0 and v.lsb != 0), key=lambda v: (v.msb, v.lsb, v.prog))"
   ]
  },
  {
   "cell_type": "markdown",
   "metadata": {},
   "source": [
    "MSB 0 always has a fallback voice for any program.\n"
   ]
  },
  {
   "cell_type": "markdown",
   "metadata": {},
   "source": [
    "What if the program is not supported?"
   ]
  },
  {
   "cell_type": "code",
   "execution_count": 706,
   "metadata": {
    "scrolled": true
   },
   "outputs": [
    {
     "name": "stdout",
     "output_type": "stream",
     "text": [
      "0 1 2 3 4 5 6 7 8 9 10 11 12 13 14 15 16 17 18 19 20 21 22 23 24 25 26 27 28 29 30 31 32 33 34 35 36 37 38 39 40 41 42 43 44 45 46 47 48 49 50 51 52 53 54 55 56 57 58 59 60 61 62 63 64 65 66 67 68 69 70 71 72 73 74 75 76 77 78 79 80 81 82 83 84 85 86 87 88 89 90 91 92 93 94 95 96 97 98 99 100 101 102 103 104 105 106 107 108 109 110 111 112 113 114 115 116 117 118 119 120 121 122 123 124 125 126 127 "
     ]
    }
   ],
   "source": [
    "o.send(cc(C.BANK_MSB, value=127, channel=0))\n",
    "for p in range(128):\n",
    "    print(p, end=\" \")\n",
    "    o.send(mido.Message('program_change', program=p, channel=0))\n",
    "    pulse(o, sleep=0.1, channel=0, note=40)"
   ]
  },
  {
   "cell_type": "code",
   "execution_count": 707,
   "metadata": {
    "scrolled": true
   },
   "outputs": [
    {
     "name": "stdout",
     "output_type": "stream",
     "text": [
      "0 1 2 3 4 5 6 7 8 9 10 11 12 13 14 15 16 17 18 19 20 21 22 23 24 25 26 27 28 29 30 31 32 33 34 35 36 37 38 39 40 41 42 43 44 45 46 47 48 49 50 51 52 53 54 55 56 57 58 59 60 61 62 63 64 65 66 67 68 69 70 71 72 73 74 75 76 77 78 79 80 81 82 83 84 85 86 87 88 89 90 91 92 93 94 95 96 97 98 99 100 101 102 103 104 105 106 107 108 109 110 111 112 113 114 115 116 117 118 119 120 121 122 123 124 125 126 127 "
     ]
    }
   ],
   "source": [
    "o.send(cc(C.BANK_MSB, value=126, channel=0))\n",
    "o.send(cc(C.BANK_LSB, value=0, channel=0))\n",
    "for p in range(128):\n",
    "    print(p, end=\" \")\n",
    "    o.send(mido.Message('program_change', program=p, channel=0))\n",
    "    pulse(o, sleep=0.05, channel=0, note=84)"
   ]
  },
  {
   "cell_type": "code",
   "execution_count": 596,
   "metadata": {},
   "outputs": [
    {
     "data": {
      "text/plain": [
       "(0, 1, 8, 16, 24, 25, 27, 32, 40, 48)"
      ]
     },
     "execution_count": 596,
     "metadata": {},
     "output_type": "execute_result"
    }
   ],
   "source": [
    "progs"
   ]
  },
  {
   "cell_type": "code",
   "execution_count": 638,
   "metadata": {},
   "outputs": [],
   "source": [
    "o.send(cc(C.BANK_MSB, value=127, channel=0))\n",
    "o.send(mido.Message('program_change', program=0, channel=0))\n",
    "pulse(o, sleep=0.2, channel=0, note=40)\n",
    "o.send(mido.Message('program_change', program=3, channel=0))\n",
    "pulse(o, sleep=0.2, channel=0, note=40)\n",
    "o.send(mido.Message('program_change', program=16, channel=0))\n",
    "pulse(o, sleep=0.2, channel=0, note=40)\n",
    "o.send(mido.Message('program_change', program=3, channel=0))\n",
    "pulse(o, sleep=0.2, channel=0, note=40)"
   ]
  },
  {
   "cell_type": "markdown",
   "metadata": {},
   "source": [
    "If the program is not supported for drum kit, it just won't change the program."
   ]
  },
  {
   "cell_type": "code",
   "execution_count": 670,
   "metadata": {},
   "outputs": [],
   "source": [
    "\n",
    "o.send(cc(C.BANK_MSB, value=126, channel=0))\n",
    "o.send(cc(C.BANK_LSB, value=0, channel=0))\n",
    "\n",
    "o.send(mido.Message('program_change', program=0, channel=0))\n",
    "pulse(o, sleep=0.2, channel=0, note=84)\n",
    "o.send(mido.Message('program_change', program=6, channel=0))\n",
    "pulse(o, sleep=0.2, channel=0, note=84)\n",
    "o.send(mido.Message('program_change', program=1, channel=0))\n",
    "pulse(o, sleep=0.2, channel=0, note=84)\n",
    "o.send(mido.Message('program_change', program=3, channel=0))\n",
    "pulse(o, sleep=0.2, channel=0, note=84 )"
   ]
  },
  {
   "cell_type": "markdown",
   "metadata": {},
   "source": [
    "If the program is not supported for SFX kit, it just won't play at all."
   ]
  },
  {
   "cell_type": "code",
   "execution_count": 635,
   "metadata": {
    "scrolled": true
   },
   "outputs": [
    {
     "data": {
      "text/plain": [
       "[Voice(number=261, name='Violin', category='XG STRING', msb=0, lsb=0, prog=40),\n",
       " Voice(number=262, name='Slow Violin', category='XG STRING', msb=0, lsb=8, prog=40),\n",
       " Voice(number=60, name='Violin', category='STRINGS', msb=0, lsb=112, prog=40)]"
      ]
     },
     "execution_count": 635,
     "metadata": {},
     "output_type": "execute_result"
    }
   ],
   "source": [
    "voice_list(40)"
   ]
  },
  {
   "cell_type": "code",
   "execution_count": 651,
   "metadata": {},
   "outputs": [
    {
     "name": "stdout",
     "output_type": "stream",
     "text": [
      "0 1 2 3 4 5 6 7 8 9 10 11 12 13 14 15 16 17 18 19 20 21 22 23 24 25 26 27 28 29 30 31 32 33 34 35 36 37 38 39 40 41 42 43 44 45 46 47 48 49 50 51 52 53 54 55 56 57 58 59 60 61 62 63 64 65 66 67 68 69 70 71 72 73 74 75 76 77 78 79 80 81 82 83 84 85 86 87 88 89 90 91 92 93 94 95 96 97 98 99 100 101 102 103 104 105 106 107 108 109 110 111 112 113 114 115 116 117 118 119 120 121 122 123 124 125 126 127 "
     ]
    }
   ],
   "source": [
    "o.send(cc(C.BANK_MSB, value=64, channel=0))\n",
    "for p in range(128):\n",
    "    print(p, end=\" \")\n",
    "    o.send(mido.Message('program_change', program=p, channel=0))\n",
    "    pulse(o, sleep=0.05, channel=0, note=40)"
   ]
  },
  {
   "cell_type": "code",
   "execution_count": 674,
   "metadata": {},
   "outputs": [],
   "source": [
    "o.send(cc(C.BANK_MSB, value=64, channel=0))\n",
    "o.send(cc(C.BANK_LSB, value=0, channel=0))\n",
    "\n",
    "o.send(mido.Message('program_change', program=70, channel=0))\n",
    "pulse(o, sleep=0.2, channel=0, note=84)\n",
    "o.send(mido.Message('program_change', program=71, channel=0))\n",
    "pulse(o, sleep=0.2, channel=0, note=84)\n",
    "o.send(mido.Message('program_change', program=64, channel=0))\n",
    "pulse(o, sleep=0.2, channel=0, note=84)\n",
    "o.send(mido.Message('program_change', program=71, channel=0))\n",
    "pulse(o, sleep=0.2, channel=0, note=84 )"
   ]
  },
  {
   "cell_type": "markdown",
   "metadata": {},
   "source": [
    "And it seems like that for the SFX voices as well."
   ]
  },
  {
   "cell_type": "code",
   "execution_count": 659,
   "metadata": {},
   "outputs": [
    {
     "name": "stdout",
     "output_type": "stream",
     "text": [
      "0 1 2 3 4 5 6 7 8 9 10 11 12 13 14 15 16 17 18 19 20 21 22 23 24 25 26 27 28 29 30 31 32 33 34 35 36 37 38 39 40 41 42 43 44 45 46 47 48 49 50 51 52 53 54 55 56 57 58 59 60 61 62 63 64 65 66 67 68 69 70 71 72 73 74 75 76 77 78 79 80 81 82 83 84 85 86 87 88 89 90 91 92 93 94 95 96 97 98 99 100 101 102 103 104 105 106 107 108 109 110 111 112 113 114 115 116 117 118 119 120 121 122 123 124 125 126 127 "
     ]
    }
   ],
   "source": [
    "o.send(cc(C.BANK_MSB, value=64, channel=0))\n",
    "for l in range(128):\n",
    "    print(l, end=\" \")\n",
    "    o.send(cc(C.BANK_LSB, value=l, channel=0))\n",
    "    o.send(mido.Message('program_change', program=70, channel=0))\n",
    "    pulse(o, sleep=0.1, channel=0, note=40)"
   ]
  },
  {
   "cell_type": "markdown",
   "metadata": {},
   "source": [
    "The LSB fallback works. for SFX voices."
   ]
  },
  {
   "cell_type": "code",
   "execution_count": 673,
   "metadata": {},
   "outputs": [
    {
     "name": "stdout",
     "output_type": "stream",
     "text": [
      "0 1 2 3 4 5 6 7 8 9 "
     ]
    }
   ],
   "source": [
    "o.send(cc(C.BANK_MSB, value=126, channel=0))\n",
    "for l in range(10):\n",
    "    print(l, end=\" \")\n",
    "    o.send(cc(C.BANK_LSB, value=l, channel=0))\n",
    "    o.send(mido.Message('program_change', program=0, channel=0))\n",
    "    pulse(o, sleep=0.1, channel=0, note=84)"
   ]
  },
  {
   "cell_type": "code",
   "execution_count": 675,
   "metadata": {},
   "outputs": [],
   "source": [
    "\n",
    "o.send(cc(C.BANK_MSB, value=126, channel=0))\n",
    "o.send(cc(C.BANK_LSB, value=1, channel=0))\n",
    "\n",
    "o.send(mido.Message('program_change', program=0, channel=0))\n",
    "pulse(o, sleep=0.2, channel=0, note=84)\n",
    "o.send(mido.Message('program_change', program=6, channel=0))\n",
    "pulse(o, sleep=0.2, channel=0, note=84)\n",
    "o.send(mido.Message('program_change', program=1, channel=0))\n",
    "pulse(o, sleep=0.2, channel=0, note=84)\n",
    "o.send(mido.Message('program_change', program=3, channel=0))\n",
    "pulse(o, sleep=0.2, channel=0, note=84 )"
   ]
  },
  {
   "cell_type": "markdown",
   "metadata": {},
   "source": [
    "but not for SFX kits."
   ]
  },
  {
   "cell_type": "code",
   "execution_count": 743,
   "metadata": {},
   "outputs": [],
   "source": [
    "o.send(controls.gm_on())\n",
    "pulse(o, sleep=0.2, channel=0, note=60)\n",
    "\n",
    "o.send(mido.Message('program_change', program=16, channel=0))\n",
    "pulse(o, sleep=0.2, channel=0, note=60)\n",
    "\n",
    "o.send(cc(C.BANK_LSB, value=113, channel=0))\n",
    "o.send(mido.Message('program_change', program=16, channel=0))\n",
    "pulse(o, sleep=0.2, channel=0, note=60)\n",
    "\n",
    "\n",
    "o.send(cc(C.BANK_LSB, value=0, channel=0))\n",
    "o.send(mido.Message('program_change', program=16, channel=0))\n",
    "pulse(o, sleep=0.2, channel=0, note=60)\n",
    "\n",
    "# drum channel \n",
    "pulse(o, sleep=0.2, channel=9, note=40)\n",
    "\n",
    "o.send(mido.Message('program_change', program=16, channel=9))\n",
    "pulse(o, sleep=0.2, channel=9, note=40)\n",
    "\n",
    "o.send(mido.Message('program_change', program=0, channel=9))\n",
    "pulse(o, sleep=0.2, channel=9, note=40)\n",
    "\n",
    "\n",
    "\n",
    "o.send(mido.Message.from_hex(\"F0 43 10 4C 00 00 7E 00 F7\")) # XG ON\n",
    "pulse(o, sleep=0.2, channel=0, note=60)\n",
    "\n",
    "o.send(mido.Message('program_change', program=16, channel=0))\n",
    "pulse(o, sleep=0.2, channel=0, note=60)\n",
    "\n",
    "o.send(cc(C.BANK_LSB, value=113, channel=0))\n",
    "o.send(mido.Message('program_change', program=16, channel=0))\n",
    "pulse(o, sleep=0.2, channel=0, note=60)\n",
    "\n",
    "\n",
    "o.send(cc(C.BANK_LSB, value=0, channel=0))\n",
    "o.send(mido.Message('program_change', program=16, channel=0))\n",
    "pulse(o, sleep=0.2, channel=0, note=60)\n",
    "\n",
    "# drum channel \n",
    "pulse(o, sleep=0.2, channel=9, note=40)\n",
    "\n",
    "o.send(mido.Message('program_change', program=16, channel=9))\n",
    "pulse(o, sleep=0.2, channel=9, note=40)\n",
    "\n",
    "o.send(mido.Message('program_change', program=0, channel=9))\n",
    "pulse(o, sleep=0.2, channel=9, note=40)\n",
    "\n",
    "\n",
    "\n",
    "o.send(mido.Message.from_hex(\"F0 43 10 4C 00 00 7F 00 F7\")) # XG RESET\n",
    "pulse(o, sleep=0.2, channel=0, note=60)\n",
    "\n",
    "o.send(mido.Message('program_change', program=16, channel=0))\n",
    "pulse(o, sleep=0.2, channel=0, note=60)\n",
    "\n",
    "o.send(cc(C.BANK_LSB, value=113, channel=0))\n",
    "o.send(mido.Message('program_change', program=16, channel=0))\n",
    "pulse(o, sleep=0.2, channel=0, note=60)\n",
    "\n",
    "\n",
    "o.send(cc(C.BANK_LSB, value=0, channel=0))\n",
    "o.send(mido.Message('program_change', program=16, channel=0))\n",
    "pulse(o, sleep=0.2, channel=0, note=60)\n",
    "\n",
    "# drum channel \n",
    "pulse(o, sleep=0.2, channel=9, note=40)\n",
    "\n",
    "o.send(mido.Message('program_change', program=16, channel=9))\n",
    "pulse(o, sleep=0.2, channel=9, note=40)\n",
    "\n",
    "o.send(mido.Message('program_change', program=0, channel=9))\n",
    "pulse(o, sleep=0.2, channel=9, note=40)"
   ]
  },
  {
   "cell_type": "markdown",
   "metadata": {},
   "source": [
    "Does the INC DEC weirdness leak across channels."
   ]
  },
  {
   "cell_type": "code",
   "execution_count": 782,
   "metadata": {},
   "outputs": [],
   "source": [
    "o.send(controls.gm_on())\n",
    "controls.multisend(o, controls.set_voice_numbers(1))\n",
    "pbp(o)\n",
    "o.send(cc(C.DATA_MSB, value=59))\n",
    "\n",
    "o.send(cc(C.RPN_MSB, value=0))\n",
    "o.send(cc(C.RPN_LSB, value=2))\n",
    "\n",
    "\n",
    "pbp(o)\n",
    "o.send(cc(C.DATA_INC, value=0))\n",
    "\n",
    "pbp(o)\n",
    "\n",
    "controls.multisend(o, controls.set_voice_numbers(1, channel=2))\n",
    "pbp(o, channel=2)\n",
    "#o.send(cc(C.DATA_MSB, value=59, channel=1))\n",
    "\n",
    "o.send(cc(C.RPN_MSB, value=0, channel=2))\n",
    "o.send(cc(C.RPN_LSB, value=2, channel=2))\n",
    "\n",
    "\n",
    "pbp(o, channel=2)\n",
    "o.send(cc(C.DATA_INC, value=0, channel=2))\n",
    "\n",
    "pbp(o, channel=2)\n",
    "\n",
    "\n"
   ]
  },
  {
   "cell_type": "markdown",
   "metadata": {},
   "source": [
    "No, each channel has its own weirdness variable completely separate."
   ]
  },
  {
   "cell_type": "markdown",
   "metadata": {},
   "source": [
    "## Even More!"
   ]
  },
  {
   "cell_type": "code",
   "execution_count": 9,
   "metadata": {},
   "outputs": [
    {
     "data": {
      "text/plain": [
       "<message sysex data=(67,16,76,0,0,126,0) time=0>"
      ]
     },
     "execution_count": 9,
     "metadata": {},
     "output_type": "execute_result"
    }
   ],
   "source": [
    "controls.xg_on()"
   ]
  },
  {
   "cell_type": "code",
   "execution_count": 17,
   "metadata": {},
   "outputs": [],
   "source": [
    "ii = mido.open_input('DGX-505 MIDI 1')"
   ]
  },
  {
   "cell_type": "code",
   "execution_count": 21,
   "metadata": {},
   "outputs": [],
   "source": [
    "def grabm(p):\n",
    "    return list(p.iter_pending())"
   ]
  },
  {
   "cell_type": "code",
   "execution_count": 11,
   "metadata": {},
   "outputs": [],
   "source": [
    "o = mido.open_output('DGX-505 MIDI 1')"
   ]
  },
  {
   "cell_type": "code",
   "execution_count": 66,
   "metadata": {},
   "outputs": [],
   "source": [
    "for i in range(16):\n",
    "    o.send(controls.master_tune_val(-100))    \n",
    "    controls.multisend(o, controls.set_voice_numbers(60))\n",
    "    pulse(o, 0.1)\n",
    "    o.send(controls.xg_parameter_change(0, 0, 0x7E, 0, n=i))\n",
    "    pulse(o, 0.1)\n",
    "    o.send(controls.xg_parameter_change(0, 0, 0x7F, 0, n=i))\n",
    "    pulse(o, 0.1)"
   ]
  },
  {
   "cell_type": "code",
   "execution_count": 60,
   "metadata": {},
   "outputs": [
    {
     "data": {
      "text/plain": [
       "[]"
      ]
     },
     "execution_count": 60,
     "metadata": {},
     "output_type": "execute_result"
    }
   ],
   "source": [
    "grabm(ii)"
   ]
  },
  {
   "cell_type": "code",
   "execution_count": 68,
   "metadata": {},
   "outputs": [],
   "source": [
    "o.send(controls.cc(controls.Control.LOCAL, value=0x70, channel=15))"
   ]
  },
  {
   "cell_type": "code",
   "execution_count": 67,
   "metadata": {},
   "outputs": [],
   "source": [
    "o.send(controls.gm_on())"
   ]
  },
  {
   "cell_type": "markdown",
   "metadata": {},
   "source": [
    "LOCAL is not reset by XG on, GM on, or XG Reset"
   ]
  },
  {
   "cell_type": "markdown",
   "metadata": {},
   "source": [
    "What's the default for Master Volume? I assume 7F"
   ]
  },
  {
   "cell_type": "code",
   "execution_count": 76,
   "metadata": {},
   "outputs": [],
   "source": [
    "o.send(controls.master_vol(100))\n",
    "pulse(o, 0.1)\n",
    "o.send(controls.xg_parameter_change(0, 0, 0x7E, 0, n=i))\n",
    "pulse(o, 0.1)\n",
    "o.send(controls.master_vol(127))\n",
    "pulse(o, 0.1)\n",
    "o.send(controls.xg_parameter_change(0, 0, 0x7E, 0, n=i))\n",
    "pulse(o, 0.1)\n"
   ]
  },
  {
   "cell_type": "markdown",
   "metadata": {},
   "source": [
    "How does portamento control work with changed voices or drum kits?"
   ]
  },
  {
   "cell_type": "code",
   "execution_count": 204,
   "metadata": {},
   "outputs": [],
   "source": [
    "o.send(controls.xg_reset())\n",
    "controls.multisend(o, controls.set_voice_numbers(60))\n",
    "o.send(mido.Message('note_on', note=60))\n",
    "time.sleep(0.5)\n",
    "o.send(controls.cc(controls.Control.PORTAMENTO_CTRL, value=60))\n",
    "o.send(mido.Message('note_on', note=60))\n",
    "#o.send(mido.Message('note_on', note=61))\n",
    "time.sleep(0.5)\n",
    "o.send(mido.Message('note_off', note=60))\n",
    "o.send(mido.Message('note_off', note=60))\n",
    "#o.send(mido.Message('note_off', note=61))"
   ]
  },
  {
   "cell_type": "markdown",
   "metadata": {},
   "source": [
    "Sending the same note seems to require turning the note off twice. "
   ]
  },
  {
   "cell_type": "code",
   "execution_count": null,
   "metadata": {},
   "outputs": [],
   "source": []
  },
  {
   "cell_type": "code",
   "execution_count": 162,
   "metadata": {},
   "outputs": [],
   "source": [
    "o.send(controls.xg_reset())\n",
    "controls.multisend(o, controls.set_voice_numbers(60))\n",
    "o.send(mido.Message('note_on', note=60))\n",
    "time.sleep(0.5)\n",
    "controls.multisend(o, controls.set_voice_numbers(101))\n",
    "\n",
    "o.send(mido.Message('note_on', note=60))\n",
    "time.sleep(0.5)\n",
    "o.send(controls.cc(controls.Control.PORTAMENTO_CTRL, value=60))\n",
    "\n",
    "o.send(mido.Message('note_on', note=61))\n",
    "time.sleep(0.5)\n",
    "o.send(controls.cc(controls.Control.PORTAMENTO_CTRL, value=60))\n",
    "\n",
    "o.send(mido.Message('note_on', note=61))\n",
    "time.sleep(0.5)\n",
    "o.send(mido.Message('note_off', note=61))\n",
    "time.sleep(0.5)\n",
    "\n",
    "o.send(mido.Message('note_off', note=61))\n"
   ]
  },
  {
   "cell_type": "code",
   "execution_count": 81,
   "metadata": {},
   "outputs": [],
   "source": [
    "o.send(controls.xg_reset())\n",
    "controls.multisend(o, controls.set_voice_numbers(122))\n",
    "o.send(mido.Message('note_on', note=29))\n",
    "time.sleep(0.5)\n",
    "\n",
    "o.send(controls.cc(controls.Control.PORTAMENTO_CTRL, value=29))\n",
    "o.send(mido.Message('note_on', note=28))\n",
    "\n",
    "time.sleep(0.5)\n",
    "o.send(mido.Message('note_off', note=28))\n"
   ]
  },
  {
   "cell_type": "markdown",
   "metadata": {},
   "source": [
    "Portamento does not work with drum kits."
   ]
  },
  {
   "cell_type": "code",
   "execution_count": 82,
   "metadata": {},
   "outputs": [],
   "source": [
    "o.send(controls.xg_reset())\n",
    "controls.multisend(o, controls.set_voice_numbers(133))\n",
    "o.send(mido.Message('note_on', note=36))\n",
    "time.sleep(0.5)\n",
    "\n",
    "o.send(controls.cc(controls.Control.PORTAMENTO_CTRL, value=36))\n",
    "o.send(mido.Message('note_on', note=37))\n",
    "\n",
    "time.sleep(0.5)\n",
    "\n",
    "\n",
    "\n",
    "\n",
    "o.send(mido.Message('note_off', note=37))"
   ]
  },
  {
   "cell_type": "markdown",
   "metadata": {},
   "source": [
    "Or SFX kits."
   ]
  },
  {
   "cell_type": "code",
   "execution_count": 125,
   "metadata": {},
   "outputs": [],
   "source": [
    "o.send(controls.xg_reset())\n",
    "controls.multisend(o, controls.set_voice_numbers(474))\n",
    "o.send(mido.Message('note_on', note=36))\n",
    "time.sleep(0.1)\n",
    "\n",
    "o.send(controls.cc(controls.Control.PORTAMENTO_CTRL, value=36))\n",
    "o.send(mido.Message('note_on', note=37))\n",
    "\n",
    "time.sleep(0.5)\n",
    "\n",
    "\n",
    "\n",
    "\n",
    "o.send(mido.Message('note_off', note=37))"
   ]
  },
  {
   "cell_type": "markdown",
   "metadata": {},
   "source": [
    "SFX voices seem fine, though."
   ]
  },
  {
   "cell_type": "code",
   "execution_count": 127,
   "metadata": {},
   "outputs": [],
   "source": [
    "o.send(controls.xg_reset())\n",
    "controls.multisend(o, controls.set_voice_numbers(434))\n",
    "o.send(mido.Message('note_on', note=60, velocity=127))\n",
    "time.sleep(0.2)\n",
    "\n",
    "o.send(controls.cc(controls.Control.PORTAMENTO_CTRL, value=60))\n",
    "o.send(mido.Message('note_on', note=61, velocity=127))\n",
    "time.sleep(0.5)\n",
    "\n",
    "o.send(mido.Message('note_off', note=61))\n",
    "\n",
    "time.sleep(1)\n",
    "o.send(cc(C.ATTACK, value=50))\n",
    "o.send(cc(C.BRIGHTNESS, value=127))\n",
    "\n",
    "o.send(cc(C.RELEASE, value=127))\n",
    "o.send(mido.Message('note_on', note=60, velocity=127))\n",
    "time.sleep(0.2)\n",
    "\n",
    "o.send(controls.cc(controls.Control.PORTAMENTO_CTRL, value=60))\n",
    "o.send(mido.Message('note_on', note=61, velocity=127))\n",
    "time.sleep(0.5)\n",
    "\n",
    "o.send(mido.Message('note_off', note=61))"
   ]
  },
  {
   "cell_type": "code",
   "execution_count": 71,
   "metadata": {},
   "outputs": [
    {
     "data": {
      "text/plain": [
       "Voice(number=434, name='Woodblock', category='XG PERCUSSIVE', msb=0, lsb=0, prog=115)"
      ]
     },
     "execution_count": 71,
     "metadata": {},
     "output_type": "execute_result"
    }
   ],
   "source": [
    "voices.from_number(434)"
   ]
  },
  {
   "cell_type": "markdown",
   "metadata": {},
   "source": [
    "I suppose if the note runs out it also doesn't apply? I dunno."
   ]
  },
  {
   "cell_type": "code",
   "execution_count": null,
   "metadata": {},
   "outputs": [],
   "source": []
  }
 ],
 "metadata": {
  "kernelspec": {
   "display_name": "dgx_kernel",
   "language": "python",
   "name": "dgx_kernel"
  },
  "language_info": {
   "codemirror_mode": {
    "name": "ipython",
    "version": 3
   },
   "file_extension": ".py",
   "mimetype": "text/x-python",
   "name": "python",
   "nbconvert_exporter": "python",
   "pygments_lexer": "ipython3",
   "version": "3.6.7"
  }
 },
 "nbformat": 4,
 "nbformat_minor": 2
}
