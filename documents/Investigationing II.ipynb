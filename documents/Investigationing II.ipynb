{
 "cells": [
  {
   "cell_type": "markdown",
   "metadata": {},
   "source": [
    "# The big reset\n",
    "\n",
    "\n",
    "So I went ahead and cleared the memory."
   ]
  },
  {
   "cell_type": "code",
   "execution_count": 1,
   "metadata": {},
   "outputs": [],
   "source": [
    "import sys\n",
    "sys.path.append('..')"
   ]
  },
  {
   "cell_type": "code",
   "execution_count": 2,
   "metadata": {},
   "outputs": [],
   "source": [
    "import collections"
   ]
  },
  {
   "cell_type": "code",
   "execution_count": 3,
   "metadata": {},
   "outputs": [],
   "source": [
    "import mido"
   ]
  },
  {
   "cell_type": "code",
   "execution_count": 4,
   "metadata": {},
   "outputs": [],
   "source": [
    "from commons import dgxdump\n",
    "from commons.dumpdata import messages, songdata, regdata, regvalues"
   ]
  },
  {
   "cell_type": "code",
   "execution_count": 6,
   "metadata": {},
   "outputs": [],
   "source": [
    "old_syx_messages = mido.read_syx_file('../data/syxout5.syx')\n",
    "clear_syx_messages = mido.read_syx_file('../data/clear_bulk.txt')"
   ]
  },
  {
   "cell_type": "code",
   "execution_count": 7,
   "metadata": {},
   "outputs": [],
   "source": [
    "o_dump = dgxdump.DgxDump(old_syx_messages)\n",
    "c_dump = dgxdump.DgxDump(clear_syx_messages)"
   ]
  },
  {
   "cell_type": "code",
   "execution_count": 5,
   "metadata": {},
   "outputs": [],
   "source": [
    "# songs slices\n",
    "songslices = collections.OrderedDict([\n",
    "('songs', slice(0x00, 0x01)),\n",
    "('mystery', slice(0x01, 0x15D)),\n",
    "('tracks', slice(0x15D, 0x167)),\n",
    "('durations',  slice(0x167, 0x17B)),\n",
    "('trackdurations', slice(0x17B, 0x1F3)),\n",
    "('presetstyle', slice(0x1F3, 0x22F)),\n",
    "('beginningblocks', slice(0x22F, 0x24D)),\n",
    "('nextblocks', slice(0x24D, 0x2CF)),\n",
    "('startmarker', slice(0x2CF, 0x2D5)),\n",
    "('blockdata', slice(0x2D5, 0x106D5)),\n",
    "('endmarker', slice(0x106D5, None)),\n",
    "])\n",
    "EXPECTED_SIZE = 0x106DB\n",
    "\n",
    "PRESETSTYLE = b'PresetStyle\\0'*5\n",
    "MARKER = b'PK0001'"
   ]
  },
  {
   "cell_type": "code",
   "execution_count": 6,
   "metadata": {},
   "outputs": [],
   "source": [
    "def hex_string(data):\n",
    "    return \" \".join(\"{:02X}\".format(b) for b in data)\n",
    "\n",
    "def bin_string(data):\n",
    "    return \" \".join(\"{:08b}\".format(b) for b in data)\n",
    "\n",
    "def line_hex(data, head=None, tail=0):\n",
    "    if head is None:\n",
    "        head = len(data)\n",
    "    tailstart = len(data) - tail\n",
    "    if tailstart <= head:\n",
    "        return (hex_string(data))\n",
    "    else:\n",
    "        return (\"{} .. {}\".format(hex_string(data[:head]), hex_string(data[tailstart:])))\n",
    "    \n",
    "def song_section(dump, section):\n",
    "    return dump.song_data.data[songslices[section]]"
   ]
  },
  {
   "cell_type": "code",
   "execution_count": 10,
   "metadata": {},
   "outputs": [
    {
     "name": "stdout",
     "output_type": "stream",
     "text": [
      "songs\n",
      "17\n",
      "00\n",
      "mystery\n",
      "00 0A 03 E8 03 E8 01 F4 22 28 1E 1E 05 7F 1E 00 00 19 00 01 00 00 01 7F 00 0A 00 0F 00 13 00 16 .. 00 64 02 BC\n",
      "00 0A 03 E8 03 E8 01 F4 22 28 1E 1E 05 7F 1E 00 00 19 00 01 00 00 01 7F 00 0A 00 0F 00 13 00 16 .. 00 64 02 BC\n",
      "tracks\n",
      "21 07 1F 00 0F 00 00 00 00 00\n",
      "00 00 00 00 00 00 00 00 00 00\n",
      "durations\n",
      "00 00 00 27 00 00 00 0B 00 00 00 25 00 00 00 00 00 00 00 11\n",
      "00 00 00 00 00 00 00 00 00 00 00 00 00 00 00 00 00 00 00 00\n",
      "trackdurations\n",
      "00 00 00 27 00 00 00 00 00 00 00 00 00 00 00 00 00 00 00 00 00 00 00 25 00 00 00 0B 00 00 00 0B .. 00 00 00 00\n",
      "00 00 00 00 00 00 00 00 00 00 00 00 00 00 00 00 00 00 00 00 00 00 00 00 00 00 00 00 00 00 00 00 .. 00 00 00 00\n",
      "presetstyle\n",
      "50 72 65 73 65 74 53 74 79 6C 65 00 50 72 65 73 65 74 53 74 79 6C 65 00 50 72 65 73 65 74 53 74 .. 79 6C 65 00\n",
      "00 00 00 00 00 00 00 00 00 00 00 00 00 00 00 00 00 00 00 00 00 00 00 00 00 00 00 00 00 00 00 00 .. 00 00 00 00\n",
      "beginningblocks\n",
      "01 FF FF FF FF 02 19 12 14 FF FF 13 43 47 7B 82 51 44 FF FF FF FF FF FF 0D 0F 0A 11 FF 0C\n",
      "FF FF FF FF FF FF FF FF FF FF FF FF FF FF FF FF FF FF FF FF FF FF FF FF FF FF FF FF FF FF\n",
      "nextblocks\n",
      "04 03 FF 05 06 FF 00 00 00 FF 00 FF 0E FF 10 FF FF 17 FF 15 16 1B 18 FF 1A FF FF 00 00 00 00 00 .. 80 81 FF 4C\n",
      "00 00 00 00 00 00 00 00 00 00 00 00 00 00 00 00 00 00 00 00 00 00 00 00 00 00 00 00 00 00 00 00 .. 00 00 00 00\n",
      "startmarker\n",
      "50 4B 30 30 30 31\n",
      "50 4B 30 30 30 31\n",
      "blockdata\n",
      "4D 54 72 6B 00 00 07 C2 00 F0 09 43 10 4C 02 01 00 01 11 F7 00 F0 09 43 10 4C 02 01 20 42 11 F7 .. 27 00 9D 2E\n",
      "00 00 00 00 00 00 00 00 00 00 00 00 00 00 00 00 00 00 00 00 00 00 00 00 00 00 00 00 00 00 00 00 .. 00 00 00 00\n",
      "endmarker\n",
      "50 4B 30 30 30 31\n",
      "50 4B 30 30 30 31\n"
     ]
    }
   ],
   "source": [
    "for sec in songslices:\n",
    "    print(sec)\n",
    "    print(line_hex(song_section(o_dump, sec), 32, 4))\n",
    "    print(line_hex(song_section(c_dump, sec), 32, 4))"
   ]
  },
  {
   "cell_type": "code",
   "execution_count": 11,
   "metadata": {},
   "outputs": [
    {
     "data": {
      "text/plain": [
       "True"
      ]
     },
     "execution_count": 11,
     "metadata": {},
     "output_type": "execute_result"
    }
   ],
   "source": [
    "song_section(o_dump, 'mystery') == song_section(c_dump, 'mystery')"
   ]
  },
  {
   "cell_type": "markdown",
   "metadata": {},
   "source": [
    "The mystery section remains the same."
   ]
  },
  {
   "cell_type": "code",
   "execution_count": 12,
   "metadata": {},
   "outputs": [
    {
     "data": {
      "text/plain": [
       "True"
      ]
     },
     "execution_count": 12,
     "metadata": {},
     "output_type": "execute_result"
    }
   ],
   "source": [
    "all(b==0 for b in song_section(c_dump, 'nextblocks'))"
   ]
  },
  {
   "cell_type": "code",
   "execution_count": 13,
   "metadata": {
    "scrolled": true
   },
   "outputs": [
    {
     "data": {
      "text/plain": [
       "True"
      ]
     },
     "execution_count": 13,
     "metadata": {},
     "output_type": "execute_result"
    }
   ],
   "source": [
    "all(b==0 for b in song_section(c_dump, 'blockdata'))"
   ]
  },
  {
   "cell_type": "markdown",
   "metadata": {},
   "source": [
    "All the blocks are empty."
   ]
  },
  {
   "cell_type": "code",
   "execution_count": 14,
   "metadata": {
    "scrolled": true
   },
   "outputs": [
    {
     "data": {
      "text/plain": [
       "b'\\x00\\x00\\x00\\x00\\x00\\x00\\x00\\x00\\x00\\x00\\x00\\x00\\x00\\x00\\x00\\x00\\x00\\x00\\x00\\x00\\x00\\x00\\x00\\x00\\x00\\x00\\x00\\x00\\x00\\x00\\x00\\x00\\x00\\x00\\x00\\x00\\x00\\x00\\x00\\x00\\x00\\x00\\x00\\x00\\x00\\x00\\x00\\x00\\x00\\x00\\x00\\x00\\x00\\x00\\x00\\x00\\x00\\x00\\x00\\x00'"
      ]
     },
     "execution_count": 14,
     "metadata": {},
     "output_type": "execute_result"
    }
   ],
   "source": [
    "bytes(song_section(c_dump, 'presetstyle'))"
   ]
  },
  {
   "cell_type": "markdown",
   "metadata": {},
   "source": [
    "The 'PresetStyle' settings are empty, too."
   ]
  },
  {
   "cell_type": "code",
   "execution_count": 15,
   "metadata": {},
   "outputs": [
    {
     "name": "stdout",
     "output_type": "stream",
     "text": [
      "50 53 52 03 01 00 00 39 39 05 64 00 3B 00 60 40 28 00 00 00 2D 00 64 40 08 00 7F 00 22 FF 50 40 .. 50 53 52 03\n",
      "50 53 52 03 00 00 00 00 00 00 00 00 00 00 00 00 00 00 00 00 00 00 00 00 00 00 00 00 00 00 00 00 .. 50 53 52 03\n"
     ]
    }
   ],
   "source": [
    "print(line_hex(o_dump.reg_data.data, 32, 4))\n",
    "print(line_hex(c_dump.reg_data.data, 32, 4))"
   ]
  },
  {
   "cell_type": "code",
   "execution_count": 16,
   "metadata": {},
   "outputs": [
    {
     "name": "stdout",
     "output_type": "stream",
     "text": [
      "1 1\n",
      "01 00 00 39 39 05 64 00 3B 00 60 40 28 00 00 00 2D 00 64 40 08 00 7F 00 22 FF 50 40 2A 00 02 02 01 00 01 50 FF 0C 3C 00 00 40 00 00\n",
      "00 00 00 00 00 00 00 00 00 00 00 00 00 00 00 00 00 00 00 00 00 00 00 00 00 00 00 00 00 00 00 00 00 00 00 00 00 00 00 00 00 00 00 00\n",
      "1 2\n",
      "01 FF FF 36 36 FF FF 00 00 00 6E 40 14 00 00 00 2D 00 64 40 08 00 7F 00 04 FF 63 40 32 00 02 01 01 00 02 50 FF 0C FF 00 00 40 00 00\n",
      "00 00 00 00 00 00 00 00 00 00 00 00 00 00 00 00 00 00 00 00 00 00 00 00 00 00 00 00 00 00 00 00 00 00 00 00 00 00 00 00 00 00 00 00\n",
      "2 1\n",
      "01 87 00 36 36 05 64 01 67 00 68 40 1C 00 00 00 35 01 72 40 08 00 00 00 35 00 46 40 20 00 02 01 07 00 01 64 FF 0C 76 00 00 40 00 00\n",
      "00 00 00 00 00 00 00 00 00 00 00 00 00 00 00 00 00 00 00 00 00 00 00 00 00 00 00 00 00 00 00 00 00 00 00 00 00 00 00 00 00 00 00 00\n",
      "2 2\n",
      "01 00 00 36 36 05 64 01 4F 00 68 40 1C 00 00 00 2D 00 64 40 08 00 00 00 35 00 46 40 20 00 02 02 01 00 01 64 FF 0C 3C 00 00 40 00 00\n",
      "00 00 00 00 00 00 00 00 00 00 00 00 00 00 00 00 00 00 00 00 00 00 00 00 00 00 00 00 00 00 00 00 00 00 00 00 00 00 00 00 00 00 00 00\n",
      "3 1\n",
      "01 3D 00 36 36 05 64 00 54 FF 6E 40 22 00 7F 00 36 00 7F 40 08 00 7F 00 35 FF 5A 40 20 00 02 01 01 00 02 50 FF 0C 76 00 00 40 00 00\n",
      "00 00 00 00 00 00 00 00 00 00 00 00 00 00 00 00 00 00 00 00 00 00 00 00 00 00 00 00 00 00 00 00 00 00 00 00 00 00 00 00 00 00 00 00\n",
      "3 2\n",
      "01 0F 00 37 37 05 64 00 6D 00 70 40 28 22 00 00 06 00 64 40 08 00 7F 00 34 00 46 40 24 00 02 03 01 00 01 50 FF 0C 44 00 00 40 00 00\n",
      "00 00 00 00 00 00 00 00 00 00 00 00 00 00 00 00 00 00 00 00 00 00 00 00 00 00 00 00 00 00 00 00 00 00 00 00 00 00 00 00 00 00 00 00\n",
      "4 1\n",
      "01 00 00 36 36 05 64 00 59 00 50 40 28 00 00 00 2D 00 64 40 08 00 7F 01 7A 00 47 40 24 00 02 02 01 00 02 5A FF 0C 3C 00 00 40 00 00\n",
      "00 00 00 00 00 00 00 00 00 00 00 00 00 00 00 00 00 00 00 00 00 00 00 00 00 00 00 00 00 00 00 00 00 00 00 00 00 00 00 00 00 00 00 00\n",
      "4 2\n",
      "01 00 00 00 00 05 64 00 85 FE 7F 7F 4E 25 7F 01 00 01 00 00 16 4B 00 01 ED 01 0A 5B 20 7F 0C 0B 06 00 05 7F FF 18 3C 00 00 6E 00 00\n",
      "00 00 00 00 00 00 00 00 00 00 00 00 00 00 00 00 00 00 00 00 00 00 00 00 00 00 00 00 00 00 00 00 00 00 00 00 00 00 00 00 00 00 00 00\n",
      "5 1\n",
      "01 FF FF 39 39 FF FF 00 34 00 7F 40 28 00 00 00 2D 00 64 40 08 00 7F 00 35 FF 3F 40 28 00 02 02 01 00 01 5A FF 0C FF 00 00 40 00 00\n",
      "00 00 00 00 00 00 00 00 00 00 00 00 00 00 00 00 00 00 00 00 00 00 00 00 00 00 00 00 00 00 00 00 00 00 00 00 00 00 00 00 00 00 00 00\n",
      "5 2\n",
      "01 00 00 39 39 05 64 01 6F FF 7F 40 1C 00 7F 00 35 00 64 40 08 00 7F 00 34 00 5F 40 20 00 02 02 01 00 01 64 FF 0C 3C 00 00 40 00 00\n",
      "00 00 00 00 00 00 00 00 00 00 00 00 00 00 00 00 00 00 00 00 00 00 00 00 00 00 00 00 00 00 00 00 00 00 00 00 00 00 00 00 00 00 00 00\n",
      "6 1\n",
      "01 00 00 39 39 05 64 00 D3 00 68 40 1C 00 00 00 2D 00 64 40 08 00 7F 01 B0 00 46 40 20 00 02 02 01 00 01 64 FF 0C 3C 00 00 40 00 00\n",
      "00 00 00 00 00 00 00 00 00 00 00 00 00 00 00 00 00 00 00 00 00 00 00 00 00 00 00 00 00 00 00 00 00 00 00 00 00 00 00 00 00 00 00 00\n",
      "6 2\n",
      "01 00 00 39 39 05 64 00 A1 00 68 40 1C 00 00 00 2D 00 64 40 08 00 7F 00 66 00 46 40 20 00 02 02 01 00 01 64 FF 0C 3C 00 00 40 00 00\n",
      "00 00 00 00 00 00 00 00 00 00 00 00 00 00 00 00 00 00 00 00 00 00 00 00 00 00 00 00 00 00 00 00 00 00 00 00 00 00 00 00 00 00 00 00\n",
      "7 1\n",
      "01 87 00 36 36 05 64 00 41 FF 5E 40 2E 00 7F 00 35 01 72 40 08 00 00 00 43 00 46 40 32 00 02 01 07 00 02 50 FF 0C 76 00 00 40 00 00\n",
      "00 00 00 00 00 00 00 00 00 00 00 00 00 00 00 00 00 00 00 00 00 00 00 00 00 00 00 00 00 00 00 00 00 00 00 00 00 00 00 00 00 00 00 00\n",
      "7 2\n",
      "01 00 00 39 39 05 64 00 41 00 5E 40 2E 00 7F 00 1B 00 2F 40 08 00 7F 00 43 FF 46 40 32 00 02 02 01 00 02 50 FF 0C 3C 00 00 40 00 00\n",
      "00 00 00 00 00 00 00 00 00 00 00 00 00 00 00 00 00 00 00 00 00 00 00 00 00 00 00 00 00 00 00 00 00 00 00 00 00 00 00 00 00 00 00 00\n",
      "8 1\n",
      "01 87 01 39 39 05 64 00 34 00 7F 40 28 00 7F 00 34 00 64 40 08 00 7F 00 35 FF 3F 40 28 00 02 01 07 7F 02 5A FF 0C 76 00 00 40 00 00\n",
      "00 00 00 00 00 00 00 00 00 00 00 00 00 00 00 00 00 00 00 00 00 00 00 00 00 00 00 00 00 00 00 00 00 00 00 00 00 00 00 00 00 00 00 00\n",
      "8 2\n",
      "01 00 00 36 36 05 64 00 35 00 56 40 28 00 00 00 2D 00 64 40 08 00 7F 00 57 00 59 40 28 1E 02 02 01 00 01 5A FF 0C 3C 00 00 40 00 00\n",
      "00 00 00 00 00 00 00 00 00 00 00 00 00 00 00 00 00 00 00 00 00 00 00 00 00 00 00 00 00 00 00 00 00 00 00 00 00 00 00 00 00 00 00 00\n"
     ]
    }
   ],
   "source": [
    "for bank in range(1, 8+1):\n",
    "    for button in range(1, 2+1):\n",
    "        print(bank, button)\n",
    "        print(line_hex(o_dump.reg_data.settings.get_setting(bank, button).data))\n",
    "        print(line_hex(c_dump.reg_data.settings.get_setting(bank, button).data))"
   ]
  },
  {
   "cell_type": "markdown",
   "metadata": {},
   "source": [
    "Each of the registry settings are completely blank.\n",
    "Interesting things to note: the first byte is 0 instead of 1, which probably indicates that the setting is unused.\n",
    "The bytes that were FF in each recorded setting are 00 here."
   ]
  },
  {
   "cell_type": "markdown",
   "metadata": {},
   "source": [
    "## Investigating FUNCTION backup\n",
    "\n",
    "According to the manual (page 49), the following settings can be saved to *backup*, i.e. persistent memory for startup bu holding the FUNCTION button:\n",
    "\n",
    " - User songs (These are saved when recorded anyway)\n",
    " - Style files (the ones loaded using SmartMedia)\n",
    " - Touch response (ON/OFF)\n",
    " - Registration memory\n",
    " - These function settings:\n",
    "   - Tuning\n",
    "   - Split point\n",
    "   - Touch sensitivity\n",
    "   - Style volume\n",
    "   - Song volume\n",
    "   - Metronome volume\n",
    "   - Grade\n",
    "   - Demo cancel\n",
    "   - Language\n",
    "   - Media Select\n",
    "   - Panel Sustain.\n",
    "   \n",
    "These backup settings are also cleared with the rest of the memory.\n",
    "\n",
    "The default values for these settings are as follows:\n",
    "\n",
    "| setting           | default      |\n",
    "|-------------------|--------------|\n",
    "| Touch response    | ON           |\n",
    "| Tuning            | 000          |\n",
    "| Split point       | 54 (F#2)     |\n",
    "| Touch sensitivity | 2 (Medium)   |\n",
    "| Style volume      | 100          |\n",
    "| Song volume       | 100          |\n",
    "| Metronome volume  | 100          |\n",
    "| Grade             | ON           |\n",
    "| Demo cancel       | OFF          |\n",
    "| Language          | English      |\n",
    "| Media Select      | Flash Memory |\n",
    "| Panel sustain     | OFF          |\n",
    "\n",
    "As an experiment, I changed the values of the function settings:\n",
    "\n",
    "| setting           | new value    |\n",
    "|-------------------|--------------|\n",
    "| Touch response    | ON           |\n",
    "| Tuning            | 057          |\n",
    "| Split point       | 112 (E7)     |\n",
    "| Touch sensitivity | 3 (Hard)     |\n",
    "| Style volume      | 045          |\n",
    "| Song volume       | 079          |\n",
    "| Metronome volume  | 121          |\n",
    "| Grade             | OFF          |\n",
    "| Demo cancel       | ON           |\n",
    "| Language          | Japanese     |\n",
    "| Media Select      | Smart Media  |\n",
    "| Panel sustain     | ON           |\n",
    "\n",
    "and without making a backup:\n",
    " - took a bulk dump. (cb1.txt),\n",
    " - then made the backup, took another bulk dump, (cb2.txt),\n",
    " - restarted with the new settings, took another (cb3.txt),\n",
    " - reset everything to default without backup (cb4.txt),\n",
    " - made a backup again and took another dump (cb5.txt),\n",
    " - then restarted again (cb6.txt).\n",
    "\n",
    "All of these files were identical to each other, which suggests that these backup settings are not stored any part we can retrieve.\n",
    "\n",
    "However, there is one thing interesting about these files, in that they differ from the dump I got immediately after resetting the memory (clear_bulk.txt)."
   ]
  },
  {
   "cell_type": "code",
   "execution_count": 17,
   "metadata": {},
   "outputs": [
    {
     "name": "stdout",
     "output_type": "stream",
     "text": [
      "Files ../data/backup_experiment/cb1.txt and ../data/backup_experiment/cb2.txt are identical\n",
      "Files ../data/backup_experiment/cb1.txt and ../data/backup_experiment/cb3.txt are identical\n",
      "Files ../data/backup_experiment/cb1.txt and ../data/backup_experiment/cb4.txt are identical\n",
      "Files ../data/backup_experiment/cb1.txt and ../data/backup_experiment/cb5.txt are identical\n",
      "Files ../data/backup_experiment/cb1.txt and ../data/backup_experiment/cb6.txt are identical\n",
      "Files ../data/backup_experiment/cb1.txt and ../data/clear_bulk.txt differ\n"
     ]
    }
   ],
   "source": [
    "for x in range(2, 7):\n",
    "    !diff -qs ../data/backup_experiment/cb1.txt ../data/backup_experiment/cb{x}.txt\n",
    "!diff -qs ../data/backup_experiment/cb1.txt ../data/clear_bulk.txt"
   ]
  },
  {
   "cell_type": "code",
   "execution_count": 18,
   "metadata": {},
   "outputs": [],
   "source": [
    "c2_syx_messages = mido.read_syx_file('../data/backup_experiment/cb1.txt')\n",
    "c2_dump = dgxdump.DgxDump(c2_syx_messages)\n"
   ]
  },
  {
   "cell_type": "code",
   "execution_count": 19,
   "metadata": {},
   "outputs": [
    {
     "data": {
      "text/plain": [
       "False"
      ]
     },
     "execution_count": 19,
     "metadata": {},
     "output_type": "execute_result"
    }
   ],
   "source": [
    "c_dump.song_data.data == c2_dump.song_data.data"
   ]
  },
  {
   "cell_type": "code",
   "execution_count": 20,
   "metadata": {},
   "outputs": [
    {
     "data": {
      "text/plain": [
       "True"
      ]
     },
     "execution_count": 20,
     "metadata": {},
     "output_type": "execute_result"
    }
   ],
   "source": [
    "c_dump.reg_data.data == c2_dump.reg_data.data"
   ]
  },
  {
   "cell_type": "code",
   "execution_count": 21,
   "metadata": {},
   "outputs": [
    {
     "name": "stdout",
     "output_type": "stream",
     "text": [
      "mystery\n",
      "00 0A 03 E8 03 E8 01 F4 22 28 1E 1E 05 7F 1E 00 00 19 00 01 00 00 01 7F 00 0A 00 0F 00 13 00 16 .. 00 64 02 BC\n",
      "00 0A 03 E8 03 E8 02 BC 22 28 1E 1E 05 7F 1E 00 00 19 00 01 00 00 01 7F 00 0A 00 0F 00 13 00 16 .. 00 64 02 BC\n"
     ]
    }
   ],
   "source": [
    "for sec in songslices:\n",
    "    c_sec = song_section(c_dump, sec)\n",
    "    c2_sec = song_section(c2_dump, sec)\n",
    "    if c_sec != c2_sec:\n",
    "        print(sec)\n",
    "        print(line_hex(c_sec, 32, 4))\n",
    "        print(line_hex(c2_sec, 32, 4))"
   ]
  },
  {
   "cell_type": "code",
   "execution_count": 22,
   "metadata": {},
   "outputs": [
    {
     "name": "stdout",
     "output_type": "stream",
     "text": [
      "07: 01 02 (001 002)\n",
      "08: F4 BC (244 188)\n"
     ]
    }
   ],
   "source": [
    "for n, (a, b) in enumerate(zip(c_dump.song_data.data, c2_dump.song_data.data)):\n",
    "    if a != b:\n",
    "        print(\"{0:02X}: {1:02X} {2:02X} ({1:03d} {2:03d})\".format(n, a, b))"
   ]
  },
  {
   "cell_type": "markdown",
   "metadata": {},
   "source": [
    "The only difference seems to be two bytes in the mystery section, at offsets 0x07 and 0x08.\n",
    "\n",
    "Perhaps this has to do with some kind of internal wear levelling or something."
   ]
  },
  {
   "cell_type": "markdown",
   "metadata": {},
   "source": [
    "## Registration extension\n",
    "\n",
    "Now that the memory has been cleared, we can hopefully figure out more about the registration settings.\n",
    "\n",
    "\n",
    "Recording Bank 3, Button 2 as the following settings:\n",
    "\n",
    "| setting          | value |\n",
    "|------------------|-------|\n",
    "| Style            |   092 |\n",
    "| Accompaniment    |    ON |\n",
    "| Split point      |   053 |\n",
    "| Main A/B         |     A |\n",
    "| Style vol        |   050 |\n",
    "| Main voice       |   060 |\n",
    "| Main Octave      |    -1 |\n",
    "| Main Volume      |   054 |\n",
    "| Main Pan         |   092 |\n",
    "| Main Reverb      |   078 |\n",
    "| Main Chorus      |   103 |\n",
    "| Split            |    ON |\n",
    "| Split voice      |   003 |\n",
    "| Split Octave     |     0 |\n",
    "| Split Volume     |   108 |\n",
    "| Split Pan        |   064 |\n",
    "| Split Reverb     |   032 |\n",
    "| Split Chorus     |   127 |\n",
    "| Dual             |   OFF |\n",
    "| Dual voice       |   201 |\n",
    "| Dual Octave      |    +2 |\n",
    "| Dual Volume      |   095 |\n",
    "| Dual Pan         |   048 |\n",
    "| Dual Reverb      |   017 |\n",
    "| Dual Chorus      |   082 |\n",
    "| Pitch bend range |    05 |\n",
    "| Reverb type      |    --(Room)     |\n",
    "| Chorus type      |    --(Celeste)  |\n",
    "| Harmony          |   OFF           |\n",
    "| Harmony type     |    06(Trill1/4) |\n",
    "| Harmony volume   |   085/---*      |\n",
    "| Transpose        |   +03           |\n",
    "| Tempo            |   080           |\n",
    "| Panel Sustain    |    ON           |\n",
    "\n",
    "*This was set using a different Harmony type setting."
   ]
  },
  {
   "cell_type": "code",
   "execution_count": 23,
   "metadata": {},
   "outputs": [],
   "source": [
    "r1_dump = dgxdump.DgxDump(mido.read_syx_file('../data/post_clear/1reg.syx'))"
   ]
  },
  {
   "cell_type": "code",
   "execution_count": 25,
   "metadata": {},
   "outputs": [
    {
     "data": {
      "text/plain": [
       "True"
      ]
     },
     "execution_count": 25,
     "metadata": {},
     "output_type": "execute_result"
    }
   ],
   "source": [
    "c2_dump.song_data.data == r1_dump.song_data.data"
   ]
  },
  {
   "cell_type": "code",
   "execution_count": 26,
   "metadata": {},
   "outputs": [
    {
     "data": {
      "text/plain": [
       "False"
      ]
     },
     "execution_count": 26,
     "metadata": {},
     "output_type": "execute_result"
    }
   ],
   "source": [
    "c2_dump.reg_data.data == r1_dump.reg_data.data"
   ]
  },
  {
   "cell_type": "code",
   "execution_count": 35,
   "metadata": {},
   "outputs": [
    {
     "name": "stdout",
     "output_type": "stream",
     "text": [
      "3 2\n"
     ]
    }
   ],
   "source": [
    "for bank in range(1, 8+1):\n",
    "    for button in range(1, 2+1):\n",
    "        if not all(x == 0 for x in r1_dump.reg_data.settings.get_setting(bank, button).data):\n",
    "            print(bank, button)"
   ]
  },
  {
   "cell_type": "code",
   "execution_count": 38,
   "metadata": {},
   "outputs": [
    {
     "data": {
      "text/plain": [
       "'01 5B 01 35 35 00 32 00 3B FF 36 5C 4E 67 7F 00 02 00 6C 40 20 7F 00 00 C8 02 5F 30 11 52 05 0B 08 00 06 55 FF 0F 30 00 00 6E 00 00'"
      ]
     },
     "execution_count": 38,
     "metadata": {},
     "output_type": "execute_result"
    }
   ],
   "source": [
    "line_hex(r1_dump.reg_data.settings.get_setting(3, 2).data)"
   ]
  },
  {
   "cell_type": "code",
   "execution_count": 47,
   "metadata": {
    "scrolled": true
   },
   "outputs": [
    {
     "name": "stdout",
     "output_type": "stream",
     "text": [
      "01 5B 01 35 35 00 32 00 3B FF 36 5C 4E 67 7F 00 02 00 6C 40 20 7F 00 00 C8 02 5F 30 11 52 05 0B 08 00 06 55 FF 0F 30 00 00 6E 00 00\n",
      "Bank 3, Button 2:\n",
      "       Style number: 092\n",
      "      Accompaniment:  ON\n",
      "           Main A/B: Main A\n",
      "              Tempo:  80\n",
      "  Main Voice number: 060\n",
      "  Dual Voice number: 201\n",
      " Split Voice number: 003\n",
      "            Harmony: OFF\n",
      "               Dual: OFF\n",
      "              Split:  ON\n",
      "       Style Volume: 050\n",
      "          Transpose:  03\n",
      "   Pitch Bend Range:  05\n",
      "        Split Point: 53(F2)\n",
      "          M. Volume: 054\n",
      "          M. Octave:  -1\n",
      "             M. Pan: 092\n",
      "    M. Reverb Level: 078\n",
      "    M. Chorus Level: 103\n",
      "          D. Volume: 095\n",
      "          D. Octave:   2\n",
      "             D. Pan: 048\n",
      "    D. Reverb Level: 017\n",
      "    D. Chorus Level: 082\n",
      "          S. Volume: 108\n",
      "          S. Octave:   0\n",
      "             S. Pan: 064\n",
      "    S. Reverb Level: 032\n",
      "    S. Chorus Level: 127\n",
      "        Reverb Type: --(Room)\n",
      "        Chorus Type: --(Celeste)\n",
      "            Sustain:  ON\n",
      "       Harmony Type: 06(Trill1/4)\n",
      "     Harmony Volume: 085\n",
      " 0 unusual values:\n",
      "00 00 00 00 00 00 00 00 00 00 00 00 00 00 00 00 00 00 00 00 00 00 00 00 00 00 00 00 00 00 00 00 00 00 00 00 00 00 00 00 00 00 00 00\n",
      "Bank 1, Button 1:\n",
      "       Style number: 001\n",
      "      Accompaniment: OFF\n",
      "           Main A/B: Main A\n",
      "              Tempo:  32\n",
      "  Main Voice number: 001\n",
      "  Dual Voice number: 001\n",
      " Split Voice number: 001\n",
      "            Harmony: OFF\n",
      "               Dual: OFF\n",
      "              Split: OFF\n",
      "       Style Volume: 000\n",
      "          Transpose: -12\n",
      "   Pitch Bend Range: <unknown 00>\n",
      "        Split Point: 0(C-2)\n",
      "          M. Volume: 000\n",
      "          M. Octave:   0\n",
      "             M. Pan: 000\n",
      "    M. Reverb Level: 000\n",
      "    M. Chorus Level: 000\n",
      "          D. Volume: 000\n",
      "          D. Octave:   0\n",
      "             D. Pan: 000\n",
      "    D. Reverb Level: 000\n",
      "    D. Chorus Level: 000\n",
      "          S. Volume: 000\n",
      "          S. Octave:   0\n",
      "             S. Pan: 000\n",
      "    S. Reverb Level: 000\n",
      "    S. Chorus Level: 000\n",
      "        Reverb Type: <unknown 00>\n",
      "        Chorus Type: <unknown 00>\n",
      "            Sustain: <unknown 00>\n",
      "       Harmony Type: <unknown 00>\n",
      "     Harmony Volume: 000\n",
      " 7 unusual values:\n",
      "        _first byte: <unknown 00>\n",
      "   Pitch Bend Range: <unknown 00>\n",
      "        Reverb Type: <unknown 00>\n",
      "        Chorus Type: <unknown 00>\n",
      "       Harmony Type: <unknown 00>\n",
      "           _ff byte: <unknown 00>\n",
      "            Sustain: <unknown 00>\n"
     ]
    }
   ],
   "source": [
    "for bb in [(3, 2), (1, 1)]:\n",
    "    sets = r1_dump.reg_data.settings.get_setting(*bb)\n",
    "    print(line_hex(sets.data))\n",
    "    sets.print_settings()\n",
    "    sets.print_unusual()"
   ]
  },
  {
   "cell_type": "markdown",
   "metadata": {},
   "source": [
    "I believe the only real way to get unrecorded settings is to reset the memory, which clears all the values to zero.\n",
    "This means that the first byte which has a value of `01` for all recorded settings can indeed be used as a flag... along with the `FF` byte at offset `24`, and any other setting that cannot be set to a value of zero, such as the Pitch Bend range, Reverb type, Chorus type, and panel Sustain.\n",
    "\n",
    "Personally, I think it makes more sense for the first byte to act as the recorded flag, so I think I'll use that."
   ]
  },
  {
   "cell_type": "code",
   "execution_count": 34,
   "metadata": {},
   "outputs": [
    {
     "name": "stdout",
     "output_type": "stream",
     "text": [
      "Bank 2, Button 2:\n",
      "       Style number: 050\n",
      "      Accompaniment: OFF\n",
      "           Main A/B: Main B\n",
      "              Tempo:  82\n",
      "  Main Voice number: 078\n",
      "  Dual Voice number: 076\n",
      " Split Voice number: 046\n",
      "            Harmony:  ON\n",
      "               Dual:  ON\n",
      "              Split: OFF\n",
      "       Style Volume: 100\n",
      "          Transpose:  00\n",
      "   Pitch Bend Range:  02\n",
      "        Split Point: 54(F#2)\n",
      "          M. Volume: 103\n",
      "          M. Octave:   0\n",
      "             M. Pan: 064\n",
      "    M. Reverb Level: 040\n",
      "    M. Chorus Level: 000\n",
      "          D. Volume: 066\n",
      "          D. Octave:  -1\n",
      "             D. Pan: 064\n",
      "    D. Reverb Level: 040\n",
      "    D. Chorus Level: 020\n",
      "          S. Volume: 100\n",
      "          S. Octave:   0\n",
      "             S. Pan: 064\n",
      "    S. Reverb Level: 008\n",
      "    S. Chorus Level: 000\n",
      "        Reverb Type: 03(Hall3)\n",
      "        Chorus Type: 01(Chorus1)\n",
      "            Sustain: OFF\n",
      "       Harmony Type: 01(Duet)\n",
      "     Harmony Volume: 080\n",
      " 0 unusual values:\n"
     ]
    }
   ],
   "source": [
    "r2_dump = dgxdump.DgxDump(mido.read_syx_file('../data/post_clear/2reg.txt'))\n",
    "sets = r2_dump.reg_data.settings.get_setting(2,2)\n",
    "sets.print_settings()\n",
    "sets.print_unusual()"
   ]
  },
  {
   "cell_type": "markdown",
   "metadata": {},
   "source": [
    "The voice number 000 is used for the default voice for the whichever song or style is selected. If saved to a registration setting, the number 000 is not actually recorded, but rather the actual voice settings are saved."
   ]
  },
  {
   "cell_type": "markdown",
   "metadata": {},
   "source": [
    "## Song Stuff\n",
    "\n",
    "According to the manual, page 45, the following data is recorded in melody tracks:\n",
    " - Notes on/off and velocity\n",
    " - Voice number\n",
    " - Reverb and chorus type, (at beginning only, i.e. no changes)\n",
    " - Harmony notes\n",
    " - Pedal sustain and Function sustain\n",
    " - Tempo and time signature (at beginning only, and only when style track not recorded)\n",
    "   - I believe this is what gets recorded onto the actual time track when Track A has not been selected for recording,\n",
    "     which suggests that this gets overwritten by Track A. We could test this by recording then deleting A, which\n",
    "     should then remove the old time information entirely\n",
    " - Pitch bend and pitch bend range\n",
    " - Dual voice on/off\n",
    " - Main/Dual voice volume/octave/pan/reverb/chorus levels\n",
    "\n",
    "And on the style track (A):\n",
    " - Chord changes and timing\n",
    " - Style pattern changes (Intro/Main A/B etc)\n",
    " - Style number (at beginning only)\n",
    " - Reverb and chorus type (at beginning only)\n",
    " - Tempo\n",
    " - Time signature (at beginning only)\n",
    " - Style volume (at beginning only)\n",
    " \n",
    "Note that the split voice and notes are not recorded at all (p.46). I suspect this may be because with five tracks each with main and dual, plus accompaniment, plus the actual keyboard voices, there aren't enough MIDI channels to accomodate them."
   ]
  },
  {
   "cell_type": "code",
   "execution_count": null,
   "metadata": {},
   "outputs": [],
   "source": []
  }
 ],
 "metadata": {
  "kernelspec": {
   "display_name": "Python 3",
   "language": "python",
   "name": "python3"
  },
  "language_info": {
   "codemirror_mode": {
    "name": "ipython",
    "version": 3
   },
   "file_extension": ".py",
   "mimetype": "text/x-python",
   "name": "python",
   "nbconvert_exporter": "python",
   "pygments_lexer": "ipython3",
   "version": "3.5.2"
  }
 },
 "nbformat": 4,
 "nbformat_minor": 2
}
