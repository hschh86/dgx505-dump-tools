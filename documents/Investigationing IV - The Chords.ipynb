{
 "cells": [
  {
   "cell_type": "markdown",
   "metadata": {},
   "source": [
    "# What are the Chord Messages?"
   ]
  },
  {
   "cell_type": "markdown",
   "metadata": {},
   "source": [
    "The DGX-505 supports chords, which are present in the recorded tracks. These chords affect the accompaniment, harmony and performance assist, and are also listed in the lyrics screen.\n",
    "\n",
    "There is a list of the recognised chords in the manual (p.62), and most of them can also be viewed in the chord dictionary function (although some aren't). Also mentioned are the power chord accompaniment, for example C1+5 and C1+8.\n",
    "\n",
    "There are some that the screen can display that are not listed in the manual. These are weird combinations that are indicated with a star $*$, which seems to indicate some several different unrecognised chords (the accompaniment works with it), for example trying the accompaniment with the keys C-D♭-E♭ or C-D♭-F♯.\n",
    "\n",
    "There are also what appears to be inversions/hybrid chords/upper structure thing (I'm not a music theory expert), where a lower note is notated separately after a slash, like \"C/G\", which you can get \n",
    "\n",
    "A weird thing to note is that when playing the accompaniment notes/keys are represented as C, D♭, D, E♭, E, F, F♯, G, G♯, A, B♭, B. This means the key of A♭ major is represented as G♯ major and so on. This is not a limitation for the chords data in general, as you can see these A♭ and C♯ chords in the songs.\n",
    "\n",
    "The chords are present in the supplied MID files on the CD, which gives an opportunity to examine them.\n",
    "\n",
    "## Chords for selected songs\n",
    "\n",
    "These were already transferred to the DGX-505 flash memory. The following songs' chords looked interesting on the lyrics screen:\n",
    "\n",
    "### America The Beautiful (America.MID)\n",
    "C A♭7 C/G A7♭9 Dm7 G7 C C♯dim7 G7/D C C♯dim7 G/D G G/B G C C♯dim7 G7 C C♯dim7 G/D G G/D D7 G7 Gaug C Csus4 C G7/D G7 C Dm C7/E C7 F C/G F G7 C Csus4 C G7/D G7 C Dm C7/E C7 F C/E F G7 C F6 Dm C\n",
    "\n",
    "### Turkey In The Straw (Turkey.MID)\n",
    "C C/B F/A Fm/A♭ C/G G7 C C G7 C C/B F/A Fm/A♭ G7 C F C/E G/B  C C/B F/A Fm/A♭ C/G G7 C G7 C G7 C F C/E G/B C C/B F/A Fm/A♭ C/G G7 C F C/E G/B C C/B F/A Fm/A♭ C/G G7 C G7 C\n",
    "\n",
    "### Silent Night (SilentNt.MID)\n",
    "C G G♯dim7 Am E7♭9/G♯ Am7/G F♯m7♭5  C/G G7sus4 G7 Csus4 C C G7 C G7/D C7/E F C F C G7 G♯dim7 Am F♯m7♭5 C/G G7 C A♭/C D♭/C C\n"
   ]
  },
  {
   "cell_type": "markdown",
   "metadata": {},
   "source": [
    "## Examination\n",
    "Let's open up Silent Night in mido, to see the meta messages."
   ]
  },
  {
   "cell_type": "code",
   "execution_count": 1,
   "metadata": {},
   "outputs": [],
   "source": [
    "import mido"
   ]
  },
  {
   "cell_type": "code",
   "execution_count": 5,
   "metadata": {},
   "outputs": [],
   "source": [
    "silent_night = mido.MidiFile('Music/SongCollection/for_CD/SilentNt.MID')"
   ]
  },
  {
   "cell_type": "code",
   "execution_count": 6,
   "metadata": {},
   "outputs": [
    {
     "data": {
      "text/plain": [
       "<midi file 'Music/SongCollection/for_CD/SilentNt.MID' type 0, 1 tracks, 2227 messages>"
      ]
     },
     "execution_count": 6,
     "metadata": {},
     "output_type": "execute_result"
    }
   ],
   "source": [
    "silent_night"
   ]
  },
  {
   "cell_type": "code",
   "execution_count": 7,
   "metadata": {},
   "outputs": [
    {
     "data": {
      "text/plain": [
       "480"
      ]
     },
     "execution_count": 7,
     "metadata": {},
     "output_type": "execute_result"
    }
   ],
   "source": [
    "silent_night.ticks_per_beat"
   ]
  },
  {
   "cell_type": "code",
   "execution_count": 27,
   "metadata": {},
   "outputs": [],
   "source": [
    "silent_metas = [m for m in silent_night.tracks[0] if m.is_meta]"
   ]
  },
  {
   "cell_type": "code",
   "execution_count": 28,
   "metadata": {},
   "outputs": [
    {
     "data": {
      "text/plain": [
       "[<meta message smpte_offset frame_rate=24 hours=0 minutes=0 seconds=0 frames=0 sub_frames=0 time=0>,\n",
       " <meta message copyright text='(P) 2004 YAMAHA CORPORATION' time=0>,\n",
       " <meta message key_signature key='C' time=0>,\n",
       " <meta message time_signature numerator=3 denominator=4 clocks_per_click=24 notated_32nd_notes_per_beat=8 time=0>,\n",
       " <meta message set_tempo tempo=750000 time=0>,\n",
       " <meta message sequencer_specific data=(67, 123, 12, 1, 2) time=0>,\n",
       " <meta message sequencer_specific data=(67, 123, 0, 88, 70, 48, 50, 0, 27) time=0>,\n",
       " <meta message set_tempo tempo=759493 time=80>,\n",
       " <meta message set_tempo tempo=769230 time=40>,\n",
       " <meta message set_tempo tempo=789473 time=40>,\n",
       " <meta message set_tempo tempo=789473 time=60>,\n",
       " <meta message set_tempo tempo=805477 time=60>,\n",
       " <meta message set_tempo tempo=810810 time=20>,\n",
       " <meta message set_tempo tempo=810810 time=40>,\n",
       " <meta message set_tempo tempo=816441 time=40>,\n",
       " <meta message set_tempo tempo=833333 time=20>,\n",
       " <meta message set_tempo tempo=833333 time=5>,\n",
       " <meta message set_tempo tempo=833333 time=20>,\n",
       " <meta message set_tempo tempo=851189 time=100>,\n",
       " <meta message set_tempo tempo=857142 time=20>,\n",
       " <meta message set_tempo tempo=857142 time=20>,\n",
       " <meta message set_tempo tempo=857142 time=15>,\n",
       " <meta message set_tempo tempo=876050 time=10>,\n",
       " <meta message set_tempo tempo=882352 time=20>,\n",
       " <meta message set_tempo tempo=882352 time=10>,\n",
       " <meta message set_tempo tempo=882352 time=20>,\n",
       " <meta message set_tempo tempo=909090 time=10>,\n",
       " <meta message set_tempo tempo=909090 time=20>,\n",
       " <meta message set_tempo tempo=937500 time=40>,\n",
       " <meta message set_tempo tempo=937500 time=20>,\n",
       " <meta message set_tempo tempo=945060 time=20>,\n",
       " <meta message set_tempo tempo=967741 time=20>,\n",
       " <meta message set_tempo tempo=967741 time=10>,\n",
       " <meta message set_tempo tempo=967741 time=20>,\n",
       " <meta message set_tempo tempo=983871 time=10>,\n",
       " <meta message set_tempo tempo=1000000 time=20>,\n",
       " <meta message set_tempo tempo=1000000 time=10>,\n",
       " <meta message set_tempo tempo=1000000 time=10>,\n",
       " <meta message set_tempo tempo=1017241 time=10>,\n",
       " <meta message set_tempo tempo=1034482 time=20>,\n",
       " <meta message set_tempo tempo=1034482 time=10>,\n",
       " <meta message set_tempo tempo=1034482 time=10>,\n",
       " <meta message set_tempo tempo=1052955 time=10>,\n",
       " <meta message set_tempo tempo=1071428 time=20>,\n",
       " <meta message set_tempo tempo=1500000 time=30>,\n",
       " <meta message end_of_track time=0>]"
      ]
     },
     "execution_count": 28,
     "metadata": {},
     "output_type": "execute_result"
    }
   ],
   "source": [
    "silent_metas"
   ]
  },
  {
   "cell_type": "markdown",
   "metadata": {},
   "source": [
    "It seems like most of the meta messages are tempo changes, but there are two sequencer specific meta messages of interest."
   ]
  },
  {
   "cell_type": "code",
   "execution_count": 32,
   "metadata": {},
   "outputs": [],
   "source": [
    "silent_seq_spec = [m.data for m in silent_metas if m.type == 'sequencer_specific']"
   ]
  },
  {
   "cell_type": "code",
   "execution_count": 33,
   "metadata": {
    "scrolled": true
   },
   "outputs": [
    {
     "name": "stdout",
     "output_type": "stream",
     "text": [
      "43 7B 0C 01 02\n",
      "43 7B 00 58 46 30 32 00 1B\n"
     ]
    }
   ],
   "source": [
    "for md in silent_seq_spec:\n",
    "    print(\" \".join(format(b, \"02X\") for b in md))"
   ]
  },
  {
   "cell_type": "markdown",
   "metadata": {},
   "source": [
    "The chord information must not be meta messages, then. Maybe they're system exclusive..."
   ]
  },
  {
   "cell_type": "code",
   "execution_count": 35,
   "metadata": {},
   "outputs": [],
   "source": [
    "silent_sysex = [m for m in silent_night.tracks[0] if m.type == 'sysex']"
   ]
  },
  {
   "cell_type": "code",
   "execution_count": 36,
   "metadata": {},
   "outputs": [
    {
     "data": {
      "text/plain": [
       "[<message sysex data=(126,127,9,1) time=0>,\n",
       " <message sysex data=(67,16,76,0,0,126,0) time=480>,\n",
       " <message sysex data=(67,16,76,2,1,0,1,0) time=10>,\n",
       " <message sysex data=(67,16,76,2,1,32,65,0) time=10>,\n",
       " <message sysex data=(127,127,4,1,0,103) time=20>,\n",
       " <message sysex data=(67,126,2,0,0,0,0) time=0>,\n",
       " <message sysex data=(67,126,2,7,0,7,0) time=9>,\n",
       " <message sysex data=(67,126,2,69,18,69,18) time=0>,\n",
       " <message sysex data=(67,126,2,9,8,9,8) time=5>,\n",
       " <message sysex data=(67,126,2,4,25,69,30) time=5>,\n",
       " <message sysex data=(67,126,2,9,10,7,30) time=0>,\n",
       " <message sysex data=(67,126,2,6,11,6,11) time=25>,\n",
       " <message sysex data=(67,126,2,0,0,7,30) time=5>,\n",
       " <message sysex data=(67,126,2,7,20,7,20) time=80>,\n",
       " <message sysex data=(67,126,2,7,19,7,19) time=15>,\n",
       " <message sysex data=(67,126,2,0,32,0,32) time=0>,\n",
       " <message sysex data=(67,126,2,0,0,0,0) time=17>,\n",
       " <message sysex data=(67,126,2,0,0,0,0) time=0>,\n",
       " <message sysex data=(67,126,2,7,19,7,19) time=0>,\n",
       " <message sysex data=(67,126,2,0,0,0,0) time=0>,\n",
       " <message sysex data=(67,126,2,7,19,2,30) time=0>,\n",
       " <message sysex data=(67,126,2,0,19,4,30) time=0>,\n",
       " <message sysex data=(67,126,2,5,0,5,0) time=0>,\n",
       " <message sysex data=(67,126,2,0,0,0,0) time=0>,\n",
       " <message sysex data=(67,126,2,5,0,5,0) time=0>,\n",
       " <message sysex data=(67,126,2,0,0,0,0) time=0>,\n",
       " <message sysex data=(67,126,2,7,19,7,19) time=0>,\n",
       " <message sysex data=(67,126,2,69,18,69,18) time=0>,\n",
       " <message sysex data=(67,126,2,9,8,9,8) time=0>,\n",
       " <message sysex data=(67,126,2,6,11,6,11) time=0>,\n",
       " <message sysex data=(67,126,2,0,0,7,30) time=0>,\n",
       " <message sysex data=(67,126,2,7,19,7,19) time=0>,\n",
       " <message sysex data=(67,126,2,0,0,0,0) time=0>,\n",
       " <message sysex data=(67,126,2,38,0,49,30) time=0>,\n",
       " <message sysex data=(67,126,2,34,0,49,30) time=0>,\n",
       " <message sysex data=(67,126,2,0,0,0,0) time=0>]"
      ]
     },
     "execution_count": 36,
     "metadata": {},
     "output_type": "execute_result"
    }
   ],
   "source": [
    "silent_sysex"
   ]
  },
  {
   "cell_type": "code",
   "execution_count": 40,
   "metadata": {},
   "outputs": [],
   "source": [
    "from commons.messages import controlstate"
   ]
  },
  {
   "cell_type": "code",
   "execution_count": 43,
   "metadata": {},
   "outputs": [
    {
     "name": "stdout",
     "output_type": "stream",
     "text": [
      "GM System ON\n",
      "XG System ON\n",
      "Reverb Type 01(Hall1)\n",
      "Chorus Type ---(Chorus)\n",
      "MIDI Master Volume 103\n",
      "[SysEx 43 7E 02 00 00 00 00]\n",
      "[SysEx 43 7E 02 07 00 07 00]\n",
      "[SysEx 43 7E 02 45 12 45 12]\n",
      "[SysEx 43 7E 02 09 08 09 08]\n",
      "[SysEx 43 7E 02 04 19 45 1E]\n",
      "[SysEx 43 7E 02 09 0A 07 1E]\n",
      "[SysEx 43 7E 02 06 0B 06 0B]\n",
      "[SysEx 43 7E 02 00 00 07 1E]\n",
      "[SysEx 43 7E 02 07 14 07 14]\n",
      "[SysEx 43 7E 02 07 13 07 13]\n",
      "[SysEx 43 7E 02 00 20 00 20]\n",
      "[SysEx 43 7E 02 00 00 00 00]\n",
      "[SysEx 43 7E 02 00 00 00 00]\n",
      "[SysEx 43 7E 02 07 13 07 13]\n",
      "[SysEx 43 7E 02 00 00 00 00]\n",
      "[SysEx 43 7E 02 07 13 02 1E]\n",
      "[SysEx 43 7E 02 00 13 04 1E]\n",
      "[SysEx 43 7E 02 05 00 05 00]\n",
      "[SysEx 43 7E 02 00 00 00 00]\n",
      "[SysEx 43 7E 02 05 00 05 00]\n",
      "[SysEx 43 7E 02 00 00 00 00]\n",
      "[SysEx 43 7E 02 07 13 07 13]\n",
      "[SysEx 43 7E 02 45 12 45 12]\n",
      "[SysEx 43 7E 02 09 08 09 08]\n",
      "[SysEx 43 7E 02 06 0B 06 0B]\n",
      "[SysEx 43 7E 02 00 00 07 1E]\n",
      "[SysEx 43 7E 02 07 13 07 13]\n",
      "[SysEx 43 7E 02 00 00 00 00]\n",
      "[SysEx 43 7E 02 26 00 31 1E]\n",
      "[SysEx 43 7E 02 22 00 31 1E]\n",
      "[SysEx 43 7E 02 00 00 00 00]\n"
     ]
    }
   ],
   "source": [
    "s = controlstate.MidiControlState()\n",
    "silent_wrapped = [s.feed(m) for m in silent_sysex]\n",
    "for w in silent_wrapped:\n",
    "    print(w)"
   ]
  },
  {
   "cell_type": "markdown",
   "metadata": {},
   "source": [
    "*AHA*, so they do set the MIDI master volume to something else... Anyway, there are a whole bunch of unknown messages here."
   ]
  },
  {
   "cell_type": "code",
   "execution_count": 44,
   "metadata": {},
   "outputs": [],
   "source": [
    "silent_us = silent_wrapped[5:]"
   ]
  },
  {
   "cell_type": "code",
   "execution_count": 45,
   "metadata": {},
   "outputs": [
    {
     "data": {
      "text/plain": [
       "31"
      ]
     },
     "execution_count": 45,
     "metadata": {},
     "output_type": "execute_result"
    }
   ],
   "source": [
    "len(silent_us)"
   ]
  },
  {
   "cell_type": "code",
   "execution_count": 46,
   "metadata": {},
   "outputs": [],
   "source": [
    "silent_chords = \"C G G♯dim7 Am E7♭9/G♯ Am7/G F♯m7♭5  C/G G7sus4 G7 Csus4 C C G7 C G7/D C7/E F C F C G7 G♯dim7 Am F♯m7♭5 C/G G7 C A♭/C D♭/C C\".split()"
   ]
  },
  {
   "cell_type": "code",
   "execution_count": 47,
   "metadata": {},
   "outputs": [
    {
     "data": {
      "text/plain": [
       "31"
      ]
     },
     "execution_count": 47,
     "metadata": {},
     "output_type": "execute_result"
    }
   ],
   "source": [
    "len(silent_chords)"
   ]
  },
  {
   "cell_type": "code",
   "execution_count": 48,
   "metadata": {},
   "outputs": [
    {
     "name": "stdout",
     "output_type": "stream",
     "text": [
      "[SysEx 43 7E 02 00 00 00 00] C\n",
      "[SysEx 43 7E 02 07 00 07 00] G\n",
      "[SysEx 43 7E 02 45 12 45 12] G♯dim7\n",
      "[SysEx 43 7E 02 09 08 09 08] Am\n",
      "[SysEx 43 7E 02 04 19 45 1E] E7♭9/G♯\n",
      "[SysEx 43 7E 02 09 0A 07 1E] Am7/G\n",
      "[SysEx 43 7E 02 06 0B 06 0B] F♯m7♭5\n",
      "[SysEx 43 7E 02 00 00 07 1E] C/G\n",
      "[SysEx 43 7E 02 07 14 07 14] G7sus4\n",
      "[SysEx 43 7E 02 07 13 07 13] G7\n",
      "[SysEx 43 7E 02 00 20 00 20] Csus4\n",
      "[SysEx 43 7E 02 00 00 00 00] C\n",
      "[SysEx 43 7E 02 00 00 00 00] C\n",
      "[SysEx 43 7E 02 07 13 07 13] G7\n",
      "[SysEx 43 7E 02 00 00 00 00] C\n",
      "[SysEx 43 7E 02 07 13 02 1E] G7/D\n",
      "[SysEx 43 7E 02 00 13 04 1E] C7/E\n",
      "[SysEx 43 7E 02 05 00 05 00] F\n",
      "[SysEx 43 7E 02 00 00 00 00] C\n",
      "[SysEx 43 7E 02 05 00 05 00] F\n",
      "[SysEx 43 7E 02 00 00 00 00] C\n",
      "[SysEx 43 7E 02 07 13 07 13] G7\n",
      "[SysEx 43 7E 02 45 12 45 12] G♯dim7\n",
      "[SysEx 43 7E 02 09 08 09 08] Am\n",
      "[SysEx 43 7E 02 06 0B 06 0B] F♯m7♭5\n",
      "[SysEx 43 7E 02 00 00 07 1E] C/G\n",
      "[SysEx 43 7E 02 07 13 07 13] G7\n",
      "[SysEx 43 7E 02 00 00 00 00] C\n",
      "[SysEx 43 7E 02 26 00 31 1E] A♭/C\n",
      "[SysEx 43 7E 02 22 00 31 1E] D♭/C\n",
      "[SysEx 43 7E 02 00 00 00 00] C\n"
     ]
    }
   ],
   "source": [
    "for w, c in zip(silent_us, silent_chords):\n",
    "    print(w, c)"
   ]
  },
  {
   "cell_type": "markdown",
   "metadata": {},
   "source": [
    "Let's try the other two."
   ]
  },
  {
   "cell_type": "code",
   "execution_count": 51,
   "metadata": {},
   "outputs": [],
   "source": [
    "america = mido.MidiFile('America.MID')"
   ]
  },
  {
   "cell_type": "code",
   "execution_count": 52,
   "metadata": {},
   "outputs": [],
   "source": [
    "turkey = mido.MidiFile('Turkey.MID')"
   ]
  },
  {
   "cell_type": "code",
   "execution_count": 58,
   "metadata": {},
   "outputs": [
    {
     "name": "stdout",
     "output_type": "stream",
     "text": [
      "<midi file 'America.MID' type 0, 1 tracks, 3530 messages> 480\n",
      "<meta message smpte_offset frame_rate=25 hours=32 minutes=0 seconds=0 frames=0 sub_frames=0 time=0>\n",
      "<meta message copyright text='(P) 2004 YAMAHA CORPORATION' time=0>\n",
      "<meta message key_signature key='C' time=0>\n",
      "<meta message time_signature numerator=4 denominator=4 clocks_per_click=24 notated_32nd_notes_per_beat=8 time=0>\n",
      "<meta message sequencer_specific data=(67, 123, 12, 1, 2) time=0>\n",
      "<meta message sequencer_specific data=(67, 123, 0, 88, 70, 48, 50, 0, 27) time=0>\n",
      "<meta message end_of_track time=0>\n",
      "<midi file 'Turkey.MID' type 0, 1 tracks, 3065 messages> 480\n",
      "<meta message smpte_offset frame_rate=25 hours=32 minutes=0 seconds=0 frames=0 sub_frames=0 time=0>\n",
      "<meta message copyright text='(P) 2004 YAMAHA CORPORATION' time=0>\n",
      "<meta message key_signature key='C' time=0>\n",
      "<meta message time_signature numerator=4 denominator=4 clocks_per_click=24 notated_32nd_notes_per_beat=8 time=0>\n",
      "<meta message sequencer_specific data=(67, 123, 12, 1, 2) time=0>\n",
      "<meta message sequencer_specific data=(67, 123, 0, 88, 70, 48, 50, 0, 27) time=0>\n",
      "<meta message end_of_track time=0>\n"
     ]
    }
   ],
   "source": [
    "for x in [america, turkey]:\n",
    "    print(x, x.ticks_per_beat)\n",
    "    for m in x.tracks[0]:\n",
    "        if m.is_meta and m.type != 'set_tempo':\n",
    "            print(m)"
   ]
  },
  {
   "cell_type": "code",
   "execution_count": 59,
   "metadata": {},
   "outputs": [],
   "source": [
    "america_wrapped = [s.feed(m) for m in america.tracks[0] if m.type=='sysex']"
   ]
  },
  {
   "cell_type": "code",
   "execution_count": 93,
   "metadata": {},
   "outputs": [],
   "source": [
    "turkey_wrapped = [s.feed(m) for m in turkey.tracks[0] if m.type == 'sysex']"
   ]
  },
  {
   "cell_type": "code",
   "execution_count": 94,
   "metadata": {},
   "outputs": [],
   "source": [
    "america_us = [w for w in america_wrapped if w.message.data[:3] == (0x43, 0x7E, 0x02)]\n",
    "turkey_us = [w for w in turkey_wrapped if w.message.data[:3] == (0x43, 0x7E, 0x02)]"
   ]
  },
  {
   "cell_type": "code",
   "execution_count": 120,
   "metadata": {},
   "outputs": [],
   "source": [
    "america_chords = \"C A♭7 C/G A7♭9 Dm7 G7 C C♯dim7 G7/D C C♯dim7 G/D G G/B G C C♯dim7 G7 C C♯dim7 G/D G G/D D7 G7 Gaug C Csus4 C G7/D G7 C Dm C7/E C7 F C/G F G7 C Csus4 C G7/D G7 C Dm C7/E C7 F C/E F G7 C F6 Dm C\".split()\n",
    "turkey_chords = \"C C/B F/A Fm/A♭ C/G G7 C C G7 C C/B F/A Fm/A♭ G7 C F C/E G/B  C C/B F/A Fm/A♭ C/G G7 C G7 C G7 C F C/E G/B C C/B F/A Fm/A♭ C/G G7 C F C/E G/B C C/B F/A Fm/A♭ C/G G7 C G7 C\".split()"
   ]
  },
  {
   "cell_type": "code",
   "execution_count": 121,
   "metadata": {},
   "outputs": [
    {
     "data": {
      "text/plain": [
       "True"
      ]
     },
     "execution_count": 121,
     "metadata": {},
     "output_type": "execute_result"
    }
   ],
   "source": [
    "len(america_us) == len(america_chords) "
   ]
  },
  {
   "cell_type": "code",
   "execution_count": 122,
   "metadata": {},
   "outputs": [
    {
     "data": {
      "text/plain": [
       "True"
      ]
     },
     "execution_count": 122,
     "metadata": {},
     "output_type": "execute_result"
    }
   ],
   "source": [
    "len(turkey_us) == len(turkey_chords)"
   ]
  },
  {
   "cell_type": "code",
   "execution_count": 123,
   "metadata": {},
   "outputs": [
    {
     "name": "stdout",
     "output_type": "stream",
     "text": [
      "[SysEx 43 7E 02 00 00 00 00] C\n",
      "[SysEx 43 7E 02 26 13 26 13] A♭7\n",
      "[SysEx 43 7E 02 00 00 07 1E] C/G\n",
      "[SysEx 43 7E 02 09 19 09 19] A7♭9\n",
      "[SysEx 43 7E 02 02 0A 02 0A] Dm7\n",
      "[SysEx 43 7E 02 07 13 07 13] G7\n",
      "[SysEx 43 7E 02 00 00 00 00] C\n",
      "[SysEx 43 7E 02 41 12 41 12] C♯dim7\n",
      "[SysEx 43 7E 02 07 13 02 1E] G7/D\n",
      "[SysEx 43 7E 02 00 00 00 00] C\n",
      "[SysEx 43 7E 02 41 12 41 12] C♯dim7\n",
      "[SysEx 43 7E 02 07 00 02 1E] G/D\n",
      "[SysEx 43 7E 02 07 00 07 00] G\n",
      "[SysEx 43 7E 02 07 00 0B 1E] G/B\n",
      "[SysEx 43 7E 02 07 00 07 00] G\n",
      "[SysEx 43 7E 02 00 00 00 00] C\n",
      "[SysEx 43 7E 02 41 12 41 12] C♯dim7\n",
      "[SysEx 43 7E 02 07 13 07 13] G7\n",
      "[SysEx 43 7E 02 00 00 00 00] C\n",
      "[SysEx 43 7E 02 41 12 41 12] C♯dim7\n",
      "[SysEx 43 7E 02 07 00 02 1E] G/D\n",
      "[SysEx 43 7E 02 07 00 07 00] G\n",
      "[SysEx 43 7E 02 07 00 02 1E] G/D\n",
      "[SysEx 43 7E 02 02 13 02 13] D7\n",
      "[SysEx 43 7E 02 07 13 07 13] G7\n",
      "[SysEx 43 7E 02 07 07 07 07] Gaug\n",
      "[SysEx 43 7E 02 00 00 00 00] C\n",
      "[SysEx 43 7E 02 00 20 00 20] Csus4\n",
      "[SysEx 43 7E 02 00 00 00 00] C\n",
      "[SysEx 43 7E 02 07 13 02 1E] G7/D\n",
      "[SysEx 43 7E 02 07 13 07 13] G7\n",
      "[SysEx 43 7E 02 00 00 00 00] C\n",
      "[SysEx 43 7E 02 02 08 02 08] Dm\n",
      "[SysEx 43 7E 02 00 13 04 1E] C7/E\n",
      "[SysEx 43 7E 02 00 13 00 13] C7\n",
      "[SysEx 43 7E 02 05 00 05 00] F\n",
      "[SysEx 43 7E 02 00 00 07 1E] C/G\n",
      "[SysEx 43 7E 02 05 00 05 00] F\n",
      "[SysEx 43 7E 02 07 13 07 13] G7\n",
      "[SysEx 43 7E 02 00 00 00 00] C\n",
      "[SysEx 43 7E 02 00 20 00 20] Csus4\n",
      "[SysEx 43 7E 02 00 00 00 00] C\n",
      "[SysEx 43 7E 02 07 13 02 1E] G7/D\n",
      "[SysEx 43 7E 02 07 13 07 13] G7\n",
      "[SysEx 43 7E 02 00 00 00 00] C\n",
      "[SysEx 43 7E 02 02 08 02 08] Dm\n",
      "[SysEx 43 7E 02 00 13 04 1E] C7/E\n",
      "[SysEx 43 7E 02 00 13 00 13] C7\n",
      "[SysEx 43 7E 02 05 00 05 00] F\n",
      "[SysEx 43 7E 02 00 00 04 1E] C/E\n",
      "[SysEx 43 7E 02 05 00 05 00] F\n",
      "[SysEx 43 7E 02 07 13 07 13] G7\n",
      "[SysEx 43 7E 02 00 00 00 00] C\n",
      "[SysEx 43 7E 02 05 01 05 01] F6\n",
      "[SysEx 43 7E 02 02 08 02 08] Dm\n",
      "[SysEx 43 7E 02 00 00 00 00] C\n"
     ]
    }
   ],
   "source": [
    "for w, c in zip(america_us, america_chords):\n",
    "    print(w, c)"
   ]
  },
  {
   "cell_type": "code",
   "execution_count": 124,
   "metadata": {},
   "outputs": [
    {
     "name": "stdout",
     "output_type": "stream",
     "text": [
      "[SysEx 43 7E 02 00 00 00 00] C\n",
      "[SysEx 43 7E 02 00 00 0B 1E] C/B\n",
      "[SysEx 43 7E 02 05 00 09 1E] F/A\n",
      "[SysEx 43 7E 02 05 08 26 1E] Fm/A♭\n",
      "[SysEx 43 7E 02 00 00 07 1E] C/G\n",
      "[SysEx 43 7E 02 07 13 07 13] G7\n",
      "[SysEx 43 7E 02 00 00 00 00] C\n",
      "[SysEx 43 7E 02 00 00 00 00] C\n",
      "[SysEx 43 7E 02 07 13 07 13] G7\n",
      "[SysEx 43 7E 02 00 00 00 00] C\n",
      "[SysEx 43 7E 02 00 00 0B 1E] C/B\n",
      "[SysEx 43 7E 02 05 00 09 1E] F/A\n",
      "[SysEx 43 7E 02 05 08 26 1E] Fm/A♭\n",
      "[SysEx 43 7E 02 07 13 07 13] G7\n",
      "[SysEx 43 7E 02 00 00 00 00] C\n",
      "[SysEx 43 7E 02 05 00 05 00] F\n",
      "[SysEx 43 7E 02 00 00 04 1E] C/E\n",
      "[SysEx 43 7E 02 07 00 0B 1E] G/B\n",
      "[SysEx 43 7E 02 00 00 00 00] C\n",
      "[SysEx 43 7E 02 00 00 0B 1E] C/B\n",
      "[SysEx 43 7E 02 05 00 09 1E] F/A\n",
      "[SysEx 43 7E 02 05 08 26 1E] Fm/A♭\n",
      "[SysEx 43 7E 02 00 00 07 1E] C/G\n",
      "[SysEx 43 7E 02 07 13 07 13] G7\n",
      "[SysEx 43 7E 02 00 00 00 00] C\n",
      "[SysEx 43 7E 02 07 13 07 13] G7\n",
      "[SysEx 43 7E 02 00 00 00 00] C\n",
      "[SysEx 43 7E 02 07 13 07 13] G7\n",
      "[SysEx 43 7E 02 00 00 00 00] C\n",
      "[SysEx 43 7E 02 05 00 05 00] F\n",
      "[SysEx 43 7E 02 00 00 04 1E] C/E\n",
      "[SysEx 43 7E 02 07 00 0B 1E] G/B\n",
      "[SysEx 43 7E 02 00 00 00 00] C\n",
      "[SysEx 43 7E 02 00 00 0B 1E] C/B\n",
      "[SysEx 43 7E 02 05 00 09 1E] F/A\n",
      "[SysEx 43 7E 02 05 08 26 1E] Fm/A♭\n",
      "[SysEx 43 7E 02 00 00 07 1E] C/G\n",
      "[SysEx 43 7E 02 07 13 07 13] G7\n",
      "[SysEx 43 7E 02 00 00 00 00] C\n",
      "[SysEx 43 7E 02 05 00 05 00] F\n",
      "[SysEx 43 7E 02 00 00 04 1E] C/E\n",
      "[SysEx 43 7E 02 07 00 0B 1E] G/B\n",
      "[SysEx 43 7E 02 00 00 00 00] C\n",
      "[SysEx 43 7E 02 00 00 0B 1E] C/B\n",
      "[SysEx 43 7E 02 05 00 09 1E] F/A\n",
      "[SysEx 43 7E 02 05 08 26 1E] Fm/A♭\n",
      "[SysEx 43 7E 02 00 00 07 1E] C/G\n",
      "[SysEx 43 7E 02 07 13 07 13] G7\n",
      "[SysEx 43 7E 02 00 00 00 00] C\n",
      "[SysEx 43 7E 02 07 13 07 13] G7\n",
      "[SysEx 43 7E 02 00 00 00 00] C\n"
     ]
    }
   ],
   "source": [
    "for w, c in zip(turkey_us, turkey_chords):\n",
    "    print(w, c)"
   ]
  },
  {
   "cell_type": "code",
   "execution_count": 126,
   "metadata": {},
   "outputs": [],
   "source": [
    "def chord_assign(chord_mapping, wraps, chords, rev_mapping):    \n",
    "    for w, c in zip(wraps, chords):\n",
    "        code = w.message.data[-4:]\n",
    "        if c in chord_mapping:\n",
    "            assert chord_mapping[c] == code\n",
    "        else:\n",
    "            chord_mapping[c] = code\n",
    "        if code in rev_mapping:\n",
    "            assert rev_mapping[code] == c\n",
    "        else:\n",
    "            rev_mapping[code] = c\n",
    "\n",
    "cmap = {}\n",
    "rcmap = {}\n",
    "chord_assign(cmap, silent_us, silent_chords, rcmap)\n",
    "chord_assign(cmap, america_us, america_chords, rcmap)\n",
    "chord_assign(cmap, turkey_us, turkey_chords, rcmap)\n",
    "\n"
   ]
  },
  {
   "cell_type": "code",
   "execution_count": 127,
   "metadata": {},
   "outputs": [
    {
     "name": "stdout",
     "output_type": "stream",
     "text": [
      "09 19 09 19 A7♭9\n",
      "09 08 09 08 Am\n",
      "09 0A 07 1E Am7/G\n",
      "26 00 31 1E A♭/C\n",
      "26 13 26 13 A♭7\n",
      "00 00 00 00 C\n",
      "00 00 0B 1E C/B\n",
      "00 00 04 1E C/E\n",
      "00 00 07 1E C/G\n",
      "00 13 00 13 C7\n",
      "00 13 04 1E C7/E\n",
      "00 20 00 20 Csus4\n",
      "41 12 41 12 C♯dim7\n",
      "02 13 02 13 D7\n",
      "02 08 02 08 Dm\n",
      "02 0A 02 0A Dm7\n",
      "22 00 31 1E D♭/C\n",
      "04 19 45 1E E7♭9/G♯\n",
      "05 00 05 00 F\n",
      "05 00 09 1E F/A\n",
      "05 01 05 01 F6\n",
      "05 08 26 1E Fm/A♭\n",
      "06 0B 06 0B F♯m7♭5\n",
      "07 00 07 00 G\n",
      "07 00 0B 1E G/B\n",
      "07 00 02 1E G/D\n",
      "07 13 07 13 G7\n",
      "07 13 02 1E G7/D\n",
      "07 14 07 14 G7sus4\n",
      "07 07 07 07 Gaug\n",
      "45 12 45 12 G♯dim7\n"
     ]
    }
   ],
   "source": [
    "def hexspace(x):\n",
    "    return \" \".join(format(b, \"02X\") for b in x)\n",
    "\n",
    "for chord, code in sorted(cmap.items()):\n",
    "    print(hexspace(code), chord)"
   ]
  },
  {
   "cell_type": "markdown",
   "metadata": {},
   "source": [
    "It looks like the codes are of the format A B A B, where A is the root and B is the chord type. If both sets of A and B are the same, it's a straight up chord; if the second is different that means there's some sort of inversion thing happening, and the last ends in `1E`.\n"
   ]
  },
  {
   "cell_type": "markdown",
   "metadata": {},
   "source": [
    "| note | ♭  | ♮       | ♯  |\n",
    "|------|----|---------|----|\n",
    "| C    | ?  |`00`,`31`|`41`|\n",
    "| D    |`22`|`02`     |?   |\n",
    "| E    |?   |`04`     |?   |\n",
    "| F    |?   |`05`     |`06`|\n",
    "| G    |?   |`07`     |`45`|\n",
    "| A    |`26`|`09`     |?   |\n",
    "| B    |?   |`0B`     |?   |"
   ]
  },
  {
   "cell_type": "markdown",
   "metadata": {},
   "source": [
    "If I were to hazard a guess at the pattern, I think there's two types going on here.\n",
    "First, there's the basic sequence:\n",
    "\n",
    " \n",
    " |code| note |\n",
    " |----|------|\n",
    " |`00`| C\n",
    " |`01`| C♯/D♭\n",
    " |`02`| D\n",
    " |`03`| D♯/E♭\n",
    " |`04`| E\n",
    " |`05`| F\n",
    " |`06`| F♯/G♭\n",
    " |`07`| G\n",
    " |`08`| G♯/A♭\n",
    " |`09`| A\n",
    " |`0A`| A♯/B♭\n",
    " |`0B`| B\n",
    " \n",
    " This is used for the base keys, and also F♯, but also not for the lower note if it is C.\n",
    " \n",
    " This doesn't distinguish between enharmonic notes, so we also have:\n",
    " \n",
    " |lo |hi`2`|`3`|`4`|\n",
    " |---|----|----|----|\n",
    " |`1`|C♭  | C  | C♯ |\n",
    " |`2`|D♭  | D  | D♯ |\n",
    " |`3`|E♭  | E  | E♯ |\n",
    " |`4`|F♭  | F  | F♯ |\n",
    " |`5`|G♭  | G  | G♯ |\n",
    " |`6`|A♭  | A  | A♯ |\n",
    " |`7`|B♭  | B  | B♯ |\n",
    " \n",
    " \n",
    " Hmm, how could we test this out. "
   ]
  },
  {
   "cell_type": "code",
   "execution_count": 128,
   "metadata": {},
   "outputs": [
    {
     "name": "stdout",
     "output_type": "stream",
     "text": [
      "00 00 00 00 C\n",
      "00 00 04 1E C/E\n",
      "00 00 07 1E C/G\n",
      "00 00 0B 1E C/B\n",
      "05 00 05 00 F\n",
      "05 00 09 1E F/A\n",
      "07 00 02 1E G/D\n",
      "07 00 07 00 G\n",
      "07 00 0B 1E G/B\n",
      "22 00 31 1E D♭/C\n",
      "26 00 31 1E A♭/C\n",
      "05 01 05 01 F6\n",
      "07 07 07 07 Gaug\n",
      "02 08 02 08 Dm\n",
      "05 08 26 1E Fm/A♭\n",
      "09 08 09 08 Am\n",
      "02 0A 02 0A Dm7\n",
      "09 0A 07 1E Am7/G\n",
      "06 0B 06 0B F♯m7♭5\n",
      "41 12 41 12 C♯dim7\n",
      "45 12 45 12 G♯dim7\n",
      "00 13 00 13 C7\n",
      "00 13 04 1E C7/E\n",
      "02 13 02 13 D7\n",
      "07 13 02 1E G7/D\n",
      "07 13 07 13 G7\n",
      "26 13 26 13 A♭7\n",
      "07 14 07 14 G7sus4\n",
      "04 19 45 1E E7♭9/G♯\n",
      "09 19 09 19 A7♭9\n",
      "00 20 00 20 Csus4\n"
     ]
    }
   ],
   "source": [
    "for chord, code in sorted(cmap.items(), key=lambda x:(x[1][1], x[1][0], x[1][2], x[1][3])):\n",
    "    print(hexspace(code), chord)"
   ]
  },
  {
   "cell_type": "markdown",
   "metadata": {},
   "source": [
    " - `00`: Major (C)\n",
    " - `01`: Sixth (C6)\n",
    " - `07`: Augmented (Caug)\n",
    " - `08`: Minor (Cm)\n",
    " - `0A`: Minor seventh (Cm7)\n",
    " - `0B`: Minor seventh flatted fifth (Cm7♭5)\n",
    " - `12`: Diminished seventh (Cdim7)\n",
    " - `13`: Seventh (C7)\n",
    " - `14`: Seventh suspended fourth (C7sus4)\n",
    " - `19`: Seventh flatted ninth (C7♭9)\n",
    " - `20`: Suspended fourth (Csus4)\n",
    " \n",
    " This is the same as the [PSR-225](http://rnhart.net/articles/bulk-dump.htm), except that these are part of SysEx messages. This would imply that you can't have the same with an open octave 1+8, which makes sense."
   ]
  },
  {
   "cell_type": "markdown",
   "metadata": {},
   "source": []
  },
  {
   "cell_type": "code",
   "execution_count": null,
   "metadata": {},
   "outputs": [],
   "source": []
  }
 ],
 "metadata": {
  "kernelspec": {
   "display_name": "dgx_kernel",
   "language": "python",
   "name": "dgx_kernel"
  },
  "language_info": {
   "codemirror_mode": {
    "name": "ipython",
    "version": 3
   },
   "file_extension": ".py",
   "mimetype": "text/x-python",
   "name": "python",
   "nbconvert_exporter": "python",
   "pygments_lexer": "ipython3",
   "version": "3.6.7"
  }
 },
 "nbformat": 4,
 "nbformat_minor": 2
}
